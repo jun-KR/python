{
 "cells": [
  {
   "cell_type": "markdown",
   "id": "1ae11cfe",
   "metadata": {},
   "source": [
    "Radix Sort(기수 정렬)  \n",
    "각 자리수(일의 자리, 십의 자리, 백의 자리 등)를 기준으로 숫자를 정렬하는 알고리즘"
   ]
  },
  {
   "cell_type": "code",
   "execution_count": 6,
   "id": "c16d92ba",
   "metadata": {},
   "outputs": [
    {
     "name": "stdout",
     "output_type": "stream",
     "text": [
      "[[], [], [], [], [], [], [], [], [], []]\n"
     ]
    }
   ],
   "source": [
    "# Queue로 사용할 2차원 빈 리스트를 선언한다.\n",
    "queueList = [[] for _ in range(10)]\n",
    "print(queueList)"
   ]
  },
  {
   "cell_type": "code",
   "execution_count": 8,
   "id": "1dcaa059",
   "metadata": {
    "scrolled": true
   },
   "outputs": [
    {
     "name": "stdout",
     "output_type": "stream",
     "text": [
      "radix: 1\n",
      "n:  19 => 9\n",
      "n:   2 => 2\n",
      "n:  21 => 1\n",
      "n:  45 => 5\n",
      "n:  30 => 0\n",
      "n:  11 => 1\n",
      "n: 121 => 1\n",
      "n:  27 => 7\n",
      "1회전 결과: [30, 21, 11, 121, 2, 45, 27, 19]\n",
      "================================================================================\n",
      "radix: 10\n",
      "n:  30 => 3\n",
      "n:  21 => 2\n",
      "n:  11 => 1\n",
      "n: 121 => 2\n",
      "n:   2 => 0\n",
      "n:  45 => 4\n",
      "n:  27 => 2\n",
      "n:  19 => 1\n",
      "2회전 결과: [2, 11, 19, 21, 121, 27, 30, 45]\n",
      "================================================================================\n",
      "radix: 100\n",
      "n:   2 => 0\n",
      "n:  11 => 0\n",
      "n:  19 => 0\n",
      "n:  21 => 0\n",
      "n: 121 => 1\n",
      "n:  27 => 0\n",
      "n:  30 => 0\n",
      "n:  45 => 0\n",
      "3회전 결과: [2, 11, 19, 21, 27, 30, 45, 121]\n",
      "================================================================================\n",
      "radix: 1000\n",
      "n:   2 => 0\n",
      "n:  11 => 0\n",
      "n:  19 => 0\n",
      "n:  21 => 0\n",
      "n:  27 => 0\n",
      "n:  30 => 0\n",
      "n:  45 => 0\n",
      "n: 121 => 0\n",
      "4회전 결과: [2, 11, 19, 21, 27, 30, 45, 121]\n",
      "================================================================================\n",
      "정렬 결과: [2, 11, 19, 21, 27, 30, 45, 121]\n"
     ]
    }
   ],
   "source": [
    "data = [19, 2, 21, 45, 30, 11, 121, 27]\n",
    "radix = 1 # 큐에 넣어줄 자리수(1 => 10 => 100 => 1000 => ...)\n",
    "count = 1 # 회전수\n",
    "isSort = False # 정렬 완료 -> True\n",
    "\n",
    "## while not : False인 동안에 반복하는 루프\n",
    "while not isSort: \n",
    "    isSort = True # 일단 정렬 작업을 시작할 때 isSort를 True로 설정\n",
    "  \n",
    "    # 0부터 9까지의 숫자를 자리수별로 저장하는 2차원 큐 리스트 생성 \n",
    "    queueList = [[] for i in range(10)]\n",
    "    print('radix: {}'.format(radix))\n",
    "    \n",
    "    # 정렬할 데이터를 순회하며 큐에 데이터를 넣어준다.\n",
    "    for n in data:\n",
    "        print('n: {:3d}'.format(n), end=' => ')\n",
    "        digit = n // radix % 10 # n의 radix에 해당하는 자리수(ex : 121-> 1/2/1)\n",
    "        print(digit)\n",
    "        \n",
    "        # n을 해당하는 자리수의 큐에 추가한다.\n",
    "        queueList[digit].append(n)\n",
    "        # 정렬 작업이 완료되었나 검사한다.\n",
    "        if digit > 0\n",
    "            isSort =False\n",
    "    # ===== for\n",
    "    \n",
    "    #  각 큐 리스트에 저장된 숫자들을 다시 data 리스트에 저장.\n",
    "    index = 0\n",
    "    # queueList에 저장된 0번부터 9번 큐까지 반복하여 numbers 리스트에 저장한다\n",
    "    for numbers in queueList:\n",
    "        # 각각의 기수에 해당되는 리스트에 저장된 데이터 개수만큼 반복하며 data 리스트를 수정한다.\n",
    "        for number in numbers:\n",
    "            data[index] = number\n",
    "            index += 1\n",
    "        # ===== for number\n",
    "    # for numbers\n",
    "    print('{}회전 결과: {}'.format(count, data))\n",
    "    count += 1\n",
    "    print('=' * 80)\n",
    "    # 큐에 넣어줄 자리수 위치를 수정한다.\n",
    "    radix *= 10\n",
    "# ===== while\n",
    "print('정렬 결과: {}'.format(data))"
   ]
  },
  {
   "cell_type": "code",
   "execution_count": null,
   "id": "1c2a07ed",
   "metadata": {},
   "outputs": [],
   "source": []
  }
 ],
 "metadata": {
  "kernelspec": {
   "display_name": "Python 3",
   "language": "python",
   "name": "python3"
  },
  "language_info": {
   "codemirror_mode": {
    "name": "ipython",
    "version": 3
   },
   "file_extension": ".py",
   "mimetype": "text/x-python",
   "name": "python",
   "nbconvert_exporter": "python",
   "pygments_lexer": "ipython3",
   "version": "3.6.8"
  }
 },
 "nbformat": 4,
 "nbformat_minor": 5
}
