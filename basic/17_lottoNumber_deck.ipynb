{
 "cells": [
  {
   "cell_type": "code",
   "execution_count": 31,
   "id": "2b303306",
   "metadata": {},
   "outputs": [
    {
     "name": "stdout",
     "output_type": "stream",
     "text": [
      " 1  2  3  4  5  6  7  8  9 10 \n",
      "11 12 13 14 15 16 17 18 19 20 \n",
      "21 22 23 24 25 26 27 28 29 30 \n",
      "31 32 33 34 35 36 37 38 39 40 \n",
      "41 42 43 44 45 \n",
      "============================== 섞기전\n",
      "20  4 11 19  1 14  6 16 41 35 \n",
      "40  5  9 34 18 42 21 26 38  7 \n",
      "45 37 15  2 13 36 12  3 31 33 \n",
      "30 44 39 28 24  8 23 32 43 10 \n",
      "25 22 29 17 27 \n",
      "============================== 섞은후\n",
      "1등 번호 : 20, 4,11,19, 1,14,보너스 번호 : 06\n"
     ]
    }
   ],
   "source": [
    "\n",
    "# range : 지정한 횟수 숫자는 생성되는 숫자에 포함되지 않습니다.\n",
    "import time\n",
    "import random\n",
    "\n",
    "lotto = [i for i in range(1,46)] # 최종값은 반복대상아님.\n",
    "# print(lotto)\n",
    "\n",
    "# 섞기전 상태를 출력한다. \n",
    "for i in range(len(lotto)): # 최종치 = lotto 개수. 의 -1까지 반복. i는 0부터.\n",
    "    print('{:2d}'.format(lotto[i]), end=' ')\n",
    "    if (i + 1) % 10 == 0: # => 1줄에 숫자 10개씩 출력한다.\n",
    "        print()\n",
    "print('\\n' + '=' * 30 + ' 섞기전')\n",
    "# shuffle() 메소드를 사용하면 데이터를 섞어준다. => 반복 처리보다 속도도 월등히 빠르다.\n",
    "random.shuffle(lotto)\n",
    "\n",
    "\n",
    "# 섞은후 상태를 출력한다.\n",
    "for i in range(len(lotto)):\n",
    "    print('{:2d}'.format(lotto[i]), end=' ')\n",
    "    if (i + 1) % 10 == 0:\n",
    "        print()\n",
    "print('\\n' + '=' * 30 + ' 섞은후')\n",
    "\n",
    "print('1등 번호 : ',end='')\n",
    "for i in range(6): # 0부터 5까지 반복\n",
    "    print('{:2d}'.format(lotto[i]), end=',')\n",
    "    \n",
    "    time.sleep(1)\n",
    "    \n",
    "print('보너스 번호 : {:02d}'.format(lotto[6]))"
   ]
  },
  {
   "cell_type": "code",
   "execution_count": 37,
   "id": "ca8847f9",
   "metadata": {},
   "outputs": [
    {
     "name": "stdout",
     "output_type": "stream",
     "text": [
      "[9, 37, 5, 17, 8, 32]\n",
      "Wall time: 1.46 ms\n"
     ]
    }
   ],
   "source": [
    "%%time\n",
    "lotto = [i for i in range(1,46)] # 최종값은 반복대상아님.\n",
    "\n",
    "# seed() 메소드를 이용하면 모두 똑같은 난수 배열을 얻을 수 있다. => 테스트 시 많이 사용한다.\n",
    "random.seed(1)\n",
    "#sample(데이터, 개수)\n",
    "print(random.sample(lotto,6))"
   ]
  }
 ],
 "metadata": {
  "kernelspec": {
   "display_name": "Python 3",
   "language": "python",
   "name": "python3"
  },
  "language_info": {
   "codemirror_mode": {
    "name": "ipython",
    "version": 3
   },
   "file_extension": ".py",
   "mimetype": "text/x-python",
   "name": "python",
   "nbconvert_exporter": "python",
   "pygments_lexer": "ipython3",
   "version": "3.6.8"
  }
 },
 "nbformat": 4,
 "nbformat_minor": 5
}
