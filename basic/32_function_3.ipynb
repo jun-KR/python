{
 "cells": [
  {
   "cell_type": "code",
   "execution_count": 3,
   "id": "6f51831b",
   "metadata": {},
   "outputs": [
    {
     "name": "stdout",
     "output_type": "stream",
     "text": [
      "100 + 200 + 300 = 600\n",
      "100 + 200 + 300 = 600\n",
      "300 + 100 + 200 = 600\n"
     ]
    }
   ],
   "source": [
    "def func3(a, b, c):\n",
    "    print('{} + {} + {} = {}'.format(a, b, c, a + b + c))\n",
    "# 데이터가 전달될 때 인수를 지정하지 않으면 처음부터 차례대로 데이가 함수로 전달된다.\n",
    "func3(100, 200, 300)\n",
    "\n",
    "# 함수를 호출할 때 데이터가 전달될 인수를 지정할 수 있다.\n",
    "func3(a=100, b=200, c=300)\n",
    "# 인수를 지정해서 함수를 호출하면 가인수의 순서와 관계없이 사용할 수 있다.\n",
    "func3(b=100, c=200, a=300)"
   ]
  }
 ],
 "metadata": {
  "kernelspec": {
   "display_name": "Python 3",
   "language": "python",
   "name": "python3"
  },
  "language_info": {
   "codemirror_mode": {
    "name": "ipython",
    "version": 3
   },
   "file_extension": ".py",
   "mimetype": "text/x-python",
   "name": "python",
   "nbconvert_exporter": "python",
   "pygments_lexer": "ipython3",
   "version": "3.6.8"
  }
 },
 "nbformat": 4,
 "nbformat_minor": 5
}
