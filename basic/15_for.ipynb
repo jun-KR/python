{
 "cells": [
  {
   "cell_type": "markdown",
   "id": "f8197ade",
   "metadata": {},
   "source": [
    "range() 함수\n",
    "\n",
    "***  \n",
    "형식  \n",
    "range([초기치, ]최종치[, 증가치])\n",
    "초기치와 증가치는 생략할 수 있고, 초기치가 생략되면 0이 기본값이 되고, 증가치가 생략되면 1이 기본값으로 사용된다.  \n",
    "즉, range(0, 10, 1)과 range(10)은 같은 표현이다.\n",
    "최종치는 필수.\n"
   ]
  },
  {
   "cell_type": "code",
   "execution_count": null,
   "id": "00b4f45b",
   "metadata": {},
   "outputs": [],
   "source": [
    "print(range(0, 10, 1))\n",
    "# range() 함수가 실행된 결과(리스트)는 list() 생성자 함수를 사용해서 확인한다.\n",
    "print(list(range(0, 10, 1)))\n",
    "print(list(range(10))) # 초기치와 증가치는 생략 가능 => 기본값은 각 0과 1\n",
    "print(list(range(0, 10, 2)))\n",
    "print(list(range(1, 10, 2)))\n",
    "print(list(range(9, -1, -1)))\n"
   ]
  },
  {
   "cell_type": "markdown",
   "id": "99163443",
   "metadata": {},
   "source": [
    "\n",
    "for\n",
    "\n",
    "제어 변수에 리스트, 튜플, 딕셔너리, set에 저장된 데이터가 처음부터 마지막까지 차례대로 대입되며 반복한다.  \n",
    "***\n",
    "for 변수 in range(횟수):  \n",
    " &nbsp;&nbsp;&nbsp;&nbsp;   반복할 코드\n",
    "    \n",
    "for 변수 in 리스트 or 튜플 or 딕셔너리 or set:  \n",
    "&nbsp;&nbsp;&nbsp;&nbsp;반복할 문장  \n",
    "&nbsp;&nbsp;&nbsp;&nbsp;..."
   ]
  },
  {
   "cell_type": "code",
   "execution_count": 3,
   "id": "b65d852e",
   "metadata": {},
   "outputs": [
    {
     "name": "stdout",
     "output_type": "stream",
     "text": [
      "0\n",
      "1\n",
      "2\n",
      "3\n",
      "4\n",
      "55\n",
      "55\n"
     ]
    }
   ],
   "source": [
    "# print(list(range(5)))\n",
    "# for i in [0, 1, 2, 3, 4]:\n",
    "for i in range(5):\n",
    "    print(i)\n",
    "\n",
    "# 1 ~ 10의 합계 ~ while 사용\n",
    "i = 0\n",
    "total = 0\n",
    "while i < 10:\n",
    "    i += 1\n",
    "    total += i\n",
    "# ========== while\n",
    "print(total)\n",
    "\n",
    "# 1 ~ 10의 합계 ~ for사용\n",
    "total = 0\n",
    "for i in range(1, 11, 1):\n",
    "    total += i\n",
    "# ====== for\n",
    "print(total)"
   ]
  },
  {
   "cell_type": "markdown",
   "id": "48d895ee",
   "metadata": {},
   "source": [
    "주사위를 10번 굴려서 출현한 눈의 개수를 센다. => 변수 사용"
   ]
  },
  {
   "cell_type": "code",
   "execution_count": 5,
   "id": "1b35dab0",
   "metadata": {},
   "outputs": [
    {
     "name": "stdout",
     "output_type": "stream",
     "text": [
      "4 4 2 3 2 5 3 5 2 3 \n",
      "================================================================================\n",
      "1의 개수: 0\n",
      "2의 개수: 3\n",
      "3의 개수: 3\n",
      "4의 개수: 2\n",
      "5의 개수: 2\n",
      "6의 개수: 0\n"
     ]
    }
   ],
   "source": [
    "import random\n",
    "\n",
    "# 1부터 6사이의 주사위 눈의 개수를 기억할 변수 6개를 선언하고 각각 0으로 초기화시킨다.\n",
    "num1 = 0; num2 = 0; num3 = 0; num4 = 0; num5 = 0; num6 = 0\n",
    "# 주사위를 10번 굴린다.\n",
    "for i in range(10):\n",
    "    # 주사위를 굴린다.\n",
    "    dice = random.randint(1, 6);\n",
    "    print(dice, end=' ')\n",
    "    # 주사위를 굴려 발생한 눈의 개수를 증가시킨다.\n",
    "    if dice == 1:\n",
    "        num1 += 1\n",
    "    elif dice == 2:\n",
    "        num2 += 1\n",
    "    elif dice == 3:\n",
    "        num3 += 1\n",
    "    elif dice == 4:\n",
    "        num4 += 1\n",
    "    elif dice == 5:\n",
    "        num5 += 1\n",
    "    else :\n",
    "        num6 += 1\n",
    "    # ====== if\n",
    "# ====== for\n",
    "print('\\n' + '=' * 80)\n",
    "\n",
    "# 주사위의 눈의 개수를 출력한다.\n",
    "print('1의 개수: {}'.format(num1))\n",
    "print('2의 개수: {}'.format(num2))\n",
    "print('3의 개수: {}'.format(num3))\n",
    "print('4의 개수: {}'.format(num4))\n",
    "print('5의 개수: {}'.format(num5))\n",
    "print('6의 개수: {}'.format(num6))"
   ]
  },
  {
   "cell_type": "markdown",
   "id": "81d8cc12",
   "metadata": {},
   "source": [
    "주사위를  10번 굴려서 출현한 눈의 개수를 센다. => 리스트 사용\n"
   ]
  },
  {
   "cell_type": "code",
   "execution_count": 12,
   "id": "bb4bd27e",
   "metadata": {},
   "outputs": [
    {
     "name": "stdout",
     "output_type": "stream",
     "text": [
      "[0, 2, 4]\n"
     ]
    }
   ],
   "source": [
    "# 1. 주사위 눈의 개수를 기억할 크기가 6인 0으로 초기화 된 리스트를 만든다.\n",
    "# count = [0, 0, 0, 0, 0, 0]\n",
    "# 3. 반복문 사용해 리스트를 만든다.\n",
    "count=[i for i in range(6) if i%2==0]\n",
    "print(count)\n"
   ]
  },
  {
   "cell_type": "code",
   "execution_count": null,
   "id": "cfbdfeec",
   "metadata": {},
   "outputs": [],
   "source": []
  },
  {
   "cell_type": "code",
   "execution_count": null,
   "id": "565e43d7",
   "metadata": {},
   "outputs": [],
   "source": []
  },
  {
   "cell_type": "code",
   "execution_count": null,
   "id": "560c175f",
   "metadata": {},
   "outputs": [],
   "source": []
  },
  {
   "cell_type": "code",
   "execution_count": null,
   "id": "a825d2de",
   "metadata": {},
   "outputs": [],
   "source": []
  },
  {
   "cell_type": "code",
   "execution_count": null,
   "id": "bc042fb2",
   "metadata": {},
   "outputs": [],
   "source": []
  },
  {
   "cell_type": "code",
   "execution_count": null,
   "id": "043fe976",
   "metadata": {},
   "outputs": [],
   "source": []
  },
  {
   "cell_type": "code",
   "execution_count": null,
   "id": "c74b7fb3",
   "metadata": {},
   "outputs": [],
   "source": []
  },
  {
   "cell_type": "code",
   "execution_count": null,
   "id": "6c8c6556",
   "metadata": {},
   "outputs": [],
   "source": []
  },
  {
   "cell_type": "code",
   "execution_count": null,
   "id": "4aa13586",
   "metadata": {},
   "outputs": [],
   "source": []
  },
  {
   "cell_type": "code",
   "execution_count": null,
   "id": "82bae783",
   "metadata": {},
   "outputs": [],
   "source": []
  }
 ],
 "metadata": {
  "kernelspec": {
   "display_name": "Python 3",
   "language": "python",
   "name": "python3"
  },
  "language_info": {
   "codemirror_mode": {
    "name": "ipython",
    "version": 3
   },
   "file_extension": ".py",
   "mimetype": "text/x-python",
   "name": "python",
   "nbconvert_exporter": "python",
   "pygments_lexer": "ipython3",
   "version": "3.6.8"
  }
 },
 "nbformat": 4,
 "nbformat_minor": 5
}
