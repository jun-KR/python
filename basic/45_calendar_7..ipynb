{
 "cells": [
  {
   "cell_type": "markdown",
   "id": "f82075d3",
   "metadata": {},
   "source": [
    "\n",
    "키보드로 1을 입력하면 년, 월을 입력받아 입력한 년, 월에 해당되는 달력을 출력하고 2를 입력하면 컴퓨터 시스템의 년, 월에 해당되는 달력을 출력한다."
   ]
  },
  {
   "cell_type": "code",
   "execution_count": 3,
   "id": "79f34b7c",
   "metadata": {},
   "outputs": [],
   "source": [
    "from calendarModule import *\n",
    "from datetime import datetime as dt 보내줄까?"
   ]
  },
  {
   "cell_type": "code",
   "execution_count": 9,
   "id": "6d38939f",
   "metadata": {},
   "outputs": [
    {
     "name": "stdout",
     "output_type": "stream",
     "text": [
      "1 => 특정달, 2 => 이번달: 1\n",
      "달력을 출력할 년과 월을 입력하세요: 1 1\n",
      "============================\n",
      "            1년 1월\n",
      "============================\n",
      " 일  월  화  수  목  금  토 \n",
      "============================\n",
      "      1   2   3   4   5   6 \n",
      "  7   8   9  10  11  12  13 \n",
      " 14  15  16  17  18  19  20 \n",
      " 21  22  23  24  25  26  27 \n",
      " 28  29  30  31 \n",
      "============================\n"
     ]
    }
   ],
   "source": [
    "menu = int(input('1 => 특정달, 2 => 이번달: '))\n",
    "if menu ==1:\n",
    "    year, month = map(int, input('달력을 출력할 년과 월을 입력하세요: ').split())\n",
    "else :\n",
    "    now = dt.now()\n",
    "    year = now.year\n",
    "    month = now.month\n",
    "#     print(year, month)\n",
    "print('=' * 28)\n",
    "print('         {:4d}년{:2d}월'.format(year, month))\n",
    "print('=' * 28)\n",
    "print(' 일  월  화  수  목  금  토 ')\n",
    "print('=' * 28)\n",
    "\n",
    "# 1일이 출력될 위치(요일)을 맞추기 위해서 1일의 요일만큼 반복하며 빈 칸을 출력한다. => 빈 칸은 요일당 4칸\n",
    "for _ in range (weekDay(year, month, 1)):\n",
    "    print(end='    ')\n",
    "# 1일부터 달력을 출력할 달의 마지막 날짜까지 반복하며 날짜를 출력한다.\n",
    "for i in range(1,lastDay(year, month)+1):\n",
    "    print(' {:2d} '.format(i),end='')\n",
    "    if weekDay(year,month,i) == 6 and i!=lastDay(year, month):\n",
    "        print()\n",
    "print('\\n'+'=' * 28)\n"
   ]
  }
 ],
 "metadata": {
  "kernelspec": {
   "display_name": "Python 3",
   "language": "python",
   "name": "python3"
  },
  "language_info": {
   "codemirror_mode": {
    "name": "ipython",
    "version": 3
   },
   "file_extension": ".py",
   "mimetype": "text/x-python",
   "name": "python",
   "nbconvert_exporter": "python",
   "pygments_lexer": "ipython3",
   "version": "3.6.8"
  }
 },
 "nbformat": 4,
 "nbformat_minor": 5
}
