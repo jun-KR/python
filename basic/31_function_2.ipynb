{
 "cells": [
  {
   "cell_type": "markdown",
   "id": "121ddef6",
   "metadata": {},
   "source": [
    "전달받는 인수가 없는 함수 => 처리할 데이터를 넘겨받지 않는 함수"
   ]
  },
  {
   "cell_type": "code",
   "execution_count": 4,
   "id": "6f06aa73",
   "metadata": {},
   "outputs": [],
   "source": [
    "def func1():\n",
    "    print('func1()이 실행됩니다. - 1')\n",
    "    # 함수가 종료되거나 return을 만나면 함수가 호출된 곳으로 돌아간다. => return이 있으면 return 값을 가지고 돌아간다.\n",
    "#     return 'func1()이 실행됩니다. - 2' "
   ]
  },
  {
   "cell_type": "code",
   "execution_count": 5,
   "id": "ad4236cb",
   "metadata": {
    "scrolled": false
   },
   "outputs": [
    {
     "name": "stdout",
     "output_type": "stream",
     "text": [
      "func1()이 실행됩니다. - 1\n",
      "None\n"
     ]
    }
   ],
   "source": [
    "print(func1())"
   ]
  },
  {
   "cell_type": "markdown",
   "id": "e97dd829",
   "metadata": {},
   "source": [
    "결과(return) 값이 없는 함수"
   ]
  },
  {
   "cell_type": "code",
   "execution_count": 7,
   "id": "4aec1b15",
   "metadata": {},
   "outputs": [],
   "source": [
    "def func2(a, b):\n",
    "    print('{} + {} = {}'.format(a, b, a + b))\n",
    "# 오버로딩 => 같은 이름으로 여러개의 함수를 만들어 사용할 수 있다.\n",
    "# 함수 오버로딩은 인수의 개수, 데이터 타입으로 함수를 식별한다.\n",
    "# 파이썬은 함수의 오버로딩이 지원되지 않기 때문에 덮어쓰기가 된다.\n",
    "    \n",
    "def func2(a, b, c):\n",
    "    print('{} + {} + {} = {}'.format(a, b, c, a + b + c))"
   ]
  },
  {
   "cell_type": "code",
   "execution_count": 8,
   "id": "ae84a0f3",
   "metadata": {},
   "outputs": [
    {
     "ename": "TypeError",
     "evalue": "func2() missing 1 required positional argument: 'c'",
     "output_type": "error",
     "traceback": [
      "\u001b[1;31m---------------------------------------------------------------------------\u001b[0m",
      "\u001b[1;31mTypeError\u001b[0m                                 Traceback (most recent call last)",
      "\u001b[1;32m<ipython-input-8-9d2bfca74025>\u001b[0m in \u001b[0;36m<module>\u001b[1;34m\u001b[0m\n\u001b[1;32m----> 1\u001b[1;33m \u001b[0mprint\u001b[0m\u001b[1;33m(\u001b[0m\u001b[0mfunc2\u001b[0m\u001b[1;33m(\u001b[0m\u001b[1;36m5\u001b[0m\u001b[1;33m,\u001b[0m \u001b[1;36m8\u001b[0m\u001b[1;33m)\u001b[0m\u001b[1;33m)\u001b[0m\u001b[1;33m\u001b[0m\u001b[1;33m\u001b[0m\u001b[0m\n\u001b[0m",
      "\u001b[1;31mTypeError\u001b[0m: func2() missing 1 required positional argument: 'c'"
     ]
    }
   ],
   "source": [
    "print(func2(5, 8))\n"
   ]
  },
  {
   "cell_type": "markdown",
   "id": "8dd21afd",
   "metadata": {},
   "source": [
    " return은 함수 중간에서 빠져나올 때 자주 사용합니다. 보통은 if와 조합해서 특정 조건일 때 함수 중간에서 빠져나옵니다."
   ]
  }
 ],
 "metadata": {
  "kernelspec": {
   "display_name": "Python 3",
   "language": "python",
   "name": "python3"
  },
  "language_info": {
   "codemirror_mode": {
    "name": "ipython",
    "version": 3
   },
   "file_extension": ".py",
   "mimetype": "text/x-python",
   "name": "python",
   "nbconvert_exporter": "python",
   "pygments_lexer": "ipython3",
   "version": "3.6.8"
  }
 },
 "nbformat": 4,
 "nbformat_minor": 5
}
