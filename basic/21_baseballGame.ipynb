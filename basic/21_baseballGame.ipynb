{
 "cells": [
  {
   "cell_type": "code",
   "execution_count": 19,
   "id": "68240c93",
   "metadata": {},
   "outputs": [],
   "source": [
    "import random\n",
    "from datetime import datetime as dt\n"
   ]
  },
  {
   "cell_type": "code",
   "execution_count": 27,
   "id": "f9a8431c",
   "metadata": {
    "scrolled": true
   },
   "outputs": [
    {
     "name": "stdout",
     "output_type": "stream",
     "text": [
      "[1, 2, 3, 4, 5, 6, 7, 8, 9]\n",
      "레벨을 입력하세요(1 ~ 9): 1\n",
      "맞춰봐: 2\n",
      "0 스트라이크 0 볼\n",
      "맞춰봐: 3\n",
      "0 스트라이크 0 볼\n",
      "맞춰봐: 4\n",
      "0 스트라이크 0 볼\n",
      "맞춰봐: 5\n",
      "0 스트라이크 0 볼\n",
      "맞춰봐: 6\n",
      "0 스트라이크 0 볼\n",
      "맞춰봐: 7\n",
      "0 스트라이크 0 볼\n",
      "맞춰봐: 8\n",
      "0 스트라이크 0 볼\n",
      "맞춰봐: 9\n",
      "0 스트라이크 0 볼\n",
      "맞춰봐: 0\n",
      "0 스트라이크 0 볼\n",
      "맞춰봐: 1\n",
      "2023-07-07 12:21:31.804768\n",
      "11만에 3초 걸려서 맞췄다.\n"
     ]
    }
   ],
   "source": [
    "# 1 ~ 9 사이의 숫자가 채워진 리스트를 만든다.\n",
    "baseball = [i for i in range(1, 10)]\n",
    "print(baseball)\n",
    "\n",
    "# 섞는다.\n",
    "random.shuffle(baseball)\n",
    "# print(baseball)\n",
    "\n",
    "# 레벨을 입력받는다.\n",
    "level = int(input('레벨을 입력하세요(1 ~ 9): '))\n",
    "start = dt.now()\n",
    "\n",
    "cpu = baseball[:level] # level번째 인덱스 전까지.\n",
    "# print(cpu)\n",
    "\n",
    "# ===============================================================\n",
    "\n",
    "# 몇 번 만에 맞출지 모르기 때문에 무한 루프를 돌려서 처리한다.\n",
    "while True:\n",
    "    s = 0 # 스트라이크 개수\n",
    "    b = 0 # 볼의 개수\n",
    "    # 컴퓨터가 랜덤하게 발생시킨 숨겨놓은 숫자를 맞추기 위해 유저에게 입력을 요구한다.\n",
    "    user = input('맞춰봐: ')\n",
    "    count +=1;\n",
    "    # 레벨만큼 반복하며 스트라이크의 개수와 볼의 개수를 센다.\n",
    "    for i in range(level): # level 변수에 저장된 값만큼 반복\n",
    "     \n",
    "        # 스트라이크 => cpu와 user의 같은 인덱스에 위치한 데이터가 같다.\n",
    "        # cpu와 user의 데이터 타입이 일치하지 않기때문에 str() 또는 int() 함수로 데이터 타입을 일치시킨다.\n",
    "        if cpu[i] == int(user[i]):\n",
    "            s += 1\n",
    "        elif int(user[i]) in cpu: # 볼 \n",
    "            b += 1\n",
    "        # ===== if\n",
    "    # ===== for\n",
    "    \n",
    "    # 스트라이크의 개수와 레벨이 같으면 맞춘것이므로 무한 루프를 탈출한다.\n",
    "    if s == level:\n",
    "        break\n",
    "    # ===== if\n",
    "    # 맞추지 못했으므로 힌트를 출력한다.\n",
    "    print('{} 스트라이크 {} 볼'.format(s, b))\n",
    "# ===== while\n",
    "end = dt.now()\n",
    "\n",
    "print(end)\n",
    "time = end-start\n",
    "\n",
    "print(f'{count}만에 {time.seconds}초 걸려서 맞췄다.')"
   ]
  },
  {
   "cell_type": "code",
   "execution_count": null,
   "id": "3e1e3233",
   "metadata": {},
   "outputs": [],
   "source": []
  },
  {
   "cell_type": "code",
   "execution_count": null,
   "id": "e58d6b62",
   "metadata": {
    "scrolled": true
   },
   "outputs": [
    {
     "name": "stdout",
     "output_type": "stream",
     "text": [
      "[1, 2, 3, 4, 5, 6, 7, 8, 9]\n",
      "레벨을 입력하세요(1 ~ 9): 3\n",
      "[3, 1, 8]\n",
      "맞춰봐: 1 2 3\n",
      "<class 'list'> [1, 2, 3]\n",
      "0 스트라이크 2 볼\n"
     ]
    }
   ],
   "source": [
    "# 1 ~ 9 사이의 숫자가 채워진 리스트를 만든다.\n",
    "baseball = [i for i in range(1, 10)]\n",
    "print(baseball)\n",
    "\n",
    "# 섞는다.\n",
    "random.shuffle(baseball)\n",
    "# print(baseball)\n",
    "\n",
    "# 레벨을 입력받는다.\n",
    "level = int(input('레벨을 입력하세요(1 ~ 9): '))\n",
    "start = dt.now()\n",
    "\n",
    "cpu = baseball[:level] # level번째 인덱스 전까지.\n",
    "print(cpu)\n",
    "\n",
    "# ===============================================================\n",
    "\n",
    "while True:\n",
    "    s = 0 # 스트라이크 개수\n",
    "    b = 0 # 볼의 개수\n",
    "#     user = input('맞춰봐: ')\n",
    "    user= list(map(int, input('맞춰봐: ').split()))\n",
    "    print(type(user), user)\n",
    "    count +=1;\n",
    "    for i in range(level): # level 변수에 저장된 값만큼 반복\n",
    "     \n",
    "#         if cpu[i] == int(user[i]):\n",
    "        if cpu[i] == (user[i]):\n",
    "\n",
    "            s += 1\n",
    "        elif int(user[i]) in cpu: # 볼 \n",
    "            b += 1\n",
    "        # ===== if\n",
    "    # ===== for\n",
    "    \n",
    "    # 스트라이크의 개수와 레벨이 같으면 맞춘것이므로 무한 루프를 탈출한다.\n",
    "    if s == level:\n",
    "        break\n",
    "    # ===== if\n",
    "    # 맞추지 못했으므로 힌트를 출력한다.\n",
    "    print('{} 스트라이크 {} 볼'.format(s, b))\n",
    "# ===== while\n",
    "end = dt.now()\n",
    "\n",
    "print(end)\n",
    "time = end-start\n",
    "\n",
    "print(f'{count}만에 {time.seconds}초 걸려서 맞췄다.')"
   ]
  },
  {
   "cell_type": "code",
   "execution_count": null,
   "id": "45ca731b",
   "metadata": {},
   "outputs": [],
   "source": []
  },
  {
   "cell_type": "code",
   "execution_count": null,
   "id": "59c1615c",
   "metadata": {},
   "outputs": [],
   "source": []
  }
 ],
 "metadata": {
  "kernelspec": {
   "display_name": "Python 3",
   "language": "python",
   "name": "python3"
  },
  "language_info": {
   "codemirror_mode": {
    "name": "ipython",
    "version": 3
   },
   "file_extension": ".py",
   "mimetype": "text/x-python",
   "name": "python",
   "nbconvert_exporter": "python",
   "pygments_lexer": "ipython3",
   "version": "3.6.8"
  }
 },
 "nbformat": 4,
 "nbformat_minor": 5
}
