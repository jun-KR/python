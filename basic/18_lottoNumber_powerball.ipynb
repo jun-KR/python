{
 "cells": [
  {
   "cell_type": "code",
   "execution_count": 3,
   "id": "2ca62ec8",
   "metadata": {},
   "outputs": [
    {
     "name": "stdout",
     "output_type": "stream",
     "text": [
      "흰공: 26 49 24 12 58 빨강공: 13\n",
      "[62, 44, 1, 17, 66, 29]\n"
     ]
    }
   ],
   "source": [
    "import random\n",
    "import time\n",
    "# powerball 1 ~ 69 => 5개, 1 ~ 26 => 1개\n",
    "powerball = [i for i in range(1, 70)]\n",
    "random.shuffle(powerball)\n",
    "print('흰공: ', end='')\n",
    "for i in range(5):\n",
    "    print('{:2d}'.format(powerball[i]), end=' ')\n",
    "    time.sleep(1)\n",
    "print('빨강공: {:2d}'.format(random.randint(1, 26)))\n",
    "\n",
    "print(random.sample(powerball,6))"
   ]
  },
  {
   "cell_type": "code",
   "execution_count": 35,
   "id": "34b27117",
   "metadata": {},
   "outputs": [
    {
     "name": "stdout",
     "output_type": "stream",
     "text": [
      "[40, 10, 68, 69, 39, 21]\n",
      "[14]\n",
      "Wall time: 0 ns\n"
     ]
    }
   ],
   "source": [
    "%%time\n",
    "powerball = [i for i in range(1, 70)]\n",
    "white= [i for i in range(1,27)]\n",
    "# seed() 메소드를 이용하면 모두 똑같은 난수 배열을 얻을 수 있다. => 테스트 시 많이 사용한다.\n",
    "# random.seed(1)\n",
    "#sample(데이터, 개수)\n",
    "print(random.sample(powerball,6))\n",
    "print(random.sample(white,1))"
   ]
  }
 ],
 "metadata": {
  "kernelspec": {
   "display_name": "Python 3",
   "language": "python",
   "name": "python3"
  },
  "language_info": {
   "codemirror_mode": {
    "name": "ipython",
    "version": 3
   },
   "file_extension": ".py",
   "mimetype": "text/x-python",
   "name": "python",
   "nbconvert_exporter": "python",
   "pygments_lexer": "ipython3",
   "version": "3.6.8"
  }
 },
 "nbformat": 4,
 "nbformat_minor": 5
}
