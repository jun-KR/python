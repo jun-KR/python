{
 "cells": [
  {
   "cell_type": "markdown",
   "id": "5199214e",
   "metadata": {},
   "source": [
    "2차원 리스트"
   ]
  },
  {
   "cell_type": "code",
   "execution_count": 7,
   "id": "ede89dfd",
   "metadata": {},
   "outputs": [
    {
     "name": "stdout",
     "output_type": "stream",
     "text": [
      "[[1, 2, 3], [4, 5, 6]]\n"
     ]
    }
   ],
   "source": [
    "a = [[1, 2, 3], [4, 5, 6]]\n",
    "print(a)"
   ]
  },
  {
   "cell_type": "markdown",
   "id": "bef66d32",
   "metadata": {},
   "source": [
    "외부 라이브러리를 커맨드(까만)창이 아니라 jupyter notebook에서 설치하기  \n",
    "!pip install 라이브러리이름 => '!'를 붙여서 pip install을 실행하면 된다."
   ]
  },
  {
   "cell_type": "code",
   "execution_count": 24,
   "id": "29c287bb",
   "metadata": {},
   "outputs": [],
   "source": [
    "# !pip install numpy \n",
    "# numpy : 벡터 및 행렬 연산\n",
    "import numpy as np"
   ]
  },
  {
   "cell_type": "code",
   "execution_count": 25,
   "id": "9adb25b5",
   "metadata": {},
   "outputs": [
    {
     "name": "stdout",
     "output_type": "stream",
     "text": [
      "[[1 2 3]\n",
      " [4 5 6]]\n"
     ]
    }
   ],
   "source": [
    "print(np.array(a))"
   ]
  },
  {
   "cell_type": "code",
   "execution_count": 26,
   "id": "bb2499f8",
   "metadata": {},
   "outputs": [
    {
     "name": "stdout",
     "output_type": "stream",
     "text": [
      "[[0, 0, 0, 0, 0], [0, 0, 0, 0, 0], [0, 0, 0, 0, 0], [0, 0, 0, 0, 0]]\n"
     ]
    }
   ],
   "source": [
    "# 리스트이름 = [[0] * 열개수 for i in range(행개수)]\n",
    "b = [[0] * 5 for i in range(4)]\n",
    "print(b)"
   ]
  },
  {
   "cell_type": "code",
   "execution_count": 27,
   "id": "d46fdbb2",
   "metadata": {},
   "outputs": [
    {
     "name": "stdout",
     "output_type": "stream",
     "text": [
      "[[0 0 0 0 0]\n",
      " [0 0 0 0 0]\n",
      " [0 0 0 0 0]\n",
      " [0 0 0 0 0]]\n"
     ]
    }
   ],
   "source": [
    "\n",
    "print(np.array(data))"
   ]
  },
  {
   "cell_type": "code",
   "execution_count": 28,
   "id": "baa41915",
   "metadata": {},
   "outputs": [
    {
     "name": "stdout",
     "output_type": "stream",
     "text": [
      "4\n",
      "5\n",
      "(2, 3)\n",
      "(4, 5)\n",
      "4\n"
     ]
    }
   ],
   "source": [
    "print(len(b)) # 행의 개수\n",
    "print(len(b[0])) # 열의 개수\n",
    "# print(b.shape) # 에러\n",
    "print(np.array(a).shape) # 2행3열\n",
    "print(np.array(b).shape)\n",
    "print(np.array(b).shape[0]) # 몇행이야?"
   ]
  },
  {
   "cell_type": "code",
   "execution_count": 29,
   "id": "1446d6cd",
   "metadata": {},
   "outputs": [
    {
     "name": "stdout",
     "output_type": "stream",
     "text": [
      "[0, 0, 0, 0, 0]\n",
      "[0, 0, 0, 0, 0]\n",
      "[0, 0, 0, 0, 0]\n",
      "[0, 0, 0, 0, 0]\n"
     ]
    }
   ],
   "source": [
    "for i in range(len(b)):\n",
    "    print(b[i])"
   ]
  },
  {
   "cell_type": "code",
   "execution_count": 30,
   "id": "9b9dceb3",
   "metadata": {},
   "outputs": [
    {
     "name": "stdout",
     "output_type": "stream",
     "text": [
      "0 0 0 0 0 \n",
      "0 0 0 0 0 \n",
      "0 0 0 0 0 \n",
      "0 0 0 0 0 \n"
     ]
    }
   ],
   "source": [
    "for i in range(len(b)): #행만큼반복. 4\n",
    "    for j in range(len(b[i])): # 열. 5\n",
    "        print(b[i][j], end=' ')\n",
    "    print()"
   ]
  },
  {
   "cell_type": "code",
   "execution_count": 48,
   "id": "9d226be1",
   "metadata": {},
   "outputs": [],
   "source": [
    "def pprint(data):\n",
    "    for i in range(len(data)): # 행 출력. 4\n",
    "        for j in range(len(data[i])): # 열 출력. 5 \n",
    "            print('{:3d} '.format(data[i][j]), end=' ')\n",
    "        print()"
   ]
  },
  {
   "cell_type": "code",
   "execution_count": 49,
   "id": "93b363f9",
   "metadata": {},
   "outputs": [
    {
     "name": "stdout",
     "output_type": "stream",
     "text": [
      "2차원 리스트를 만들려는 행과 열의 개수: 4 5\n",
      "[[0, 0, 0, 0, 0], [0, 0, 0, 0, 0], [0, 0, 0, 0, 0], [0, 0, 0, 0, 0]]\n",
      "  1    2    3    4    5  \n",
      " 10    9    8    7    6  \n",
      " 11   12   13   14   15  \n",
      " 20   19   18   17   16  \n"
     ]
    }
   ],
   "source": [
    "row, col = map(int, input('2차원 리스트를 만들려는 행과 열의 개수: ').split())\n",
    "data = [[0] * col for i in range(row)]\n",
    "n = 0 # 출력할 숫자.\n",
    "print(data)\n",
    "for i in range(len(data)): # 행\n",
    "    # 짝수행은 숫자가 왼쪽에서 오른쪽으로 채워지고 홀수행은 숫자가 오른쪽에서 왼쪽으로 채워진다.\n",
    "    if i % 2 == 0: # 짝수인가?\n",
    "        # 짝수행은 왼쪽에서 오른쪽으로 숫자를 채운다. j => 0, 1, 2, 3, 4\n",
    "        for j in range(col):\n",
    "            n += 1\n",
    "            data[i][j] = n\n",
    "        # ===== for j\n",
    "    else:\n",
    "        # 홀수행은 오른쪽에서 왼쪽으로 숫자를 채운다. j => 4, 3, 2, 1, 0\n",
    "        for j in range(col - 1, -1, -1):\n",
    "            n += 1\n",
    "            data[i][j] = n\n",
    "        # ===== for j\n",
    "    # ===== if\n",
    "# ===== for i\n",
    "\n",
    "pprint(data)"
   ]
  },
  {
   "cell_type": "code",
   "execution_count": 57,
   "id": "fe2a6b96",
   "metadata": {},
   "outputs": [
    {
     "name": "stdout",
     "output_type": "stream",
     "text": [
      "2차원 리스트를 만들려는 행과 열의 개수: 3 5\n",
      "  1    2    3    4    0  \n",
      "  0    8    7    6    5  \n",
      "  9   10   11   12    0  \n"
     ]
    }
   ],
   "source": [
    "row, col = map(int, input('2차원 리스트를 만들려는 행과 열의 개수: ').split())\n",
    "data = [[0] * col for i in range(row)]\n",
    "n = 0\n",
    "start = 0 # 2차원 리스트에 숫자가 채워지기 시작하는 열 인덱스\n",
    "end = col - 1 # 마지막 열 인덱스\n",
    "# 숫자가 채워지는 방향을 제어하는 변수 => start 부터 end 까지 증가치로 사용할 변수\n",
    "sw = 1\n",
    "\n",
    "for i in range(row):\n",
    "    # i = 0, sw = 1, j = range(0, 5, 1) => 0, 1, 2, 3, 4\n",
    "    # i = 1, sw = -1, j = range(4, -1, -1) => 4, 3, 2, 1, 0\n",
    "    # i = 2, sw = 1, j = range(0, 5, 1) => 0, 1, 2, 3, 4\n",
    "    # i = 3, sw = -1, j = range(4, -1, -1) => 4, 3, 2, 1, 0\n",
    "    for j in range(start, end + sw, sw):\n",
    "        n += 1\n",
    "        data[i][j] = n\n",
    "    # ===== for j\n",
    "    start, end = end, start\n",
    "    sw *= -1\n",
    "# ===== for i\n",
    "\n",
    "pprint(data)"
   ]
  },
  {
   "cell_type": "code",
   "execution_count": 55,
   "id": "365cb3b0",
   "metadata": {},
   "outputs": [
    {
     "name": "stdout",
     "output_type": "stream",
     "text": [
      "2차원 리스트를 만들려는 행과 열의 개수: 3 5\n",
      "[0, 1, 2, 3, 4] [4, 3, 2, 1, 0]\n",
      "  1    2    3    4    5  \n",
      " 10    9    8    7    6  \n",
      " 11   12   13   14   15  \n"
     ]
    }
   ],
   "source": [
    "row, col = map(int, input('2차원 리스트를 만들려는 행과 열의 개수: ').split())\n",
    "data = [[0] * col for i in range(row)]\n",
    "n = 0\n",
    "start = [i for i in range(col)] # 왼쪽부터 오른쪽으로 진행하는 열 인덱스를 기억하는 리스트를 선언한다.\n",
    "end = [i for i in range(col - 1, -1, -1)] # 오른쪽부터 왼쪽으로 진행하는 열 인덱스를 기억하는 리스트를 선언한다.\n",
    "print(start,end)\n",
    "for i in range(row):\n",
    "    for j in start:\n",
    "        n += 1\n",
    "        data[i][j] = n\n",
    "    # ===== for j\n",
    "    start, end = end, start\n",
    "# ===== for i\n",
    "\n",
    "pprint(data)"
   ]
  },
  {
   "cell_type": "code",
   "execution_count": null,
   "id": "8fda92e5",
   "metadata": {},
   "outputs": [],
   "source": []
  },
  {
   "cell_type": "code",
   "execution_count": null,
   "id": "8e2ee7e4",
   "metadata": {},
   "outputs": [],
   "source": []
  }
 ],
 "metadata": {
  "kernelspec": {
   "display_name": "Python 3",
   "language": "python",
   "name": "python3"
  },
  "language_info": {
   "codemirror_mode": {
    "name": "ipython",
    "version": 3
   },
   "file_extension": ".py",
   "mimetype": "text/x-python",
   "name": "python",
   "nbconvert_exporter": "python",
   "pygments_lexer": "ipython3",
   "version": "3.6.8"
  }
 },
 "nbformat": 4,
 "nbformat_minor": 5
}
