{
 "cells": [
  {
   "cell_type": "markdown",
   "id": "8c285981",
   "metadata": {},
   "source": [
    "출장비로 지급할 화폐 매수 계산하기"
   ]
  },
  {
   "cell_type": "code",
   "execution_count": 4,
   "id": "73d55081",
   "metadata": {},
   "outputs": [
    {
     "name": "stdout",
     "output_type": "stream",
     "text": [
      "이름과 출장비를 입력하세요: quit 1\n",
      "[0, 0, 0, 0, 0, 0, 0, 0, 0, 0]\n"
     ]
    }
   ],
   "source": [
    "pm = [0]*10 # 개인별 화폐 매수를 기억할 리스트\n",
    "tm = [0 for _ in range(10)] # _ : 의미없는 변수. # 전체 화폐 매수를 기억할 리스트\n",
    "# print(pm, tm)\n",
    "\n",
    "# 이름에 'quit'가 입력될 때 까지 반복하며 화폐 매수를 계산한다.\n",
    "while True:\n",
    "    n, p = input('이름과 출장비를 입력하세요: ').split()\n",
    "    if n.lower() == 'quit':\n",
    "        break\n",
    "    \n",
    "    t = int(p) # 출장비의 복사본을 만든다.\n",
    "    m = 50000  # 화폐 매수를 계산할 화폐 권종을 초기화시킨다.\n",
    "    sw = 1     # 화폐 권종 변경에 사용할 스위치(toggle) 변수\n",
    "    \n",
    "    # 화폐 권종의 개수만큼 반복하며 개인별 출장비의 화폐 매수를 계산한다.\n",
    "    for k in range(10): \n",
    "        pm[k] = t // m # pm[k] = 537620//50000 = 5만원 10개\n",
    "        t %= m         # 나머지 금액 t: 37620 \n",
    "        # 다음 화폐 권종을 계산한다.\n",
    "        if sw == 1: # 5만원->1만원, 5천원->천원\n",
    "            m //= 5; sw = 0\n",
    "        else: # 만원->5천원\n",
    "            m //= 2; sw = 1\n",
    "    # ===== for\n",
    "    \n",
    "    # 이름과 개인별 화폐 권종 수를 출력하고 전체 화폐 매수를 계산한다.\n",
    "    print(n, p, end=' ')\n",
    "    print()\n",
    "\n",
    "    for k in range(10):\n",
    "        print(pm[k], end=' ') # pm[k] : 화폐 매수를 기억하는 리스트\n",
    "        tm[k] += pm[k] # 전체 화폐 매수를 계산한다.\n",
    "    # ===== for\n",
    "    print()\n",
    "# ===== while\n",
    "print(tm)"
   ]
  },
  {
   "cell_type": "code",
   "execution_count": 5,
   "id": "27f7f9fc",
   "metadata": {},
   "outputs": [],
   "source": [
    "# 개인별 이름과 출장비, 출장비에 따른 화폐 권종별 화폐 매수를 기억하는 클래스\n",
    "class Money:# 클래스 내의 모든 함수 첫 인수는 self(인스턴스 자체)\n",
    "    def __init__(self, name, money):\n",
    "        self.name = name\n",
    "        self.money= money\n",
    "        # 개인별 화폐 매수를 계산한다.\n",
    "        self.pm=[0 for _ in range(10)]\n",
    "        t = money\n",
    "        m=50000\n",
    "        sw=1 \n",
    "        \n",
    "        for k in range(10):\n",
    "            self.pm[k]=t//m\n",
    "            t%= m \n",
    "            if sw == 1: # 토글 스위치.\n",
    "                m //= 5;sw=0\n",
    "            else :\n",
    "                m//=2 ; sw=1 \n",
    "    def __str__(self):\n",
    "        return '{} {} {}'.format(self.name, self.money, self.pm)\n",
    "    "
   ]
  },
  {
   "cell_type": "code",
   "execution_count": 8,
   "id": "d42f6312",
   "metadata": {},
   "outputs": [
    {
     "name": "stdout",
     "output_type": "stream",
     "text": [
      "전주녁\n",
      "537620\n",
      "[10, 3, 1, 2, 1, 1, 0, 2, 0, 0]\n",
      "전주녁 537620 [10, 3, 1, 2, 1, 1, 0, 2, 0, 0]\n"
     ]
    }
   ],
   "source": [
    "money = Money('전주녁', 537620)\n",
    "print(money.name)\n",
    "print(money.money)\n",
    "print(money.pm)\n",
    "print(money)"
   ]
  },
  {
   "cell_type": "code",
   "execution_count": 15,
   "id": "cd906db2",
   "metadata": {},
   "outputs": [
    {
     "name": "stdout",
     "output_type": "stream",
     "text": [
      "이름과 출장비를 입력하세요: 전주녁, 537620\n",
      "이름과 출장비를 입력하세요: 김종배 123435\n",
      "이름과 출장비를 입력하세요: quit 90\n"
     ]
    }
   ],
   "source": [
    "m = []\n",
    "while True:\n",
    "    n, p = input('이름과 출장비를 입력하세요: ').split()\n",
    "    if n.lower() == 'quit':\n",
    "        break\n",
    "    money = Money(n, int(p))\n",
    "    m.append(money)"
   ]
  },
  {
   "cell_type": "code",
   "execution_count": 10,
   "id": "d0da7e1e",
   "metadata": {},
   "outputs": [
    {
     "name": "stdout",
     "output_type": "stream",
     "text": [
      "213 213213 [4, 1, 0, 3, 0, 2, 0, 1, 0, 3]\n",
      "2134 211421421 [4228, 2, 0, 1, 0, 4, 0, 2, 0, 1]\n"
     ]
    }
   ],
   "source": [
    "for i in m:\n",
    "    print(i)"
   ]
  },
  {
   "cell_type": "code",
   "execution_count": 20,
   "id": "e2a59e69",
   "metadata": {},
   "outputs": [
    {
     "name": "stdout",
     "output_type": "stream",
     "text": [
      "                                   출장비 지급 일람표                                   \n",
      "================================================================================\n",
      " 이름        출장비 50000 10000  5000  1000   500   100    50    10     5     1\n",
      "================================================================================\n",
      "전주녁,     537,620    10     3     1     2     1     1     0     2     0     0\n",
      "김종배      123,435     2     2     0     3     0     4     0     3     1     0\n",
      "================================================================================\n",
      "합계:                  12     5     1     5     1     5     0     5     1     0\n",
      "================================================================================\n"
     ]
    }
   ],
   "source": [
    "print('{:^80s}'.format('출장비 지급 일람표'))\n",
    "print('=' * 80)\n",
    "print(' 이름        출장비 50000 10000  5000  1000   500   100    50    10     5     1')\n",
    "print('=' * 80)\n",
    "\n",
    "tm = [0 for i in range(10)]\n",
    "for i in m: # 이름 출장비 한셋트씩 반복 출력\n",
    "    print('{:5s} {:10,d}'.format(i.name, i.money), end='')\n",
    "    for j in range(10): # 반복당 10번씩 순회하며 화폐크기별 개수 출력\n",
    "        print('{:6d}'.format(i.pm[j]), end='')\n",
    "        tm[j] += i.pm[j] # 전체 화폐 계수 합계 \n",
    "    # ===== for j\n",
    "    print()\n",
    "# ===== for i\n",
    "    '''\n",
    "문자열 포맷팅: 형식에 맞게 출력.\n",
    "\n",
    "'{:5s}': 문자열을 5칸 너비로 출력. 5보다 작으면 오른쪽으로 정렬\n",
    "\n",
    "'{:10,d}': 10칸 너비로 정수를 출력하되, 천 단위마다 ,를 찍도록 지정\n",
    "    '''\n",
    "print('=' * 80)\n",
    "print('{:<17s}'.format('합계:  '), end='')\n",
    "for i in range(10):\n",
    "        print('{:6d}'.format(tm[i]), end='')\n",
    "print('\\n' + '=' * 80)"
   ]
  },
  {
   "cell_type": "code",
   "execution_count": null,
   "id": "8f101be3",
   "metadata": {},
   "outputs": [],
   "source": []
  }
 ],
 "metadata": {
  "kernelspec": {
   "display_name": "Python 3",
   "language": "python",
   "name": "python3"
  },
  "language_info": {
   "codemirror_mode": {
    "name": "ipython",
    "version": 3
   },
   "file_extension": ".py",
   "mimetype": "text/x-python",
   "name": "python",
   "nbconvert_exporter": "python",
   "pygments_lexer": "ipython3",
   "version": "3.6.8"
  }
 },
 "nbformat": 4,
 "nbformat_minor": 5
}
