{
 "cells": [
  {
   "cell_type": "markdown",
   "id": "0788ecf7",
   "metadata": {},
   "source": [
    "## 유용한 단축기\n",
    "\n"
   ]
  },
  {
   "cell_type": "code",
   "execution_count": 37,
   "id": "4d8d9701",
   "metadata": {
    "scrolled": false
   },
   "outputs": [
    {
     "name": "stdout",
     "output_type": "stream",
     "text": [
      "a\n"
     ]
    }
   ],
   "source": [
    "print('a')"
   ]
  },
  {
   "cell_type": "markdown",
   "id": "fc3be4a4",
   "metadata": {},
   "source": [
    "자동완성 : tab  \n",
    "코드실행 : Ctrl Enter => 셀 실행, shift+enter => 셀 실행 후 다음 셀로 이동  \n",
    "함수 설명 보기 : shift tab  \n",
    "빈셀삽입 above a, below b    \n",
    "삭제 dd    \n",
    "복사 c    \n",
    "자르기 x  \n",
    "붙 v  \n",
    "code -> markdow : m  \n",
    "반대 y  "
   ]
  },
  {
   "cell_type": "code",
   "execution_count": 38,
   "id": "f324e58b",
   "metadata": {},
   "outputs": [],
   "source": [
    "# 주석\n",
    "# ''' 범위 주석'''"
   ]
  },
  {
   "cell_type": "code",
   "execution_count": 40,
   "id": "9cb03d4f",
   "metadata": {},
   "outputs": [],
   "source": [
    "# insert image \n",
    "# from IPython.display import Image\n",
    "# Image('')"
   ]
  },
  {
   "cell_type": "markdown",
   "id": "3c3da9ee",
   "metadata": {},
   "source": [
    "마크다운 이미지\n",
    "        <img src=\"./images/22.png\">\n",
    "        "
   ]
  },
  {
   "cell_type": "code",
   "execution_count": 42,
   "id": "ee15cae7",
   "metadata": {},
   "outputs": [
    {
     "name": "stdout",
     "output_type": "stream",
     "text": [
      "hello python\n",
      "hello 'p'ython\n"
     ]
    }
   ],
   "source": [
    "# 문자열 : '' \"\" \n",
    "print('hello python')\n",
    "print('hello \\'p\\'ython')\n"
   ]
  },
  {
   "cell_type": "code",
   "execution_count": 44,
   "id": "a807ca4a",
   "metadata": {},
   "outputs": [
    {
     "name": "stdout",
     "output_type": "stream",
     "text": [
      "hello\n",
      "python : ㅎㅇ ㅍㅇㅆ\n"
     ]
    }
   ],
   "source": [
    "# end : 줄변경 안함\n",
    "print('hello\\npython ', end=': ')\n",
    "print('ㅎㅇ ㅍㅇㅆ')"
   ]
  },
  {
   "cell_type": "code",
   "execution_count": 47,
   "id": "40fbcc39",
   "metadata": {},
   "outputs": [
    {
     "name": "stdout",
     "output_type": "stream",
     "text": [
      "Hello python 안녕 파이썬\n",
      "Hello python그리구안녕 파이썬\n"
     ]
    }
   ],
   "source": [
    "# , sep: 구분자 생성.\n",
    "print('Hello python', '안녕 파이썬')\n",
    "print('Hello python', '안녕 파이썬', sep='그리구')"
   ]
  },
  {
   "cell_type": "code",
   "execution_count": 53,
   "id": "ba5a02a9",
   "metadata": {},
   "outputs": [
    {
     "name": "stdout",
     "output_type": "stream",
     "text": [
      "58\n",
      "13\n",
      "58\n"
     ]
    }
   ],
   "source": [
    "print('5'+'8') \n",
    "# print('5'+8) \n",
    "# 숫자와 문자 덧셈 안됨.\n",
    "print(int('5')+8)\n",
    "print('5'+str(8))\n"
   ]
  },
  {
   "cell_type": "code",
   "execution_count": 55,
   "id": "26781dcb",
   "metadata": {},
   "outputs": [
    {
     "name": "stdout",
     "output_type": "stream",
     "text": [
      "================================================================================\n"
     ]
    }
   ],
   "source": [
    "print('='*80)"
   ]
  },
  {
   "cell_type": "code",
   "execution_count": null,
   "id": "be08c008",
   "metadata": {},
   "outputs": [],
   "source": [
    "'%'와 서식 문자를 사용해 출력하기\n",
    "서식 문자\n",
    "d(정수), f(실수), s(문자열)을 사용해서 출력 서식을 지정할 수 있고 출력 서식을 제외한 나머지 문자들은 그대로 출력된다.\n",
    "\n",
    "출력 서식의 형식\n",
    "%[-][0][n][.m]서식문자 => [] 안의 내용은 생략할 수 있다.\n",
    "n: 전체 자리수, 오른쪽으로 정렬되서 출력된다.\n",
    "-: 왼쪽 정렬\n",
    "0: 숫자 왼쪽에 '0'을 채워서 출력한다. \n",
    ".m: 실수를 출력할 경우 소수점 아래 자리수를 지정한다."
   ]
  },
  {
   "cell_type": "code",
   "execution_count": 58,
   "id": "609b57de",
   "metadata": {},
   "outputs": [
    {
     "name": "stdout",
     "output_type": "stream",
     "text": [
      "  100\n",
      "    1\n",
      "2    \n",
      "00002\n",
      "10000\n"
     ]
    }
   ],
   "source": [
    "print('%5d' %100)\n",
    "print('%5d' %1)\n",
    "print('%-5d' %2)\n",
    "# 한줄에 두문장은 ;로 구분\n",
    "print('%05d' %2);print('%5d' %10000)\n",
    "\n"
   ]
  },
  {
   "cell_type": "code",
   "execution_count": 61,
   "id": "1a687574",
   "metadata": {},
   "outputs": [
    {
     "name": "stdout",
     "output_type": "stream",
     "text": [
      "ㅇㄹㄴ머래ㅑㅓ래ㅓㅐ러재ㅑㅇ너랜머래ㅑㅐㄻ재더\n",
      "ㅇㄹㄴ머래ㅑㅓ래ㅓㅐ러재ㅑㅇ너랜머래ㅑㅐㄻ재더\n"
     ]
    }
   ],
   "source": [
    "#문장이 1줄 넘어가면 () 안에서는 +로 연결 \n",
    "print('ㅇㄹㄴ머래ㅑㅓ래ㅓㅐ러재ㅑ'\n",
    "     +'ㅇ너랜머래ㅑㅐㄻ재더')\n",
    "# 2줄 이상이면 \\를 입력.\n",
    "string = 'ㅇㄹㄴ머래ㅑㅓ래ㅓㅐ러재ㅑ'\\\n",
    "     +'ㅇ너랜머래ㅑㅐㄻ재더'\n",
    "print(string)\n"
   ]
  },
  {
   "cell_type": "code",
   "execution_count": 62,
   "id": "6d952bb9",
   "metadata": {},
   "outputs": [
    {
     "name": "stdout",
     "output_type": "stream",
     "text": [
      "abc\n",
      "a\n",
      "abcde\n"
     ]
    }
   ],
   "source": [
    "print('abc')\n",
    "print('a')\n",
    "print('abcde')\n"
   ]
  },
  {
   "cell_type": "code",
   "execution_count": 65,
   "id": "bd6be4b8",
   "metadata": {},
   "outputs": [
    {
     "name": "stdout",
     "output_type": "stream",
     "text": [
      "  abc\n",
      "a    \n",
      "abcde\n"
     ]
    }
   ],
   "source": [
    "print('%5s' %'abc')\n",
    "print('%-5s'%'a')\n",
    "print('%5s'%'abcde')"
   ]
  },
  {
   "cell_type": "code",
   "execution_count": 72,
   "id": "0c18154e",
   "metadata": {},
   "outputs": [
    {
     "name": "stdout",
     "output_type": "stream",
     "text": [
      "123.46\n"
     ]
    }
   ],
   "source": [
    "print('%1.2f' %123.4567) # 반올림"
   ]
  },
  {
   "cell_type": "markdown",
   "id": "9e840816",
   "metadata": {},
   "source": [
    "print('출력 서식' %(1,2,3...)) # 두개이상 ()로묶음"
   ]
  },
  {
   "cell_type": "code",
   "execution_count": 79,
   "id": "32092903",
   "metadata": {},
   "outputs": [
    {
     "name": "stdout",
     "output_type": "stream",
     "text": [
      "1 + 2 = 3\n",
      "1 / 2 = 0\n",
      "1 / 2 = 0.500000\n",
      "1 // 2 = 0.000000\n",
      "1 % 2 = 1\n"
     ]
    }
   ],
   "source": [
    "print('%d + %d = %d' %(1,2,1+2)) \n",
    "# 파이썬은 / 나눗셈하면 소수점 아래까지 계산된다.\n",
    "print('%d / %d = %d' %(1,2,1/2)) \n",
    "print('%d / %d = %f' %(1,2,1/2)) \n",
    "#  //은 몫\n",
    "print('%d // %d = %f' %(1,2,1//2)) \n",
    "# %안에서는 %%로해야함.\n",
    "print('%d %% %d = %d' %(1,2,1%2)) "
   ]
  },
  {
   "cell_type": "code",
   "execution_count": 82,
   "id": "62693472",
   "metadata": {},
   "outputs": [],
   "source": [
    "import math # math module import"
   ]
  },
  {
   "cell_type": "code",
   "execution_count": 83,
   "id": "b4b0915a",
   "metadata": {},
   "outputs": [
    {
     "name": "stdout",
     "output_type": "stream",
     "text": [
      "1024.0\n",
      "1.4142135623730951\n"
     ]
    }
   ],
   "source": [
    "print(math.pow(2,10))# power\n",
    "print(math.sqrt(2))#제곱근\n"
   ]
  },
  {
   "cell_type": "markdown",
   "id": "8f81958b",
   "metadata": {},
   "source": [
    "{}와 format() 사용한 출력 서식 지정."
   ]
  },
  {
   "cell_type": "code",
   "execution_count": 84,
   "id": "5a88458a",
   "metadata": {},
   "outputs": [
    {
     "name": "stdout",
     "output_type": "stream",
     "text": [
      "2의 10승 = 1024\n",
      "1 // 2 = 0\n"
     ]
    }
   ],
   "source": [
    "print('{}의 {}승 = {}'.format(2,10,2**10))# power\n",
    "print('{} // {} = {}' .format(1,2,1//2)) \n"
   ]
  },
  {
   "cell_type": "code",
   "execution_count": 87,
   "id": "a1cc190a",
   "metadata": {},
   "outputs": [
    {
     "name": "stdout",
     "output_type": "stream",
     "text": [
      "홍길동 바부\n",
      "바부 홍길동\n",
      "홍길동 바부 바부\n"
     ]
    }
   ],
   "source": [
    "print('{} {}'.format('홍길동','바부'))\n",
    "print('{1} {0}'.format('홍길동','바부'))\n",
    "print('{0} {1} {1}'.format('홍길동','바부'))"
   ]
  },
  {
   "cell_type": "code",
   "execution_count": 104,
   "id": "3b85eeaa",
   "metadata": {},
   "outputs": [
    {
     "name": "stdout",
     "output_type": "stream",
     "text": [
      "        멜론는     15697원입니다.\n",
      "멜론는 15697원입니다.\n",
      "멜론        는  15,697원입니다.\n",
      "멜론        는 1,569,700.000%원입니다.\n"
     ]
    }
   ],
   "source": [
    "print('%10s는 %9d원입니다.'%('멜론',15697))\n",
    "print('{}는 {}원입니다.'.format('멜론',15697)) \n",
    "print('{0:10s}는 {1:7,d}원입니다.'.format('멜론',15697))\n",
    "print('{:10s}는 {:,.3%}원입니다.'.format('멜론',15697))"
   ]
  },
  {
   "cell_type": "code",
   "execution_count": 108,
   "id": "fbf7a0cb",
   "metadata": {},
   "outputs": [
    {
     "name": "stdout",
     "output_type": "stream",
     "text": [
      "____멜론____는  15,697원입니다.\n"
     ]
    }
   ],
   "source": [
    "# < ^ > 로 문자 정렬 방식 가능.\n",
    "print('{:_^10s}는 {:7,d}원입니다.'.format('멜론',15697))\n"
   ]
  },
  {
   "cell_type": "code",
   "execution_count": 111,
   "id": "1ce426fe",
   "metadata": {},
   "outputs": [
    {
     "name": "stdout",
     "output_type": "stream",
     "text": [
      "ㅎㄱㄷ님은 20살입니다\n"
     ]
    }
   ],
   "source": [
    "# f접두어를 사용한 출력 like 그레이브. \n",
    "name='ㅎㄱㄷ'\n",
    "age=20\n",
    "print(f'{name}님은 {age}살입니다')"
   ]
  },
  {
   "cell_type": "code",
   "execution_count": null,
   "id": "f9303fca",
   "metadata": {},
   "outputs": [],
   "source": []
  },
  {
   "cell_type": "code",
   "execution_count": null,
   "id": "c6a1a131",
   "metadata": {},
   "outputs": [],
   "source": []
  },
  {
   "cell_type": "code",
   "execution_count": null,
   "id": "5a4bfc65",
   "metadata": {},
   "outputs": [],
   "source": []
  }
 ],
 "metadata": {
  "kernelspec": {
   "display_name": "Python 3",
   "language": "python",
   "name": "python3"
  },
  "language_info": {
   "codemirror_mode": {
    "name": "ipython",
    "version": 3
   },
   "file_extension": ".py",
   "mimetype": "text/x-python",
   "name": "python",
   "nbconvert_exporter": "python",
   "pygments_lexer": "ipython3",
   "version": "3.6.8"
  }
 },
 "nbformat": 4,
 "nbformat_minor": 5
}
