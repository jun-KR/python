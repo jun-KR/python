{
 "cells": [
  {
   "cell_type": "code",
   "execution_count": 2,
   "id": "21d87a38",
   "metadata": {},
   "outputs": [],
   "source": [
    "def func9(var1):\n",
    "    var1+=1\n",
    "    print(f'func9() 함수 내부의 변수 var1: {var1}')"
   ]
  },
  {
   "cell_type": "code",
   "execution_count": 6,
   "id": "90a37afd",
   "metadata": {},
   "outputs": [
    {
     "name": "stdout",
     "output_type": "stream",
     "text": [
      "func9() 함수 내부의 변수 var1: 2\n",
      "func9() 함수 외부의 변수 var1: 1\n"
     ]
    }
   ],
   "source": [
    "var1=1\n",
    "func9(var1)\n",
    "print(f'func9() 함수 외부의 변수 var1: {var1}')"
   ]
  },
  {
   "cell_type": "markdown",
   "id": "67de6519",
   "metadata": {},
   "source": [
    " global로 선언된 변수는 함수 내부에서 값을 변경시키면 함수 외부에 선언된 값도 같이 변경된다.\n"
   ]
  },
  {
   "cell_type": "code",
   "execution_count": 7,
   "id": "74389315",
   "metadata": {},
   "outputs": [],
   "source": [
    "def func10():\n",
    "    # global로 선언된 변수는 함수 내부에서 값을 변경시키면 함수 외부에 선언된 값도 같이 변경된다.\n",
    "    global var2 # 함수 외부에서 선언한 var2라는 변수를 함수 내부에서 사용하겠다고 선언한다.\n",
    "    var2 += 1\n",
    "    print('func10() 함수 내부의 변수 var2: {}'.format(var2))"
   ]
  },
  {
   "cell_type": "code",
   "execution_count": 8,
   "id": "9cdcd3c3",
   "metadata": {},
   "outputs": [
    {
     "name": "stdout",
     "output_type": "stream",
     "text": [
      "func10() 함수 내부의 변수 var2: 1000\n",
      "func10() 함수 외부의 변수 var2: 1000\n"
     ]
    }
   ],
   "source": [
    "var2 = 999\n",
    "func10()\n",
    "print('func10() 함수 외부의 변수 var2: {}'.format(var2))"
   ]
  }
 ],
 "metadata": {
  "kernelspec": {
   "display_name": "Python 3",
   "language": "python",
   "name": "python3"
  },
  "language_info": {
   "codemirror_mode": {
    "name": "ipython",
    "version": 3
   },
   "file_extension": ".py",
   "mimetype": "text/x-python",
   "name": "python",
   "nbconvert_exporter": "python",
   "pygments_lexer": "ipython3",
   "version": "3.6.8"
  }
 },
 "nbformat": 4,
 "nbformat_minor": 5
}
