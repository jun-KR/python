{
 "cells": [
  {
   "cell_type": "code",
   "execution_count": 3,
   "id": "0055e997",
   "metadata": {},
   "outputs": [
    {
     "name": "stdout",
     "output_type": "stream",
     "text": [
      "33\n",
      "!\n",
      "!\n",
      "!\n"
     ]
    }
   ],
   "source": [
    "string = 'We are the champions, My Friends!'\n",
    "# len() 함수는 인수로 지정한 문자열을 구성하는 문자의 개수를 얻어온다.\n",
    "print(len(string))\n",
    "print(string[32])\n",
    "print(string[len(string) - 1 ])\n",
    "print(string[-1])"
   ]
  },
  {
   "cell_type": "code",
   "execution_count": 6,
   "id": "6b00e5af",
   "metadata": {
    "scrolled": true
   },
   "outputs": [
    {
     "name": "stdout",
     "output_type": "stream",
     "text": [
      "4\n",
      "0\n",
      "1\n"
     ]
    }
   ],
   "source": [
    "string = 'we are the champions, My Friends!'\n",
    "# count() 메소드는 인수로 지정한 문자열의 전체 출현 횟수를 얻어온다.함되어있나 알아낼 수 있다.\n",
    "print(string.count('e')) # 4 => e라는 문자가 4개있음을 알 수 있다.\n",
    "print(string.count('We'))\n",
    "print(string.count('we'))"
   ]
  },
  {
   "cell_type": "code",
   "execution_count": 7,
   "id": "cb31fb79",
   "metadata": {
    "scrolled": true
   },
   "outputs": [
    {
     "name": "stdout",
     "output_type": "stream",
     "text": [
      "1\n"
     ]
    },
    {
     "ename": "ValueError",
     "evalue": "substring not found",
     "output_type": "error",
     "traceback": [
      "\u001b[1;31m---------------------------------------------------------------------------\u001b[0m",
      "\u001b[1;31mValueError\u001b[0m                                Traceback (most recent call last)",
      "\u001b[1;32m<ipython-input-7-364eee3c6454>\u001b[0m in \u001b[0;36m<module>\u001b[1;34m\u001b[0m\n\u001b[0;32m      2\u001b[0m \u001b[1;31m# index() 인수의 최초로 출현하는 인덱스 => 특정 문자열이 포함돼있나 확인 가능\u001b[0m\u001b[1;33m\u001b[0m\u001b[1;33m\u001b[0m\u001b[1;33m\u001b[0m\u001b[0m\n\u001b[0;32m      3\u001b[0m \u001b[0mprint\u001b[0m\u001b[1;33m(\u001b[0m\u001b[0mstring\u001b[0m\u001b[1;33m.\u001b[0m\u001b[0mindex\u001b[0m\u001b[1;33m(\u001b[0m\u001b[1;34m'e'\u001b[0m\u001b[1;33m)\u001b[0m\u001b[1;33m)\u001b[0m\u001b[1;33m\u001b[0m\u001b[1;33m\u001b[0m\u001b[0m\n\u001b[1;32m----> 4\u001b[1;33m \u001b[0mprint\u001b[0m\u001b[1;33m(\u001b[0m\u001b[0mstring\u001b[0m\u001b[1;33m.\u001b[0m\u001b[0mindex\u001b[0m\u001b[1;33m(\u001b[0m\u001b[1;34m'We'\u001b[0m\u001b[1;33m)\u001b[0m\u001b[1;33m)\u001b[0m\u001b[1;33m\u001b[0m\u001b[1;33m\u001b[0m\u001b[0m\n\u001b[0m\u001b[0;32m      5\u001b[0m \u001b[0mprint\u001b[0m\u001b[1;33m(\u001b[0m\u001b[0mstring\u001b[0m\u001b[1;33m.\u001b[0m\u001b[0mindex\u001b[0m\u001b[1;33m(\u001b[0m\u001b[1;34m'we'\u001b[0m\u001b[1;33m)\u001b[0m\u001b[1;33m)\u001b[0m\u001b[1;33m\u001b[0m\u001b[1;33m\u001b[0m\u001b[0m\n",
      "\u001b[1;31mValueError\u001b[0m: substring not found"
     ]
    }
   ],
   "source": [
    "string = 'we are the champions, my friends!'\n",
    "# index() 인수의 최초로 출현하는 인덱스 \n",
    "# 없으면 에러.\n",
    "# find() 같은데 없으면 -1\n",
    "print(string.index('e'))\n",
    "print(string.index('We')) #에러\n",
    "print(string.index('we'))"
   ]
  },
  {
   "cell_type": "code",
   "execution_count": 8,
   "id": "dd278f67",
   "metadata": {
    "scrolled": true
   },
   "outputs": [
    {
     "name": "stdout",
     "output_type": "stream",
     "text": [
      "1\n",
      "-1\n",
      "0\n"
     ]
    }
   ],
   "source": [
    "string = 'we are the champions, my friends!'\n",
    "# find() 인수의 문자열이 포함돼있나 확인 가능\n",
    "print(string.find('e'))\n",
    "print(string.find('We'))\n",
    "print(string.find('we'))"
   ]
  },
  {
   "cell_type": "code",
   "execution_count": 11,
   "id": "23dd8588",
   "metadata": {},
   "outputs": [
    {
     "name": "stdout",
     "output_type": "stream",
     "text": [
      "T/j/o/e/u/n/I/T\n",
      "T j o e u n I T\n"
     ]
    }
   ],
   "source": [
    "string = 'TjoeunIT'\n",
    "# join() : 인수로 지정된 문자을 ''로 join시킴.\n",
    "print('/'.join(string))\n",
    "print(' '.join(string))\n"
   ]
  },
  {
   "cell_type": "code",
   "execution_count": 14,
   "id": "2ec62ea0",
   "metadata": {},
   "outputs": [
    {
     "name": "stdout",
     "output_type": "stream",
     "text": [
      "TJOEUNIT MUY BIEN\n",
      "Tjoeunit Muy Bien\n"
     ]
    }
   ],
   "source": [
    "string = 'TjoeunIT muy bien'\n",
    "# upper\n",
    "# lower\n",
    "# title : 첫 문자만 대문자\n",
    "print(string.upper())\n",
    "print(string.title())"
   ]
  },
  {
   "cell_type": "code",
   "execution_count": 19,
   "id": "a34afe37",
   "metadata": {},
   "outputs": [
    {
     "name": "stdout",
     "output_type": "stream",
     "text": [
      "      tjoeunit            \n",
      "tjoeunit\n",
      "      tjoeunit\n"
     ]
    }
   ],
   "source": [
    "string = '      tjoeunit            '\n",
    "print(string)\n",
    "# strip : 인수로 지정한 문자열 맨앞 맨뒤에서 제거, 기본값 공백\n",
    "print(string.strip())\n",
    "# rstrip : 오른쪽공백제거 \n",
    "print(string.rstrip())\n",
    "# lstrip : 왼쪽공백제거b"
   ]
  },
  {
   "cell_type": "code",
   "execution_count": 25,
   "id": "625fe2ed",
   "metadata": {},
   "outputs": [
    {
     "name": "stdout",
     "output_type": "stream",
     "text": [
      "We are the champions, My Friends!\n",
      "W2 ar2 th2 champions, My Fri2nds!\n",
      "W ar th champions, My Frinds!\n"
     ]
    }
   ],
   "source": [
    "string = 'We are the champions, My Friends!'\n",
    "# replace() \n",
    "print(string)\n",
    "print(string.replace('e','2'))\n",
    "print(string.replace('e','')) #특정문자 제거\n"
   ]
  },
  {
   "cell_type": "code",
   "execution_count": 23,
   "id": "815fd82a",
   "metadata": {},
   "outputs": [
    {
     "name": "stdout",
     "output_type": "stream",
     "text": [
      "www.tjoeunit.com\n",
      "tjoeunit\n",
      "tjoeunit.co\n"
     ]
    }
   ],
   "source": [
    "print('www.tjoeunit.com')\n",
    "# strip : 인수로 지정한 문자열 하나라도 있으면 맨앞 맨뒤에서 제거\n",
    "print('www.tjoeunit.com'.strip('w.com'))\n",
    "print('www.tjoeunit.com'.strip('mc.mw'))"
   ]
  },
  {
   "cell_type": "code",
   "execution_count": 44,
   "id": "28fe2915",
   "metadata": {},
   "outputs": [
    {
     "name": "stdout",
     "output_type": "stream",
     "text": [
      "주민등록번호를 입력하세요: 990388-7777777\n",
      "990388-7777777\n",
      "6\n",
      "990388-7******\n"
     ]
    }
   ],
   "source": [
    "# 주민등록번호를 입력받아 성별 뒤에 모든 문자가 *로 출력\n",
    "num = input('주민등록번호를 입력하세요: ')\n",
    "print(num)\n",
    "print(num.index('-'))\n",
    "print(num[:8]+'*'*6)\n"
   ]
  },
  {
   "cell_type": "code",
   "execution_count": 62,
   "id": "893a5966",
   "metadata": {},
   "outputs": [
    {
     "name": "stdout",
     "output_type": "stream",
     "text": [
      "123456-789-1245\n",
      "6\n",
      "10\n",
      "123456-***-1245\n"
     ]
    }
   ],
   "source": [
    "code = '123456-789-1245'\n",
    "print(code)\n",
    "print(code.index('-'))\n",
    "print(code.rindex('-'))\n",
    "print(code.replace(code[code.index('-')+1\n",
    "                        :code.rindex('-')],\n",
    "                   '*'*(code.rindex('-')-code.index('-')-1)))\n"
   ]
  },
  {
   "cell_type": "code",
   "execution_count": 71,
   "id": "c2ab0947",
   "metadata": {},
   "outputs": [
    {
     "name": "stdout",
     "output_type": "stream",
     "text": [
      "코드: 123456-789-1245\n",
      "['123456', '789', '1245'] 123456 789 1245\n",
      "123456-789-1245\n"
     ]
    }
   ],
   "source": [
    "code = input('코드: ')\n",
    "code = code.split('-')\n",
    "print(code,code[0],code[1],code[2])\n",
    "\n",
    "print('-'.join(code))"
   ]
  },
  {
   "cell_type": "markdown",
   "id": "96f677ce",
   "metadata": {},
   "source": [
    "파이떤 공백 처리 방법"
   ]
  },
  {
   "cell_type": "code",
   "execution_count": 73,
   "id": "62a7444d",
   "metadata": {},
   "outputs": [
    {
     "name": "stdout",
     "output_type": "stream",
     "text": [
      "                        hello           hi           \n",
      "hello           hi\n"
     ]
    }
   ],
   "source": [
    "string = '                        hello           hi           '\n",
    "print(string) # 사이빈칸 남음.\n",
    "print(string.strip())"
   ]
  },
  {
   "cell_type": "code",
   "execution_count": 75,
   "id": "5c59de08",
   "metadata": {},
   "outputs": [
    {
     "name": "stdout",
     "output_type": "stream",
     "text": [
      "['hello', 'hi']\n",
      "hello hi\n"
     ]
    }
   ],
   "source": [
    "# split 후 join :  \n",
    "print(string.split()) # 공백기준 list로 만들고\n",
    "print(' '.join(string.split())) # 공백기준으로 다시 조인 "
   ]
  },
  {
   "cell_type": "code",
   "execution_count": null,
   "id": "b3b16c7c",
   "metadata": {},
   "outputs": [],
   "source": []
  },
  {
   "cell_type": "code",
   "execution_count": null,
   "id": "0a3c8324",
   "metadata": {},
   "outputs": [],
   "source": []
  },
  {
   "cell_type": "code",
   "execution_count": null,
   "id": "f1a99325",
   "metadata": {},
   "outputs": [],
   "source": []
  },
  {
   "cell_type": "code",
   "execution_count": null,
   "id": "05d80da1",
   "metadata": {},
   "outputs": [],
   "source": []
  },
  {
   "cell_type": "code",
   "execution_count": null,
   "id": "5e6cc79f",
   "metadata": {},
   "outputs": [],
   "source": []
  },
  {
   "cell_type": "code",
   "execution_count": null,
   "id": "0354c0d7",
   "metadata": {},
   "outputs": [],
   "source": []
  },
  {
   "cell_type": "code",
   "execution_count": null,
   "id": "b06d0c45",
   "metadata": {},
   "outputs": [],
   "source": []
  },
  {
   "cell_type": "code",
   "execution_count": null,
   "id": "68dabd8c",
   "metadata": {},
   "outputs": [],
   "source": []
  }
 ],
 "metadata": {
  "kernelspec": {
   "display_name": "Python 3",
   "language": "python",
   "name": "python3"
  },
  "language_info": {
   "codemirror_mode": {
    "name": "ipython",
    "version": 3
   },
   "file_extension": ".py",
   "mimetype": "text/x-python",
   "name": "python",
   "nbconvert_exporter": "python",
   "pygments_lexer": "ipython3",
   "version": "3.6.8"
  }
 },
 "nbformat": 4,
 "nbformat_minor": 5
}
