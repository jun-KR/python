{
 "cells": [
  {
   "cell_type": "code",
   "execution_count": 10,
   "id": "c05a8a3f",
   "metadata": {},
   "outputs": [
    {
     "name": "stdout",
     "output_type": "stream",
     "text": [
      "[10, 20, 30, 40, 50]\n",
      "================================================================================\n",
      "10\n",
      "20\n",
      "30\n",
      "40\n",
      "50\n",
      "================================================================================\n",
      "10\n",
      "20\n",
      "30\n",
      "40\n",
      "50\n",
      "================================================================================\n",
      "40\n",
      "30\n"
     ]
    }
   ],
   "source": [
    "# for 반복문은 range 이외에도 시퀀스 객체를 사용할 수 있다는 점이 중요합니다.\n",
    "a = [10, 20, 30, 40, 50]\n",
    "print(a)\n",
    "print('='*80)\n",
    "\n",
    "for i in a:\n",
    "    print(i)\n",
    "print('='*80)\n",
    "\n",
    "for i in range(len(a)):\n",
    "    print(a[i])\n",
    "print('='*80)\n",
    "\n",
    "for i in a[3:1:-1]:\n",
    "    print(i)"
   ]
  },
  {
   "cell_type": "markdown",
   "id": "6e85d5d7",
   "metadata": {},
   "source": [
    "튜플과 함께 사용하는 for\n"
   ]
  },
  {
   "cell_type": "code",
   "execution_count": 11,
   "id": "7df2e590",
   "metadata": {},
   "outputs": [
    {
     "name": "stdout",
     "output_type": "stream",
     "text": [
      "(10, 20, 30, 40, 50)\n",
      "================================================================================\n",
      "10\n",
      "20\n",
      "30\n",
      "40\n",
      "50\n",
      "================================================================================\n",
      "10\n",
      "20\n",
      "30\n",
      "40\n",
      "50\n",
      "================================================================================\n",
      "40\n",
      "30\n"
     ]
    }
   ],
   "source": [
    "# for 반복문은 range 이외에도 시퀀스 객체를 사용할 수 있다는 점이 중요합니다.\n",
    "a = 10, 20, 30, 40, 50\n",
    "print(a)\n",
    "print('='*80)\n",
    "\n",
    "for i in a:\n",
    "    print(i)\n",
    "print('='*80)\n",
    "\n",
    "for i in range(len(a)):\n",
    "    print(a[i])\n",
    "print('='*80)\n",
    "\n",
    "for i in a[3:1:-1]:\n",
    "    print(i)"
   ]
  },
  {
   "cell_type": "code",
   "execution_count": null,
   "id": "97241b1e",
   "metadata": {},
   "outputs": [],
   "source": []
  },
  {
   "cell_type": "markdown",
   "id": "9ffa1c50",
   "metadata": {},
   "source": [
    "set과 함께 사용하는 for\n"
   ]
  },
  {
   "cell_type": "code",
   "execution_count": 19,
   "id": "1035d59d",
   "metadata": {},
   "outputs": [
    {
     "name": "stdout",
     "output_type": "stream",
     "text": [
      "{'too', 'Life', 'is', 'Good'}\n",
      "================================================================================\n",
      "too\n",
      "Life\n",
      "is\n",
      "Good\n",
      "================================================================================\n"
     ]
    }
   ],
   "source": [
    "a = {'Life', 'is', 'too', 'Good'}\n",
    "print(a)\n",
    "print('=' * 80)\n",
    "\n",
    "for i in a:\n",
    "    print(i)\n",
    "print('=' * 80)\n",
    "\n",
    "'''\n",
    "for i in range(len(a)):\n",
    "    print(a[i]) # set은 입력되는 순서와 저장되는 순서가 달라서 인덱싱을 사용할 수 없으므로 에러가 발생된다.\n",
    "print('=' * 80)\n",
    "\n",
    "for i in a[1:3]: # set은 입력되는 순서와 저장되는 순서가 달라서 슬라이싱을 사용할 수 없으므로 에러가 발생된다.\n",
    "    print(i)\n",
    "'''\n",
    "pass"
   ]
  },
  {
   "cell_type": "markdown",
   "id": "f1ab5647",
   "metadata": {},
   "source": [
    "딕셔너리와 함께 사용하는 for"
   ]
  },
  {
   "cell_type": "code",
   "execution_count": 20,
   "id": "5b2f30c6",
   "metadata": {},
   "outputs": [
    {
     "name": "stdout",
     "output_type": "stream",
     "text": [
      "{'apple': 1000, 'banana': 3500, 'melon': 10000, 'mango': 5000}\n",
      "dict_keys(['apple', 'banana', 'melon', 'mango'])\n",
      "dict_values([1000, 3500, 10000, 5000])\n",
      "dict_items([('apple', 1000), ('banana', 3500), ('melon', 10000), ('mango', 5000)])\n"
     ]
    }
   ],
   "source": [
    "a = {'apple': 1000, 'banana': 3500, 'melon': 10000, 'mango': 5000}\n",
    "print(a)\n",
    "print(a.keys())\n",
    "print(a.values())\n",
    "print(a.items())"
   ]
  },
  {
   "cell_type": "code",
   "execution_count": 27,
   "id": "c1b9b210",
   "metadata": {},
   "outputs": [
    {
     "name": "stdout",
     "output_type": "stream",
     "text": [
      "apple\n",
      "banana\n",
      "melon\n",
      "mango\n",
      "================================================================================\n",
      "1000\n",
      "3500\n",
      "10000\n",
      "5000\n",
      "================================================================================\n",
      "('apple', 1000)\n",
      "('banana', 3500)\n",
      "('melon', 10000)\n",
      "('mango', 5000)\n"
     ]
    }
   ],
   "source": [
    "for key in a : # 딕셔너리 이름만 쓰면 keys만 나옴.\n",
    "    print(key)\n",
    "print('=' * 80)\n",
    "\n",
    "for key in a.values() : # 딕셔너리 이름만 쓰면 keys만 나옴.\n",
    "    print(key)\n",
    "print('=' * 80)\n",
    "\n",
    "for item in a.items():\n",
    "    print(item)"
   ]
  },
  {
   "cell_type": "code",
   "execution_count": 32,
   "id": "c9132d7f",
   "metadata": {},
   "outputs": [
    {
     "name": "stdout",
     "output_type": "stream",
     "text": [
      "1000\n",
      "3500\n",
      "10000\n",
      "5000\n",
      "================================================================================\n",
      "1000\n",
      "3500\n",
      "10000\n",
      "5000\n",
      "================================================================================\n"
     ]
    }
   ],
   "source": [
    "# key 값을 이용해서 value 얻어오기\n",
    "for key in a.keys():\n",
    "    print(a[key])#딕셔너리이름[key]\n",
    "print('=' * 80)\n",
    "\n",
    "for key in a.keys():\n",
    "    print(a.get(key))#딕셔너리이름.get(key)\n",
    "print('=' * 80)\n"
   ]
  },
  {
   "cell_type": "code",
   "execution_count": 34,
   "id": "1d034270",
   "metadata": {},
   "outputs": [
    {
     "name": "stdout",
     "output_type": "stream",
     "text": [
      "('apple', 1000)\n",
      "('banana', 3500)\n",
      "('melon', 10000)\n",
      "('mango', 5000)\n",
      "================================================================================\n",
      "apple는(은) 1,000\n",
      "banana는(은) 3,500\n",
      "melon는(은) 10,000\n",
      "mango는(은) 5,000\n",
      "================================================================================\n",
      "apple는(은) 1,000\n",
      "banana는(은) 3,500\n",
      "melon는(은) 10,000\n",
      "mango는(은) 5,000\n"
     ]
    }
   ],
   "source": [
    "# item 값을 이용해서 key, value 얻어오기\n",
    "\n",
    "for item in a.items(): # 딕셔너리에서 item을 tuple 형식으로 가져옴.\n",
    "    print(item)\n",
    "print('=' * 80)\n",
    "\n",
    "for item in a.items():\n",
    "    print('{}는(은) {:,}'.format(item[0], item[1])) # index활용 (key, value)\n",
    "print('=' * 80)\n",
    "\n",
    "for key, value in a.items():\n",
    "    print('{}는(은) {:,}'.format(key, value))"
   ]
  },
  {
   "cell_type": "code",
   "execution_count": 45,
   "id": "600b58fb",
   "metadata": {},
   "outputs": [
    {
     "name": "stdout",
     "output_type": "stream",
     "text": [
      "(0, 'apple')\n",
      "(1, 'banana')\n",
      "(2, 'melon')\n",
      "(3, 'mango')\n",
      "index : 0, value: apple\n",
      "index : 1, value: banana\n",
      "index : 2, value: melon\n",
      "index : 3, value: mango\n"
     ]
    }
   ],
   "source": [
    "# enumerate\n",
    "\n",
    "# 인자의 값을 추출 할 때 인덱스를 추출하는 기법이다. \n",
    "# 인덱스 번호와 컬렉션의 원소를 튜플 형태로 반환한다.\n",
    "for index in enumerate(a):\n",
    "    print(index)\n",
    "    \n",
    "for index, data in enumerate(a):\n",
    "    print(\"index : {}, value: {}\".format(index,data))\n"
   ]
  },
  {
   "cell_type": "code",
   "execution_count": 47,
   "id": "1e75db09",
   "metadata": {
    "scrolled": false
   },
   "outputs": [
    {
     "name": "stdout",
     "output_type": "stream",
     "text": [
      "(1, 'java')\n",
      "(2, 'jsp')\n",
      "(3, 'python')\n",
      "1 java\n",
      "2 jsp\n",
      "3 python\n"
     ]
    }
   ],
   "source": [
    "# zip : 서로 다른 시퀀스를 반복 가능한 형태로 묶어준다.\n",
    "\n",
    "# 여러 개의 순회 가능한(iterable) 객체를 인자로 받아 \n",
    "# 동일한 개수로 이루어진 자료형을 묶어서 튜플의 형태로 반환한다\n",
    "\n",
    "for pair in zip([1, 2, 3], ['java', 'jsp', 'python']):\n",
    "    print(pair)\n",
    "for index, data in zip([1, 2, 3], ['java', 'jsp', 'python']):\n",
    "    print(index, data)"
   ]
  },
  {
   "cell_type": "code",
   "execution_count": 51,
   "id": "f5f8964d",
   "metadata": {},
   "outputs": [
    {
     "name": "stdout",
     "output_type": "stream",
     "text": [
      "{1: 'a', 2: 'b', 3: 'c'}\n"
     ]
    }
   ],
   "source": [
    "# zip() 함수를 활용 하면 두 개의 리스트나 튜플로 부터 dictionary를 만들 수 있다. \n",
    "# key와 value를 담은 리스트를 zip() 함수로 합친 뒤, dict() 함수를 사용하는 방법이다.\n",
    "value = [1,2,3]\n",
    "key = ['a','b','c']\n",
    "dictionary = dict(zip(value, key))\n",
    "print(dictionary)\n"
   ]
  },
  {
   "cell_type": "code",
   "execution_count": null,
   "id": "b9cd6bfd",
   "metadata": {},
   "outputs": [],
   "source": [
    "# 인덱스와 함께 값을 추출하고 싶다면 enumerate() 함수를 활용\n",
    "# zip() 과 \n",
    "\n",
    "alpha = ['a','b','c']\n",
    "num = [1,2,3]\n",
    "\n",
    "# zip은 튜플 형태를 반환하므로 (a,n)으로 묶어준다\n",
    "for i,(a,n) in enumerate(zip(alpha,num)):\n",
    "    print(i,a,n)\n",
    "\n",
    "0 a 1\n",
    "1 b 2\n",
    "2 c 3"
   ]
  },
  {
   "cell_type": "code",
   "execution_count": 56,
   "id": "9c215263",
   "metadata": {},
   "outputs": [
    {
     "name": "stdout",
     "output_type": "stream",
     "text": [
      "[191, 182, 173]\n",
      "100 70 3\n",
      "[191, 182, 173]\n",
      "(100, 90, 1)\n",
      "(100, 80, 2)\n",
      "(100, 70, 3)\n"
     ]
    }
   ],
   "source": [
    "java = [100, 100, 100]\n",
    "jsp = [90, 80, 70]\n",
    "python = [1, 2, 3]\n",
    "total = []\n",
    "\n",
    "for i in range(len(java)):\n",
    "    total.append(java[i]+jsp[i]+python[i])\n",
    "print(total)\n",
    "\n",
    "total = []\n",
    "for java, jsp, python in zip(java, jsp, python):\n",
    "    total.append(java+jsp+python)\n",
    "print(java, jsp, python)\n",
    "print(total)\n",
    "\n",
    "java = [100, 100, 100]\n",
    "jsp = [90, 80, 70]\n",
    "python = [1, 2, 3]\n",
    "total = []\n",
    "for p in zip(java, jsp, python):\n",
    "    print(p)\n"
   ]
  },
  {
   "cell_type": "code",
   "execution_count": null,
   "id": "471d44f6",
   "metadata": {},
   "outputs": [],
   "source": []
  },
  {
   "cell_type": "code",
   "execution_count": null,
   "id": "14db53a6",
   "metadata": {},
   "outputs": [],
   "source": []
  },
  {
   "cell_type": "code",
   "execution_count": null,
   "id": "5ef1f825",
   "metadata": {},
   "outputs": [],
   "source": []
  },
  {
   "cell_type": "code",
   "execution_count": null,
   "id": "454f4853",
   "metadata": {},
   "outputs": [],
   "source": []
  },
  {
   "cell_type": "code",
   "execution_count": null,
   "id": "20209566",
   "metadata": {},
   "outputs": [],
   "source": []
  },
  {
   "cell_type": "code",
   "execution_count": null,
   "id": "47b0e391",
   "metadata": {},
   "outputs": [],
   "source": []
  },
  {
   "cell_type": "code",
   "execution_count": null,
   "id": "7ec6ace8",
   "metadata": {},
   "outputs": [],
   "source": []
  },
  {
   "cell_type": "code",
   "execution_count": null,
   "id": "b510143f",
   "metadata": {},
   "outputs": [],
   "source": []
  }
 ],
 "metadata": {
  "kernelspec": {
   "display_name": "Python 3",
   "language": "python",
   "name": "python3"
  },
  "language_info": {
   "codemirror_mode": {
    "name": "ipython",
    "version": 3
   },
   "file_extension": ".py",
   "mimetype": "text/x-python",
   "name": "python",
   "nbconvert_exporter": "python",
   "pygments_lexer": "ipython3",
   "version": "3.6.8"
  }
 },
 "nbformat": 4,
 "nbformat_minor": 5
}
