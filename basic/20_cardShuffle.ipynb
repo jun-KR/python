{
 "cells": [
  {
   "cell_type": "code",
   "execution_count": 2,
   "id": "1c50515d",
   "metadata": {},
   "outputs": [],
   "source": [
    "import random\n",
    "# 카드 출력에 사용할 숫자와 무늬를 기억하는 리스트를 만든다.\n",
    "number = ['A', '2', '3', '4', '5', '6', '7', '8', '9', '10', 'J', 'Q', 'K']\n",
    "symbol = ['♠', '◇', '♥', '♧']"
   ]
  },
  {
   "cell_type": "code",
   "execution_count": 9,
   "id": "75c66e16",
   "metadata": {},
   "outputs": [
    {
     "name": "stdout",
     "output_type": "stream",
     "text": [
      "♠A  ♠2  ♠3  ♠4  ♠5  ♠6  ♠7  ♠8  ♠9  ♠10 ♠J  ♠Q  ♠K  \n",
      "◇A  ◇2  ◇3  ◇4  ◇5  ◇6  ◇7  ◇8  ◇9  ◇10 ◇J  ◇Q  ◇K  \n",
      "♥A  ♥2  ♥3  ♥4  ♥5  ♥6  ♥7  ♥8  ♥9  ♥10 ♥J  ♥Q  ♥K  \n",
      "♧A  ♧2  ♧3  ♧4  ♧5  ♧6  ♧7  ♧8  ♧9  ♧10 ♧J  ♧Q  ♧K  \n",
      "================================================== 섞기전\n",
      "♠K  ♠8  ♧10 ◇Q  ♧A  ♧9  ♥A  ♥J  ◇10 ♧3  ♥K  ♠2  ♥Q  \n",
      "♧4  ♥4  ♠3  ♠7  ♥8  ♧6  ♧2  ♧J  ♥6  ◇K  ◇4  ♥7  ♥5  \n",
      "◇7  ♠4  ♧Q  ◇3  ♠5  ♠Q  ♠6  ♠10 ◇8  ♥10 ♧7  ♠J  ◇J  \n",
      "♧5  ♧K  ♥3  ◇9  ♠A  ◇5  ♥2  ◇2  ♥9  ◇A  ♠9  ◇6  ♧8  \n",
      "================================================== 섞은후\n"
     ]
    }
   ],
   "source": [
    "# 0 ~ 51 사이의 숫자가 채워진 리스트를 만든다.\n",
    "cards = [i for i in range(52)]\n",
    "#print(cards)\n",
    "\n",
    "# 섞기전 상태를 출력한다. => 1줄에 숫자 13개씩 출력한다.\n",
    "\n",
    "for i in range(len(cards)): # i : 0~51\n",
    "#     print('{:2d}'.format(cards[i]), end=' ') 0~51 정수 나열.\n",
    "#     print('{:2s}'.format(number[cards[i] % 13]), end=' ') # 숫자만, 나머지: 0~12\n",
    "#     print('{:s}'.format(symbol[cards[i] // 13]), end=' ') # 무늬만, 몫: 0,1,2,3\n",
    "    print('{:s}{:2s}'.format(symbol[cards[i] // 13], number[cards[i] % 13]), end=' ')\n",
    "    if (i + 1) % 13 == 0:\n",
    "        print()\n",
    "print('=' * 50 + ' 섞기전')\n",
    "\n",
    "# 숫자와 무늬의 조합을 52개 만들어 셔플한다.\n",
    "random.shuffle(cards)\n",
    "\n",
    "# 섞은후 상태를 출력한다.\n",
    "for i in range(len(cards)):\n",
    "    print('{:s}{:2s}'.format(symbol[cards[i] // 13], number[cards[i] % 13]), end=' ')\n",
    "\n",
    "    if (i + 1) % 13 == 0:\n",
    "        print()\n",
    "print('=' * 50 + ' 섞은후')"
   ]
  }
 ],
 "metadata": {
  "kernelspec": {
   "display_name": "Python 3",
   "language": "python",
   "name": "python3"
  },
  "language_info": {
   "codemirror_mode": {
    "name": "ipython",
    "version": 3
   },
   "file_extension": ".py",
   "mimetype": "text/x-python",
   "name": "python",
   "nbconvert_exporter": "python",
   "pygments_lexer": "ipython3",
   "version": "3.6.8"
  }
 },
 "nbformat": 4,
 "nbformat_minor": 5
}
