{
 "cells": [
  {
   "cell_type": "markdown",
   "id": "036221c7",
   "metadata": {},
   "source": [
    "datetime 모듈"
   ]
  },
  {
   "cell_type": "code",
   "execution_count": null,
   "id": "89c3fd37",
   "metadata": {},
   "outputs": [],
   "source": [
    "import datetime  # 모듈 전체 임포트\n",
    "now = datetime.datetime.now()\n",
    "print(now)"
   ]
  },
  {
   "cell_type": "code",
   "execution_count": 4,
   "id": "2337ebfb",
   "metadata": {},
   "outputs": [
    {
     "name": "stdout",
     "output_type": "stream",
     "text": [
      "2023-07-03 11:35:53.690560\n"
     ]
    }
   ],
   "source": [
    "from datetime import datetime as dt # 패키지 내에 클래스 임포트 \n",
    "now2 = dt.now()\n",
    "# now2 = datetime.now()\n",
    "print(now2)"
   ]
  },
  {
   "cell_type": "code",
   "execution_count": 2,
   "id": "7e81e18d",
   "metadata": {},
   "outputs": [
    {
     "name": "stdout",
     "output_type": "stream",
     "text": [
      "2023-07-04 09:42:20.944572\n",
      "2024-07-04 09:42:20.944572\n"
     ]
    }
   ],
   "source": [
    "from datetime import datetime as dt \n",
    "today = dt.now()\n",
    "print(today)\n",
    "print(today.replace(year=2024)) # 날짜 수정은 replace"
   ]
  },
  {
   "cell_type": "markdown",
   "id": "14ef309d",
   "metadata": {},
   "source": [
    "날짜 시간 데이터 만들기"
   ]
  },
  {
   "cell_type": "code",
   "execution_count": 7,
   "id": "66f39407",
   "metadata": {},
   "outputs": [
    {
     "name": "stdout",
     "output_type": "stream",
     "text": [
      "2023-11-22 <class 'str'>\n",
      "2023-11-22 00:00:00 <class 'datetime.datetime'>\n",
      "13:20:01 <class 'str'>\n",
      "2023-07-04 13:20:01 <class 'datetime.datetime'>\n",
      "2023-11-22 13:20:01 <class 'datetime.datetime'>\n"
     ]
    }
   ],
   "source": [
    "from dateutil.parser import parse # parse : 컴퓨터가 알아볼 수 있도록 바꿔주기\n",
    "string = '2023-11-22'\n",
    "print(string, type(string))\n",
    "date = parse(string) # 날짜 데이터로 바뀐다.\n",
    "print(date, type(date)) \n",
    "string = '13:20:01'\n",
    "print(string, type(string))\n",
    "time = parse(string) \n",
    "print(time, type(time)) \n",
    "day = parse( '2023-11-22 13:20:01')\n",
    "print(day, type(day))"
   ]
  },
  {
   "cell_type": "code",
   "execution_count": 16,
   "id": "aed223a5",
   "metadata": {},
   "outputs": [
    {
     "name": "stdout",
     "output_type": "stream",
     "text": [
      "2023-07-04 10:01:19.255412\n",
      "2023-11-22 13:20:01\n",
      "141\n",
      "11921\n",
      "12194321.744588\n"
     ]
    }
   ],
   "source": [
    "from dateutil.parser import parse \n",
    "from datetime import datetime as dt \n",
    "start=dt.now()\n",
    "print(start)\n",
    "end= parse( '2023-11-22 13:20:01')\n",
    "print(end)\n",
    "gap=end-start\n",
    "print(gap.days) # 날짜 차이\n",
    "print(gap.seconds) # 초 차이(시간만)\n",
    "print(gap.total_seconds()) # 초 차이"
   ]
  },
  {
   "cell_type": "markdown",
   "id": "a18bc640",
   "metadata": {},
   "source": [
    "날짜 시간 서식 지정\n",
    ".strftime('출력 서식')\n"
   ]
  },
  {
   "cell_type": "code",
   "execution_count": 29,
   "id": "fc9d1827",
   "metadata": {},
   "outputs": [
    {
     "name": "stdout",
     "output_type": "stream",
     "text": [
      "2023-07-04 10:19:24.094939\n",
      "2023-07-04\n",
      "<class 'str'>\n",
      "2023-July-04\n",
      "2023-Jul-04\n",
      "Tuesday, July 04 2023\n",
      "2023년 07월 04일\n"
     ]
    },
    {
     "ename": "NameError",
     "evalue": "name 'datetime1' is not defined",
     "output_type": "error",
     "traceback": [
      "\u001b[1;31m---------------------------------------------------------------------------\u001b[0m",
      "\u001b[1;31mNameError\u001b[0m                                 Traceback (most recent call last)",
      "\u001b[1;32m<ipython-input-29-3a02ba9b2d58>\u001b[0m in \u001b[0;36m<module>\u001b[1;34m\u001b[0m\n\u001b[0;32m     12\u001b[0m \u001b[0mprint\u001b[0m\u001b[1;33m(\u001b[0m\u001b[0mtoday\u001b[0m\u001b[1;33m.\u001b[0m\u001b[0mstrftime\u001b[0m\u001b[1;33m(\u001b[0m\u001b[1;34m'%Y년 %m월 %d일'\u001b[0m\u001b[1;33m.\u001b[0m\u001b[0mencode\u001b[0m\u001b[1;33m(\u001b[0m\u001b[1;34m'unicode-escape'\u001b[0m\u001b[1;33m)\u001b[0m\u001b[1;33m.\u001b[0m\u001b[0mdecode\u001b[0m\u001b[1;33m(\u001b[0m\u001b[1;33m)\u001b[0m\u001b[1;33m)\u001b[0m\u001b[1;33m.\u001b[0m\u001b[0mencode\u001b[0m\u001b[1;33m(\u001b[0m\u001b[1;33m)\u001b[0m\u001b[1;33m.\u001b[0m\u001b[0mdecode\u001b[0m\u001b[1;33m(\u001b[0m\u001b[1;34m'unicode-escape'\u001b[0m\u001b[1;33m)\u001b[0m\u001b[1;33m)\u001b[0m\u001b[1;33m\u001b[0m\u001b[1;33m\u001b[0m\u001b[0m\n\u001b[0;32m     13\u001b[0m \u001b[1;33m\u001b[0m\u001b[0m\n\u001b[1;32m---> 14\u001b[1;33m \u001b[0mprint\u001b[0m\u001b[1;33m(\u001b[0m\u001b[1;34m'연-월-일 시:분:초 ='\u001b[0m\u001b[1;33m,\u001b[0m \u001b[0mdatetime1\u001b[0m\u001b[1;33m.\u001b[0m\u001b[0mstrftime\u001b[0m\u001b[1;33m(\u001b[0m\u001b[1;34m'%Y-%m-%d %H:%M:%S'\u001b[0m\u001b[1;33m)\u001b[0m\u001b[1;33m)\u001b[0m\u001b[1;33m\u001b[0m\u001b[1;33m\u001b[0m\u001b[0m\n\u001b[0m\u001b[0;32m     15\u001b[0m \u001b[0mprint\u001b[0m\u001b[1;33m(\u001b[0m\u001b[1;34m'연-월-일 ='\u001b[0m\u001b[1;33m,\u001b[0m \u001b[0mdatetime1\u001b[0m\u001b[1;33m.\u001b[0m\u001b[0mstrftime\u001b[0m\u001b[1;33m(\u001b[0m\u001b[1;34m'%Y-%m-%d'\u001b[0m\u001b[1;33m)\u001b[0m\u001b[1;33m)\u001b[0m\u001b[1;33m\u001b[0m\u001b[1;33m\u001b[0m\u001b[0m\n",
      "\u001b[1;31mNameError\u001b[0m: name 'datetime1' is not defined"
     ]
    }
   ],
   "source": [
    "from dateutil.parser import parse \n",
    "today=dt.now()\n",
    "print(today)\n",
    "\n",
    "print(today.strftime('%Y-%m-%d'))\n",
    "print(type(today.strftime('%Y-%m-%d')))\n",
    "print(today.strftime('%Y-%B-%d'))\n",
    "print(today.strftime('%Y-%b-%d'))\n",
    "print(today.strftime('%A, %B %d %Y'))\n",
    "\n",
    "\n",
    "print(today.strftime('%Y년 %m월 %d일'.encode('unicode-escape').decode()).encode().decode('unicode-escape'))\n",
    "\n",
    "print('연-월-일 시:분:초 =', datetime1.strftime('%Y-%m-%d %H:%M:%S'))\n",
    "print('연-월-일 =', datetime1.strftime('%Y-%m-%d'))"
   ]
  },
  {
   "cell_type": "code",
   "execution_count": null,
   "id": "61a08cb8",
   "metadata": {},
   "outputs": [],
   "source": []
  },
  {
   "cell_type": "code",
   "execution_count": null,
   "id": "6e2791a7",
   "metadata": {},
   "outputs": [],
   "source": []
  },
  {
   "cell_type": "code",
   "execution_count": null,
   "id": "1c83d556",
   "metadata": {},
   "outputs": [],
   "source": []
  }
 ],
 "metadata": {
  "kernelspec": {
   "display_name": "Python 3",
   "language": "python",
   "name": "python3"
  },
  "language_info": {
   "codemirror_mode": {
    "name": "ipython",
    "version": 3
   },
   "file_extension": ".py",
   "mimetype": "text/x-python",
   "name": "python",
   "nbconvert_exporter": "python",
   "pygments_lexer": "ipython3",
   "version": "3.6.8"
  }
 },
 "nbformat": 4,
 "nbformat_minor": 5
}
