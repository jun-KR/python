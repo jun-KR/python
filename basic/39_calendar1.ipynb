{
 "cells": [
  {
   "cell_type": "markdown",
   "id": "ea42c5fa",
   "metadata": {},
   "source": [
    "인수로 년도를 넘겨받아 윤년, 평년을 판단해 윤년이면 True, 평년이면 False를 리턴하는 isLeapYear(year) 함수를 만든다."
   ]
  },
  {
   "cell_type": "code",
   "execution_count": 3,
   "id": "7ab93e08",
   "metadata": {},
   "outputs": [],
   "source": [
    "def isLeapYear(year):\n",
    "    # 년도가 4로 나눠 떨어지고 100으로 나눠 떨어지지 않거나 400으로 나눠 떨어지면 윤년, 그렇치 않으면 평년\n",
    "    return year%4==0 and year %100 !=0 or year%400==0"
   ]
  },
  {
   "cell_type": "markdown",
   "id": "af71b8da",
   "metadata": {},
   "source": [
    "인수로 년, 월을 넘겨받아 그 달의 마지막 날짜를 리턴하는 lastDay(year, month) 함수를 만든다.\n",
    "\n"
   ]
  },
  {
   "cell_type": "code",
   "execution_count": 4,
   "id": "3719e733",
   "metadata": {},
   "outputs": [],
   "source": [
    "def lastDay(year, month):\n",
    "    # 각 달의 마지막 날짜를 기억하는 리스트를 만든다.\n",
    "    m = [31, 0, 31, 30, 31, 30, 31, 31, 30, 31, 30, 31]\n",
    "    # 인수로 넘겨받은 년도에 해당되는 2월의 마지막 날짜를 확정한다.\n",
    "    m[1]= 29 if isLeapYear(year) else 28  \n",
    "    # 마지막 날짜를 리턴시킨다.\n",
    "    return m[month-1]"
   ]
  },
  {
   "cell_type": "markdown",
   "id": "db1769e9",
   "metadata": {},
   "source": [
    "인수로 년, 월, 일을 넘겨받아 1년 1월 1일부터 지나온 날짜의 합계를 리턴하는 totalDay(year, month, day) 함수를 만든다.\n",
    "\n"
   ]
  },
  {
   "cell_type": "code",
   "execution_count": 5,
   "id": "8c1f8af7",
   "metadata": {},
   "outputs": [],
   "source": [
    "def totalDay(year, month, day):\n",
    "    # 인수로 넘어온 년도가 다 지나가지 않았으므로 1년 1월 1일부터 전년도 12월 31일까지 지난 날짜를 계산한다.\n",
    "    total = (year - 1) * 365 + (year - 1) // 4 - (year - 1) // 100 + (year - 1) // 400\n",
    "    # 전년도 12월 31일까지 지난 날짜에 전달까지 지난 날짜를 더한다.\n",
    "    for i in range(1,month):\n",
    "        total += lastDay(year,i)\n",
    "# 전달까지 지난 날짜에 일을 더해 리턴시킨다.\n",
    "    return total + day\n"
   ]
  },
  {
   "cell_type": "markdown",
   "id": "cbc8ef5f",
   "metadata": {},
   "source": [
    "인수로 년, 월, 일을 넘겨받아 요일을 계산해서 숫자로 리턴하는 weekDay(year, month, day) 함수를 만든다.\n",
    "일요일(0), 월요일(1), 화요일(2), 수요일(3), 목요일(4), 금요일(5), 토요일(6)"
   ]
  },
  {
   "cell_type": "code",
   "execution_count": 10,
   "id": "c1c538c9",
   "metadata": {},
   "outputs": [],
   "source": [
    "def weekDay(year,month,day):\n",
    "    return totalDay(year,month,day)%7"
   ]
  },
  {
   "cell_type": "code",
   "execution_count": 7,
   "id": "4aae59c1",
   "metadata": {},
   "outputs": [
    {
     "name": "stdout",
     "output_type": "stream",
     "text": [
      "False\n",
      "30\n",
      "738477\n",
      "5\n"
     ]
    }
   ],
   "source": [
    "print(isLeapYear(2022))\n",
    "print(lastDay(2022, 11))\n",
    "print(totalDay(2022, 11, 18))\n",
    "print(weekDay(2022, 11, 18))"
   ]
  },
  {
   "cell_type": "code",
   "execution_count": 21,
   "id": "54cfae3c",
   "metadata": {},
   "outputs": [
    {
     "name": "stdout",
     "output_type": "stream",
     "text": [
      "달력을 출력할 년과 월을 입력하세요: 2023 9\n",
      "============================\n",
      "         2023년 9월\n",
      "============================\n",
      " 일  월  화  수  목  금  토 \n",
      "============================\n",
      "                      1   2 \n",
      "  3   4   5   6   7   8   9 \n",
      " 10  11  12  13  14  15  16 \n",
      " 17  18  19  20  21  22  23 \n",
      " 24  25  26  27  28  29  30 \n",
      "============================\n"
     ]
    }
   ],
   "source": [
    "# 달력을 출력할 년, 월을 입력받는다.\n",
    "year, month = map(int, input('달력을 출력할 년과 월을 입력하세요: ').split())\n",
    "\n",
    "print('=' * 28)\n",
    "print('         {:4d}년{:2d}월'.format(year, month))\n",
    "print('=' * 28)\n",
    "print(' 일  월  화  수  목  금  토 ')\n",
    "print('=' * 28)\n",
    "\n",
    "# 1일이 출력될 위치(요일)을 맞추기 위해서 1일의 요일만큼 반복하며 빈 칸을 출력한다. => 빈 칸은 요일당 4칸\n",
    "for _ in range (weekDay(year, month, 1)):\n",
    "    print(end='    ')\n",
    "# 1일부터 달력을 출력할 달의 마지막 날짜까지 반복하며 날짜를 출력한다.\n",
    "for i in range(1,lastDay(year, month)+1):\n",
    "    print(' {:2d} '.format(i),end='')\n",
    "    if weekDay(year,month,i) == 6 and i!=lastDay(year, month):\n",
    "        print()\n",
    "print('\\n'+'=' * 28)\n"
   ]
  },
  {
   "cell_type": "code",
   "execution_count": null,
   "id": "25e720fa",
   "metadata": {},
   "outputs": [],
   "source": []
  }
 ],
 "metadata": {
  "kernelspec": {
   "display_name": "Python 3",
   "language": "python",
   "name": "python3"
  },
  "language_info": {
   "codemirror_mode": {
    "name": "ipython",
    "version": 3
   },
   "file_extension": ".py",
   "mimetype": "text/x-python",
   "name": "python",
   "nbconvert_exporter": "python",
   "pygments_lexer": "ipython3",
   "version": "3.6.8"
  }
 },
 "nbformat": 4,
 "nbformat_minor": 5
}
