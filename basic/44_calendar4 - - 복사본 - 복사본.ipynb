{
 "cells": [
  {
   "cell_type": "code",
   "execution_count": 5,
   "id": "adda2182",
   "metadata": {},
   "outputs": [],
   "source": [
    "%config  Completer.use_jedi= False\n",
    "import warnings\n",
    "warnings.filterwarnings(action='ignore')"
   ]
  },
  {
   "cell_type": "markdown",
   "id": "fe31baec",
   "metadata": {},
   "source": [
    "\n",
    "모듈의 특정 함수만 import 해서 사용하기  \n",
    "특정 모듈의 특정 함수만 import 해서 사용하려면 아래와 같이 import 시키면 된다.  \n",
    "from 모듈이름 import 함수이름  \n",
    "현재 파일에서 작성한 함수를 사용하는 것 처럼 함수 이름만 사용하면 된다."
   ]
  },
  {
   "cell_type": "code",
   "execution_count": 3,
   "id": "24330a7f",
   "metadata": {},
   "outputs": [],
   "source": [
    "# from calendarModule import weekDay, lastDay\n",
    "from calendarModule import *\n"
   ]
  },
  {
   "cell_type": "code",
   "execution_count": 2,
   "id": "54cfae3c",
   "metadata": {},
   "outputs": [
    {
     "name": "stdout",
     "output_type": "stream",
     "text": [
      "달력을 출력할 년과 월을 입력하세요: 54 8\n",
      "============================\n",
      "           54년 8월\n",
      "============================\n",
      " 일  월  화  수  목  금  토 \n",
      "============================\n",
      "                          1 \n",
      "  2   3   4   5   6   7   8 \n",
      "  9  10  11  12  13  14  15 \n",
      " 16  17  18  19  20  21  22 \n",
      " 23  24  25  26  27  28  29 \n",
      " 30  31 \n",
      "============================\n"
     ]
    }
   ],
   "source": [
    "# 달력을 출력할 년, 월을 입력받는다.\n",
    "year, month = map(int, input('달력을 출력할 년과 월을 입력하세요: ').split())\n",
    "\n",
    "print('=' * 28)\n",
    "print('         {:4d}년{:2d}월'.format(year, month))\n",
    "print('=' * 28)\n",
    "print(' 일  월  화  수  목  금  토 ')\n",
    "print('=' * 28)\n",
    "\n",
    "# 1일이 출력될 위치(요일)을 맞추기 위해서 1일의 요일만큼 반복하며 빈 칸을 출력한다. => 빈 칸은 요일당 4칸\n",
    "for _ in range (weekDay(year, month, 1)):\n",
    "    print(end='    ')\n",
    "# 1일부터 달력을 출력할 달의 마지막 날짜까지 반복하며 날짜를 출력한다.\n",
    "for i in range(1,lastDay(year, month)+1):\n",
    "    print(' {:2d} '.format(i),end='')\n",
    "    if weekDay(year,month,i) == 6 and i!=lastDay(year, month):\n",
    "        print()\n",
    "print('\\n'+'=' * 28)\n"
   ]
  },
  {
   "cell_type": "code",
   "execution_count": null,
   "id": "25e720fa",
   "metadata": {},
   "outputs": [],
   "source": []
  }
 ],
 "metadata": {
  "kernelspec": {
   "display_name": "Python 3",
   "language": "python",
   "name": "python3"
  },
  "language_info": {
   "codemirror_mode": {
    "name": "ipython",
    "version": 3
   },
   "file_extension": ".py",
   "mimetype": "text/x-python",
   "name": "python",
   "nbconvert_exporter": "python",
   "pygments_lexer": "ipython3",
   "version": "3.6.8"
  }
 },
 "nbformat": 4,
 "nbformat_minor": 5
}
