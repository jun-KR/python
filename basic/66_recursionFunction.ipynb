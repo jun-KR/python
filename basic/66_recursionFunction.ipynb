{
 "cells": [
  {
   "cell_type": "code",
   "execution_count": 6,
   "id": "807f85fe",
   "metadata": {},
   "outputs": [],
   "source": [
    "# factorial을 계산하는 일반 함수\n",
    "def factorial(number):\n",
    "    fact = 1\n",
    "    for i in range(1, number+1): # 반복은 for 문\n",
    "        fact*=i\n",
    "    return fact"
   ]
  },
  {
   "cell_type": "code",
   "execution_count": 7,
   "id": "90f2b905",
   "metadata": {},
   "outputs": [
    {
     "name": "stdout",
     "output_type": "stream",
     "text": [
      "put number5\n",
      "120\n"
     ]
    }
   ],
   "source": [
    "number= int(input('put number'))\n",
    "fact = factorial(number)\n",
    "print(fact)"
   ]
  },
  {
   "cell_type": "code",
   "execution_count": 14,
   "id": "550088b2",
   "metadata": {},
   "outputs": [],
   "source": [
    "# factorial을 계산하는 재귀 함수\n",
    "def factorialRecursion(number):\n",
    "    if number ==1:\n",
    "        return 1\n",
    "    return number* factorialRecursion(number-1)"
   ]
  },
  {
   "cell_type": "code",
   "execution_count": null,
   "id": "44cf3fb3",
   "metadata": {},
   "outputs": [],
   "source": [
    "number= int(input('put number'))\n",
    "fact = factorialRecursion(number)\n",
    "print(fact)"
   ]
  },
  {
   "cell_type": "code",
   "execution_count": null,
   "id": "8abcbfcc",
   "metadata": {},
   "outputs": [],
   "source": []
  }
 ],
 "metadata": {
  "kernelspec": {
   "display_name": "Python 3",
   "language": "python",
   "name": "python3"
  },
  "language_info": {
   "codemirror_mode": {
    "name": "ipython",
    "version": 3
   },
   "file_extension": ".py",
   "mimetype": "text/x-python",
   "name": "python",
   "nbconvert_exporter": "python",
   "pygments_lexer": "ipython3",
   "version": "3.6.8"
  }
 },
 "nbformat": 4,
 "nbformat_minor": 5
}
