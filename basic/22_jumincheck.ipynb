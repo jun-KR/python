{
 "cells": [
  {
   "cell_type": "markdown",
   "id": "62087f13",
   "metadata": {},
   "source": [
    "주민등록번호 유효성 검사\n",
    "  8304221185600\n",
    "\n",
    "주민등록번호의 각 자리 숫자와 가중치(234567892345)를 곱한 합계를 계산한다.  \n",
    "위의 결과를 11로 나눈 나머지를 계산해서 11에서 뺀다.  \n",
    "11에서 나머지를 뺀 결과가 2자리 숫자가 나올 수 있으므로 10의 자리는 버리고 1의 자리만 취한다.  \n",
    "1의 자리가 주민등록번호의 마지막 자리와 같으면 정상적인 주민등록번호이고 다르면 오류가 있는 주민등록번호이다.  "
   ]
  },
  {
   "cell_type": "code",
   "execution_count": 18,
   "id": "8d30adc7",
   "metadata": {},
   "outputs": [
    {
     "name": "stdout",
     "output_type": "stream",
     "text": [
      "주민등록번호 입력하소9612281095214\n",
      "172\n",
      "4\n",
      "정상이요\n"
     ]
    }
   ],
   "source": [
    "# 주민등록번호의 각 자리 숫자와 가중치(234567892345)의 각자리 숫자를 곱한 합계를 계산한다.\n",
    "check = '234567892345'\n",
    "jumin = (input('주민등록번호 입력하소'))\n",
    "total = 0\n",
    "for i in range(12):\n",
    "    total += int(check[i])*int(jumin[i])\n",
    "print(total)\n",
    "# 주민등록번호와 가중치를 곱한 결과를 11로 나눈 나머지를 계산해서 11에서 뺀다. => 결과가 2자리면 10의 자리는 버린다.\n",
    "result = (11- total%11)%10\n",
    "print(result)\n",
    "\n",
    "if result == int(jumin[12]):\n",
    "    print('정상이요')\n",
    "else:\n",
    "    print('문제있어요')\n"
   ]
  },
  {
   "cell_type": "markdown",
   "id": "fb7a5099",
   "metadata": {},
   "source": [
    "인덱스가 8보다 작은 경우 가중치는 무조건 인덱스 보다 2가 크고 인덱스가 8이상인 경우 가중치는 인덱스 보다 무조건 6이 작다."
   ]
  },
  {
   "cell_type": "code",
   "execution_count": null,
   "id": "80fcbec8",
   "metadata": {},
   "outputs": [],
   "source": []
  },
  {
   "cell_type": "code",
   "execution_count": 19,
   "id": "f619daca",
   "metadata": {},
   "outputs": [
    {
     "name": "stdout",
     "output_type": "stream",
     "text": [
      "주민등록번호 입력하소9612281095214\n",
      "정상이요\n"
     ]
    }
   ],
   "source": [
    "# 주민등록번호의 각 자리 숫자와 가중치(234567892345)의 각자리 숫자를 곱한 합계를 계산한다.\n",
    "jumin = (input('주민등록번호 입력하소'))\n",
    "total = 0\n",
    "for i in range(12):\n",
    "#   total += int(check[i])*int(jumin[i])\n",
    "    total += int(jumin[i])*(i+2 if i<8 else i-6 )\n",
    "result = (11- total%11)%10\n",
    "if result == int(jumin[12]):\n",
    "    print('정상이요')\n",
    "else:\n",
    "    print('문제있어요')\n"
   ]
  },
  {
   "cell_type": "code",
   "execution_count": null,
   "id": "1c1356a1",
   "metadata": {},
   "outputs": [],
   "source": []
  },
  {
   "cell_type": "code",
   "execution_count": null,
   "id": "537f5018",
   "metadata": {},
   "outputs": [],
   "source": []
  },
  {
   "cell_type": "code",
   "execution_count": null,
   "id": "a1a3f4b0",
   "metadata": {},
   "outputs": [],
   "source": []
  },
  {
   "cell_type": "code",
   "execution_count": null,
   "id": "483fe1c6",
   "metadata": {},
   "outputs": [],
   "source": []
  },
  {
   "cell_type": "code",
   "execution_count": null,
   "id": "40db27ec",
   "metadata": {},
   "outputs": [],
   "source": []
  }
 ],
 "metadata": {
  "kernelspec": {
   "display_name": "Python 3",
   "language": "python",
   "name": "python3"
  },
  "language_info": {
   "codemirror_mode": {
    "name": "ipython",
    "version": 3
   },
   "file_extension": ".py",
   "mimetype": "text/x-python",
   "name": "python",
   "nbconvert_exporter": "python",
   "pygments_lexer": "ipython3",
   "version": "3.6.8"
  }
 },
 "nbformat": 4,
 "nbformat_minor": 5
}
