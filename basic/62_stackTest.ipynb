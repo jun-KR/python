{
 "cells": [
  {
   "cell_type": "code",
   "execution_count": 2,
   "id": "8bd1717f",
   "metadata": {},
   "outputs": [
    {
     "name": "stdout",
     "output_type": "stream",
     "text": [
      "스택에 저장된 데이터 => 없음\n"
     ]
    }
   ],
   "source": [
    "# stackModule 전체를 import\n",
    "\n",
    "# import stackModule\n",
    "# stack = stackModule.Stack() Stack 클래스를 사용하려면 '모듈이름.'을 붙여서 사용\n",
    "# stack.view()"
   ]
  },
  {
   "cell_type": "code",
   "execution_count": 3,
   "id": "41b96c76",
   "metadata": {},
   "outputs": [
    {
     "name": "stdout",
     "output_type": "stream",
     "text": [
      "스택에 저장된 데이터 => 없음\n"
     ]
    }
   ],
   "source": [
    "# Stack 클래스만 import 해서 사용한다.\n",
    "from stackModule import Stack\n",
    "\n",
    "stack = Stack()\n",
    "stack.view()"
   ]
  },
  {
   "cell_type": "code",
   "execution_count": 9,
   "id": "63630629",
   "metadata": {},
   "outputs": [
    {
     "name": "stdout",
     "output_type": "stream",
     "text": [
      "==============================\n",
      "1.push 2.pop 3. view 4. 종료\n",
      "==============================\n",
      "메뉴 입력하세요1\n",
      "스택 저장할 데이터 입력 ㄷ\n",
      "스택에 저장된 데이터 => ㄷ \n",
      "==============================\n",
      "1.push 2.pop 3. view 4. 종료\n",
      "==============================\n",
      "메뉴 입력하세요1\n",
      "스택 저장할 데이터 입력 ㄹ\n",
      "스택에 저장된 데이터 => ㄷ ㄹ \n",
      "==============================\n",
      "1.push 2.pop 3. view 4. 종료\n",
      "==============================\n",
      "메뉴 입력하세요1\n",
      "스택 저장할 데이터 입력 ㄹㅇㄴㅁㄹ\n",
      "스택에 저장된 데이터 => ㄷ ㄹ ㄹㅇㄴㅁㄹ \n",
      "==============================\n",
      "1.push 2.pop 3. view 4. 종료\n",
      "==============================\n",
      "메뉴 입력하세요1\n",
      "스택 저장할 데이터 입력 ㅇㅁㄴ\n",
      "스택에 저장된 데이터 => ㄷ ㄹ ㄹㅇㄴㅁㄹ ㅇㅁㄴ \n",
      "==============================\n",
      "1.push 2.pop 3. view 4. 종료\n",
      "==============================\n",
      "메뉴 입력하세요3\n",
      "스택에 저장된 데이터 => ㄷ ㄹ ㄹㅇㄴㅁㄹ ㅇㅁㄴ \n",
      "==============================\n",
      "1.push 2.pop 3. view 4. 종료\n",
      "==============================\n",
      "메뉴 입력하세요2\n",
      "pop 데이터: ㅇㅁㄴ\n",
      "스택에 저장된 데이터 => ㄷ ㄹ ㄹㅇㄴㅁㄹ \n",
      "==============================\n",
      "1.push 2.pop 3. view 4. 종료\n",
      "==============================\n",
      "메뉴 입력하세요4\n",
      "quit\n"
     ]
    }
   ],
   "source": [
    "menu = 0\n",
    "while menu !=4:\n",
    "    while True:\n",
    "        print('='*30)\n",
    "        print('1.push 2.pop 3. view 4. 종료' )\n",
    "        print('='*30)\n",
    "        menu = int(input('메뉴 입력하세요'))\n",
    "        if menu in [1,2,3,4]:\n",
    "            break\n",
    "        else :\n",
    "            print(' menu in [1,2,3,4] ')\n",
    "    if menu ==1:\n",
    "        data = input('스택 저장할 데이터 입력 ')\n",
    "        stack.push(data)\n",
    "    elif menu ==2:\n",
    "        stack.pop()\n",
    "    elif menu ==3:\n",
    "        stack.view()\n",
    "print('quit')\n",
    "        "
   ]
  },
  {
   "cell_type": "code",
   "execution_count": null,
   "id": "217e8bcb",
   "metadata": {},
   "outputs": [],
   "source": []
  },
  {
   "cell_type": "code",
   "execution_count": null,
   "id": "498876d6",
   "metadata": {},
   "outputs": [],
   "source": []
  },
  {
   "cell_type": "code",
   "execution_count": null,
   "id": "af7eee40",
   "metadata": {},
   "outputs": [],
   "source": []
  },
  {
   "cell_type": "code",
   "execution_count": null,
   "id": "c90efbd8",
   "metadata": {},
   "outputs": [],
   "source": []
  },
  {
   "cell_type": "code",
   "execution_count": null,
   "id": "d36072c5",
   "metadata": {},
   "outputs": [],
   "source": []
  },
  {
   "cell_type": "code",
   "execution_count": null,
   "id": "65f25b2f",
   "metadata": {},
   "outputs": [],
   "source": []
  },
  {
   "cell_type": "code",
   "execution_count": null,
   "id": "cae35980",
   "metadata": {},
   "outputs": [],
   "source": []
  },
  {
   "cell_type": "code",
   "execution_count": null,
   "id": "42fd328f",
   "metadata": {},
   "outputs": [],
   "source": []
  },
  {
   "cell_type": "code",
   "execution_count": null,
   "id": "f0dd350e",
   "metadata": {},
   "outputs": [],
   "source": []
  },
  {
   "cell_type": "code",
   "execution_count": null,
   "id": "53e0adc0",
   "metadata": {},
   "outputs": [],
   "source": []
  }
 ],
 "metadata": {
  "kernelspec": {
   "display_name": "Python 3",
   "language": "python",
   "name": "python3"
  },
  "language_info": {
   "codemirror_mode": {
    "name": "ipython",
    "version": 3
   },
   "file_extension": ".py",
   "mimetype": "text/x-python",
   "name": "python",
   "nbconvert_exporter": "python",
   "pygments_lexer": "ipython3",
   "version": "3.6.8"
  }
 },
 "nbformat": 4,
 "nbformat_minor": 5
}
