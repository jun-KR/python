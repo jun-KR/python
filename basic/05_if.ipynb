{
 "cells": [
  {
   "cell_type": "code",
   "execution_count": null,
   "id": "2743ee02",
   "metadata": {},
   "outputs": [],
   "source": [
    "a = int(input())      # 입력값을 정수로 저장\n",
    "\n",
    "a, b = map(int, input().split())  # 값 두 개를 입력받아 변수 두 개에 정수로 저장\n",
    "a, b"
   ]
  },
  {
   "cell_type": "code",
   "execution_count": 10,
   "id": "e9d1a741",
   "metadata": {},
   "outputs": [
    {
     "name": "stdout",
     "output_type": "stream",
     "text": [
      "1, 2, 3\n",
      "1 2\n"
     ]
    }
   ],
   "source": [
    "# print 함수의 출력 방식 제어하기\n",
    "\n",
    "print(1, 2, 3, sep=', ')    # 값 사이에 ,와 공백 출력\n",
    "\n",
    "print(1, end=' ')    # 1을 출력한 뒤 공백 출력\n",
    "print(2)             # 2가 이어서 출력됨"
   ]
  },
  {
   "cell_type": "markdown",
   "id": "00f7c026",
   "metadata": {},
   "source": [
    "if 다음에 오는 코드는 반드시 들여쓰기를 해야 하고, 깊이가 같아야 합니다.\n",
    "\n",
    "조건식을 작성할 때 == 연산자 대신 = 연산자를 사용하는 실수를 하지 않도록 주의\n",
    "\n",
    "else 비울땐 pass 꼭 \n",
    "\n"
   ]
  },
  {
   "cell_type": "code",
   "execution_count": 12,
   "id": "d880828e",
   "metadata": {},
   "outputs": [
    {
     "ename": "SyntaxError",
     "evalue": "unexpected EOF while parsing (<ipython-input-12-5da7ca00126d>, line 8)",
     "output_type": "error",
     "traceback": [
      "\u001b[1;36m  File \u001b[1;32m\"<ipython-input-12-5da7ca00126d>\"\u001b[1;36m, line \u001b[1;32m8\u001b[0m\n\u001b[1;33m    \u001b[0m\n\u001b[1;37m    ^\u001b[0m\n\u001b[1;31mSyntaxError\u001b[0m\u001b[1;31m:\u001b[0m unexpected EOF while parsing\n"
     ]
    }
   ],
   "source": [
    "#나이 입력받아 투표권 여부 확인\n",
    "age = int(input('나이를 입력'))\n",
    "print(type(age))\n",
    "\n",
    "if age>=18:\n",
    "    print('있음')\n",
    "else:\n",
    "    print('없음')\n"
   ]
  },
  {
   "cell_type": "code",
   "execution_count": 22,
   "id": "01490b01",
   "metadata": {},
   "outputs": [
    {
     "name": "stdout",
     "output_type": "stream",
     "text": [
      "주민번호 13자리 -없이 입력9906062118725\n",
      "2\n",
      "<class 'str'>\n",
      "여자\n",
      "================================================================================\n"
     ]
    }
   ],
   "source": [
    "# 주민번호 받아 성별판단\n",
    "jumin = input('주민번호 13자리 -없이 입력')\n",
    "print(jumin[6])\n",
    "print(type(jumin[6]))\n",
    "\n",
    "# 문자열로 비교 \n",
    "# if int(jumin[6]) == 1 or 3 or 5:\n",
    "if (jumin[6]) in ['1','3','5']:\n",
    "    print('남자')\n",
    "else:\n",
    "    print('여자')\n",
    "    \n",
    "print('='*80)\n",
    "# 홀수면 남자 \n",
    "if int(jumin[6])%2 == 1:\n",
    "    print('남자')\n",
    "else:\n",
    "    print('여자')\n",
    "    \n",
    "print('='*80)"
   ]
  },
  {
   "cell_type": "code",
   "execution_count": 26,
   "id": "fa209f90",
   "metadata": {},
   "outputs": [
    {
     "name": "stdout",
     "output_type": "stream",
     "text": [
      "주민번호 13자리 -없이 입력9906062118725\n",
      "99\n",
      "24\n"
     ]
    }
   ],
   "source": []
  },
  {
   "cell_type": "code",
   "execution_count": 31,
   "id": "176a8418",
   "metadata": {},
   "outputs": [
    {
     "name": "stdout",
     "output_type": "stream",
     "text": [
      "2023-07-03 11:23:31.044745\n",
      "년: 2023\n",
      "요일: 0\n",
      "요일: 월\n"
     ]
    }
   ],
   "source": [
    "from datetime import datetime as dt # 패키지 내에 클래스 임포트 \n",
    "today = dt.now()\n",
    "print(today)\n",
    "print('년: {}'.format(today.year))\n",
    "\n",
    "# weekday: 요일 반환 (0:월, 1:화, 2:수, 3:목, 4:금, 5:토, 6:일)\n",
    "print('요일: {}'.format(today.weekday()))\n",
    "week = ['월','화', '수', '목', '금', '토', '일']\n",
    "print('요일: {}'.format(week[today.weekday()]))\n"
   ]
  },
  {
   "cell_type": "markdown",
   "id": "40a07426",
   "metadata": {},
   "source": [
    "year: 연도\n",
    "month: 월\n",
    "day: 일\n",
    "hour: 시\n",
    "minute: 분\n",
    "second: 초\n",
    "microsecond: 마이크로초(micro seconds, 백만분의 일초)  \n",
    "\n",
    "strftime: 문자열 반환\n",
    "\n",
    "date: 날짜 정보만 가지는 date 클래스 객체 반환\n",
    "\n",
    "time: 시간 정보만 가지는 time 클래스 객체 반환"
   ]
  },
  {
   "cell_type": "code",
   "execution_count": 45,
   "id": "85d7428c",
   "metadata": {},
   "outputs": [
    {
     "name": "stdout",
     "output_type": "stream",
     "text": [
      "주민번호 13자리 -없이 입력9903281074747\n",
      "99\n",
      "나이: 24\n",
      "너는 1999년 출생이고 나이는 24살이다\n"
     ]
    }
   ],
   "source": [
    "# 주민번호 받아 나이 출력\n",
    "jumin = input('주민번호 13자리 -없이 입력')\n",
    "print(jumin[:2])               \n",
    "\n",
    "year = int(jumin[:2])\n",
    "'''\n",
    "if jumin[6] == '1' or jumin[6] == '2':\n",
    "    age = today.year - (1900 + year)\n",
    "else:\n",
    "    age = today.year - (2000 + year)\n",
    "'''\n",
    "# 삼항 연산자\n",
    "year+= 1900 if jumin[6]<='2' else 2000\n",
    "\n",
    "age = today.year - year\n",
    "print(\"나이:\", age)\n",
    "print('너는 {}년 출생이고 나이는 {}살이다'.format(year, age))"
   ]
  },
  {
   "cell_type": "code",
   "execution_count": 50,
   "id": "c90cc729",
   "metadata": {},
   "outputs": [
    {
     "name": "stdout",
     "output_type": "stream",
     "text": [
      "윤년 판단할 년도 입력해2100\n",
      "윤년이아니다\n",
      "2100은 평년이다\n"
     ]
    }
   ],
   "source": [
    "# 윤년 평년 판별식\n",
    "# 4로 떨어지고, 100으로 떨어지지 않거나 400으로 떨어지면 윤년 \n",
    "year=int(input('윤년 판단할 년도 입력해'))\n",
    "\n",
    "isLeapYear = year%4==0 and year%100!=0 or year%400==0\n",
    "\n",
    "if isLeapYear:\n",
    "    print('{}은 윤년이다'.format(year))\n",
    "else:\n",
    "    print('윤년이아니다')\n",
    "print('{}은 {}년이다'.format(year, '윤' if isLeapYear else '평' ))"
   ]
  },
  {
   "cell_type": "code",
   "execution_count": 58,
   "id": "41407429",
   "metadata": {},
   "outputs": [
    {
     "name": "stdout",
     "output_type": "stream",
     "text": [
      "세 과목 점수 입력해99 15 88\n",
      "총점: 202, 평균: 67.33점\n",
      "평균: 67.33점, 등급:d\n"
     ]
    }
   ],
   "source": [
    "java, jsp, python =map(int,(input('세 과목 점수 입력해').split()))\n",
    "total = java+jsp+python\n",
    "avg=total/3\n",
    "print('총점: {:3d}, 평균: {:.2f}점'.format(total,avg))\n",
    "\n",
    "if avg >=90 :\n",
    "    print('평균: {:.2f}점, 등급:A'.format(avg))\n",
    "elif avg >=80 :\n",
    "    print('평균: {:.2f}점, 등급:b'.format(avg))\n",
    "elif avg >=70 :\n",
    "    print('평균: {:.2f}점, 등급:c'.format(avg))\n",
    "elif avg >=60 :\n",
    "    print('평균: {:.2f}점, 등급:d'.format(avg))\n",
    "else:\n",
    "    print('평균: {:.2f}점, 등급:f'.format(avg))"
   ]
  },
  {
   "cell_type": "code",
   "execution_count": 60,
   "id": "14974ba6",
   "metadata": {},
   "outputs": [],
   "source": [
    "# 난수 발생\n",
    "import random"
   ]
  },
  {
   "cell_type": "code",
   "execution_count": 108,
   "id": "dfb54663",
   "metadata": {},
   "outputs": [
    {
     "name": "stdout",
     "output_type": "stream",
     "text": [
      "3\n",
      "0.6949422982302186\n"
     ]
    }
   ],
   "source": [
    "# randint(a,b) : a~b 사이 난수 정수로 발생.\n",
    "print(random.randint(1,6))\n",
    "# random(a,b) : 0~1 사이 난수 실수로 발생.\n",
    "print(random.random())\n"
   ]
  },
  {
   "cell_type": "code",
   "execution_count": 117,
   "id": "56c236be",
   "metadata": {},
   "outputs": [
    {
     "name": "stdout",
     "output_type": "stream",
     "text": [
      "가위바위보 1, 2, 3 : 3\n",
      "cpu: 2, user : 3\n",
      "2겻다\n"
     ]
    }
   ],
   "source": [
    "# 가위바우보\n",
    "cpu = random.randint(1,3)\n",
    "user = int(input('가위바위보 1, 2, 3 : '))\n",
    "print(f'cpu: {cpu}, user : {user}')\n",
    "if cpu == user:\n",
    "    print('비겻다')\n",
    "elif (cpu == 1 and user == 2) or  (cpu == 2 and user == 3) or (cpu == 3 and user == 1) : \n",
    "    print('2겻다')\n",
    "else :\n",
    "    print('졋다')"
   ]
  },
  {
   "cell_type": "code",
   "execution_count": null,
   "id": "91bc1672",
   "metadata": {},
   "outputs": [],
   "source": []
  },
  {
   "cell_type": "code",
   "execution_count": null,
   "id": "7c195a66",
   "metadata": {},
   "outputs": [],
   "source": []
  }
 ],
 "metadata": {
  "kernelspec": {
   "display_name": "Python 3",
   "language": "python",
   "name": "python3"
  },
  "language_info": {
   "codemirror_mode": {
    "name": "ipython",
    "version": 3
   },
   "file_extension": ".py",
   "mimetype": "text/x-python",
   "name": "python",
   "nbconvert_exporter": "python",
   "pygments_lexer": "ipython3",
   "version": "3.6.8"
  }
 },
 "nbformat": 4,
 "nbformat_minor": 5
}
