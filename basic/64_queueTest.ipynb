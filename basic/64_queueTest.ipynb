{
 "cells": [
  {
   "cell_type": "code",
   "execution_count": 1,
   "id": "e7f7cc2f",
   "metadata": {},
   "outputs": [],
   "source": [
    "from queueModule import Queue\n"
   ]
  },
  {
   "cell_type": "code",
   "execution_count": 2,
   "id": "0ebc57f9",
   "metadata": {},
   "outputs": [
    {
     "name": "stdout",
     "output_type": "stream",
     "text": [
      "큐에 저장된 데이터 => 없음\n"
     ]
    }
   ],
   "source": [
    "queue = Queue() # 객체 생성\n",
    "queue.view()\n"
   ]
  },
  {
   "cell_type": "code",
   "execution_count": null,
   "id": "e643e67a",
   "metadata": {},
   "outputs": [
    {
     "name": "stdout",
     "output_type": "stream",
     "text": [
      "==============================\n",
      "1.add 2.pop 3. view 4. 종료\n",
      "==============================\n",
      "메뉴 입력하세요1\n",
      "queue 저장할 데이터 입력 1\n",
      "overflow 발생... 큐가 가득차서 1를(을) 저장할 수 없습니다.\n",
      "큐에 저장된 데이터 => 없음\n",
      "==============================\n",
      "1.add 2.pop 3. view 4. 종료\n",
      "==============================\n"
     ]
    }
   ],
   "source": [
    "menu = 0\n",
    "while menu !=4:\n",
    "    while True:\n",
    "        print('='*30)\n",
    "        print('1.add 2.pop 3. view 4. 종료' )\n",
    "        print('='*30)\n",
    "        menu = int(input('메뉴 입력하세요'))\n",
    "        if menu in [1,2,3,4]:\n",
    "            break\n",
    "        else :\n",
    "            print(' menu in [1,2,3,4] ')\n",
    "    if menu ==1:\n",
    "        data = input('queue 저장할 데이터 입력 ')\n",
    "        queue.add(data)\n",
    "    elif menu ==2:\n",
    "        queue.remove()\n",
    "    elif menu ==3:\n",
    "        queue.view()\n",
    "print('quit')\n",
    "        "
   ]
  },
  {
   "cell_type": "code",
   "execution_count": null,
   "id": "2028b320",
   "metadata": {},
   "outputs": [],
   "source": []
  }
 ],
 "metadata": {
  "kernelspec": {
   "display_name": "Python 3",
   "language": "python",
   "name": "python3"
  },
  "language_info": {
   "codemirror_mode": {
    "name": "ipython",
    "version": 3
   },
   "file_extension": ".py",
   "mimetype": "text/x-python",
   "name": "python",
   "nbconvert_exporter": "python",
   "pygments_lexer": "ipython3",
   "version": "3.6.8"
  }
 },
 "nbformat": 4,
 "nbformat_minor": 5
}
