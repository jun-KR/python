{
 "cells": [
  {
   "cell_type": "code",
   "execution_count": 1,
   "id": "075fe239",
   "metadata": {},
   "outputs": [],
   "source": [
    "def pprint(data):\n",
    "    for i in range(len(data)): # 행 출력. 4\n",
    "        for j in range(len(data[i])): # 열 출력. 5 \n",
    "            print('{:3d} '.format(data[i][j]), end=' ')\n",
    "        print()"
   ]
  },
  {
   "cell_type": "code",
   "execution_count": 3,
   "id": "0ba830c2",
   "metadata": {},
   "outputs": [
    {
     "name": "stdout",
     "output_type": "stream",
     "text": [
      "  1    2    3    4    5  \n",
      " 16   17   18   19    6  \n",
      " 15   24   25   20    7  \n",
      " 14   23   22   21    8  \n",
      " 13   12   11   10    9  \n"
     ]
    }
   ],
   "source": [
    "a = [[0] * 5 for i in range(5)]\n",
    "n = 0 # 1 ~ 25까지 1씩 증가하는 변수\n",
    "s = 1 # sw 행과 열이 1또는 -1씩 증가 및 감소 처리에 사용하는 변수\n",
    "i = 0 # 행\n",
    "j = -1 # 열\n",
    "k = 5 # 반복문의 반복 횟수 제어에 사용하는 변수\n",
    "\n",
    "# pprint(a)\n",
    "while True:\n",
    "    # 행 방향으로 숫자를 채운다.\n",
    "    for p in range(1, k + 1):\n",
    "        n += 1\n",
    "        j += s\n",
    "        a[i][j] = n\n",
    "    # ===== for p\n",
    "    # k를 1감소하고 조건에 만족하면 무한 루프를 탈출한다.\n",
    "    k -= 1\n",
    "    if k <= 0:\n",
    "        break\n",
    "    # 열 방향으로 숫자를 채운다.\n",
    "    for p in range(1, k + 1):\n",
    "        n += 1\n",
    "        i += s\n",
    "        a[i][j] = n\n",
    "    # ===== for p\n",
    "    s *= -1\n",
    "\n",
    "pprint(a)"
   ]
  },
  {
   "cell_type": "code",
   "execution_count": 10,
   "id": "a7abe3c1",
   "metadata": {},
   "outputs": [
    {
     "name": "stdout",
     "output_type": "stream",
     "text": [
      "2차원 리스트의 차수를3이상 홀수로 입력하세요: 7\n",
      "[[0, 0, 0, 0, 0, 0, 0], [0, 0, 0, 0, 0, 0, 0], [0, 0, 0, 0, 0, 0, 0], [0, 0, 0, 0, 0, 0, 0], [0, 0, 0, 0, 0, 0, 0], [0, 0, 0, 0, 0, 0, 0], [0, 0, 0, 0, 0, 0, 0]]\n",
      "  1    2    3    4    5    6    7  \n",
      " 24   25   26   27   28   29    8  \n",
      " 23   40   41   42   43   30    9  \n",
      " 22   39   48   49   44   31   10  \n",
      " 21   38   47   46   45   32   11  \n",
      " 20   37   36   35   34   33   12  \n",
      " 19   18   17   16   15   14   13  \n"
     ]
    }
   ],
   "source": [
    " while True:\n",
    "    m = int(input('2차원 리스트의 차수를3이상 홀수로 입력하세요: '))\n",
    "    if m % 2 == 1 and m>=3:\n",
    "        break\n",
    "    print('2차원 리스트의 차수는 3이상 홀수로 입력해야 합니다.')\n",
    "# ===== while\n",
    "a = [[0] * m for i in range(m)]; n = 0; s = 1; i = 0; j = -1; k = m\n",
    "\n",
    "print(a)\n",
    "\n",
    "while True:\n",
    "    # 행 방향으로 숫자를 채운다.\n",
    "    for p in range(1, k + 1):\n",
    "        n += 1\n",
    "        j += s\n",
    "        a[i][j] = n\n",
    "    # ===== for p\n",
    "    # k를 1감소하고 조건에 만족하면 무한 루프를 탈출한다.\n",
    "    k -= 1\n",
    "    if k <= 0:\n",
    "        break\n",
    "    # 열 방향으로 숫자를 채운다.\n",
    "    for p in range(1, k + 1):\n",
    "        n += 1\n",
    "        i += s\n",
    "        a[i][j] = n\n",
    "    # ===== for p\n",
    "    s *= -1\n",
    "\n",
    "pprint(a)"
   ]
  },
  {
   "cell_type": "code",
   "execution_count": 11,
   "id": "ea7cc30d",
   "metadata": {},
   "outputs": [
    {
     "name": "stdout",
     "output_type": "stream",
     "text": [
      " 13   14   15   16   17  \n",
      " 12    3    4    5   18  \n",
      " 11    2    1    6   19  \n",
      " 10    9    8    7   20  \n",
      " 25   24   23   22   21  \n"
     ]
    }
   ],
   "source": [
    "a = [[0] * 5 for i in range(5)]\n",
    "n = 1; s = 1; i = 2; j = 2; \n",
    "k = 1;\n",
    "a[i][j] = n; \n",
    "flag = False # 마지막 숫자까지 채워졌나 확인 \n",
    "\n",
    "while True:\n",
    "#     k+=1 # 3시 방향부터 숫자를 채운다.\n",
    "    for p in range(1, k):\n",
    "        n += 1; j += s\n",
    "        if n > 25:\n",
    "            flag = True\n",
    "            break\n",
    "        a[i][j] = n\n",
    "    # ===== for p \n",
    "    # flag:true 종료\n",
    "    if flag:\n",
    "        break;\n",
    "    for p in range(1, k):\n",
    "        n += 1; i += s\n",
    "        a[i][j] = n\n",
    "    # ===== for p\n",
    "    k += 1 # 9시 방향부터 숫자를 채운다.\n",
    "    s *= -1\n",
    "\n",
    "pprint(a)\n"
   ]
  },
  {
   "cell_type": "code",
   "execution_count": null,
   "id": "e9265dc3",
   "metadata": {},
   "outputs": [],
   "source": []
  },
  {
   "cell_type": "code",
   "execution_count": null,
   "id": "8f882280",
   "metadata": {},
   "outputs": [],
   "source": []
  },
  {
   "cell_type": "code",
   "execution_count": null,
   "id": "d2af9d42",
   "metadata": {},
   "outputs": [],
   "source": []
  },
  {
   "cell_type": "code",
   "execution_count": null,
   "id": "b9710c82",
   "metadata": {},
   "outputs": [],
   "source": []
  },
  {
   "cell_type": "code",
   "execution_count": null,
   "id": "b14aff00",
   "metadata": {},
   "outputs": [],
   "source": []
  },
  {
   "cell_type": "code",
   "execution_count": null,
   "id": "fa8f5955",
   "metadata": {},
   "outputs": [],
   "source": []
  }
 ],
 "metadata": {
  "kernelspec": {
   "display_name": "Python 3",
   "language": "python",
   "name": "python3"
  },
  "language_info": {
   "codemirror_mode": {
    "name": "ipython",
    "version": 3
   },
   "file_extension": ".py",
   "mimetype": "text/x-python",
   "name": "python",
   "nbconvert_exporter": "python",
   "pygments_lexer": "ipython3",
   "version": "3.6.8"
  }
 },
 "nbformat": 4,
 "nbformat_minor": 5
}
