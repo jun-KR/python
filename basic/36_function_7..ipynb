{
 "cells": [
  {
   "cell_type": "code",
   "execution_count": 2,
   "id": "483ac834",
   "metadata": {},
   "outputs": [],
   "source": [
    "def swap(a, b):\n",
    "    temp = a\n",
    "    a = b\n",
    "    b = temp\n",
    "    # 데이터를 ','로 구분해서 나열하면 ()로 묶지 않아도 튜플이 만들어진다.\n",
    "    # return을 ()없는 튜플로 리턴시키면 return 값이 2개 이상인 것 같은 효과를 낸다.\n",
    "    return a, b # (a, b) 형태의 튜플 1개를 리턴시킨다. => 마치 return 값이 2개인 것 처럼 보인다.\n"
   ]
  },
  {
   "cell_type": "code",
   "execution_count": 4,
   "id": "40849001",
   "metadata": {},
   "outputs": [
    {
     "name": "stdout",
     "output_type": "stream",
     "text": [
      "a = 3, b = 4\n",
      "a = 4, b = 3\n",
      "a = 3, b = 4\n",
      "<class 'tuple'>\n",
      "a = 4, b = 3\n"
     ]
    }
   ],
   "source": [
    "a = 3; b = 4\n",
    "print(f'a = {a}, b = {b}')\n",
    "a, b = b, a\n",
    "print(f'a = {a}, b = {b}')\n",
    "a, b = swap(a, b)\n",
    "print(f'a = {a}, b = {b}')\n",
    "result = swap(a, b)\n",
    "print(type(result))\n",
    "print(f'a = {result[0]}, b = {result[1]}')"
   ]
  },
  {
   "cell_type": "code",
   "execution_count": 8,
   "id": "9efa1248",
   "metadata": {},
   "outputs": [
    {
     "name": "stdout",
     "output_type": "stream",
     "text": [
      "name: 홍길동\n",
      "age: 30\n",
      "address: 서울시 용산구 이촌동\n"
     ]
    }
   ],
   "source": [
    ">>> def personal_info(**kwargs):\n",
    "...     for kw, arg in kwargs.items():\n",
    "...         print(kw, ': ', arg, sep='')\n",
    "\n",
    ">>> y = {'name': '홍길동', 'age': 30, 'address': '서울시 용산구 이촌동'}\n",
    ">>> personal_info(**y)#딕셔너리 언패킹"
   ]
  }
 ],
 "metadata": {
  "kernelspec": {
   "display_name": "Python 3",
   "language": "python",
   "name": "python3"
  },
  "language_info": {
   "codemirror_mode": {
    "name": "ipython",
    "version": 3
   },
   "file_extension": ".py",
   "mimetype": "text/x-python",
   "name": "python",
   "nbconvert_exporter": "python",
   "pygments_lexer": "ipython3",
   "version": "3.6.8"
  }
 },
 "nbformat": 4,
 "nbformat_minor": 5
}
