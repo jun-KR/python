{
 "cells": [
  {
   "cell_type": "code",
   "execution_count": 1,
   "id": "f356ce40",
   "metadata": {},
   "outputs": [
    {
     "name": "stdout",
     "output_type": "stream",
     "text": [
      "로또 복권 구매 금액을 입력하세요: 20000\n",
      "  1 game: 09 18 19 21 28 34 \n",
      "  2 game: 02 03 04 29 41 44 \n",
      "  3 game: 15 16 21 24 34 38 \n",
      "  4 game: 01 03 11 34 41 44 \n",
      "  5 game: 06 25 28 38 43 44 \n",
      "  6 game: 14 21 22 33 34 39 \n",
      "  7 game: 06 11 18 31 37 38 \n",
      "  8 game: 07 11 17 30 32 39 \n",
      "  9 game: 01 04 13 20 26 29 \n",
      " 10 game: 06 11 27 40 42 45 \n",
      " 11 game: 21 27 29 37 44 45 \n",
      " 12 game: 20 30 34 36 39 40 \n",
      " 13 game: 07 11 14 17 30 31 \n",
      " 14 game: 02 05 08 16 30 43 \n",
      " 15 game: 17 18 19 22 33 38 \n",
      " 16 game: 07 15 18 21 23 32 \n",
      " 17 game: 06 15 29 30 32 37 \n",
      " 18 game: 02 08 18 26 38 44 \n",
      " 19 game: 03 04 07 14 35 42 \n",
      " 20 game: 06 07 08 23 33 43 \n"
     ]
    }
   ],
   "source": [
    "import random\n",
    "lotto = [i for i in range(1, 46)]\n",
    "# 로또 복권 구매 금액을 입력받아 입력받은 금액만큼 로또 번호를 출력하는 프로그램\n",
    "# 로또 복권 구매 금액을 입력받는다.\n",
    "money = int(input('로또 복권 구매 금액을 입력하세요: '))\n",
    "# 복권 구매 금액만큼 반복하며 로또 번호를 출력한다.\n",
    "for i in range(money // 1000):\n",
    "    random.shuffle(lotto)\n",
    "    print('{:3d} game: '.format(i + 1), end='')\n",
    "    # 자동으로 생성된 로또 번호를 오름차순으로 정렬한다.\n",
    "    result = lotto[:6]\n",
    "    result.sort()\n",
    "    for j in range(6):\n",
    "        print('{:02d}'.format(result[j]), end=' ')\n",
    "    print()"
   ]
  }
 ],
 "metadata": {
  "kernelspec": {
   "display_name": "Python 3",
   "language": "python",
   "name": "python3"
  },
  "language_info": {
   "codemirror_mode": {
    "name": "ipython",
    "version": 3
   },
   "file_extension": ".py",
   "mimetype": "text/x-python",
   "name": "python",
   "nbconvert_exporter": "python",
   "pygments_lexer": "ipython3",
   "version": "3.6.8"
  }
 },
 "nbformat": 4,
 "nbformat_minor": 5
}
