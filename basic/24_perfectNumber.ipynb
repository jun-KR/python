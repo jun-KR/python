{
 "cells": [
  {
   "cell_type": "markdown",
   "id": "4cc12a00",
   "metadata": {},
   "source": [
    "완전수    \n",
    "  \n",
    "완전수란 자기 자신을 제외한 약수의 합계가 자기 자신과 같은 숫자를 말한다.  \n",
    "6의 약수는 1, 2, 3, 6이고 여기서 자기 자신인 6을 제외한 약수 1, 2, 3의 합계가 자기 자신인 6이 되므로 6은 완전수이다"
   ]
  },
  {
   "cell_type": "code",
   "execution_count": 1,
   "id": "12673c2c",
   "metadata": {},
   "outputs": [
    {
     "name": "stdout",
     "output_type": "stream",
     "text": [
      "1번째 완전수:    6\n",
      "2번째 완전수:   28\n",
      "3번째 완전수:  496\n",
      "4번째 완전수: 8128\n",
      "완전수의 개수는 4개 입니다.\n",
      "Wall time: 2.73 s\n"
     ]
    }
   ],
   "source": [
    "%%time\n",
    "lm = 0 # 완전수의 개수\n",
    "# 바깥 반복은 4 ~ 10000 사이의 완전수를 판별해야 하므로 완전수인가 판별할 수를 4부터 10000까지 1씩 증가시킨다.\n",
    "for n in range(4, 10001):\n",
    "    # 완전수인가 판별할 숫자가 바뀔때 마다 약수의 합계를 다시 계산해야 하므로 n이 바뀔때 마다 초기화 시켜야 한다.\n",
    "    # n이 바뀔때 마다 초기화 시키지 않으면 이전 숫자의 약수의 합에 현재 숫자의 약수가 누적된다.\n",
    "    \n",
    "    total = 0 # 약수의 합계를 기억할 변수\n",
    "    \n",
    "    k = n // 2 #시간절약용으로 절반까지만 나눔.\n",
    "    \n",
    "    # 안쪽 반복은 n이 완전수인가 판별하기 위해서 자신을 제외한 약수의 합계를 계산한다.\n",
    "    for j in range(1, k + 1):\n",
    "        \n",
    "        r = n % j # 1 ~ k 사이의 숫자로 나눈 나머지를 계산한다. \n",
    "        \n",
    "        if r == 0: # j가 n의 약수인가?\n",
    "            total += j # j가 n의 약수이므로 약수의 합계를 계산한다.\n",
    "            \n",
    "        # ===== if\n",
    "    # ===== for j\n",
    "    # 완전수면 n을 출력하고 완전수의 개수를 1증가 시킨다.\n",
    "    if n == total: # 완전수인가?\n",
    "        lm += 1 # 완전수의 개수를 증가시킨다.\n",
    "        print('{}번째 완전수: {:4d}'.format(lm, n))\n",
    "# ===== for n\n",
    "print(f'완전수의 개수는 {lm}개 입니다.') # 완전수의 개수를 출력한다."
   ]
  },
  {
   "cell_type": "code",
   "execution_count": null,
   "id": "cadf04ac",
   "metadata": {},
   "outputs": [],
   "source": []
  },
  {
   "cell_type": "code",
   "execution_count": null,
   "id": "ec7388b8",
   "metadata": {},
   "outputs": [],
   "source": []
  },
  {
   "cell_type": "code",
   "execution_count": null,
   "id": "d52a6ff0",
   "metadata": {},
   "outputs": [],
   "source": []
  },
  {
   "cell_type": "code",
   "execution_count": null,
   "id": "9e7493e9",
   "metadata": {},
   "outputs": [],
   "source": []
  },
  {
   "cell_type": "code",
   "execution_count": null,
   "id": "f2513dbf",
   "metadata": {},
   "outputs": [],
   "source": []
  },
  {
   "cell_type": "code",
   "execution_count": null,
   "id": "bbbcc21f",
   "metadata": {},
   "outputs": [],
   "source": []
  },
  {
   "cell_type": "code",
   "execution_count": null,
   "id": "a325c92b",
   "metadata": {},
   "outputs": [],
   "source": []
  },
  {
   "cell_type": "code",
   "execution_count": null,
   "id": "c6c2af8a",
   "metadata": {},
   "outputs": [],
   "source": []
  },
  {
   "cell_type": "code",
   "execution_count": null,
   "id": "66362b6f",
   "metadata": {},
   "outputs": [],
   "source": []
  },
  {
   "cell_type": "code",
   "execution_count": null,
   "id": "24eedd9d",
   "metadata": {},
   "outputs": [],
   "source": []
  },
  {
   "cell_type": "code",
   "execution_count": null,
   "id": "74099148",
   "metadata": {},
   "outputs": [],
   "source": []
  },
  {
   "cell_type": "code",
   "execution_count": null,
   "id": "6af5ddb8",
   "metadata": {},
   "outputs": [],
   "source": []
  }
 ],
 "metadata": {
  "kernelspec": {
   "display_name": "Python 3",
   "language": "python",
   "name": "python3"
  },
  "language_info": {
   "codemirror_mode": {
    "name": "ipython",
    "version": 3
   },
   "file_extension": ".py",
   "mimetype": "text/x-python",
   "name": "python",
   "nbconvert_exporter": "python",
   "pygments_lexer": "ipython3",
   "version": "3.6.8"
  }
 },
 "nbformat": 4,
 "nbformat_minor": 5
}
