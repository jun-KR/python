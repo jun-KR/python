{
 "cells": [
  {
   "cell_type": "markdown",
   "id": "59ed9cb1",
   "metadata": {},
   "source": [
    "함수의 구조  \n",
    "def 함수이름([인수, ...]): # 인수는 생략할 수 있다.  \n",
    "&nbsp;&nbsp;&nbsp;&nbsp;함수가 실행할 문장  \n",
    "&nbsp;&nbsp;&nbsp;&nbsp;...  \n",
    "&nbsp;&nbsp;&nbsp;&nbsp;[return 함수의 결과 값] # 생략하면 None.  \n",
    "  \n",
    "함수의 실행 순서  \n",
    "프로그램에서 함수가 호출되면 호출된 함수로 제어가 넘어간다. => 실행 후 복귀 주소는 스택에 저장된다.\n",
    "호출된 함수가 정의된 기능을 모두 실행한 후 함수 종료되거나 중간에 return을 만나면 함수가 호출된곳으로 돌아간다. <font size=\"15\">이 때, 스택에 저장된 복귀 주소를 참조한다.</font>   => 가장 마지막에 호출된 함수가 가장 먼저 종료되야 한다.\n",
    "return이 있으면 return 뒤의 값을 가지고 함수를 호출한곳으로 돌아가고 return이 없거나 return만 적으면 None을 가지고 돌아간다."
   ]
  },
  {
   "cell_type": "markdown",
   "id": "89b0d48b",
   "metadata": {},
   "source": [
    "이제 파이썬 스크립트에서 함수의 실행 순서를 알아보겠습니다. hello 함수는 다음과 같은 순서로 실행됩니다.  \n",
    "  \n",
    "파이썬 스크립트 최초 실행  \n",
    "hello 함수 호출  \n",
    "hello 함수 실행  \n",
    "print 함수 실행 및 'Hello, world!' 출력  \n",
    "hello 함수 종료  \n",
    "파이썬 스크립트 종료  "
   ]
  },
  {
   "cell_type": "code",
   "execution_count": 13,
   "id": "4639f14b",
   "metadata": {},
   "outputs": [],
   "source": [
    "# 가장 일반적으로 사용되는 함수의 모양\n",
    "# a, b 2개의 데이터를 인수로 넘겨받아 덧셈을 실행한 결과를 리턴하는 함수\n",
    "def add(a,b): # 호출당하는 인수 = 가인수, 매개변수 파라미터\n",
    "    print('add함수')\n",
    "    a=999 # 가인수 값 변경.\n",
    "    result= a+b\n",
    "    print(f'가인수 a:{a}')\n",
    "    return  result"
   ]
  },
  {
   "cell_type": "code",
   "execution_count": null,
   "id": "e956c158",
   "metadata": {},
   "outputs": [],
   "source": []
  },
  {
   "cell_type": "code",
   "execution_count": 15,
   "id": "91daacf3",
   "metadata": {},
   "outputs": [
    {
     "name": "stdout",
     "output_type": "stream",
     "text": [
      "숫자 2개 입력4 5\n",
      "add함수\n",
      "가인수 a:999\n",
      "결과: 1004\n",
      "실인수 a:4\n"
     ]
    }
   ],
   "source": [
    "a,b = map(int, input('숫자 2개 입력').split())\n",
    "print('결과: {}'.format(add(a,b))) # 호출하는 인수 : 실인수, 인수 아규먼트.\n",
    "print(f'실인수 a:{a}')\n"
   ]
  },
  {
   "cell_type": "code",
   "execution_count": null,
   "id": "048c0c0c",
   "metadata": {},
   "outputs": [],
   "source": []
  },
  {
   "cell_type": "code",
   "execution_count": null,
   "id": "b7a5269f",
   "metadata": {},
   "outputs": [],
   "source": []
  },
  {
   "cell_type": "code",
   "execution_count": null,
   "id": "3c7e2583",
   "metadata": {},
   "outputs": [],
   "source": []
  },
  {
   "cell_type": "code",
   "execution_count": null,
   "id": "96d41f60",
   "metadata": {},
   "outputs": [],
   "source": []
  },
  {
   "cell_type": "code",
   "execution_count": null,
   "id": "9a3cb68e",
   "metadata": {},
   "outputs": [],
   "source": []
  },
  {
   "cell_type": "code",
   "execution_count": null,
   "id": "57895a0b",
   "metadata": {},
   "outputs": [],
   "source": []
  }
 ],
 "metadata": {
  "kernelspec": {
   "display_name": "Python 3",
   "language": "python",
   "name": "python3"
  },
  "language_info": {
   "codemirror_mode": {
    "name": "ipython",
    "version": 3
   },
   "file_extension": ".py",
   "mimetype": "text/x-python",
   "name": "python",
   "nbconvert_exporter": "python",
   "pygments_lexer": "ipython3",
   "version": "3.6.8"
  }
 },
 "nbformat": 4,
 "nbformat_minor": 5
}
