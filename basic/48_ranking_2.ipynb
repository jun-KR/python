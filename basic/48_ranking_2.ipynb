{
 "cells": [
  {
   "cell_type": "markdown",
   "id": "b5fc5edd",
   "metadata": {},
   "source": [
    "선택정렬의 반복 알고리즘을 이용한 석차 계산\n",
    "\n"
   ]
  },
  {
   "cell_type": "code",
   "execution_count": 2,
   "id": "c08bc983",
   "metadata": {},
   "outputs": [
    {
     "name": "stdout",
     "output_type": "stream",
     "text": [
      " 70점은 1등 입니다.\n",
      "100점은 4등 입니다.\n",
      " 80점은 2등 입니다.\n",
      "100점은 4등 입니다.\n",
      " 90점은 3등 입니다.\n"
     ]
    }
   ],
   "source": [
    "score = [70, 100, 80, 100, 90]\n",
    "rank = [1 for i in range(len(score))]\n",
    "# print(rank)\n",
    "\n",
    "for i in range(len(score) - 1): # 1~4\n",
    "    for j in range(i + 1, len(score)):  # 2~5\n",
    "        # i번째 점수가 크면 j번째 석차를 1증 가시키고 j번째 점수가 크면 i번째 석차를 1증가시킨다.\n",
    "        # 부등호 방향을 모두 반대로 변경하면 오름차순(작은 점수가 1등) 석차가 계산된다.\n",
    "        if score[i] < score[j]:\n",
    "            rank[j] += 1\n",
    "        elif score[i] > score[j]:\n",
    "            rank[i] += 1\n",
    "        # ===== if\n",
    "    # ===== for j\n",
    "# ===== for i\n",
    "\n",
    "for i in range(len(score)):\n",
    "    print('{:3d}점은 {}등 입니다.'.format(score[i], rank[i]))"
   ]
  },
  {
   "cell_type": "code",
   "execution_count": null,
   "id": "3f70e167",
   "metadata": {},
   "outputs": [],
   "source": []
  },
  {
   "cell_type": "code",
   "execution_count": null,
   "id": "bdcaab68",
   "metadata": {},
   "outputs": [],
   "source": []
  },
  {
   "cell_type": "code",
   "execution_count": null,
   "id": "cea61be8",
   "metadata": {},
   "outputs": [],
   "source": []
  },
  {
   "cell_type": "code",
   "execution_count": null,
   "id": "f366bcea",
   "metadata": {},
   "outputs": [],
   "source": []
  },
  {
   "cell_type": "code",
   "execution_count": null,
   "id": "50b7bdda",
   "metadata": {},
   "outputs": [],
   "source": []
  },
  {
   "cell_type": "code",
   "execution_count": null,
   "id": "bc3a0042",
   "metadata": {},
   "outputs": [],
   "source": []
  },
  {
   "cell_type": "code",
   "execution_count": null,
   "id": "200f22e4",
   "metadata": {},
   "outputs": [],
   "source": []
  },
  {
   "cell_type": "code",
   "execution_count": null,
   "id": "60d3e14f",
   "metadata": {},
   "outputs": [],
   "source": []
  },
  {
   "cell_type": "code",
   "execution_count": null,
   "id": "8ecce4af",
   "metadata": {},
   "outputs": [],
   "source": []
  },
  {
   "cell_type": "code",
   "execution_count": null,
   "id": "15bfda6e",
   "metadata": {},
   "outputs": [],
   "source": []
  },
  {
   "cell_type": "code",
   "execution_count": null,
   "id": "693c4863",
   "metadata": {},
   "outputs": [],
   "source": []
  }
 ],
 "metadata": {
  "kernelspec": {
   "display_name": "Python 3",
   "language": "python",
   "name": "python3"
  },
  "language_info": {
   "codemirror_mode": {
    "name": "ipython",
    "version": 3
   },
   "file_extension": ".py",
   "mimetype": "text/x-python",
   "name": "python",
   "nbconvert_exporter": "python",
   "pygments_lexer": "ipython3",
   "version": "3.6.8"
  }
 },
 "nbformat": 4,
 "nbformat_minor": 5
}
