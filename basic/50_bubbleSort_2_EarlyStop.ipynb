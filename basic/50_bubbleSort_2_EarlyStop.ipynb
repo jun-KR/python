{
 "cells": [
  {
   "cell_type": "code",
   "execution_count": null,
   "id": "80e759be",
   "metadata": {},
   "outputs": [],
   "source": []
  },
  {
   "cell_type": "code",
   "execution_count": null,
   "id": "2e118a0d",
   "metadata": {},
   "outputs": [],
   "source": []
  },
  {
   "cell_type": "code",
   "execution_count": null,
   "id": "a65e26e1",
   "metadata": {},
   "outputs": [],
   "source": []
  },
  {
   "cell_type": "code",
   "execution_count": 2,
   "id": "6ca12f05",
   "metadata": {},
   "outputs": [
    {
     "name": "stdout",
     "output_type": "stream",
     "text": [
      "1 회전 결과: [1, 3, 4, 8, 9]\n"
     ]
    }
   ],
   "source": [
    "data = [9, 1, 3, 4, 8]\n",
    "for i in range(len(data) - 1):\n",
    "    # ⓐ => 회전(정렬) 작업이 시작되기 전에 flag 변수를 초기화시킨다.\n",
    "    flag = 0\n",
    "    for j in range(len(data) - 1 - i):\n",
    "        if data[j] > data[j + 1]:\n",
    "            data[j], data[j + 1] = data[j + 1], data[j]\n",
    "            # ⓑ => 데이터 교환 작업이 실행되면 flag 변수의 값을 1로 수정한다.\n",
    "            flag = 1\n",
    "    # ⓒ => 한 회전이 종료되었을 때 데이터 교환 작업이 1번도 실행되지 않았다면 현재 데이터는 모두 정렬이 되어있는\n",
    "    # 상태를 의미하므로 정렬을 중지시킨다. => i 반복을 탈출한다.\n",
    "    if flag == 0:\n",
    "        break ㅏ\n",
    "    print('{} 회전 결과: {}'.format(i + 1, data))\n",
    "# ===== for i => 정렬 종료\n",
    "# print('정렬 결과: {}'.format(data))"
   ]
  },
  {
   "cell_type": "code",
   "execution_count": 3,
   "id": "a3c9e734",
   "metadata": {},
   "outputs": [
    {
     "name": "stdout",
     "output_type": "stream",
     "text": [
      "1 회전 결과: [1, 3, 4, 8, 9]\n",
      "4 회전을 해야하지만 2 회전 후 중간 종료됨\n"
     ]
    }
   ],
   "source": [
    "data = [9, 1, 3, 4, 8]\n",
    "for i in range(len(data) - 1):\n",
    "    # flag = True : 정렬된상태. \n",
    "    flag = True\n",
    "    for j in range(len(data) - 1 - i):\n",
    "        if data[j] > data[j + 1]:\n",
    "            data[j], data[j + 1] = data[j + 1], data[j]\n",
    "            flag = False \n",
    "    # ===== for j => 회전 종료\n",
    "    if flag:\n",
    "        prin "
   ]
  }
 ],
 "metadata": {
  "kernelspec": {
   "display_name": "Python 3",
   "language": "python",
   "name": "python3"
  },
  "language_info": {
   "codemirror_mode": {
    "name": "ipython",
    "version": 3
   },
   "file_extension": ".py",
   "mimetype": "text/x-python",
   "name": "python",
   "nbconvert_exporter": "python",
   "pygments_lexer": "ipython3",
   "version": "3.6.8"
  }
 },
 "nbformat": 4,
 "nbformat_minor": 5
}
