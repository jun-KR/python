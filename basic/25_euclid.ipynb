{
 "cells": [
  {
   "cell_type": "markdown",
   "id": "b8f4d583",
   "metadata": {},
   "source": [
    "유클리드 호제법을 이용한 최대공약수와 최소공배수 계산하기  \n",
    "\n",
    "  \n",
    "숫자 2개를 입력받아 큰수와 작은수를 구분한다.  \n",
    "큰수를 작은수로 나눠 떨어지면 작은수가 최대공약수가 되고  \n",
    "  않으면 큰수에 작은수를 넣어주고 작은수에 나머지를 넣어준 후 계산을 반복한다.  \n",
    "최대공약수가 계산되면 입력받은 숫자 2개를 곱한 결과를 최대공약수로 나눠주면 최소공배수가 된다.  \n",
    "  \n"
   ]
  },
  {
   "cell_type": "code",
   "execution_count": 13,
   "id": "eeb1d563",
   "metadata": {},
   "outputs": [
    {
     "name": "stdout",
     "output_type": "stream",
     "text": [
      "숫자2개입력하소: 2134 566\n",
      "큰수: 2134, 작은수:566\n",
      "최대공약수: 2, 최소공배수 :603922\n",
      "최대공약수: 2, 최소공배수 :603922\n"
     ]
    }
   ],
   "source": [
    "a,b = map(int, input('숫자2개입력하소: ').split())\n",
    "if a>b :\n",
    "    big = a;    small = b\n",
    "else:\n",
    "    big = b;    small = a\n",
    "print(f'큰수: {big}, 작은수:{small}')\n",
    "\n",
    "while True:\n",
    "    r=big%small\n",
    "    if r==0:\n",
    "        break\n",
    "    else:\n",
    "        big = small\n",
    "        small = r\n",
    "print('최대공약수: {}, 최소공배수 :{}'.format(small, a*b//small))\n",
    "print(f'최대공약수: {small}, 최소공배수 :{a*b//small}')"
   ]
  },
  {
   "cell_type": "code",
   "execution_count": null,
   "id": "a4b39bdf",
   "metadata": {},
   "outputs": [],
   "source": [
    "a, b = map(int, input('숫자 2개를 입력하세요: ').split())\n",
    "r = 1 # 나머지, 나머지가 0이 아니면 최대공약수를 계산하기 위해 사용하는 변수\n",
    "if a > b:\n",
    "    high = a; low = b\n",
    "else:\n",
    "    low = a; high = b\n",
    "print(f'큰수: {big}, 작은수: {small}')\n",
    "# 변수 r의 초기치가 1로 지정되었으므로 while의 최초 진입 조건이 참이되므로 r이 0보다 클동안 반복한다.\n",
    "while r > 0:\n",
    "    r = high % low # 큰수를 작은수로 나눈 나머지를 계산한다.\n",
    "    high = low\n",
    "    low = r\n",
    "# ===== r\n",
    "# 큰수를 작은수로 나눈 나머지가 0이 되면(최대공약수가 계산되면) 최소공배수를 계산하고 출력한다.\n",
    "l = int(a * b / high)\n",
    "print('최대공약수: {}, 최소공배수: {}'.format(small, l))"
   ]
  },
  {
   "cell_type": "code",
   "execution_count": null,
   "id": "972404fe",
   "metadata": {},
   "outputs": [],
   "source": []
  },
  {
   "cell_type": "code",
   "execution_count": null,
   "id": "6429624e",
   "metadata": {},
   "outputs": [],
   "source": []
  },
  {
   "cell_type": "code",
   "execution_count": null,
   "id": "75546701",
   "metadata": {},
   "outputs": [],
   "source": []
  },
  {
   "cell_type": "code",
   "execution_count": null,
   "id": "1d887a28",
   "metadata": {},
   "outputs": [],
   "source": []
  },
  {
   "cell_type": "code",
   "execution_count": null,
   "id": "93b05795",
   "metadata": {},
   "outputs": [],
   "source": []
  },
  {
   "cell_type": "code",
   "execution_count": null,
   "id": "9bf5078e",
   "metadata": {},
   "outputs": [],
   "source": []
  },
  {
   "cell_type": "code",
   "execution_count": null,
   "id": "5d304b4a",
   "metadata": {},
   "outputs": [],
   "source": []
  },
  {
   "cell_type": "code",
   "execution_count": null,
   "id": "4b0f263c",
   "metadata": {},
   "outputs": [],
   "source": []
  },
  {
   "cell_type": "code",
   "execution_count": null,
   "id": "8ec3400a",
   "metadata": {},
   "outputs": [],
   "source": []
  },
  {
   "cell_type": "code",
   "execution_count": null,
   "id": "d75e30ed",
   "metadata": {},
   "outputs": [],
   "source": []
  },
  {
   "cell_type": "code",
   "execution_count": null,
   "id": "c865425e",
   "metadata": {},
   "outputs": [],
   "source": []
  }
 ],
 "metadata": {
  "kernelspec": {
   "display_name": "Python 3",
   "language": "python",
   "name": "python3"
  },
  "language_info": {
   "codemirror_mode": {
    "name": "ipython",
    "version": 3
   },
   "file_extension": ".py",
   "mimetype": "text/x-python",
   "name": "python",
   "nbconvert_exporter": "python",
   "pygments_lexer": "ipython3",
   "version": "3.6.8"
  }
 },
 "nbformat": 4,
 "nbformat_minor": 5
}
