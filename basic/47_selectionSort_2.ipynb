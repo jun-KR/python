{
 "cells": [
  {
   "cell_type": "code",
   "execution_count": null,
   "id": "adbacfc4",
   "metadata": {},
   "outputs": [],
   "source": [
    "from lib.selectionSort import *"
   ]
  },
  {
   "cell_type": "code",
   "execution_count": null,
   "id": "c1e567c1",
   "metadata": {},
   "outputs": [],
   "source": [
    "# data = []\n",
    "while True:\n",
    "    n = int(input('정렬할 데이터 입력: '))\n",
    "    # 999가 입력되면 무한 루프를 탈출하고 데이터를 정렬한다.\n",
    "    if n == 999:\n",
    "        break\n",
    "    # ===== if\n",
    "    data.append(n)\n",
    "# ===== while\n",
    "print('입력한 데이터: {}'.format(data))\n",
    "\n",
    "result = selectionSortAsc(data)\n",
    "print('오름차순 정렬 결과: {}'.format(result))\n",
    "result = selectionSortDesc(data)\n",
    "print('내림차순 정렬 결과: {}'.format(result))"
   ]
  },
  {
   "cell_type": "code",
   "execution_count": null,
   "id": "620af404",
   "metadata": {},
   "outputs": [],
   "source": [
    "data = []\n",
    "n = 0\n",
    "while n != 999:\n",
    "    n = int(input('정렬할 데이터 입력: '))\n",
    "    data.append(n)\n",
    "# ===== while\n",
    "print('입력한 데이터: {}'.format(data))\n",
    "\n",
    "# result = selectionSortAsc(data[:len(data) - 1])\n",
    "result = selectionSortAsc(data[:-1])\n",
    "print('오름차순 정렬 결과: {}'.format(result))\n",
    "\n",
    "# del data[len(data) - 1]\n",
    "# del data[-1]\n",
    "# data.remove(999)\n",
    "data.pop()\n",
    "print('입력한 데이터에서 마지막 데이터 제거한 데이터: {}'.format(data))\n",
    "\n",
    "result = selectionSortDesc(data)\n",
    "print('내림차순 정렬 결과: {}'.format(result))"
   ]
  },
  {
   "cell_type": "code",
   "execution_count": 5,
   "id": "bef289cf",
   "metadata": {},
   "outputs": [
    {
     "name": "stdout",
     "output_type": "stream",
     "text": [
      "정렬 결과: [1, 3, 4, 8, 9]\n"
     ]
    }
   ],
   "source": [
    "data = [8,3,4,9,1]\n",
    "for i in range(len(data)-1):\n",
    "    min_index =i\n",
    "    for j in range(i+1, len(data)):\n",
    "        if data[min_index]>data[j]:\n",
    "            min_index =j\n",
    "    data[i], data[min_index] = data[min_index], data[i]\n",
    "    \n",
    "result = data\n",
    "print('정렬 결과: {}'.format(result))"
   ]
  },
  {
   "cell_type": "code",
   "execution_count": 14,
   "id": "80100637",
   "metadata": {},
   "outputs": [
    {
     "name": "stdout",
     "output_type": "stream",
     "text": [
      "5.323800086975098\n"
     ]
    }
   ],
   "source": [
    "from random import randint\n",
    "import time\n",
    "\n",
    "data = []\n",
    "for i in range(10000):\n",
    "    data.append(randint(1,100))\n",
    "# print('정렬 전 결과: {}'.format(data))   \n",
    "\n",
    "start = time.time()\n",
    "\n",
    "for i in range(len(data)-1):\n",
    "    min_index =i\n",
    "    for j in range(i+1, len(data)):\n",
    "        if data[min_index]>data[j]:\n",
    "            min_index =j\n",
    "    data[i], data[min_index] = data[min_index], data[i]\n",
    "end=time.time()\n",
    "result = data\n",
    "# print('정렬 결과: {}'.format(result))\n",
    "print(end-start)"
   ]
  }
 ],
 "metadata": {
  "kernelspec": {
   "display_name": "Python 3",
   "language": "python",
   "name": "python3"
  },
  "language_info": {
   "codemirror_mode": {
    "name": "ipython",
    "version": 3
   },
   "file_extension": ".py",
   "mimetype": "text/x-python",
   "name": "python",
   "nbconvert_exporter": "python",
   "pygments_lexer": "ipython3",
   "version": "3.6.8"
  }
 },
 "nbformat": 4,
 "nbformat_minor": 5
}
