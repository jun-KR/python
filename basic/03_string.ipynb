{
 "cells": [
  {
   "cell_type": "code",
   "execution_count": 3,
   "id": "0c30c674",
   "metadata": {},
   "outputs": [
    {
     "name": "stdout",
     "output_type": "stream",
     "text": [
      "Hello\n",
      "World\n"
     ]
    }
   ],
   "source": [
    "memo = 'Hello\\nWorld'\n",
    "print(memo)"
   ]
  },
  {
   "cell_type": "code",
   "execution_count": 6,
   "id": "f6228077",
   "metadata": {},
   "outputs": [
    {
     "name": "stdout",
     "output_type": "stream",
     "text": [
      "개울가에\n",
      "올ㅇ챙이\n",
      "한마리\n",
      "꼬\n",
      "물\n",
      "꼬물\n"
     ]
    }
   ],
   "source": [
    "# 큰따옴표 3개 연속 사용하면 \\n 사용 안해도 돼\n",
    "memo=\"\"\"개울가에\n",
    "올ㅇ챙이\n",
    "한마리\n",
    "꼬\n",
    "물\n",
    "꼬물\"\"\"\n",
    "print(memo)"
   ]
  },
  {
   "cell_type": "markdown",
   "id": "ec0b7cb3",
   "metadata": {},
   "source": [
    "인덱싱 슬라이싱(substring)"
   ]
  },
  {
   "cell_type": "code",
   "execution_count": 10,
   "id": "74374568",
   "metadata": {},
   "outputs": [
    {
     "name": "stdout",
     "output_type": "stream",
     "text": [
      "we are the champions, my friend\n",
      "w\n",
      "c\n",
      "31\n",
      "d\n"
     ]
    }
   ],
   "source": [
    "# 인덱싱\n",
    "string = 'we are the champions, my friend'\n",
    "print(string)\n",
    "print(string[0])\n",
    "print(string[11])\n",
    "# len() \n",
    "print(len(string))\n",
    "# 음수 인덱싱 : 맨 뒤부터 인덱싱\n",
    "print((string[-1]))"
   ]
  },
  {
   "cell_type": "code",
   "execution_count": 16,
   "id": "8387938e",
   "metadata": {},
   "outputs": [
    {
     "name": "stdout",
     "output_type": "stream",
     "text": [
      "we are the champions, my friend\n",
      "we\n",
      "champions, my friend\n",
      "we are the \n",
      "my frien\n",
      "w r h hmin,m red\n",
      "dneirf ym ,snoipmahc eht era ew\n"
     ]
    }
   ],
   "source": [
    "# 슬라이싱\n",
    "string = 'we are the champions, my friend'\n",
    "print(string)\n",
    "# 슬라이싱 범위는 [시작인덱스:끝인덱스]\n",
    "print(string[0:2])\n",
    "# 생략하면 끝까지\n",
    "print(string[11:])\n",
    "print(string[:11])\n",
    "print(string[22:-1])\n",
    "# [시작인덱스:끝인덱스:증가치]\n",
    "print(string[::2])\n",
    "print(string[::-1]) # 증가치를 -1 하면 역순으로."
   ]
  },
  {
   "cell_type": "code",
   "execution_count": 18,
   "id": "53abbd61",
   "metadata": {},
   "outputs": [
    {
     "name": "stdout",
     "output_type": "stream",
     "text": [
      "02468\n"
     ]
    }
   ],
   "source": [
    "string = '0123456789'\n",
    "print(string[::2])#짝수인덱싱\n"
   ]
  },
  {
   "cell_type": "code",
   "execution_count": null,
   "id": "5c62ceac",
   "metadata": {},
   "outputs": [],
   "source": []
  }
 ],
 "metadata": {
  "kernelspec": {
   "display_name": "Python 3",
   "language": "python",
   "name": "python3"
  },
  "language_info": {
   "codemirror_mode": {
    "name": "ipython",
    "version": 3
   },
   "file_extension": ".py",
   "mimetype": "text/x-python",
   "name": "python",
   "nbconvert_exporter": "python",
   "pygments_lexer": "ipython3",
   "version": "3.6.8"
  }
 },
 "nbformat": 4,
 "nbformat_minor": 5
}
