{
 "cells": [
  {
   "cell_type": "code",
   "execution_count": 16,
   "id": "974aeece",
   "metadata": {},
   "outputs": [
    {
     "name": "stdout",
     "output_type": "stream",
     "text": [
      "<class 'list'>\n",
      "['james', 17, 175.3, True]\n",
      "[['james', 17], [175.3, True]]\n",
      "175.3\n"
     ]
    }
   ],
   "source": [
    "# 리스트\n",
    "a=[]\n",
    "print(type(a))\n",
    "\n",
    "b= list()\n",
    "\n",
    "person = ['james', 17, 175.3, True]\n",
    "print(person)\n",
    "person = [['james', 17], [175.3, True]]\n",
    "print(person)\n",
    "print(person[-1][0]) # 2차원 인덱싱"
   ]
  },
  {
   "cell_type": "markdown",
   "id": "7644d1de",
   "metadata": {},
   "source": [
    "!pip install numpy\n",
    "\n",
    "numpy : 배열 처리에 특화된 라이브러리"
   ]
  },
  {
   "cell_type": "code",
   "execution_count": 8,
   "id": "9c033f6e",
   "metadata": {},
   "outputs": [],
   "source": [
    "import numpy as np"
   ]
  },
  {
   "cell_type": "code",
   "execution_count": 13,
   "id": "ec88e792",
   "metadata": {},
   "outputs": [
    {
     "name": "stdout",
     "output_type": "stream",
     "text": [
      "<class 'numpy.ndarray'>\n",
      "[['james' '17']\n",
      " ['175.3' 'True']]\n"
     ]
    }
   ],
   "source": [
    "array = np.array(person)\n",
    "print(type(array))\n",
    "print(array)"
   ]
  },
  {
   "cell_type": "markdown",
   "id": "ff6e9d98",
   "metadata": {},
   "source": [
    "리스트 슬라이싱"
   ]
  },
  {
   "cell_type": "code",
   "execution_count": 20,
   "id": "27972dea",
   "metadata": {},
   "outputs": [
    {
     "name": "stdout",
     "output_type": "stream",
     "text": [
      "[1, 3, 5]\n",
      "[1, 2]\n",
      "[5, 4, 3, 2, 1]\n"
     ]
    }
   ],
   "source": [
    "a = [1,2,3,4,5]\n",
    "print(a[::2])\n",
    "print(a[:2])\n",
    "print(a[::-1])"
   ]
  },
  {
   "cell_type": "markdown",
   "id": "6eeed66a",
   "metadata": {},
   "source": [
    "리스트 연산자  \n",
    "'+' : 두개의 리스트 연결  \n",
    "'*' : 반복"
   ]
  },
  {
   "cell_type": "code",
   "execution_count": 23,
   "id": "3a964b08",
   "metadata": {},
   "outputs": [
    {
     "name": "stdout",
     "output_type": "stream",
     "text": [
      "[1, 2, 3, 4, 5, 6, 7, 8]\n",
      "[1, 2, 3, 4, 5, 1, 2, 3, 4, 5, 1, 2, 3, 4, 5]\n"
     ]
    }
   ],
   "source": [
    "a = [1,2,3,4,5]\n",
    "b = [6,7,8]\n",
    "print(a+b)\n",
    "print(a*3)"
   ]
  },
  {
   "cell_type": "code",
   "execution_count": 25,
   "id": "4466bb5a",
   "metadata": {},
   "outputs": [
    {
     "name": "stdout",
     "output_type": "stream",
     "text": [
      "abcde\n",
      "c\n"
     ]
    }
   ],
   "source": [
    "string = 'abcde'\n",
    "print(string)\n",
    "print(string[2]) # 문자열도 인덱싱 가능\n"
   ]
  },
  {
   "cell_type": "code",
   "execution_count": 34,
   "id": "80a9a9a7",
   "metadata": {},
   "outputs": [
    {
     "name": "stdout",
     "output_type": "stream",
     "text": [
      "[1, 4, 3, 4, 5]\n",
      "[1, 3, 4, 5]\n",
      "[1, 5]\n",
      "[]\n"
     ]
    },
    {
     "ename": "NameError",
     "evalue": "name 'b' is not defined",
     "output_type": "error",
     "traceback": [
      "\u001b[1;31m---------------------------------------------------------------------------\u001b[0m",
      "\u001b[1;31mNameError\u001b[0m                                 Traceback (most recent call last)",
      "\u001b[1;32m<ipython-input-34-669dde9b7c83>\u001b[0m in \u001b[0;36m<module>\u001b[1;34m\u001b[0m\n\u001b[0;32m     17\u001b[0m \u001b[1;31m# del b : 리스트 자체 삭제\u001b[0m\u001b[1;33m\u001b[0m\u001b[1;33m\u001b[0m\u001b[1;33m\u001b[0m\u001b[0m\n\u001b[0;32m     18\u001b[0m \u001b[1;32mdel\u001b[0m \u001b[0mb\u001b[0m\u001b[1;33m\u001b[0m\u001b[1;33m\u001b[0m\u001b[0m\n\u001b[1;32m---> 19\u001b[1;33m \u001b[0mprint\u001b[0m\u001b[1;33m(\u001b[0m\u001b[0mb\u001b[0m\u001b[1;33m)\u001b[0m\u001b[1;33m\u001b[0m\u001b[1;33m\u001b[0m\u001b[0m\n\u001b[0m",
      "\u001b[1;31mNameError\u001b[0m: name 'b' is not defined"
     ]
    }
   ],
   "source": [
    "a = [1,2,3,4,5]\n",
    "a[1]=4 # 인덱스 수정\n",
    "print(a)\n",
    "\n",
    "b = [1,2,3,4,5]\n",
    "del b [1]\n",
    "print(b)\n",
    "\n",
    "# del 슬라이싱 \n",
    "del b[1:3]\n",
    "print(b)\n",
    "\n",
    "# clear 메소드 \n",
    "b.clear() \n",
    "print(b)\n",
    "\n",
    "# del b : 리스트 자체 삭제\n",
    "del b\n",
    "print(b)"
   ]
  },
  {
   "cell_type": "code",
   "execution_count": 42,
   "id": "8dc4f1b8",
   "metadata": {},
   "outputs": [
    {
     "name": "stdout",
     "output_type": "stream",
     "text": [
      "[1, 10, 2, 3]\n",
      "[1, 2, 3, 5]\n",
      "None\n",
      "[1, 2, 3, 5, 22]\n"
     ]
    }
   ],
   "source": [
    "# insert() : 리스트의 특정 위치에 요소 삽입\n",
    "\n",
    "test1 = [1,2,3]\n",
    "test1.insert(1, 10)   # 두 번째위치에 10 삽입\n",
    "print(test1)\n",
    "# append() : 리스트 끝에 요소 삽입\n",
    "\n",
    "test1 = [1,2,3]\n",
    "test1.append(5)\n",
    "print(test1)\n",
    "\n",
    "print(test1.insert(len(test1),22))\n",
    "print(test1)\n"
   ]
  },
  {
   "cell_type": "code",
   "execution_count": 45,
   "id": "c03426c5",
   "metadata": {},
   "outputs": [
    {
     "name": "stdout",
     "output_type": "stream",
     "text": [
      "[1, 2, 3, 4, 5, 6, 7, 8, 9, 10]\n",
      "[10, 9, 8, 7, 6, 5, 4, 3, 2, 1]\n",
      "[1, 2, 3, 4, 5, 6, 7, 8, 9, 10]\n"
     ]
    }
   ],
   "source": [
    "# sort() : 정렬\n",
    "\n",
    "test1 = [8,1,7,2,6,3,10,4,9,5]\n",
    "test1.sort()      # default 오름차순 정렬 \n",
    "print(test1)\n",
    "\n",
    "\n",
    "test1 = [8,1,7,2,6,3,10,4,9,5]\n",
    "\n",
    "test1.sort(reverse = True)    # 내림차순 정렬 \n",
    "\n",
    "print(test1)\n",
    "\n",
    "# sorted() 함수: 정렬된 리스트를 새로운 리스트에 복사 (기존 리스트는 그대로.)\n",
    "\n",
    "test1 = [8,1,7,2,6,3,10,4,9,5]\n",
    "\n",
    "test2 = sorted(test1)\n",
    "\n",
    "print(test2)"
   ]
  },
  {
   "cell_type": "code",
   "execution_count": 60,
   "id": "ad035b43",
   "metadata": {},
   "outputs": [
    {
     "name": "stdout",
     "output_type": "stream",
     "text": [
      "[1, 3, 2, 2]\n",
      "2\n",
      "[1]\n",
      "a=3, b=4\n",
      "a=4, b=3\n",
      "a=3, b=4\n",
      "a=4, b=3\n",
      "a=3, b=4\n"
     ]
    }
   ],
   "source": [
    "# remove() : 리스트의 특정 요소 삭제\n",
    "\n",
    "test1 = [1,2,3,2,2]\n",
    "\n",
    "test1.remove(2) # 앞에거 먼저 지워짐\n",
    "\n",
    "print(test1)\n",
    "\n",
    "# pop() : 리스트의 마지막 요소 출력 후 삭제\n",
    "\n",
    "test1 = [1,2,3]\n",
    "\n",
    "test1.pop()\n",
    "print(test1.pop())\n",
    "print(test1)\n",
    "\n",
    "a=3\n",
    "b=4\n",
    "print(f'a={a}, b={b}')\n",
    "temp=a\n",
    "a=b\n",
    "b=temp\n",
    "print(f'a={a}, b={b}')\n",
    "\n",
    "# 리스트\n",
    "[a,b]=[b,a]\n",
    "print(f'a={a}, b={b}')\n",
    "\n",
    "# 튜플\n",
    "(a,b)=(b,a)\n",
    "print(f'a={a}, b={b}')\n",
    "a,b=b,a\n",
    "print(f'a={a}, b={b}')"
   ]
  }
 ],
 "metadata": {
  "kernelspec": {
   "display_name": "Python 3",
   "language": "python",
   "name": "python3"
  },
  "language_info": {
   "codemirror_mode": {
    "name": "ipython",
    "version": 3
   },
   "file_extension": ".py",
   "mimetype": "text/x-python",
   "name": "python",
   "nbconvert_exporter": "python",
   "pygments_lexer": "ipython3",
   "version": "3.6.8"
  }
 },
 "nbformat": 4,
 "nbformat_minor": 5
}
