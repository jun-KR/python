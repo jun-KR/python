{
 "cells": [
  {
   "cell_type": "markdown",
   "id": "1692dc5b",
   "metadata": {},
   "source": [
    "선택 정렬 => (i)의 데이터를 (j) 데이터와 비교하며 정렬한다.  \n",
    "버블 정렬 => 인접한 데이터(j, j + 1)를 비교하며 정렬한다.  \n",
    "데이터가 n개일 경우 회전수는 n - 1번이 된다..  "
   ]
  },
  {
   "cell_type": "code",
   "execution_count": 2,
   "id": "79b45271",
   "metadata": {},
   "outputs": [
    {
     "name": "stdout",
     "output_type": "stream",
     "text": [
      "[i = 0, j = 0] [i = 0, j = 1] [i = 0, j = 2] [i = 0, j = 3] \n",
      "[i = 1, j = 0] [i = 1, j = 1] [i = 1, j = 2] \n",
      "[i = 2, j = 0] [i = 2, j = 1] \n",
      "[i = 3, j = 0] \n"
     ]
    }
   ],
   "source": [
    "n = 5\n",
    "for i in range(n - 1): # i : 0~3. 회전수\n",
    "    for j in range(n - 1 - i): # j : 4-i 얘가 중요.\n",
    "        print('[i = {}, j = {}]'.format(i, j), end=' ')\n",
    "    print()"
   ]
  },
  {
   "cell_type": "code",
   "execution_count": 9,
   "id": "005165bd",
   "metadata": {},
   "outputs": [
    {
     "name": "stdout",
     "output_type": "stream",
     "text": [
      "0\n",
      "1\n",
      "2\n",
      "3\n"
     ]
    }
   ],
   "source": [
    "for i in range (4):\n",
    "    print(i)\n"
   ]
  },
  {
   "cell_type": "code",
   "execution_count": 14,
   "id": "d819cb13",
   "metadata": {},
   "outputs": [
    {
     "name": "stdout",
     "output_type": "stream",
     "text": [
      "1 회전 결과: [1, 3, 4, 8, 9]\n",
      "2 회전 결과: [1, 3, 4, 8, 9]\n",
      "3 회전 결과: [1, 3, 4, 8, 9]\n",
      "4 회전 결과: [1, 3, 4, 8, 9]\n"
     ]
    }
   ],
   "source": [
    "# data = [8, 3, 4, 9, 1]\n",
    "data = [9, 1, 3, 4, 8]\n",
    "for i in range(len(data) - 1): # 0~3 회전수\n",
    "    for j in range(len(data) - 1 - i): # 0~ 3-i 얘네가 값교환하는 인덱스.\n",
    "        # (j번째)의 데이터가 (j + 1번째)의 데이터보다 크면 교환한다.\n",
    "        # 부등호를 '>'에서 '<'로 변경하면 내림차순으로 정렬된다.\n",
    "        if data[j] > data[j + 1]:\n",
    "            data[j], data[j + 1] = data[j + 1], data[j]\n",
    "        # ===== if\n",
    "    # ===== for j => 회전 종료\n",
    "    print('{} 회전 결과: {}'.format(i + 1, data))\n",
    "# ===== for i => 정렬 종료\n",
    "# print('정렬 결과: {}'.format(data))"
   ]
  },
  {
   "cell_type": "code",
   "execution_count": null,
   "id": "23fdef77",
   "metadata": {},
   "outputs": [],
   "source": []
  },
  {
   "cell_type": "code",
   "execution_count": null,
   "id": "eef9a6cb",
   "metadata": {},
   "outputs": [],
   "source": []
  },
  {
   "cell_type": "code",
   "execution_count": null,
   "id": "6b53d819",
   "metadata": {},
   "outputs": [],
   "source": []
  },
  {
   "cell_type": "code",
   "execution_count": null,
   "id": "5eb379e0",
   "metadata": {},
   "outputs": [],
   "source": []
  },
  {
   "cell_type": "code",
   "execution_count": null,
   "id": "d8534ae0",
   "metadata": {},
   "outputs": [],
   "source": []
  },
  {
   "cell_type": "code",
   "execution_count": null,
   "id": "648bd7ee",
   "metadata": {},
   "outputs": [],
   "source": []
  },
  {
   "cell_type": "code",
   "execution_count": null,
   "id": "2399b50a",
   "metadata": {},
   "outputs": [],
   "source": []
  },
  {
   "cell_type": "code",
   "execution_count": null,
   "id": "06f41855",
   "metadata": {},
   "outputs": [],
   "source": []
  },
  {
   "cell_type": "code",
   "execution_count": null,
   "id": "eca320e7",
   "metadata": {},
   "outputs": [],
   "source": []
  }
 ],
 "metadata": {
  "kernelspec": {
   "display_name": "Python 3",
   "language": "python",
   "name": "python3"
  },
  "language_info": {
   "codemirror_mode": {
    "name": "ipython",
    "version": 3
   },
   "file_extension": ".py",
   "mimetype": "text/x-python",
   "name": "python",
   "nbconvert_exporter": "python",
   "pygments_lexer": "ipython3",
   "version": "3.6.8"
  }
 },
 "nbformat": 4,
 "nbformat_minor": 5
}
