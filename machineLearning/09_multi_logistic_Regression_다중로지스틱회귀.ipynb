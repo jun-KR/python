{
 "cells": [
  {
   "cell_type": "code",
   "execution_count": 1,
   "id": "21d40ac5",
   "metadata": {},
   "outputs": [
    {
     "name": "stdout",
     "output_type": "stream",
     "text": [
      "WARNING:tensorflow:From c:\\python\\lib\\site-packages\\tensorflow\\python\\compat\\v2_compat.py:101: disable_resource_variables (from tensorflow.python.ops.variable_scope) is deprecated and will be removed in a future version.\n",
      "Instructions for updating:\n",
      "non-resource variables are not supported in the long term\n"
     ]
    }
   ],
   "source": [
    "import warnings\n",
    "warnings.filterwarnings(action='ignore')\n",
    "%config Completer.use_jedi = False\n",
    "import tensorflow.compat.v1 as tf\n",
    "tf.disable_v2_behavior()\n",
    "import numpy as np\n",
    "import pandas as pd"
   ]
  },
  {
   "cell_type": "markdown",
   "id": "4b7f9c1f",
   "metadata": {},
   "source": [
    "학습 데이터를 만든다."
   ]
  },
  {
   "cell_type": "code",
   "execution_count": 3,
   "id": "9647e21d",
   "metadata": {},
   "outputs": [
    {
     "name": "stdout",
     "output_type": "stream",
     "text": [
      "[[2, 3], [4, 3], [6, 4], [8, 6], [10, 7], [12, 8], [14, 9]]\n",
      "<class 'list'>\n",
      "[[ 2  3]\n",
      " [ 4  3]\n",
      " [ 6  4]\n",
      " [ 8  6]\n",
      " [10  7]\n",
      " [12  8]\n",
      " [14  9]]\n",
      "<class 'numpy.ndarray'>\n"
     ]
    }
   ],
   "source": [
    "# xData => [공부시간, 과외시간]\n",
    "temp = [[2, 3], [4, 3], [6, 4], [8, 6], [10, 7], [12, 8], [14, 9]] # 7행 2열\n",
    "print(temp)\n",
    "print(type(temp))\n",
    "\n",
    "xData = np.array(temp)\n",
    "print(xData)\n",
    "print(type(xData))"
   ]
  },
  {
   "cell_type": "code",
   "execution_count": 4,
   "id": "1319b383",
   "metadata": {},
   "outputs": [
    {
     "name": "stdout",
     "output_type": "stream",
     "text": [
      "[0, 0, 0, 1, 1, 1, 1]\n",
      "<class 'list'>\n",
      "[0 0 0 1 1 1 1]\n",
      "<class 'numpy.ndarray'>\n",
      "[[0]\n",
      " [0]\n",
      " [0]\n",
      " [1]\n",
      " [1]\n",
      " [1]\n",
      " [1]]\n",
      "<class 'numpy.ndarray'>\n"
     ]
    }
   ],
   "source": [
    "# yData => [합격여부] => 실제값\n",
    "temp = [0, 0, 0, 1, 1, 1, 1] # 1행 7열\n",
    "print(temp)\n",
    "print(type(temp))\n",
    "\n",
    "yData = np.array(temp)\n",
    "print(yData)\n",
    "print(type(yData))\n",
    "\n",
    "# reshape(): numpy에서 데이터는 그대로 유지한채 배열의 형태(차원)을 변경한다.\n",
    "# 1행 7열 numpy 배열 => 7행 1열 numpy 배열\n",
    "yData = np.array(temp).reshape(7, 1)\n",
    "print(yData)\n",
    "print(type(yData))"
   ]
  },
  {
   "cell_type": "markdown",
   "id": "31e06b2e",
   "metadata": {},
   "source": [
    "xData와 yData를 저장할 placeholder를 만든다."
   ]
  },
  {
   "cell_type": "code",
   "execution_count": 5,
   "id": "390f5efc",
   "metadata": {},
   "outputs": [],
   "source": [
    "# placeholder에 넘파이 배열을 대입하는 경우 shape 속성으로 대입되는 배열의 차원을 지정해야 한다.\n",
    "# [None, 2] => 행의 개수는 상관없고 열의 개수는 2개.\n",
    "X = tf.placeholder(dtype=tf.float32, shape=[None, 2]) # xData가 대입될 placeholder\n",
    "Y = tf.placeholder(dtype=tf.float32, shape=[None, 1]) # yData"
   ]
  },
  {
   "cell_type": "markdown",
   "id": "8fde74d1",
   "metadata": {},
   "source": [
    "가중치와 a와 y절편 b를 임의의 값으로 정한다.\n",
    "\n"
   ]
  },
  {
   "cell_type": "code",
   "execution_count": 6,
   "id": "53458cf3",
   "metadata": {},
   "outputs": [
    {
     "name": "stdout",
     "output_type": "stream",
     "text": [
      "a1: 0.006021, a2: 0.382725, b: 0.676602\n",
      "a\n",
      "[[0.00602067]\n",
      " [0.38272452]]\n",
      "b\n",
      "[0.67660236]\n"
     ]
    }
   ],
   "source": [
    "a = tf.Variable(tf.random_uniform([2, 1]), dtype=tf.float32) # 난수를 2행 1열로 발생시킨다.\n",
    "b = tf.Variable(tf.random_uniform([1]), dtype=tf.float32)\n",
    "sess = tf.Session()\n",
    "sess.run(tf.global_variables_initializer())\n",
    "print('a1: {:f}, a2: {:f}, b: {:f}'.format(sess.run(a)[0][0], sess.run(a)[1][0], sess.run(b)[0]))\n",
    "print('a\\n', sess.run(a), sep='')\n",
    "print('b\\n', sess.run(b), sep='')"
   ]
  },
  {
   "cell_type": "markdown",
   "id": "60182ccc",
   "metadata": {},
   "source": [
    "시그모이드 방정식, 오차 함수, 경사 하강법"
   ]
  },
  {
   "cell_type": "code",
   "execution_count": 7,
   "id": "494ce4b9",
   "metadata": {},
   "outputs": [],
   "source": [
    "# sigmoid(): 시그모이드 방정식.\n",
    "# matmul(): 행렬의 곱(적)을 계산한다. matrix multiply \n",
    "y = tf.sigmoid(tf.matmul(X, a) + b) # 시그모이드 방정식. y=예측값.\n",
    "loss = -tf.reduce_mean(Y * tf.log(y) + (1 - Y) * tf.log(1 - y)) # 오차 함수\n",
    "gradient_descent = tf.train.GradientDescentOptimizer(0.1).minimize(loss) # 경사 하강법"
   ]
  },
  {
   "cell_type": "markdown",
   "id": "0d043a01",
   "metadata": {},
   "source": [
    "sigmoid() 함수의 실행 결과(y)가 0.5 이상이면 1을 0.5 미만이면 -1을 리턴시킨다."
   ]
  },
  {
   "cell_type": "code",
   "execution_count": 9,
   "id": "e88772a3",
   "metadata": {},
   "outputs": [
    {
     "name": "stdout",
     "output_type": "stream",
     "text": [
      "[0 1]\n"
     ]
    }
   ],
   "source": [
    "sess = tf.Session()\n",
    "# cast(x, dtype): x에 저장된 데이터를 dtype으로 형변환한다.\n",
    "# predict = tf.cast(tf.constant([1.9, 2.1]), dtype=tf.int32)\n",
    "# print(sess.run(predict)) # [1 2]\n",
    "# cast() 함수는 캐스팅할 데이터가 boolean 타입이면 True는 1로 False는 0으로 형변환한다.\n",
    "# predict = tf.cast([True, False], dtype=tf.int32)\n",
    "# print(sess.run(predict)) # [1 0]\n",
    "predict = tf.cast([0.4 >= 0.5, 0.5 >= 0.5], dtype=tf.int32)\n",
    "print(sess.run(predict))"
   ]
  },
  {
   "cell_type": "markdown",
   "id": "c23b2788",
   "metadata": {},
   "source": [
    "sigmoid() 함수를 실행한 예상값(0 또는 1)을 계산한다.\n",
    "\n"
   ]
  },
  {
   "cell_type": "code",
   "execution_count": 12,
   "id": "3ef0e1bf",
   "metadata": {},
   "outputs": [
    {
     "name": "stdout",
     "output_type": "stream",
     "text": [
      "Tensor(\"Cast_3:0\", shape=(?, 1), dtype=float32)\n"
     ]
    }
   ],
   "source": [
    "predict = tf.cast(y >= 0.5, dtype=tf.float32) # 예측값, T/F를 int로 형변환.\n",
    "print(predict)"
   ]
  },
  {
   "cell_type": "markdown",
   "id": "e7a0c3ba",
   "metadata": {},
   "source": [
    "예측값(predict)과 실제값(Y)이 일치하는 정도(정확도, accuracy)를 계산한다."
   ]
  },
  {
   "cell_type": "code",
   "execution_count": 14,
   "id": "54f94ab6",
   "metadata": {},
   "outputs": [
    {
     "name": "stdout",
     "output_type": "stream",
     "text": [
      "True False\n"
     ]
    }
   ],
   "source": [
    "sess = tf.Session()\n",
    "# equal(): 인수로 지정한 값이 같으면 True, 다르면 False를 리턴한다.\n",
    "print(sess.run(tf.equal(1, 1)), sess.run(tf.equal(1, 0))) # True False\n",
    "# 정확도 : 예측값과 실제값 비교 후 T/F를 1/0으로 캐스팅하고 평균을 계산한다.\n",
    "accuracy = tf.reduce_mean(tf.cast(tf.equal(predict, Y), dtype=tf.int32)) # 예측값 vs 실제값\n"
   ]
  },
  {
   "cell_type": "code",
   "execution_count": 16,
   "id": "4a297a92",
   "metadata": {},
   "outputs": [
    {
     "name": "stdout",
     "output_type": "stream",
     "text": [
      "epoch:     0, a1:   0.73069, a2:   0.05220, b:   0.41530, loss:   2.02282\n",
      "epoch:   300, a1:   0.89405, a2:  -0.68295, b:  -2.33077, loss:   0.27338\n",
      "epoch:   600, a1:   0.86912, a2:  -0.37482, b:  -3.80911, loss:   0.19621\n",
      "epoch:   900, a1:   0.76776, a2:  -0.02915, b:  -4.88495, loss:   0.15302\n",
      "epoch:  1200, a1:   0.65684, a2:   0.28933, b:  -5.73656, loss:   0.12494\n",
      "epoch:  1500, a1:   0.55276, a2:   0.57124, b:  -6.44247, loss:   0.10526\n",
      "epoch:  1800, a1:   0.45947, a2:   0.81877, b:  -7.04562, loss:   0.09076\n",
      "epoch:  2100, a1:   0.37707, a2:   1.03654, b:  -7.57227, loss:   0.07969\n",
      "epoch:  2400, a1:   0.30453, a2:   1.22925, b:  -8.03974, loss:   0.07098\n",
      "epoch:  2700, a1:   0.24051, a2:   1.40098, b:  -8.46007, loss:   0.06396\n",
      "epoch:  3000, a1:   0.18374, a2:   1.55517, b:  -8.84191, loss:   0.05819\n"
     ]
    }
   ],
   "source": [
    "# 학습시킨다.\n",
    "\n",
    "sess = tf.Session()\n",
    "sess.run(tf.global_variables_initializer())\n",
    "\n",
    "for epoch in range(3001):\n",
    "    # sess.run([실행할내용, ...], feed_dict={플레이스홀더 이름: 입력 데이터})\n",
    "    a_, b_, loss_, _ = sess.run([a, b, loss, gradient_descent], feed_dict={X: xData, Y: yData})\n",
    "    if epoch % 300 == 0:\n",
    "        print('epoch: {:5d}, a1: {:9.5f}, a2: {:9.5f}, b: {:9.5f}, loss: {:9.5f}'.format(epoch, a_[0][0], \n",
    "            a_[1][0], b_[0], loss_))"
   ]
  },
  {
   "cell_type": "code",
   "execution_count": null,
   "id": "c13b0e4d",
   "metadata": {},
   "outputs": [],
   "source": []
  }
 ],
 "metadata": {
  "kernelspec": {
   "display_name": "Python 3",
   "language": "python",
   "name": "python3"
  },
  "language_info": {
   "codemirror_mode": {
    "name": "ipython",
    "version": 3
   },
   "file_extension": ".py",
   "mimetype": "text/x-python",
   "name": "python",
   "nbconvert_exporter": "python",
   "pygments_lexer": "ipython3",
   "version": "3.6.8"
  }
 },
 "nbformat": 4,
 "nbformat_minor": 5
}
