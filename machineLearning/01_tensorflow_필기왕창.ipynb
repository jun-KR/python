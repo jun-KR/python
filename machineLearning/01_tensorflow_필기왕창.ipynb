{
 "cells": [
  {
   "cell_type": "code",
   "execution_count": 1,
   "id": "23fa25a5",
   "metadata": {},
   "outputs": [],
   "source": [
    "import warnings\n",
    "warnings.filterwarnings(action='ignore')\n",
    "%config Completer.use_jedi=False"
   ]
  },
  {
   "cell_type": "code",
   "execution_count": 4,
   "id": "d96936e1",
   "metadata": {},
   "outputs": [
    {
     "name": "stdout",
     "output_type": "stream",
     "text": [
      "WARNING:tensorflow:From c:\\python\\lib\\site-packages\\tensorflow\\python\\compat\\v2_compat.py:101: disable_resource_variables (from tensorflow.python.ops.variable_scope) is deprecated and will be removed in a future version.\n",
      "Instructions for updating:\n",
      "non-resource variables are not supported in the long term\n",
      "2.6.2\n"
     ]
    }
   ],
   "source": [
    "# !pip install tensorflow\n",
    "# import tensorflow as tf # 2버전\n",
    "import tensorflow.compat.v1 as tf # ver1 \n",
    "tf.disable_v2_behavior() # ver2 사용 안함\n",
    "print(tf.__version__)"
   ]
  },
  {
   "cell_type": "markdown",
   "id": "2862a420",
   "metadata": {},
   "source": [
    "텐서플로\n",
    "\n",
    "- 데이터 그래프를 수치적으로 연산하기 위해 구글에서 만든 오픈 소스 라이브러리\n",
    "\n",
    "- 딥러닝 프로그램을 쉽게 구현하도록 수치 계산과 대규모 머신러닝을 위함.\n",
    "\n",
    "\n",
    "텐서플로우(Tensoflow)란?\n",
    "\n",
    "- 텐서(Tensor) 다차원의 배열을 담고 있는 노드(Node)와 이를 다양한 연산으로 연결하고 있는 엣지(Edge)로 구성되어 있으며,  이러한 텐서들이 서로 연산을 통해 값을 주고 받는 흐름(Flow)으로 작동\n",
    "\n",
    "- 텐서플로우에서 계산은 데이터 흐름 그래프(DataFlow Graph)로 이루어 짐  \n",
    "- 텐서 형태의 데이터들이 딥러닝 모델을 구성하는 연산들의 그래프를 따라 흐르면서 연산  \n",
    "- 딥러닝에서 데이터를 의미하는 Tensor와 DataFlow Graph를 따라 연산이 수행되는 형태(Flow)를 합쳐 TensorFlow임  \n",
    "\n",
    "텐서(Tensor)란?\n",
    "- Tensor = Multidimensional Arrays = Data (고차원으로 확장한 다차원 배열, 데이터, 그래프(?)\n",
    "- Tensor는 딥러닝에서 데이터를 표현하는 방식\n",
    "- Tensor는 행렬로 표현할 수 있는 2차원 형태의 배열을 높은 차원으로 확장한 다차원 배열\n",
    "- ex1) 회색조(grayscale) 이미지는 하나의 채널(channel)에 2차원 행렬(배열)로 나타냄\n",
    "- ex2) RGB 이미지는 R, G, B 각 3개의 채널마다 2차원 행렬(배열)로 표현하는데, 이를 텐서(3차원의 값을 가지는 배열)로 표현\n",
    "\n",
    "\n",
    "딥러닝에서 데이터를 의미하는 Tensor와 데이터 플로 그래프를 따라 연산이 수행되는 형태를 합처 TensorFlow라고 하는 것이다. \n",
    "\n",
    "\n",
    "기능\n",
    "\n",
    "TensorFlow는 필기 숫자 판별 , 이미지 인식 , 단어 임베딩 , 반복 신경망 , 기계번역을 위한 시퀀스 투 시퀀스 모델 자연어 처리 , PDE(편미분방정식) 기반 시뮬레이션 등을 위한 신경망을 학습 , 실행할 수 있습니다. \n",
    "\n",
    "! 학습에 사용되는 것과 동일한 모델로 대규모 프로덕션예측을 지원\n",
    "\n",
    "TensorFlow에서는 케라스 똔는 TF-slim과 같은 추상화 라이브러리를 제공하여 저수준TensorFlow로 라이브러리에 대해 손쉽게 고수준 접근이 가능\n",
    "\n",
    "결론\n",
    "\n",
    "텐서플로는 현재 가장 인기있는 딥러닝 라이브러리 중 하나이고 , 텐서보드 및 케라스와 같은 추상화 라이브러리 그리고 사전에 학습된 모델들을 통해 사용자가 딥러닝을 사용하는데 편리하게 도와줄 수 있다"
   ]
  },
  {
   "cell_type": "markdown",
   "id": "4b8b3370",
   "metadata": {},
   "source": [
    "\n",
    "텐서플로우 관련 용어\n",
    "\n",
    "노드(Node)\n",
    "- 수학적인 연산 동작(Operation : + - * / )을 의미\n",
    "\n",
    "엣지(Edge)\n",
    "- 다차원 데이터 배열(텐서)을 의미\n",
    "- 일반 엣지는 입력값이 텐서이며 하나의 명령어에 대한 출력 값은 다른 명령어의 입력 값이 됨\n",
    "- 특수 엣지는 데이터의 연산 결과가 다른 에지의 입력값이 되지 않음. 두 노드 간의 제어 의존성을 정의\n",
    "\n",
    "오퍼레이션(Operation)\n",
    "- 그래프 상의 노드(연산)는 오퍼레이션(줄임말 op)으로 불림\n",
    "- 오퍼레이션은 하나 이상의 텐서를 받을 수 있음\n",
    "- 오퍼레이션은 연산을 수행하고, 결과를 하나 이상의 텐서로 반환할 수 있음\n",
    "\n",
    "텐서(Tensor)\n",
    "- 내부적으로 모든 데이터는 텐서를 통해 표현\n",
    "- 일종의 다차원 배열, 그래프 내의 오퍼레이션 간에는 텐서만이 전달\n",
    "\n",
    "세션(Session)\n",
    "- 그래프를 실행하기 위해서는 세션 객체가 필요\n",
    "- 오퍼레이션의 실행 환경을 캡슐화한 것\n",
    "- session.extend : 노드 추가 or 엣지(데이터) 추가\n",
    "- session.run : 출력\n",
    "\n",
    "변수(Variable)\n",
    "- 그래프의 실행시, 패러미터를 저장하고 갱신하는데 사용\n",
    "- 메모리 상에서 텐서를 저장하는 버퍼 역할\n",
    "\n",
    "placeholder\n",
    "- 학습용 데이터를 담는 그릇, 실행 시점에 데이터를 할당\n",
    "- tf.placeholder(자료형, 행렬의 차원, placeholder이름)\n",
    "\n",
    "Rank\n",
    "- 텐서의 Rank는 몇 차원 배열이냐를 의미\n",
    "\n",
    "Shape\n",
    "- 텐서의 차원과 크기\n",
    "- 노드 사이를 흐르는 텐서의 프로퍼티\n",
    "- 몇몇 연산은 그들의 입력의 구조에 대한 엄격한 요구조건을 가지고 있으며, 안맞을시 런타임에러를 리포팅\n",
    "\n",
    "Type\n",
    "- 텐서가 담을 수 있는 데이터의 타입\n",
    "- tf.float32, tf.int32 등이 표현하는 바는 텐서가 실수or 정수를 담을 수 있는지 여부\n",
    "- 보통은 32로 끝나는 타입을 많이 사용"
   ]
  },
  {
   "cell_type": "markdown",
   "id": "d9b6d1fc",
   "metadata": {},
   "source": [
    "변수, 상수, 수식을 만든다 => 세션에 넣는다 => 변수일 경우 초기화시킨다\n",
    "\n",
    "tensorflow 상수"
   ]
  },
  {
   "cell_type": "code",
   "execution_count": 11,
   "id": "8a4a95cb",
   "metadata": {
    "scrolled": true
   },
   "outputs": [
    {
     "name": "stdout",
     "output_type": "stream",
     "text": [
      "a=Tensor(\"Const_10:0\", shape=(), dtype=int32)\n",
      "b=Tensor(\"Const_11:0\", shape=(), dtype=int32)\n",
      "c=Tensor(\"add_6:0\", shape=(), dtype=int32)\n",
      "d=Tensor(\"Add_7:0\", shape=(), dtype=int32)\n",
      "a=500\n",
      "b=200\n",
      "a+b=700\n",
      "tf.add(a,b)=700\n"
     ]
    }
   ],
   "source": [
    "# constant() 상수\n",
    "a = tf.constant(500) # 상수 정의\n",
    "print('a={}'.format(a))\n",
    "b = tf.constant(200) \n",
    "print('b={}'.format(b))\n",
    "c = a+b # 수식 정의\n",
    "print('c={}'.format(c))\n",
    "d=tf.add(a,b) # 함수 정의\n",
    "print('d={}'.format(d))\n",
    "\n",
    "# Session : 작업 영역. 여기에 변수, 상수, 수식 대입\n",
    "sess = tf.Session() \n",
    "# run() session 실행\n",
    "print('a={}'.format(sess.run(a))) # 텐서플로우 실행법\n",
    "print('b={}'.format(sess.run(b))) \n",
    "print('a+b={}'.format(sess.run(c))) \n",
    "print('tf.add(a,b)={}'.format(sess.run(d))) \n"
   ]
  },
  {
   "cell_type": "code",
   "execution_count": 22,
   "id": "9273bc54",
   "metadata": {},
   "outputs": [
    {
     "name": "stdout",
     "output_type": "stream",
     "text": [
      "a = <tf.Variable 'Variable_15:0' shape=() dtype=int32_ref>\n",
      "b = <tf.Variable 'Variable_16:0' shape=() dtype=int32_ref>\n",
      "c = Tensor(\"mul_14:0\", shape=(), dtype=int32)\n",
      "d = Tensor(\"Mul_15:0\", shape=(), dtype=int32)\n",
      "a = 5\n",
      "b = 3\n",
      "c = 15\n",
      "tf.multiply(a,b)=15\n",
      "a = 15\n",
      "c = 45\n",
      "a*b =45\n"
     ]
    }
   ],
   "source": [
    "# Variable(): 변수를 정의하고 초기화.\n",
    "a = tf.Variable(5) # 변수 정의 및 초기화\n",
    "print('a =', a)\n",
    "b = tf.Variable(3)\n",
    "print('b =', b)\n",
    "c = a * b\n",
    "print('c =', c)\n",
    "d = tf.multiply(a, b)\n",
    "print('d =', d)\n",
    "\n",
    "sess = tf.Session()\n",
    "\n",
    "# global_variables_initializer(): 변수 초기화 메소드\n",
    "# Variable() 함수를 사용해 생성한 tensorflow 변수는 사용하기 전에(연산을 실행하기 전에) 반드시 초기화.\n",
    "\n",
    "# tensorflow 변수 초기화\n",
    "# init = tf.global_variables_initializer()\n",
    "# sess.run(init)\n",
    "sess.run(tf.global_variables_initializer()) # 변수 초기화\n",
    "\n",
    "print('a =', sess.run(a)) # Session에서 변수를 초기화시키지 않으면 에러.\n",
    "print('b =', sess.run(b))\n",
    "print('c =', sess.run(c))\n",
    "print('tf.multiply(a,b)={}'.format(sess.run(d))) \n",
    "\n",
    "\n",
    "a = tf.Variable(15)\n",
    "# 변수의 데이터가 변경되면 다시 초기화시켜야 함.\n",
    "sess.run(tf.global_variables_initializer()) # 초기화\n",
    "print('a =', sess.run(a))\n",
    "# 변수의 값을 변경해서 연산한 결과를 보려면 수식을 다시 만들어 실행해야 한다.\n",
    "c = a * b\n",
    "print('c =', sess.run(c))\n",
    "d = tf.multiply(a, b)\n",
    "print('a*b ={}'.format(sess.run(d)))"
   ]
  },
  {
   "cell_type": "code",
   "execution_count": null,
   "id": "2e75b052",
   "metadata": {},
   "outputs": [],
   "source": []
  },
  {
   "cell_type": "code",
   "execution_count": null,
   "id": "ae0d21c5",
   "metadata": {},
   "outputs": [],
   "source": []
  },
  {
   "cell_type": "code",
   "execution_count": null,
   "id": "f5569494",
   "metadata": {},
   "outputs": [],
   "source": []
  },
  {
   "cell_type": "code",
   "execution_count": null,
   "id": "c705c4e1",
   "metadata": {},
   "outputs": [],
   "source": []
  },
  {
   "cell_type": "code",
   "execution_count": null,
   "id": "7345d078",
   "metadata": {},
   "outputs": [],
   "source": []
  },
  {
   "cell_type": "code",
   "execution_count": null,
   "id": "d02f8f87",
   "metadata": {},
   "outputs": [],
   "source": []
  },
  {
   "cell_type": "code",
   "execution_count": null,
   "id": "30be38b6",
   "metadata": {},
   "outputs": [],
   "source": []
  },
  {
   "cell_type": "code",
   "execution_count": null,
   "id": "f4dc39f7",
   "metadata": {},
   "outputs": [],
   "source": []
  },
  {
   "cell_type": "code",
   "execution_count": null,
   "id": "2a85b56c",
   "metadata": {},
   "outputs": [],
   "source": []
  },
  {
   "cell_type": "code",
   "execution_count": null,
   "id": "edb756fc",
   "metadata": {},
   "outputs": [],
   "source": []
  },
  {
   "cell_type": "code",
   "execution_count": null,
   "id": "a1e4ee2a",
   "metadata": {},
   "outputs": [],
   "source": []
  },
  {
   "cell_type": "code",
   "execution_count": null,
   "id": "c4a14e6e",
   "metadata": {},
   "outputs": [],
   "source": []
  },
  {
   "cell_type": "code",
   "execution_count": null,
   "id": "a7454017",
   "metadata": {},
   "outputs": [],
   "source": []
  },
  {
   "cell_type": "code",
   "execution_count": null,
   "id": "d8d1da61",
   "metadata": {},
   "outputs": [],
   "source": []
  },
  {
   "cell_type": "code",
   "execution_count": null,
   "id": "6f06ff2b",
   "metadata": {},
   "outputs": [],
   "source": []
  },
  {
   "cell_type": "code",
   "execution_count": null,
   "id": "a97b02ca",
   "metadata": {},
   "outputs": [],
   "source": []
  },
  {
   "cell_type": "code",
   "execution_count": null,
   "id": "a58a29a2",
   "metadata": {},
   "outputs": [],
   "source": []
  },
  {
   "cell_type": "code",
   "execution_count": null,
   "id": "8fbe38e5",
   "metadata": {},
   "outputs": [],
   "source": []
  },
  {
   "cell_type": "code",
   "execution_count": null,
   "id": "2f20470a",
   "metadata": {},
   "outputs": [],
   "source": []
  },
  {
   "cell_type": "code",
   "execution_count": null,
   "id": "c834a0fb",
   "metadata": {},
   "outputs": [],
   "source": []
  },
  {
   "cell_type": "code",
   "execution_count": null,
   "id": "9a6736b6",
   "metadata": {},
   "outputs": [],
   "source": []
  },
  {
   "cell_type": "code",
   "execution_count": null,
   "id": "8327a6ae",
   "metadata": {},
   "outputs": [],
   "source": []
  },
  {
   "cell_type": "code",
   "execution_count": null,
   "id": "0910d009",
   "metadata": {},
   "outputs": [],
   "source": []
  },
  {
   "cell_type": "code",
   "execution_count": null,
   "id": "af7c4960",
   "metadata": {},
   "outputs": [],
   "source": []
  }
 ],
 "metadata": {
  "kernelspec": {
   "display_name": "Python 3",
   "language": "python",
   "name": "python3"
  },
  "language_info": {
   "codemirror_mode": {
    "name": "ipython",
    "version": 3
   },
   "file_extension": ".py",
   "mimetype": "text/x-python",
   "name": "python",
   "nbconvert_exporter": "python",
   "pygments_lexer": "ipython3",
   "version": "3.6.8"
  }
 },
 "nbformat": 4,
 "nbformat_minor": 5
}
