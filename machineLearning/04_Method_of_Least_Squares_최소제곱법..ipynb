{
 "cells": [
  {
   "cell_type": "code",
   "execution_count": 14,
   "id": "9c9a3b47",
   "metadata": {},
   "outputs": [],
   "source": [
    "import warnings\n",
    "warnings.filterwarnings(action='ignore')\n",
    "%config Completer.use_jedi = False\n",
    "import numpy as np\n",
    "import pandas as pd\n",
    "import matplotlib.pyplot as plt\n",
    "plt.rcParams['font.family'] = 'NanumGothicCoding'; plt.rcParams['font.size'] = 15# 차트 글꼴\n",
    "import matplotlib as mpl; mpl.rcParams['axes.unicode_minus'] = False # - 깨짐 방지\n",
    "import seaborn as sns\n",
    "%matplotlib inline"
   ]
  },
  {
   "cell_type": "markdown",
   "id": "cfd83e95",
   "metadata": {},
   "source": [
    "최소제곱법\n",
    "\n",
    " - 어떤 계의 해방정식을 근사적으로 구하는 방법으로, 근사적으로 구하려는 해와 실제 해의 오차의 제곱의 합이 최소가 되는 해\n",
    " - 실제 값(y)과 가설(y_hat)에 의한 예측 값의 차이가 가장 작은 계수 계산\n",
    "\n"
   ]
  },
  {
   "cell_type": "markdown",
   "id": "2299b56e",
   "metadata": {},
   "source": [
    "최소제곱법으로 기울기(가중치)와 y절편을 계산할 데이터를 만든다."
   ]
  },
  {
   "cell_type": "code",
   "execution_count": 7,
   "id": "77e99749",
   "metadata": {},
   "outputs": [],
   "source": [
    "x = [2, 4, 6, 8] # 공부시간 x\n",
    "y = [81, 93, 91, 97] # 시험점수 y"
   ]
  },
  {
   "cell_type": "markdown",
   "id": "293cb9b1",
   "metadata": {},
   "source": [
    "공부시간과 시험점수 데이터를 판다스 데이터프레임으로 만든다."
   ]
  },
  {
   "cell_type": "code",
   "execution_count": 9,
   "id": "9939bb86",
   "metadata": {},
   "outputs": [
    {
     "data": {
      "text/html": [
       "<div>\n",
       "<style scoped>\n",
       "    .dataframe tbody tr th:only-of-type {\n",
       "        vertical-align: middle;\n",
       "    }\n",
       "\n",
       "    .dataframe tbody tr th {\n",
       "        vertical-align: top;\n",
       "    }\n",
       "\n",
       "    .dataframe thead th {\n",
       "        text-align: right;\n",
       "    }\n",
       "</style>\n",
       "<table border=\"1\" class=\"dataframe\">\n",
       "  <thead>\n",
       "    <tr style=\"text-align: right;\">\n",
       "      <th></th>\n",
       "      <th>x</th>\n",
       "      <th>y</th>\n",
       "    </tr>\n",
       "  </thead>\n",
       "  <tbody>\n",
       "    <tr>\n",
       "      <th>0</th>\n",
       "      <td>2</td>\n",
       "      <td>81</td>\n",
       "    </tr>\n",
       "    <tr>\n",
       "      <th>1</th>\n",
       "      <td>4</td>\n",
       "      <td>93</td>\n",
       "    </tr>\n",
       "    <tr>\n",
       "      <th>2</th>\n",
       "      <td>6</td>\n",
       "      <td>91</td>\n",
       "    </tr>\n",
       "    <tr>\n",
       "      <th>3</th>\n",
       "      <td>8</td>\n",
       "      <td>97</td>\n",
       "    </tr>\n",
       "  </tbody>\n",
       "</table>\n",
       "</div>"
      ],
      "text/plain": [
       "   x   y\n",
       "0  2  81\n",
       "1  4  93\n",
       "2  6  91\n",
       "3  8  97"
      ]
     },
     "execution_count": 9,
     "metadata": {},
     "output_type": "execute_result"
    }
   ],
   "source": [
    "df=pd.DataFrame(columns=['x','y']) # 빈 데이터프레임\n",
    "df.loc[:,'x']=x\n",
    "df.loc[:,'y']=y\n",
    "df"
   ]
  },
  {
   "cell_type": "markdown",
   "id": "c9737219",
   "metadata": {},
   "source": [
    "공부시간과 시험점수 시각화"
   ]
  },
  {
   "cell_type": "code",
   "execution_count": 19,
   "id": "22b8cf89",
   "metadata": {
    "scrolled": true
   },
   "outputs": [
    {
     "data": {
      "image/png": "[encoded data removed]",
      "text/plain": [
       "<Figure size 864x576 with 1 Axes>"
      ]
     },
     "metadata": {
      "needs_background": "light"
     },
     "output_type": "display_data"
    }
   ],
   "source": [
    "plt.figure(figsize=(12,8))\n",
    "\n",
    "sns.scatterplot(data=df, x='x', y='y', s=100) # 산점도\n",
    "plt.title('공부 시간에 따른 시험 성적')\n",
    "plt.xlabel('공부 시간')\n",
    "plt.ylabel('시험 성적')\n",
    "plt.show()\n"
   ]
  },
  {
   "attachments": {},
   "cell_type": "markdown",
   "id": "d9bcf0a0",
   "metadata": {},
   "source": [
    "기울기 \n",
    "\n",
    "$$\\frac{\\sum_{i=0}^{n-1}(x_i- \\bar x)(y_i- \\bar y)}{\\sum_{i=0}^{n-1}(x_i - \\bar x)^2}$$"
   ]
  },
  {
   "cell_type": "code",
   "execution_count": 24,
   "id": "7c458a5f",
   "metadata": {},
   "outputs": [
    {
     "name": "stdout",
     "output_type": "stream",
     "text": [
      "겅부시간 평균:5.0, 시험점수 평균:90.5\n"
     ]
    }
   ],
   "source": [
    "mean_x=np.mean(x) # 겅부시간 평균\n",
    "mean_y=np.mean(y) # test score 평균\n",
    "print('겅부시간 평균:{}, 시험점수 평균:{}'.format(mean_x, mean_y))"
   ]
  },
  {
   "cell_type": "code",
   "execution_count": 25,
   "id": "91e1b59b",
   "metadata": {},
   "outputs": [
    {
     "name": "stdout",
     "output_type": "stream",
     "text": [
      "46.0\n"
     ]
    }
   ],
   "source": [
    "# 기울기 공식에서 분자 계산하는 함수\n",
    "def top(x, mean_x, y, mean_y):\n",
    "    total=0.0\n",
    "    for i in range(len(x)):\n",
    "        total+=(x[i]-mean_x)*(y[i]-mean_y)\n",
    "    return total\n",
    "\n",
    "numerator = top(x, mean_x, y, mean_y)\n",
    "print(numerator)"
   ]
  },
  {
   "cell_type": "code",
   "execution_count": 27,
   "id": "1505af41",
   "metadata": {},
   "outputs": [
    {
     "name": "stdout",
     "output_type": "stream",
     "text": [
      "20.0\n"
     ]
    }
   ],
   "source": [
    "# 기울기 공식에서 분모 계산하는 함수\n",
    "def bottom(x, mean_x):\n",
    "    total=0.0\n",
    "    for i in range(len(x)):\n",
    "        total+=(x[i]-mean_x)**2\n",
    "    return total\n",
    "\n",
    "denominator = bottom(x,mean_x)\n",
    "print(denominator)"
   ]
  },
  {
   "cell_type": "code",
   "execution_count": 28,
   "id": "3eb84ff9",
   "metadata": {},
   "outputs": [
    {
     "name": "stdout",
     "output_type": "stream",
     "text": [
      "기울기 공식에서 분자:46.0, 분모:20.0\n",
      "기울기:2.3\n"
     ]
    }
   ],
   "source": [
    "print('기울기 공식에서 분자:{}, 분모:{}'.format(numerator, denominator))\n",
    "a = numerator/denominator\n",
    "print('기울기:{}'.format(a))"
   ]
  },
  {
   "cell_type": "markdown",
   "id": "16fad40f",
   "metadata": {},
   "source": [
    "y절편 공식 : Y평균-a*x평균\n",
    "$$\\bar y - a \\times \\bar x$$"
   ]
  },
  {
   "cell_type": "code",
   "execution_count": 29,
   "id": "63011585",
   "metadata": {},
   "outputs": [
    {
     "name": "stdout",
     "output_type": "stream",
     "text": [
      "y절편: 79.0\n"
     ]
    }
   ],
   "source": [
    "b = mean_y - (mean_x * a)\n",
    "print('y절편: {}'.format(b))"
   ]
  },
  {
   "cell_type": "code",
   "execution_count": null,
   "id": "e8f72779",
   "metadata": {},
   "outputs": [],
   "source": []
  },
  {
   "cell_type": "code",
   "execution_count": null,
   "id": "14409a8d",
   "metadata": {},
   "outputs": [],
   "source": []
  },
  {
   "cell_type": "code",
   "execution_count": null,
   "id": "d02e1671",
   "metadata": {},
   "outputs": [],
   "source": []
  },
  {
   "cell_type": "code",
   "execution_count": null,
   "id": "db921b6c",
   "metadata": {},
   "outputs": [],
   "source": []
  },
  {
   "cell_type": "code",
   "execution_count": null,
   "id": "8d678d5d",
   "metadata": {},
   "outputs": [],
   "source": []
  },
  {
   "cell_type": "code",
   "execution_count": null,
   "id": "f48e84d7",
   "metadata": {},
   "outputs": [],
   "source": []
  }
 ],
 "metadata": {
  "kernelspec": {
   "display_name": "Python 3",
   "language": "python",
   "name": "python3"
  },
  "language_info": {
   "codemirror_mode": {
    "name": "ipython",
    "version": 3
   },
   "file_extension": ".py",
   "mimetype": "text/x-python",
   "name": "python",
   "nbconvert_exporter": "python",
   "pygments_lexer": "ipython3",
   "version": "3.6.8"
  }
 },
 "nbformat": 4,
 "nbformat_minor": 5
}
