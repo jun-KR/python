{
 "cells": [
  {
   "cell_type": "markdown",
   "id": "589873f5",
   "metadata": {},
   "source": [
    "평균 제곱근 오차(Root Mean Squared Error, RMSE)\n",
    "\n",
    "임의의 선을 그리고 난 후 이 선이 얼마나 잘 그려졌는지 평가해서 조금씩 수정해나간다.\n",
    "\n",
    "이를 위해서 주어진 선의 오차를 평가하는 알고리즘이 필요한데 그 중에서 가장 많이 사용되는 방법이 평균 제곱근 오차이다."
   ]
  },
  {
   "cell_type": "code",
   "execution_count": 2,
   "id": "8e6d0072",
   "metadata": {},
   "outputs": [],
   "source": [
    "import warnings\n",
    "warnings.filterwarnings(action='ignore')\n",
    "%config Completer.use_jedi = False\n",
    "import numpy as np\n",
    "import pandas as pd"
   ]
  },
  {
   "cell_type": "code",
   "execution_count": 13,
   "id": "ed4e3e6a",
   "metadata": {},
   "outputs": [
    {
     "name": "stdout",
     "output_type": "stream",
     "text": [
      "공부시간:2, 시험 성적:81\n",
      "공부시간:4, 시험 성적:93\n",
      "공부시간:6, 시험 성적:91\n",
      "공부시간:8, 시험 성적:97\n"
     ]
    }
   ],
   "source": [
    "# x, y의 데이터 값이 1건씩 저장된 리스트 => [공부시간(x), 시험점수(y)]\n",
    "data = [[2, 81], [4, 93], [6, 91], [8, 97]] # 실제값\n",
    "\n",
    "ab = [2.1, 82] # 예측 기울기 a와 y절편 b를 임의로 정한다. # 2.3, 79\n",
    "\n",
    "for i in data: # data를 반복하며 하나씩 print\n",
    "    print('공부시간:{}, 시험 성적:{}'.format(i[0], i[1]))"
   ]
  },
  {
   "cell_type": "code",
   "execution_count": 14,
   "id": "270c6c8e",
   "metadata": {},
   "outputs": [
    {
     "name": "stdout",
     "output_type": "stream",
     "text": [
      "공부시간: 2, 시험성적: 81\n",
      "공부시간: 4, 시험성적: 93\n",
      "공부시간: 6, 시험성적: 91\n",
      "공부시간: 8, 시험성적: 97\n"
     ]
    }
   ],
   "source": [
    "# data에서 공부시간(x), 시험성적(y)을 뽑아내서 각각 별도의 리스트에 저장한다.\n",
    "x = [i[0] for i in data] # list comprehension\n",
    "y = [i[1] for i in data] \n",
    "\n",
    "for i in range(len(data)):\n",
    "    print('공부시간: {}, 시험성적: {}'.format(x[i], y[i]))"
   ]
  },
  {
   "cell_type": "code",
   "execution_count": 16,
   "id": "0f7fc5ee",
   "metadata": {},
   "outputs": [],
   "source": [
    "# Y = ax + b에 a(기울기), b(y절편) 값을 대입해서 (예측성적)를 계산하는 함수\n",
    "def predict(x):\n",
    "    return ab[0] * x + ab[1]"
   ]
  },
  {
   "cell_type": "code",
   "execution_count": 18,
   "id": "c549cef1",
   "metadata": {
    "scrolled": false
   },
   "outputs": [
    {
     "name": "stdout",
     "output_type": "stream",
     "text": [
      "공부시간: 2, 실제성적: 81, 예측성적: 86.2\n",
      "공부시간: 4, 실제성적: 93, 예측성적: 90.4\n",
      "공부시간: 6, 실제성적: 91, 예측성적: 94.6\n",
      "공부시간: 8, 실제성적: 97, 예측성적: 98.8\n"
     ]
    }
   ],
   "source": [
    "# 임의로 정한 기울기와 y절편으로 예측성적을 계산한다.\n",
    "predict_result = [] # 예측성적 Y가 저장될 빈 리스트.\n",
    "\n",
    "for i in range(len(x)): # 공부시간(x) 값을 한 번씩 대입.\n",
    "    predict_result.append(predict(x[i]))\n",
    "    print('공부시간: {}, 실제성적: {}, 예측성적: {}'.format(x[i], y[i], predict_result[i]))"
   ]
  },
  {
   "cell_type": "code",
   "execution_count": 19,
   "id": "08d640ed",
   "metadata": {},
   "outputs": [],
   "source": [
    "# 평균 제곱근 오차를 계산하는 함수\n",
    "# 벡터는 행렬.\n",
    "def rmse(predict_result, y): # 예측값, 실제값\n",
    "    \n",
    "# (예측값 - 실제값) 의 제곱 평균 에 루트 like 표준편차\n",
    "    return np.sqrt(((predict_result - y) ** 2).mean()) # 둘다 numpy 배열이라 행렬 간 빼기 가능."
   ]
  },
  {
   "cell_type": "code",
   "execution_count": 22,
   "id": "217a7b1b",
   "metadata": {},
   "outputs": [],
   "source": [
    "def rmse_val(predict_result, y): # rmse()를 호출하는 함수\n",
    "                                    # numpy 배열로 변환된 예측성적과 실제성적으로 함수를 실행해 결과를 리턴시킨다.\n",
    "    return rmse(np.array(predict_result), np.array(y)) # array(): 파이썬의 list를 numpy 배열로 변환."
   ]
  },
  {
   "cell_type": "code",
   "execution_count": 21,
   "id": "eb5c8b66",
   "metadata": {},
   "outputs": [
    {
     "name": "stdout",
     "output_type": "stream",
     "text": [
      "RMSE: 3.535533905932736\n"
     ]
    }
   ],
   "source": [
    "# 최종 평균 제곱근 오차를 출력한다.\n",
    "rmse_result = rmse_val(predict_result, y)\n",
    "print('RMSE: {}'.format(rmse_result))"
   ]
  },
  {
   "cell_type": "code",
   "execution_count": null,
   "id": "f8a414f4",
   "metadata": {},
   "outputs": [],
   "source": []
  }
 ],
 "metadata": {
  "kernelspec": {
   "display_name": "Python 3",
   "language": "python",
   "name": "python3"
  },
  "language_info": {
   "codemirror_mode": {
    "name": "ipython",
    "version": 3
   },
   "file_extension": ".py",
   "mimetype": "text/x-python",
   "name": "python",
   "nbconvert_exporter": "python",
   "pygments_lexer": "ipython3",
   "version": "3.6.8"
  }
 },
 "nbformat": 4,
 "nbformat_minor": 5
}
