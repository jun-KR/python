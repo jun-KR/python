{
 "cells": [
  {
   "cell_type": "code",
   "execution_count": 1,
   "id": "d07fbd9a",
   "metadata": {},
   "outputs": [
    {
     "name": "stdout",
     "output_type": "stream",
     "text": [
      "WARNING:tensorflow:From c:\\python\\lib\\site-packages\\tensorflow\\python\\compat\\v2_compat.py:101: disable_resource_variables (from tensorflow.python.ops.variable_scope) is deprecated and will be removed in a future version.\n",
      "Instructions for updating:\n",
      "non-resource variables are not supported in the long term\n"
     ]
    }
   ],
   "source": [
    "import warnings\n",
    "warnings.filterwarnings(action='ignore')\n",
    "%config Completer.use_jedi = False\n",
    "import tensorflow.compat.v1 as tf\n",
    "tf.disable_v2_behavior()"
   ]
  },
  {
   "cell_type": "markdown",
   "id": "3832d0a1",
   "metadata": {},
   "source": [
    "데이터 준비. 입력 변수(X)와 목표 변수(Y)"
   ]
  },
  {
   "cell_type": "code",
   "execution_count": 21,
   "id": "7f04ecd0",
   "metadata": {},
   "outputs": [],
   "source": [
    "xData = [1, 2, 3, 4, 5, 6, 7] # 1일 근무시간\n",
    "yData = [25000, 55000, 75000, 110000, 128000, 155000, 180000] # 매출금액, Y, label"
   ]
  },
  {
   "cell_type": "markdown",
   "id": "6d474176",
   "metadata": {},
   "source": [
    "과적합을 방지하기 위해서 난수를 발생시켜 기울기(가중치)와 y절편(바이어스)을 정한다.\n",
    "\n",
    "과적합이란 학습시킨 데이터에서는 높은 정확도를 보이지만 이외의 데이터에서는 낮은 정확도를 보이는 문제점을 말한다."
   ]
  },
  {
   "cell_type": "code",
   "execution_count": 3,
   "id": "692e94a3",
   "metadata": {},
   "outputs": [
    {
     "name": "stdout",
     "output_type": "stream",
     "text": [
      "a=<tf.Variable 'Variable_2:0' shape=(1,) dtype=float32_ref>, b=<tf.Variable 'Variable_3:0' shape=(1,) dtype=float32_ref>\n"
     ]
    }
   ],
   "source": [
    "# tf.random_uniform([난수의 개수], 최소값, 최대값): 난수를 발생시킨다.\n",
    "a = tf.Variable(tf.random_uniform([1], -100, 100)) # 난수로 기울기(가중치) 정한다\n",
    "b = tf.Variable(tf.random_uniform([1], -100, 100)) # 난수로 y절편(bias) 정한다\n",
    "print('a={}, b={}'.format(a,b))"
   ]
  },
  {
   "cell_type": "markdown",
   "id": "af8a13b5",
   "metadata": {},
   "source": [
    "tensorflow 변수를 초기화하고 난수로 발생시킨 기울기와 y절편 값을 확인한다."
   ]
  },
  {
   "cell_type": "code",
   "execution_count": 19,
   "id": "0edc39dd",
   "metadata": {},
   "outputs": [
    {
     "name": "stdout",
     "output_type": "stream",
     "text": [
      "a=[-21.186234], b=[33.60498]\n"
     ]
    }
   ],
   "source": [
    "sess = tf.Session()\n",
    "sess.run(tf.global_variables_initializer()) #  변수 초기화\n",
    "print('a={}, b={}'.format(sess.run(a), sess.run(b)))"
   ]
  },
  {
   "cell_type": "markdown",
   "id": "b349fcd5",
   "metadata": {},
   "source": [
    "근무시간과 매출금액을 기억할 placeholder 선언.\n",
    "\n",
    "placeholder\n",
    "\n",
    "- 학습용 데이터를 담는 그릇으로, 실행 시점에 데이터를 할당\n",
    "- tf.placeholder(dtype[, shape, name])"
   ]
  },
  {
   "cell_type": "code",
   "execution_count": 25,
   "id": "48fb250e",
   "metadata": {},
   "outputs": [],
   "source": [
    "x = tf.placeholder(dtype=tf.float32) # 근무시간을 기억할 placeholder\n",
    "y = tf.placeholder(dtype=tf.float32) # 매출금액을 기억할 placeholder\n"
   ]
  },
  {
   "cell_type": "markdown",
   "id": "232c5bb9",
   "metadata": {},
   "source": [
    "오차 vs 잔차\n",
    "- 오차는 모집단의 회귀식에 대한 편차값인데 반해 잔차는 표본집단의 회귀식에 대한 편차값이다. \n",
    "- 즉, 오차는 관측값을 통해 예측한 가정이 실제와 얼마나 부합하는지\n",
    "- 잔차는 예측한 가정이 관측값을 얼마나 잘 반영하고 있는가를 의미한다고 할 수 있다\n",
    "\n",
    "모델링 \n",
    "- 데이터 내의 패턴을 파악해 모형화하는 것\n",
    "- 데이터를 잘 설명하는 수식을 생성하는 것\n",
    "\n",
    "비용함수\n",
    "- 모델의 예측값과 실제값의 차이 => 값이 클수록 정확도 낮음\n",
    "- 실제값과 예측값(Y)의 편차 제곱의 평균.. 2차함수(x=기울기, y=에러)\n",
    "- 에러가 최소인 기울기를 구한다 by 경사하강법"
   ]
  },
  {
   "cell_type": "code",
   "execution_count": 26,
   "id": "d0eb70f6",
   "metadata": {},
   "outputs": [],
   "source": [
    "가설을 세우고 오차(비용) 함수를 정의한다.\n",
    "Y=a*x+b # 가설, Y => 예측값(직선)\n",
    "\n",
    "# 제곱평균법을 이용하는 오차 함수\n",
    "# 실제값(yData => y라는 placeholder에 저장)과 예측값(Y)의 편차 제곱의 평균을 이용한다. # square(): 제곱값 # reduce_mean(): 평균\n",
    "\n",
    "# 오차함수 정의\n",
    "cost= tf.reduce_mean(tf.square(Y-y)) # 실제값과 예측값(Y)의 편차 제곱의 평균."
   ]
  },
  {
   "cell_type": "markdown",
   "id": "ceec02f3",
   "metadata": {},
   "source": [
    "경사하강법 오차 함수의 결과를 가장 작게 만드는 방향으로 학습하도록 정의한다.\n",
    "\n",
    "- 경사 하강법이란?\n",
    "- 비용 함수가 최소가 되는 w, b를 구하는 방법으로, 점진적으로 반복적인 계산을 통해 w, b의 값을 업데이트해 오류 값이 최소가 되는 w, b를 구한다.\n",
    "- 현재 위치에서 기울기를 따라 목표값을 향하여 계속 낮은 곳으로 반복 이동\n",
    "\n",
    "경사 하강법은 다음의 방법으로 진행됩니다.\n",
    "\n",
    "1. 임의의 한 점을 찍고 미분값(기울기)를 구한다. cost(w, b)를 계산한다. \n",
    "2. 접선의 기울기를 바탕으로 파라미터를 '어느 방향'으로 '얼만큼' 움직일지 결정한다. w, b를 cost(w, b)가 줄어드는 방향으로 값을 변경\n",
    "3. 기울기=0인 지점까지 반복해서 이동한다. 기울기가 음수면 오른쪽, 양수면 왼쪽으로 이동\n",
    "\n",
    "학습률(learning rate)\n",
    "- 값을 식에 얼마큼 반영할 것인지 알려주는 변수입니다. 보통 0.01로 설정. \n",
    "- 너무 적게 설정하면 학습이 너무 느리게 진행되고 \n",
    "- 너무 크게 설정하면 손실 함수의 값이 줄어들지 않고 더 커지게 되는 오버 슈팅(over shooting) 발생.\n",
    "\n",
    "Optimizer\n",
    "- 비용 함수를 최소화하기 위해 조금씩 Variable을 변경한다. \n",
    "- 대표적으로 GradientDescentOptimizer(경사하강)"
   ]
  },
  {
   "cell_type": "code",
   "execution_count": 51,
   "id": "e58aa483",
   "metadata": {},
   "outputs": [],
   "source": [
    "learning_rate = tf.Variable(0.01) # 학습율 설정.\n",
    "# train.GradientDescentOptimizer(학습율): 학습율에 따른 오차함수 계산한다.\n",
    "# minimize(오차함수): 지정된 오차 함수의 최소값을 찾는다.\n",
    "train = tf.train.GradientDescentOptimizer(learning_rate).minimize(cost)"
   ]
  },
  {
   "cell_type": "markdown",
   "id": "c43fdced",
   "metadata": {},
   "source": [
    "학습시킨다.\n",
    "\n",
    "epoch : 전체 데이터 셋에 대해 한 번 학습을 완료한 상태\n",
    "\n",
    "- 한 번의 epoch는 인공 신경망에서 전체 데이터 셋에 대해 forward pass/backward pass 과정을 거친 것.\n",
    "- 너무 작다면 underfitting이 너무 크다면 overfitting"
   ]
  },
  {
   "cell_type": "code",
   "execution_count": 55,
   "id": "ccdc11ee",
   "metadata": {
    "scrolled": true
   },
   "outputs": [
    {
     "name": "stdout",
     "output_type": "stream",
     "text": [
      "epoch =>    0, 손실:  4583906816.00 기울기: 10386.393 y절편:  2086.925\n",
      "epoch =>  500, 손실:     8687495.00 기울기: 25537.133 y절편:  1952.111\n",
      "epoch => 1000, 손실:     8633814.00 기울기: 25627.451 y절편:  1504.865\n",
      "epoch => 1500, 손실:     8632677.00 기울기: 25640.611 y절편:  1439.692\n",
      "epoch => 2000, 손실:     8632651.00 기울기: 25642.531 y절편:  1430.192\n",
      "epoch => 2500, 손실:     8632654.00 기울기: 25642.805 y절편:  1428.821\n",
      "epoch => 3000, 손실:     8632657.00 기울기: 25642.844 y절편:  1428.633\n",
      "epoch => 3500, 손실:     8632656.00 기울기: 25642.848 y절편:  1428.613\n",
      "epoch => 4000, 손실:     8632656.00 기울기: 25642.848 y절편:  1428.613\n",
      "epoch => 4500, 손실:     8632656.00 기울기: 25642.848 y절편:  1428.613\n",
      "epoch => 5000, 손실:     8632656.00 기울기: 25642.848 y절편:  1428.613\n",
      "기울기: 25642.848 y절편:  1428.613\n",
      "8시간 근무했을 때 기대매출: 206,571원\n"
     ]
    }
   ],
   "source": [
    "# Session 만들고 변수 초기화\n",
    "sess = tf.Session()\n",
    "sess.run(tf.global_variables_initializer()) \n",
    "\n",
    "for i in range(5001):\n",
    "    # placeholder에 데이터를 대입하고 학습시킨다.\n",
    "    # 학습할 데이터는 placeholder에 feed_dict라는 딕셔너리로 대입한다.\n",
    "    sess.run(train, feed_dict={x: xData, y: yData}) # feed_dict의 key: placeholder 이름, value : placeholder에 저장할 리스트.\n",
    "    \n",
    "    # 일정 epoch 마다 중간 결과를 출력한다.\n",
    "    if i % 500 == 0:\n",
    "        # epoch(i), 오차(cost), 기울기, y절편\n",
    "#         print('epoch : {:4d}, 오차: {:14.2f} 기울기: {:9.3f} y절편: {:9.3f}'.format(i, \n",
    "#                 sess.run(cost, feed_dict={x: xData, y: yData}), sess.run(a)[0], sess.run(b)[0]))\n",
    "        print('epoch => %4d, 손실: %14.2f 기울기: %9.3f y절편: %9.3f' % (i, \n",
    "                        sess.run(cost, feed_dict={x: xData, y: yData}), sess.run(a), sess.run(b)))\n",
    "\n",
    "print('기울기: {:9.3f} y절편: {:9.3f}'.format(sess.run(a)[0], sess.run(b)[0]))\n",
    "\n",
    "print('8시간 근무했을 때 기대매출: {:,.0f}원'.format(sess.run(a)[0]*8+ sess.run(b)[0]))\n"
   ]
  },
  {
   "cell_type": "markdown",
   "id": "0d918005",
   "metadata": {},
   "source": [
    "학습이 완료된 후 원하는 입력에 대한 예측 결과를 출력한다.\n"
   ]
  },
  {
   "cell_type": "code",
   "execution_count": 58,
   "id": "15a01c4a",
   "metadata": {},
   "outputs": [
    {
     "name": "stdout",
     "output_type": "stream",
     "text": [
      " 8시간 근무를 했을 때 매출 기대금액: 206,571원\n",
      " 9시간 근무를 했을 때 매출 기대금액: 232,214원\n",
      "10시간 근무를 했을 때 매출 기대금액: 257,857원\n",
      "11시간 근무를 했을 때 매출 기대금액: 283,500원\n",
      "12시간 근무를 했을 때 매출 기대금액: 309,143원\n",
      "13시간 근무를 했을 때 매출 기대금액: 334,786원\n",
      "14시간 근무를 했을 때 매출 기대금액: 360,428원\n",
      "15시간 근무를 했을 때 매출 기대금액: 386,071원\n",
      "16시간 근무를 했을 때 매출 기대금액: 411,714원\n",
      "17시간 근무를 했을 때 매출 기대금액: 437,357원\n",
      "18시간 근무를 했을 때 매출 기대금액: 463,000원\n",
      "19시간 근무를 했을 때 매출 기대금액: 488,643원\n",
      "20시간 근무를 했을 때 매출 기대금액: 514,286원\n",
      "21시간 근무를 했을 때 매출 기대금액: 539,928원\n",
      "22시간 근무를 했을 때 매출 기대금액: 565,571원\n",
      "23시간 근무를 했을 때 매출 기대금액: 591,214원\n",
      "24시간 근무를 했을 때 매출 기대금액: 616,857원\n"
     ]
    }
   ],
   "source": [
    "for i in range(8, 25):\n",
    "    print('{:2d}시간 근무를 했을 때 매출 기대금액: {:,.0f}원'.format(i, sess.run(Y, feed_dict={x:[i]})[0]))"
   ]
  },
  {
   "cell_type": "code",
   "execution_count": null,
   "id": "273fe0d4",
   "metadata": {},
   "outputs": [],
   "source": []
  },
  {
   "cell_type": "code",
   "execution_count": null,
   "id": "8138be09",
   "metadata": {},
   "outputs": [],
   "source": []
  },
  {
   "cell_type": "code",
   "execution_count": null,
   "id": "08e70d00",
   "metadata": {},
   "outputs": [],
   "source": []
  },
  {
   "cell_type": "code",
   "execution_count": null,
   "id": "5e5855d1",
   "metadata": {},
   "outputs": [],
   "source": []
  }
 ],
 "metadata": {
  "kernelspec": {
   "display_name": "Python 3",
   "language": "python",
   "name": "python3"
  },
  "language_info": {
   "codemirror_mode": {
    "name": "ipython",
    "version": 3
   },
   "file_extension": ".py",
   "mimetype": "text/x-python",
   "name": "python",
   "nbconvert_exporter": "python",
   "pygments_lexer": "ipython3",
   "version": "3.6.8"
  }
 },
 "nbformat": 4,
 "nbformat_minor": 5
}
