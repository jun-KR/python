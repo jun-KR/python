{
 "cells": [
  {
   "cell_type": "code",
   "execution_count": 1,
   "id": "0d75e7a7",
   "metadata": {},
   "outputs": [
    {
     "name": "stdout",
     "output_type": "stream",
     "text": [
      "WARNING:tensorflow:From c:\\python\\lib\\site-packages\\tensorflow\\python\\compat\\v2_compat.py:101: disable_resource_variables (from tensorflow.python.ops.variable_scope) is deprecated and will be removed in a future version.\n",
      "Instructions for updating:\n",
      "non-resource variables are not supported in the long term\n"
     ]
    }
   ],
   "source": [
    "import warnings\n",
    "warnings.filterwarnings(action='ignore')\n",
    "%config Completer.use_jedi = False\n",
    "import tensorflow.compat.v1 as tf\n",
    "tf.disable_v2_behavior()\n",
    "import numpy as np\n",
    "import pandas as pd"
   ]
  },
  {
   "cell_type": "code",
   "execution_count": 2,
   "id": "1708b029",
   "metadata": {},
   "outputs": [],
   "source": [
    "data = [[2, 81], [4, 93], [6, 91], [8, 97]] # [공부시간(x), 시험점수(y)]\n",
    "xData = [i[0] for i in data] # 공부시간\n",
    "yData = [i[1] for i in data] # 시험성적"
   ]
  },
  {
   "cell_type": "code",
   "execution_count": 3,
   "id": "d7c7d21f",
   "metadata": {},
   "outputs": [
    {
     "name": "stdout",
     "output_type": "stream",
     "text": [
      "a = [0.30550718], b = [38.674034]\n"
     ]
    }
   ],
   "source": [
    "# 기울기 a와 y절편 b를 임의로 정한다.\n",
    "a = tf.Variable(tf.random_uniform([1], 0, 10)) # 기울기(가중치), 0 ~ 10 사이의 난수 1개\n",
    "b = tf.Variable(tf.random_uniform([1], 0, 100)) # y절편(바이어스), 0 ~ 100 사이의 난수 1개\n",
    "sess = tf.Session()\n",
    "sess.run(tf.global_variables_initializer())\n",
    "print('a = {}, b = {}'.format(sess.run(a), sess.run(b)))"
   ]
  },
  {
   "cell_type": "code",
   "execution_count": 4,
   "id": "a5a802c5",
   "metadata": {},
   "outputs": [],
   "source": [
    "# 예측성적을 얻기위한 가설(수식)을 만든다. Y => 예측값\n",
    "Y = a * x + b"
   ]
  },
  {
   "cell_type": "code",
   "execution_count": 10,
   "id": "3642235c",
   "metadata": {},
   "outputs": [],
   "source": [
    "# tensorflow에서 실행할 RMSE(평균 제곱근 오차) 비용 함수를 만든다.\n",
    "\n",
    "rmse = tf.sqrt(tf.reduce_mean(tf.square(Y - yData))) # 예측성적과 실제성적의 편차의 제곱의 평균에 대한 제곱근을 계산한다."
   ]
  },
  {
   "cell_type": "code",
   "execution_count": 11,
   "id": "5ee3fedd",
   "metadata": {},
   "outputs": [],
   "source": [
    "# 경사 하강법을 이용, RMSE(오차)를 최소로 하는 수식을 만든다.\n",
    "\n",
    "gradient_descent = tf.train.GradientDescentOptimizer(learning_rate = 0.1).minimize(rmse)"
   ]
  },
  {
   "cell_type": "code",
   "execution_count": 12,
   "id": "2004dfe9",
   "metadata": {
    "scrolled": true
   },
   "outputs": [
    {
     "name": "stdout",
     "output_type": "stream",
     "text": [
      "epoch =>    0, RMSE:        7.2065 기울기:        4.7847 y절편:       63.0036\n",
      "epoch =>  200, RMSE:        4.7021 기울기:        3.8253 y절편:       69.8979\n",
      "epoch =>  400, RMSE:        3.2946 기울기:        2.9560 y절편:       75.0852\n",
      "epoch =>  600, RMSE:        2.9334 기울기:        2.5266 y절편:       77.6479\n",
      "epoch =>  800, RMSE:        2.8866 기울기:        2.3739 y절편:       78.5591\n",
      "epoch => 1000, RMSE:        2.8816 기울기:        2.3239 y절편:       78.8573\n",
      "epoch => 1200, RMSE:        2.8810 기울기:        2.3077 y절편:       78.9538\n",
      "epoch => 1400, RMSE:        2.8810 기울기:        2.3025 y절편:       78.9850\n",
      "epoch => 1600, RMSE:        2.8810 기울기:        2.3008 y절편:       78.9952\n",
      "epoch => 1800, RMSE:        2.8810 기울기:        2.3003 y절편:       78.9984\n",
      "epoch => 2000, RMSE:        2.8810 기울기:        2.3001 y절편:       78.9994\n",
      "epoch => 2200, RMSE:        2.8810 기울기:        2.3001 y절편:       78.9994\n",
      "epoch => 2400, RMSE:        2.8810 기울기:        2.3001 y절편:       78.9994\n",
      "epoch => 2600, RMSE:        2.8810 기울기:        2.3001 y절편:       78.9994\n",
      "epoch => 2800, RMSE:        2.8810 기울기:        2.3001 y절편:       78.9994\n",
      "epoch => 3000, RMSE:        2.8810 기울기:        2.3001 y절편:       78.9994\n",
      "epoch => 3200, RMSE:        2.8810 기울기:        2.3001 y절편:       78.9994\n",
      "epoch => 3400, RMSE:        2.8810 기울기:        2.3001 y절편:       78.9994\n",
      "epoch => 3600, RMSE:        2.8810 기울기:        2.3001 y절편:       78.9994\n",
      "epoch => 3800, RMSE:        2.8810 기울기:        2.3001 y절편:       78.9994\n",
      "epoch => 4000, RMSE:        2.8810 기울기:        2.3001 y절편:       78.9994\n",
      "epoch => 4200, RMSE:        2.8810 기울기:        2.3001 y절편:       78.9994\n",
      "epoch => 4400, RMSE:        2.8810 기울기:        2.3001 y절편:       78.9994\n",
      "epoch => 4600, RMSE:        2.8810 기울기:        2.3001 y절편:       78.9994\n",
      "epoch => 4800, RMSE:        2.8810 기울기:        2.3001 y절편:       78.9994\n",
      "epoch => 5000, RMSE:        2.8810 기울기:        2.3001 y절편:       78.9994\n"
     ]
    }
   ],
   "source": [
    "# 학습 시킨다.\n",
    "import time\n",
    "sess = tf.Session()\n",
    "sess.run(tf.global_variables_initializer()) # 변수 초기화 및 실행\n",
    "\n",
    "for epoch in range(5001):\n",
    "    sess.run(gradient_descent) # 제일 중요한 코드. 경사하강법으로 기울기와 y절편을 구하는 학습을 세션 실행한다.\n",
    "    if epoch % 200 == 0: # 200번마다 찍음.\n",
    "        print('epoch => {:4d}, RMSE: {:13.4f} 기울기: {:13.4f} y절편: {:13.4f}'.format(epoch, \n",
    "                       sess.run(rmse), sess.run(a)[0], sess.run(b)[0]))\n",
    "        time.sleep(0.5)"
   ]
  },
  {
   "cell_type": "markdown",
   "id": "762c6cf2",
   "metadata": {},
   "source": [
    "<img src=\"./images/1111.png\">"
   ]
  },
  {
   "cell_type": "code",
   "execution_count": null,
   "id": "fd72bcd9",
   "metadata": {},
   "outputs": [],
   "source": []
  }
 ],
 "metadata": {
  "kernelspec": {
   "display_name": "Python 3",
   "language": "python",
   "name": "python3"
  },
  "language_info": {
   "codemirror_mode": {
    "name": "ipython",
    "version": 3
   },
   "file_extension": ".py",
   "mimetype": "text/x-python",
   "name": "python",
   "nbconvert_exporter": "python",
   "pygments_lexer": "ipython3",
   "version": "3.6.8"
  }
 },
 "nbformat": 4,
 "nbformat_minor": 5
}
