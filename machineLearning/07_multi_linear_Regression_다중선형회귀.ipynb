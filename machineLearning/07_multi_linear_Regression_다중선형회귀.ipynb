{
 "cells": [
  {
   "cell_type": "code",
   "execution_count": 1,
   "id": "e996fd34",
   "metadata": {},
   "outputs": [
    {
     "name": "stdout",
     "output_type": "stream",
     "text": [
      "WARNING:tensorflow:From c:\\python\\lib\\site-packages\\tensorflow\\python\\compat\\v2_compat.py:101: disable_resource_variables (from tensorflow.python.ops.variable_scope) is deprecated and will be removed in a future version.\n",
      "Instructions for updating:\n",
      "non-resource variables are not supported in the long term\n"
     ]
    }
   ],
   "source": [
    "import warnings\n",
    "warnings.filterwarnings(action='ignore')\n",
    "%config Completer.use_jedi = False\n",
    "import tensorflow.compat.v1 as tf\n",
    "tf.disable_v2_behavior()\n",
    "import numpy as np\n",
    "import pandas as pd"
   ]
  },
  {
   "cell_type": "code",
   "execution_count": 11,
   "id": "c1e44c9f",
   "metadata": {},
   "outputs": [],
   "source": [
    "# 실제 값 : [공부시간(x1), 과외시간(x2), 시험점수(y)]\n",
    "data = [[2, 0, 81], [4, 4, 93], [6, 2, 91], [8, 3, 97]]\n",
    "x1 = [i[0] for i in data] # 공부시간\n",
    "x2 = [i[1] for i in data] # 과외시간\n",
    "y = [i[2] for i in data] # 시험성적"
   ]
  },
  {
   "cell_type": "code",
   "execution_count": 12,
   "id": "cf327647",
   "metadata": {},
   "outputs": [
    {
     "name": "stdout",
     "output_type": "stream",
     "text": [
      "a1 = [8.901887], a2 = [8.973341], b = [37.834476]\n"
     ]
    }
   ],
   "source": [
    "# 기울기 a1, a2와 y절편 b를 난수로 정한다.\n",
    "a1 = tf.Variable(tf.random_uniform([1], 0, 10)) # 기울기(가중치)\n",
    "a2 = tf.Variable(tf.random_uniform([1], 0, 10)) # 기울기(가중치)\n",
    "b = tf.Variable(tf.random_uniform([1], 0, 100)) # y절편(바이어스)\n",
    "sess = tf.Session()\n",
    "sess.run(tf.global_variables_initializer())\n",
    "print('a1 = {}, a2 = {}, b = {}'.format(sess.run(a1), sess.run(a2), sess.run(b)))"
   ]
  },
  {
   "cell_type": "code",
   "execution_count": 13,
   "id": "4431d00c",
   "metadata": {},
   "outputs": [],
   "source": [
    "# 예측성적을 얻기위한 가설(수식)을 만든다.\n",
    "Y = a1 * x1 + a2 * x2 + b\n",
    "# tensorflow에서 실행할 RMSE(평균 제곱근 오차) (비용 함수)을 만든다.\n",
    "rmse = tf.sqrt(tf.reduce_mean(tf.square(Y - y))) # 예측값 - 실제값(오차) 제곱평균루트\n",
    "# 경사 하강법 -> RMSE 비용함수를 최소로 하는 값을 찾는 수식.\n",
    "gradient_descent = tf.train.GradientDescentOptimizer(0.01).minimize(rmse)"
   ]
  },
  {
   "cell_type": "code",
   "execution_count": 15,
   "id": "b43e7039",
   "metadata": {},
   "outputs": [
    {
     "name": "stdout",
     "output_type": "stream",
     "text": [
      "epoch =>    0, RMSE: 33.3793 기울기1:  8.6241 기울기2:  1.7668 y절편: 72.9454\n",
      "epoch =>  200, RMSE:  3.2511 기울기1:  3.1365 기울기2:  0.6967 y절편: 72.4220\n",
      "epoch =>  400, RMSE:  2.1333 기울기1:  2.4973 기울기2:  1.8774 y절편: 73.0364\n",
      "epoch =>  600, RMSE:  1.6758 기울기1:  2.1626 기울기2:  2.3380 y절편: 73.7828\n",
      "epoch =>  800, RMSE:  1.3582 기울기1:  1.9926 기울기2:  2.4266 y절편: 74.5540\n",
      "epoch => 1000, RMSE:  1.0564 기울기1:  1.8706 기울기2:  2.4106 y절편: 75.3210\n",
      "epoch => 1200, RMSE:  0.7672 기울기1:  1.7600 기울기2:  2.3753 y절편: 76.0726\n",
      "epoch => 1400, RMSE:  0.5087 기울기1:  1.6564 기울기2:  2.3397 y절편: 76.7830\n",
      "epoch => 1600, RMSE:  0.3322 기울기1:  1.5713 기울기2:  2.3103 y절편: 77.3676\n",
      "epoch => 1800, RMSE:  0.2756 기울기1:  1.5243 기울기2:  2.2941 y절편: 77.6904\n",
      "epoch => 2000, RMSE:  0.2681 기울기1:  1.5075 기울기2:  2.2883 y절편: 77.8057\n",
      "epoch => 2200, RMSE:  0.2673 기울기1:  1.5023 기울기2:  2.2865 y절편: 77.8415\n",
      "epoch => 2400, RMSE:  0.2673 기울기1:  1.5007 기울기2:  2.2860 y절편: 77.8524\n",
      "epoch => 2600, RMSE:  0.2673 기울기1:  1.5002 기울기2:  2.2858 y절편: 77.8556\n",
      "epoch => 2800, RMSE:  0.2673 기울기1:  1.5001 기울기2:  2.2857 y절편: 77.8565\n",
      "epoch => 3000, RMSE:  0.2673 기울기1:  1.5001 기울기2:  2.2857 y절편: 77.8565\n"
     ]
    }
   ],
   "source": [
    "# 학습 시킨다.\n",
    "import time\n",
    "sess = tf.Session()\n",
    "sess.run(tf.global_variables_initializer())\n",
    "\n",
    "for epoch in range(3001):\n",
    "    sess.run(gradient_descent)\n",
    "    if epoch % 200 == 0:\n",
    "        print('epoch => {:4d}, RMSE: {:7.4f} 기울기1: {:7.4f} 기울기2: {:7.4f} y절편: {:7.4f}'.format(epoch, \n",
    "                       sess.run(rmse), sess.run(a1)[0], sess.run(a2)[0], sess.run(b)[0]))\n",
    "        time.sleep(0.5)"
   ]
  },
  {
   "cell_type": "code",
   "execution_count": null,
   "id": "0c01deb1",
   "metadata": {},
   "outputs": [],
   "source": []
  },
  {
   "cell_type": "code",
   "execution_count": null,
   "id": "82c97c33",
   "metadata": {},
   "outputs": [],
   "source": []
  },
  {
   "cell_type": "code",
   "execution_count": null,
   "id": "c4a506ba",
   "metadata": {},
   "outputs": [],
   "source": []
  }
 ],
 "metadata": {
  "kernelspec": {
   "display_name": "Python 3",
   "language": "python",
   "name": "python3"
  },
  "language_info": {
   "codemirror_mode": {
    "name": "ipython",
    "version": 3
   },
   "file_extension": ".py",
   "mimetype": "text/x-python",
   "name": "python",
   "nbconvert_exporter": "python",
   "pygments_lexer": "ipython3",
   "version": "3.6.8"
  }
 },
 "nbformat": 4,
 "nbformat_minor": 5
}
