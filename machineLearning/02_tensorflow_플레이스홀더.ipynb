{
 "cells": [
  {
   "cell_type": "code",
   "execution_count": 1,
   "id": "3ab027ab",
   "metadata": {},
   "outputs": [
    {
     "name": "stdout",
     "output_type": "stream",
     "text": [
      "WARNING:tensorflow:From c:\\python\\lib\\site-packages\\tensorflow\\python\\compat\\v2_compat.py:101: disable_resource_variables (from tensorflow.python.ops.variable_scope) is deprecated and will be removed in a future version.\n",
      "Instructions for updating:\n",
      "non-resource variables are not supported in the long term\n"
     ]
    }
   ],
   "source": [
    "import warnings\n",
    "warnings.filterwarnings(action='ignore')\n",
    "%config Completer.use_jedi=False\n",
    "import tensorflow.compat.v1 as tf # ver1 \n",
    "tf.disable_v2_behavior() # ver2 사용 안함"
   ]
  },
  {
   "cell_type": "markdown",
   "id": "3e7def20",
   "metadata": {},
   "source": [
    "placeholder\n",
    "- 학습용 데이터를 담는 그릇으로, 실행 시점에 데이터를 할당\n",
    "- tf.placeholder(dtype[, shape, name])"
   ]
  },
  {
   "cell_type": "markdown",
   "id": "d46ce98f",
   "metadata": {},
   "source": [
    "- tensorflow에서 사용하는 여러건의 데이터를 저장하는 배열(리스트)이다.\n",
    "- dtype: placeholder에 저장되는 데이터의 자료형\n",
    "- shape: placeholder에 저장되는 데이터의 차원, 생략가능\n",
    "- name: placeholder의 이름, 생략가능"
   ]
  },
  {
   "cell_type": "code",
   "execution_count": 7,
   "id": "e2782c47",
   "metadata": {},
   "outputs": [
    {
     "name": "stdout",
     "output_type": "stream",
     "text": [
      "x=Tensor(\"Placeholder_10:0\", dtype=int32)\n",
      "y=Tensor(\"Placeholder_11:0\", dtype=int32)\n",
      "z=Tensor(\"add_5:0\", dtype=int32)\n",
      "[6 6 6 6 6]\n"
     ]
    }
   ],
   "source": [
    "# placeholder에 저장할 데이터\n",
    "xData = [1, 2, 3, 4, 5]\n",
    "yData = [5, 4, 3, 2, 1]\n",
    "\n",
    "x = tf.placeholder(dtype=tf.float32) # placeholder 선언.\n",
    "y = tf.placeholder(dtype=tf.float32) \n",
    "print('x={}'.format(x))\n",
    "print('y={}'.format(y))\n",
    "\n",
    "z = x + y # 수식 선언\n",
    "print('z={}'.format(z))\n",
    "\n",
    "sess = tf.Session()\n",
    "\n",
    "# 수식에 사용할 데이터를 placeholder에 대입하고 실행한다.\n",
    "\n",
    "# x, y placeholder에 데이터가 채워져있지 않기 때문에 error\n",
    "# 'feed_dict' 속성에 딕셔너리 타입으로 데이터를 채운 후 연산 실행.\n",
    "# {placeholder 이름: 데이터, placeholder 이름: 데이터, ...} 데이터는 리스트 또는 튜플 타입.\n",
    "result = sess.run(z, feed_dict={x: xData, y: yData})\n",
    "print(result)"
   ]
  },
  {
   "cell_type": "code",
   "execution_count": null,
   "id": "ce1113c2",
   "metadata": {},
   "outputs": [],
   "source": []
  },
  {
   "cell_type": "code",
   "execution_count": null,
   "id": "9d35d836",
   "metadata": {},
   "outputs": [],
   "source": []
  },
  {
   "cell_type": "code",
   "execution_count": null,
   "id": "81cdda1a",
   "metadata": {},
   "outputs": [],
   "source": []
  },
  {
   "cell_type": "code",
   "execution_count": null,
   "id": "6ce09df0",
   "metadata": {},
   "outputs": [],
   "source": []
  },
  {
   "cell_type": "code",
   "execution_count": null,
   "id": "92b8b0cb",
   "metadata": {},
   "outputs": [],
   "source": []
  },
  {
   "cell_type": "code",
   "execution_count": null,
   "id": "e8bab52b",
   "metadata": {},
   "outputs": [],
   "source": []
  }
 ],
 "metadata": {
  "kernelspec": {
   "display_name": "Python 3",
   "language": "python",
   "name": "python3"
  },
  "language_info": {
   "codemirror_mode": {
    "name": "ipython",
    "version": 3
   },
   "file_extension": ".py",
   "mimetype": "text/x-python",
   "name": "python",
   "nbconvert_exporter": "python",
   "pygments_lexer": "ipython3",
   "version": "3.6.8"
  }
 },
 "nbformat": 4,
 "nbformat_minor": 5
}
