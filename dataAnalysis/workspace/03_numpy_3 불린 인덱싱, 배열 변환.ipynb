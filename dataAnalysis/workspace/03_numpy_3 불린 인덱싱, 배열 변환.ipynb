{
 "cells": [
  {
   "cell_type": "code",
   "execution_count": 1,
   "id": "501d1dcc",
   "metadata": {},
   "outputs": [],
   "source": [
    "import warnings\n",
    "warnings.filterwarnings('ignore')\n",
    "%config Computer.use_jedi = False\n",
    "import numpy as np\n",
    "\n",
    "def pprint(arr):\n",
    "    print('type: {}'.format(type(arr)))\n",
    "    print('shape: {}, dimension: {}, dtype: {}'.format(arr.shape, arr.ndim, arr.dtype))\n",
    "    print('numpy 배열의 데이터\\n', arr, sep='') "
   ]
  },
  {
   "cell_type": "markdown",
   "id": "76b12409",
   "metadata": {},
   "source": [
    "인덱싱  \n",
    "\n",
    "[행][열] or [행, 열]과 같이 인덱스를 지정할 수 있다.\n",
    "\n",
    "!! 0행 0열부터다!!"
   ]
  },
  {
   "cell_type": "code",
   "execution_count": 5,
   "id": "1994414b",
   "metadata": {},
   "outputs": [
    {
     "name": "stdout",
     "output_type": "stream",
     "text": [
      "type: <class 'numpy.ndarray'>\n",
      "shape: (24,), dimension: 1, dtype: int32\n",
      "numpy 배열의 데이터\n",
      "[ 0  1  2  3  4  5  6  7  8  9 10 11 12 13 14 15 16 17 18 19 20 21 22 23]\n",
      "type: <class 'numpy.ndarray'>\n",
      "shape: (4, 6), dimension: 2, dtype: int32\n",
      "numpy 배열의 데이터\n",
      "[[ 0  1  2  3  4  5]\n",
      " [ 6  7  8  9 10 11]\n",
      " [12 13 14 15 16 17]\n",
      " [18 19 20 21 22 23]]\n",
      "type: <class 'numpy.ndarray'>\n",
      "shape: (2, 4, 3), dimension: 3, dtype: int32\n",
      "numpy 배열의 데이터\n",
      "[[[ 0  1  2]\n",
      "  [ 3  4  5]\n",
      "  [ 6  7  8]\n",
      "  [ 9 10 11]]\n",
      "\n",
      " [[12 13 14]\n",
      "  [15 16 17]\n",
      "  [18 19 20]\n",
      "  [21 22 23]]]\n"
     ]
    }
   ],
   "source": [
    "a = np.arange(24) # 1차원\n",
    "pprint(a)\n",
    "\n",
    "b = np.arange(24).reshape(4,6)\n",
    "pprint(b)\n",
    "\n",
    "c = np.arange(24).reshape(2,4,3)\n",
    "pprint(c)"
   ]
  },
  {
   "cell_type": "code",
   "execution_count": 10,
   "id": "53946bfb",
   "metadata": {},
   "outputs": [
    {
     "name": "stdout",
     "output_type": "stream",
     "text": [
      "type: <class 'numpy.ndarray'>\n",
      "shape: (24,), dimension: 1, dtype: int32\n",
      "numpy 배열의 데이터\n",
      "[  0   1   2   3   4 999   6   7   8   9  10  11  12  13  14  15  16  17\n",
      "  18  19  20  21  22  23]\n",
      "type: <class 'numpy.ndarray'>\n",
      "shape: (4, 6), dimension: 2, dtype: int32\n",
      "numpy 배열의 데이터\n",
      "[[   0    1    2    3    4    5]\n",
      " [   6    7    8    9   10   11]\n",
      " [  12   13   14 2323   16   17]\n",
      " [  18   19   20   21   22   23]]\n",
      "type: <class 'numpy.ndarray'>\n",
      "shape: (2, 4, 3), dimension: 3, dtype: int32\n",
      "numpy 배열의 데이터\n",
      "[[[  0   1   2]\n",
      "  [  3   4   5]\n",
      "  [  6   7  22]\n",
      "  [  9  10  11]]\n",
      "\n",
      " [[ 12  13  14]\n",
      "  [ 15  16  17]\n",
      "  [120  19  20]\n",
      "  [ 21  22  23]]]\n"
     ]
    }
   ],
   "source": [
    "# 1차원 배열 요소 참조 및 변경\n",
    "a[5]=999\n",
    "pprint(a)\n",
    "\n",
    "# 2차원\n",
    "b[2,3]=2323 \n",
    "pprint(b)\n",
    "\n",
    "# 3차원\n",
    "c[0][2][2] =22\n",
    "c[1,2,0]=120 \n",
    "pprint(c)"
   ]
  },
  {
   "cell_type": "markdown",
   "id": "b48ac5b4",
   "metadata": {},
   "source": [
    "슬라이싱 ! 약점.\n",
    "\n",
    "[a,b] : a이상 b미만 슬라이스\n",
    "\n",
    "[0, -1] : 0이상 마지막미만"
   ]
  },
  {
   "cell_type": "code",
   "execution_count": 31,
   "id": "0918e44d",
   "metadata": {},
   "outputs": [
    {
     "name": "stdout",
     "output_type": "stream",
     "text": [
      "[  0   1   2   3   4 999   6   7   8   9  10  11  12  13  14  15  16  17\n",
      "  18  19  20  21  22  23]\n",
      "[  2   3   4 999]\n",
      "[[   0    1    2    3    4    5]\n",
      " [   6    7 9999 9999   10   11]\n",
      " [  12   13 9999 9999   16   17]\n",
      " [  18   19   20   21   22   23]]\n",
      "================================================================================\n",
      "[[   2    3]\n",
      " [9999 9999]\n",
      " [9999 9999]\n",
      " [  20   21]]\n",
      "================================================================================\n",
      "[[   7 9999 9999   10]\n",
      " [  13 9999 9999   16]]\n",
      "================================================================================\n",
      "[[   7 9999 9999   10]\n",
      " [  13 9999 9999   16]]\n",
      "================================================================================\n",
      "[[   7 9999 9999   10]\n",
      " [  13 9999 9999   16]]\n",
      "[[   0    1    2    3    4    5]\n",
      " [   6    7 9999 9999   10   11]\n",
      " [  12   13 9999 9999   16   17]\n",
      " [  18   19   20   21   22   23]]\n"
     ]
    }
   ],
   "source": [
    "#1차원\n",
    "print(a)\n",
    "print(a[2:6]) # index 2이상 6미만 슬라이스\n",
    "    \n",
    "#2차원\n",
    "print(b) #3행 5열\n",
    "print(\"=\"*80)\n",
    "\n",
    "print(b[:,2:4]) # 전체행, 2이상3미만열\n",
    "print(\"=\"*80)\n",
    "\n",
    "print(b[1:3,1:5]) # 1이상3미만행, 1이상5미만열\n",
    "print(\"=\"*80)\n",
    "\n",
    "# -1 : 마지막 인덱스\n",
    "print(b[1:-1,1:-1]) # 위와 같은 결과\n",
    "print(\"=\"*80)\n",
    "\n",
    "\n",
    "# 슬라이싱 이용한 배열 수정\n",
    "slide_arr = b[1:3,1:5]\n",
    "slide_arr[:,1:3]=9999\n",
    "print(slide_arr)\n",
    "print(b) # 원본까지 수정됨.(얕은 복사)"
   ]
  },
  {
   "cell_type": "markdown",
   "id": "dffaae2f",
   "metadata": {},
   "source": [
    "불린 인덱싱(중요)\n",
    "\n",
    "1. 배열 각 요소의 선택여부를 True, False로 표현한다.\n",
    "\n",
    "2. 인덱스가 True인 아이템만 결과로 추출한다.\n",
    "\n",
    "- 조건 걸리면 불린인덱싱"
   ]
  },
  {
   "cell_type": "code",
   "execution_count": 39,
   "id": "3afd6f44",
   "metadata": {},
   "outputs": [
    {
     "name": "stdout",
     "output_type": "stream",
     "text": [
      "type: <class 'numpy.ndarray'>\n",
      "shape: (4, 6), dimension: 2, dtype: int32\n",
      "numpy 배열의 데이터\n",
      "[[ 0  1  2  3  4  5]\n",
      " [ 6  7  8  9 10 11]\n",
      " [12 13 14 15 16 17]\n",
      " [18 19 20 21 22 23]]\n",
      "[[0 1 0 1 0 1]\n",
      " [0 1 0 1 0 1]\n",
      " [0 1 0 1 0 1]\n",
      " [0 1 0 1 0 1]]\n",
      "================================================================================\n",
      "[[ True False  True False  True False]\n",
      " [ True False  True False  True False]\n",
      " [ True False  True False  True False]\n",
      " [ True False  True False  True False]]\n",
      "================================================================================\n",
      "[ 0  2  4  6  8 10 12 14 16 18 20 22]\n",
      "================================================================================\n",
      "132\n",
      "144\n"
     ]
    }
   ],
   "source": [
    "a = np.arange(24).reshape(4, 6)\n",
    "pprint(a)\n",
    "\n",
    "# ex) 짝수인 요소의 합계\n",
    "\n",
    "#1. 배열 각 요소의 선택여부를 True, False로 표현합니다.\n",
    "\n",
    "even_arr1 = a%2 # 브로드캐스팅(배열과 스칼라 연산)\n",
    "print(even_arr1)\n",
    "print(\"=\"*80)\n",
    "\n",
    "even_arr2 = a%2 ==0 # True or False\n",
    "print(even_arr2)\n",
    "print(\"=\"*80)\n",
    "\n",
    "# 2. 인덱스가 True인 아이템만 리턴.\n",
    "print(a[a%2==0]) # [ 0  2  4  6  8 10 12 14 16 18 20 22]\n",
    "print(\"=\"*80)\n",
    "\n",
    "\n",
    "print(np.sum(a[a%2==0])) # 짝수\n",
    "print(np.sum(a[a%2==1])) # 홀수"
   ]
  },
  {
   "cell_type": "markdown",
   "id": "962aa444",
   "metadata": {},
   "source": [
    "불린 인덱싱 응용  with pandas  \n",
    "\n",
    "- 행 : 데이터 1건, 열 : 특성. 열 하나 : 시리즈\n",
    "\n",
    "\n",
    "ex) 2014년 시애틀 1월 평균 강수량?  \n",
    "\n",
    "1. 판다스로 데이터프레임을 읽는다 - pd.read_csv\n",
    "\n",
    "2. 강수량 열(PRCP)의 데이터만 얻어온다 - rain_in_seattle.PRCP.values\n",
    "\n",
    "3. 1년치 데이터 중 불린인덱스로 1월로 true인 데이터만 뽑아 평균을 구한다\n"
   ]
  },
  {
   "cell_type": "markdown",
   "id": "4e154d0c",
   "metadata": {},
   "source": [
    "데이터 파일 => ./data/Seattle2014.csv\n"
   ]
  },
  {
   "cell_type": "code",
   "execution_count": 42,
   "id": "5f232bc3",
   "metadata": {},
   "outputs": [],
   "source": [
    "import pandas as pd"
   ]
  },
  {
   "cell_type": "code",
   "execution_count": null,
   "id": "93f0650c",
   "metadata": {},
   "outputs": [],
   "source": [
    "rain_in_seattle = pd.read_csv('./data/Seattle2014.csv') # csv파일을 데이터 프레임으로 읽어들인다\n",
    "print(type(rain_in_seattle)) # DataFrame\n",
    "rain_in_seattle"
   ]
  },
  {
   "cell_type": "code",
   "execution_count": 60,
   "id": "6900e2a0",
   "metadata": {
    "collapsed": true
   },
   "outputs": [
    {
     "name": "stdout",
     "output_type": "stream",
     "text": [
      "0       0\n",
      "1      41\n",
      "2      15\n",
      "3       0\n",
      "4       0\n",
      "       ..\n",
      "360    33\n",
      "361    41\n",
      "362     0\n",
      "363     0\n",
      "364     0\n",
      "Name: PRCP, Length: 365, dtype: int64\n",
      "<class 'pandas.core.series.Series'>\n"
     ]
    }
   ],
   "source": [
    "# 강수량 열(PRCP) 만 추출\n",
    "\n",
    "# 1. 데이터프레임의 시리즈 추출  \n",
    "# rain_arr = rain_in_seattle['PRCP']\n",
    "# rain_arr = rain_in_seattle.get('PRCP')\n",
    "rain_arr = rain_in_seattle.PRCP\n",
    "print(rain_arr)\n",
    "print(type(rain_arr)) # Series"
   ]
  },
  {
   "cell_type": "code",
   "execution_count": 62,
   "id": "5a37ca37",
   "metadata": {},
   "outputs": [
    {
     "name": "stdout",
     "output_type": "stream",
     "text": [
      "<class 'numpy.ndarray'>\n",
      "[  0  41  15   0   0   3 122  97  58  43 213  15   0   0   0   0   0   0\n",
      "   0   0   0   5   0   0   0   0   0  89 216   0  23  20   0   0   0   0\n",
      "   0   0  51   5 183 170  46  18  94 117 264 145 152  10  30  28  25  61\n",
      " 130   3   0   0   0   5 191 107 165 467  30   0 323  43 188   0   0   5\n",
      "  69  81 277   3   0   5   0   0   0   0   0  41  36   3 221 140   0   0\n",
      "   0   0  25   0  46   0   0  46   0   0   0   0   0   0   5 109 185   0\n",
      " 137   0  51 142  89 124   0  33  69   0   0   0   0   0 333 160  51   0\n",
      "   0 137  20   5   0   0   0   0   0   0   0   0   0   0   0   0  38   0\n",
      "  56   0   0   0   0   0   0   0   0   0   0   0   0   0   0   0   0   0\n",
      "  18  64   0   5  36  13   0   8   3   0   0   0   0   0   0  18  23   0\n",
      "   0   0   0   0   0   0   0   0   0   0   0   0   0   0   0   0   0   0\n",
      "   0   0   0   0   3 193   0   0   0   0   0   0   0   0   0   5   0   0\n",
      "   0   0   0   0   0   0   5 127 216   0  10   0   0   0   0   0   0   0\n",
      "   0   0   0   0   0   0   0  84  13   0  30   0   0   0   0   0   0   0\n",
      "   0   0   0   0   0   0   0   5   3   0   0   0   3 183 203  43  89   0\n",
      "   0   8   0   0   0   0   0   0   0   0   0   0   3  74   0  76  71  86\n",
      "   0  33 150   0 117  10 320  94  41  61  15   8 127   5 254 170   0  18\n",
      " 109  41  48  41   0   0  51   0   0   0   0   0   0   0   0   0   0  36\n",
      " 152   5 119  13 183   3  33 343  36   0   0   0   0   8  30  74   0  91\n",
      "  99 130  69   0   0   0   0   0  28 130  30 196   0   0 206  53   0   0\n",
      "  33  41   0   0   0]\n",
      "Data Size: 365\n"
     ]
    }
   ],
   "source": [
    "rain_arr = rain_in_seattle.PRCP.values # 2. Series의 데이터만 'numpy.ndarray' 형태로 얻어온다.\n",
    "print(type(rain_arr)) # <class 'numpy.ndarray'>\n",
    "print(rain_arr)\n",
    "print('Data Size:', len(rain_arr))"
   ]
  },
  {
   "cell_type": "code",
   "execution_count": 72,
   "id": "ccef0600",
   "metadata": {},
   "outputs": [
    {
     "name": "stdout",
     "output_type": "stream",
     "text": [
      "[  0  41  15   0   0   3 122  97  58  43 213  15   0   0   0   0   0   0\n",
      "   0   0   0   5   0   0   0   0   0  89 216   0  23]\n",
      "1월 강수량 평균 : 30.3\n"
     ]
    }
   ],
   "source": [
    "days_arr = np.arange(365) # 1일~365일 배열\n",
    "# print(days_arr)\n",
    "\n",
    "# 1. 1월의 날수만큼 불린 인덱스를 생성한다\n",
    "condition_jan = days_arr < 31 # 31일만큼 True\n",
    "# print(condition_jan)\n",
    "\n",
    "# 2. 불린 인덱스를 이용해 1월의 강수량을 추출\n",
    "rain_jan = rain_arr[condition_jan]\n",
    "print(rain_jan)\n",
    "\n",
    "# 3. 평균 구한다\n",
    "print('1월 강수량 평균 : {:4.1f}'.format(np.mean(rain_jan)))# 4자리에 소수첫째까지 나오는 실수"
   ]
  },
  {
   "cell_type": "markdown",
   "id": "7dacea02",
   "metadata": {},
   "source": [
    "팬시 인덱싱 : \n",
    "배열에 인덱스 배열을 전달해 요소를 참조하는 방법"
   ]
  },
  {
   "cell_type": "code",
   "execution_count": 79,
   "id": "045cf7cc",
   "metadata": {},
   "outputs": [
    {
     "name": "stdout",
     "output_type": "stream",
     "text": [
      "[[ 1  2  3  4  5  6]\n",
      " [ 7  8  9 10 11 12]\n",
      " [13 14 15 16 17 18]\n",
      " [19 20 21 22 23 24]]\n",
      "1 8 15 22\n",
      "================================================================================\n",
      "[ 1  8 15 22]\n",
      "[ 6 11 16 21]\n"
     ]
    }
   ],
   "source": [
    "a = np.arange(1, 25).reshape(4, 6)\n",
    "print(a)\n",
    "print(a[0, 0], a[1, 1] ,a[2, 2], a[3, 3])\n",
    "print('=' * 80)\n",
    "print(a[[0, 1, 2, 3], (0, 1, 2, 3)]) # 팬시 인덱싱. 위와 같은 결과\n",
    "print(a[[0, 1, 2, 3], (5, 4, 3, 2)]) # 6 11 16 21 "
   ]
  },
  {
   "cell_type": "markdown",
   "id": "62424e31",
   "metadata": {},
   "source": [
    "배열 변환(transform)\n",
    "\n",
    ": 전치, 배열의 shape 변경, 배열 크기 변경, 배열 요소 추가, 배열 결합, 배열 분리.\n",
    "\n",
    "1. 전치 : 행렬의 인덱스 바꿈.\n",
    "\n",
    "2. shape 변경 :reshape(), ravel().\n",
    "- reshape(): 데이터 변경없이 지정된 shape으로 변환.\n",
    "- ravel() : 배열의 shape를 1차원으로 변경.(cnn : 이미지 인식, rnn : 글자 인식. 시계열 데이터)\n",
    "\n",
    "\n",
    "3. resize() : 배열의 shape과 크기를 변경.\n",
    "- 늘어난 요소에는 0 또는 기존 데이터가 채워진다.\n",
    "- 줄어든 요소의 데이터는 분실된다.\n",
    "\n",
    "4. append() : 배열 끝에 데이터 추가. axis로 방향 지정\n",
    "\n",
    "- axis=None : 1차원 배열로 변환되어 결합. 기본값.\n",
    "\n",
    "- axis=0 : 행방향 appending. 열의 개수는 반드시 같아야함. 다르면 오류\n",
    "\n",
    "- axis=1 : 열방향 appending.  행의 개수는 반드시 같아야 한다. \n",
    "\n",
    "5. insert(), delete()  : 지정한 index에 데이터를 삽입. 삭제 axis로 방향 지정\n",
    "- np.insert(배열 이름, index, [삽입할 데이터], axis)\n",
    "\n",
    "6. 배열 결합 : np.concatenate(), np.vstack(), np.hstack().\n",
    "- np.concatenate((배열1, 배열2, ...), axis)\n",
    "- np.vstack((배열1, 배열2, ...)) : 수직 방향(axis=0)으로 결합한다.\n",
    "- np.hstack((배열1, 배열2, ...)) : 수평 방향(axis=1)으로 결합한다.\n",
    "\n",
    "7. 배열 분리\n",
    "- 수직 방향으로 분할하는 np.vsplit(), 수평 방향으로 분할하는 np.hsplit().\n"
   ]
  },
  {
   "cell_type": "code",
   "execution_count": 105,
   "id": "cf705bcf",
   "metadata": {
    "scrolled": true
   },
   "outputs": [
    {
     "name": "stdout",
     "output_type": "stream",
     "text": [
      "[[1 2]\n",
      " [3 4]\n",
      " [5 6]]\n",
      "[[1 3 5]\n",
      " [2 4 6]]\n",
      "================================================================================\n",
      "[[8 1 1]\n",
      " [2 6 2]]\n",
      "[8 1 1 2 6 2]\n"
     ]
    }
   ],
   "source": [
    "a = np.arange(1,7).reshape(3,2)\n",
    "print(a)\n",
    "print(a.T) # 1. 전치 : .T\n",
    "\n",
    "print('=' * 80)\n",
    "\n",
    "\n",
    "a = np.random.randint(1, 10, (2, 3))\n",
    "print(a)\n",
    "print(a.ravel()) # 2. ravel : 1차원으로 반환\n",
    "\n"
   ]
  },
  {
   "cell_type": "code",
   "execution_count": 94,
   "id": "a8507ad1",
   "metadata": {
    "collapsed": true
   },
   "outputs": [
    {
     "name": "stdout",
     "output_type": "stream",
     "text": [
      "[999   9   3   9   4   2]\n",
      "[999   9   3   9 999   2]\n",
      "================================================================================\n",
      "[[999   9   3]\n",
      " [  9 999   2]]\n",
      "[[7 6 4]\n",
      " [8 3 1]]\n",
      "================================================================================\n",
      "[[[7]\n",
      "  [6]]\n",
      "\n",
      " [[4]\n",
      "  [8]]\n",
      "\n",
      " [[3]\n",
      "  [1]]]\n",
      "================================================================================\n",
      "[[[999]\n",
      "  [  6]]\n",
      "\n",
      " [[  4]\n",
      "  [  8]]\n",
      "\n",
      " [[  3]\n",
      "  [  1]]]\n",
      "================================================================================\n",
      "[[999   6   4]\n",
      " [  8   3   1]]\n"
     ]
    }
   ],
   "source": [
    "# cf) ravel() , reshape() 함수가 반환한 배열은 얕은 복사이다. 이를 수정하면 원본 내용도 수정된다. (이해완. 넘겨도됨)\n",
    "b = a.ravel()\n",
    "print(b)\n",
    "b[4] = 999\n",
    "print(b)\n",
    "print('=' * 80)\n",
    "print(a)\n",
    "\n",
    "\n",
    "a = np.random.randint(1, 10, (2, 3))\n",
    "print(a)\n",
    "print('=' * 80)\n",
    "b = a.reshape(3, 2, 1)\n",
    "print(b)\n",
    "print('=' * 80)\n",
    "b[0][0][0] = 999\n",
    "print(b)\n",
    "print('=' * 80)\n",
    "print(a)\n"
   ]
  },
  {
   "cell_type": "code",
   "execution_count": 107,
   "id": "39c24bba",
   "metadata": {
    "collapsed": true
   },
   "outputs": [
    {
     "name": "stdout",
     "output_type": "stream",
     "text": [
      "[[6 7 9 2 8 2]\n",
      " [9 4 5 9 2 8]]\n",
      "[[6 7]\n",
      " [9 2]\n",
      " [8 2]\n",
      " [9 4]\n",
      " [5 9]\n",
      " [2 8]]\n",
      "[[6 7]\n",
      " [9 2]\n",
      " [8 2]\n",
      " [9 4]\n",
      " [5 9]\n",
      " [2 8]]\n",
      "[[9 7 9 7 9 1]\n",
      " [2 7 7 5 9 9]]\n",
      "[[9 7]\n",
      " [9 7]\n",
      " [9 1]\n",
      " [2 7]\n",
      " [7 5]\n",
      " [9 9]]\n",
      "================================================================================\n"
     ]
    }
   ],
   "source": [
    "a = np.random.randint(1, 10, (2, 6))\n",
    "print(a)\n",
    "print(np.resize(a, (6, 2))) # np.resize(a) :shape 변경 리턴한다. \n",
    "b = np.resize(a, (6, 2)) \n",
    "print(b)\n",
    "a = np.random.randint(1, 10, (2, 6))\n",
    "print(a)\n",
    "a.resize(6, 2) # 배열.resize() : 원본 배열의 shape이 변경된다. ㅈㄴ 별거아닌데 길게설명함\n",
    "print(a)\n",
    "print('=' * 80)\n",
    "\n",
    "\n"
   ]
  },
  {
   "cell_type": "code",
   "execution_count": 108,
   "id": "fe014e3f",
   "metadata": {},
   "outputs": [
    {
     "name": "stdout",
     "output_type": "stream",
     "text": [
      "[[9 2 6 9 4 8]\n",
      " [8 1 6 8 8 6]]\n",
      "[[9 2 6 9 4 8 8 1 6 8]\n",
      " [8 6 0 0 0 0 0 0 0 0]]\n",
      "[[9 2 6 9]\n",
      " [4 8 8 1]]\n",
      "================================================================================\n",
      "[[5 1 4 4 3 3]\n",
      " [2 7 1 8 9 6]]\n",
      "[[5 1 4 4 3 3 2 7 1 8]\n",
      " [9 6 5 1 4 4 3 3 2 7]]\n"
     ]
    }
   ],
   "source": [
    "# 요소의 크기가 변경되는 resize() 함수\n",
    "a = np.random.randint(1, 10, (2, 6)) \n",
    "print(a)\n",
    "# a.reshape(2, 10) # reshape() : 원본과 요소의 개수가 다르면 에러.\n",
    "a.resize(2, 10) # 배열의 요소 개수가 12개에서 20개로 늘어나고 늘어난 요소에는 0이 채워진다.\n",
    "print(a)\n",
    "a.resize(2, 4) # 배열의 요소 개수가 20개에서 8개로 줄어들고 줄어든 요소의 데이터는 분실된다.\n",
    "print(a)\n",
    "print('=' * 80)\n",
    "\n",
    "a = np.random.randint(1, 10, (2, 6))\n",
    "print(a)\n",
    "a = np.resize(a, (2, 10)) # 늘어난 요소에 원본 배열 데이터가 반복돼 채워진다.\n",
    "print(a)"
   ]
  },
  {
   "cell_type": "code",
   "execution_count": 115,
   "id": "a514b73d",
   "metadata": {},
   "outputs": [
    {
     "name": "stdout",
     "output_type": "stream",
     "text": [
      "[[9 8 3]\n",
      " [5 9 4]\n",
      " [2 7 7]]\n",
      "[[16 12 17]\n",
      " [18 14 15]\n",
      " [14 17 12]]\n",
      "[ 9  8  3  5  9  4  2  7  7 16 12 17 18 14 15 14 17 12]\n",
      "[[ 9  8  3]\n",
      " [ 5  9  4]\n",
      " [ 2  7  7]\n",
      " [16 12 17]\n",
      " [18 14 15]\n",
      " [14 17 12]]\n",
      "[[18 12]\n",
      " [13 18]\n",
      " [15 17]]\n"
     ]
    }
   ],
   "source": [
    "a = np.random.randint(1, 10, (3, 3))\n",
    "print(a)\n",
    "b = np.random.randint(10, 19, (3, 3))\n",
    "print(b)\n",
    "\n",
    "# axis=None : 1차원 배열로 변환되어 결합. 기본값.\n",
    "result = np.append(a, b)\n",
    "print(result)\n",
    "result = np.append(a, b, axis=None) # 같음\n",
    "\n",
    "# axis=0 : 행방향 appending. 열의 개수는 반드시 같아야함. 다르면 오류\n",
    "result = np.append(a, b, axis=0) # a 배열 아래쪽에 b 배열이 추가.\n",
    "print(result)\n",
    "'''\n",
    "[[ 6  1  7]\n",
    " [ 2  1  9]\n",
    " [ 2  1  1]\n",
    " [16 18 12]\n",
    " [15 15 17]\n",
    " [18 17 17]]\n",
    "'''\n",
    "\n",
    "diff_shape = np.random.randint(10, 19, (3, 2)) # a 배열과 열의 개수가 다른 배열\n",
    "# result = np.append(a, diff_shape, axis=0) # 추가할 데이터가 a 배열과 열의 개수가 다르기 때문에 에러가 발생된다.\n",
    "# print(result)\n",
    "\n"
   ]
  },
  {
   "cell_type": "code",
   "execution_count": 118,
   "id": "b675aba3",
   "metadata": {},
   "outputs": [
    {
     "name": "stdout",
     "output_type": "stream",
     "text": [
      "[[ 9  8  3 16 12 17]\n",
      " [ 5  9  4 18 14 15]\n",
      " [ 2  7  7 14 17 12]]\n",
      "================================================================================\n"
     ]
    }
   ],
   "source": [
    "# axis=1 : 열방향 appending.  행의 개수는 반드시 같아야 한다. \n",
    "result = np.append(a, b, axis=1) # a 배열 오른쪽에 b 배열이 추가된다.\n",
    "print(result)\n",
    "'''\n",
    "[[ 6  1  7 16 18 12]\n",
    " [ 2  1  9 15 15 17]\n",
    " [ 2  1  1 18 17 17]]\n",
    "'''\n",
    "print('=' * 80)\n",
    "\n",
    "diff_shape = np.random.randint(10, 19, (4, 3)) # a 배열과 행의 개수가 다른 배열\n",
    "# print(diff_shape)\n",
    "# result = np.append(a, diff_shape, axis=1) # 추가할 데이터가 a 배열과 행의 개수가 다르기 때문에 에러가 발생된다.\n",
    "# print(result)\n"
   ]
  },
  {
   "cell_type": "code",
   "execution_count": 120,
   "id": "b1e41367",
   "metadata": {
    "collapsed": true
   },
   "outputs": [
    {
     "name": "stdout",
     "output_type": "stream",
     "text": [
      "[[6 7 8]\n",
      " [9 6 5]\n",
      " [4 9 4]]\n",
      "[    6 99999     7     8     9     6     5     4     9     4]\n",
      "[[    6     7     8]\n",
      " [99999 99999 99999]\n",
      " [    9     6     5]\n",
      " [    4     9     4]]\n",
      "[[    6 99999     7     8]\n",
      " [    9 99999     6     5]\n",
      " [    4 99999     9     4]]\n"
     ]
    },
    {
     "data": {
      "text/plain": [
       "'\\n[[    6 99999     1     7]\\n [    2 99999     1     9]\\n [    2 99999     1     1]]\\n '"
      ]
     },
     "execution_count": 120,
     "metadata": {},
     "output_type": "execute_result"
    }
   ],
   "source": [
    "# np.insert(배열 이름, index, 삽입할 데이터, axis)\n",
    "\n",
    "a = np.random.randint(1, 10, (3, 3))\n",
    "print(a)\n",
    "# axis= None : 기본값. 배열을 1차원으로 변환한 후 지정된 index에 데이터를 삽입한다.\n",
    "print(np.insert(a, 1, 99999))\n",
    "# print(np.insert(a, 1, 99999, axis=None))\n",
    "\n",
    "# axis=0. 행방향 삽입\n",
    "print(np.insert(a, 1, 99999, axis=0))\n",
    "'''\n",
    "[[    6     1     7]\n",
    " [99999 99999 99999]\n",
    " [    2     1     9]\n",
    " [    2     1     1]]\n",
    "'''\n",
    "\n",
    "# axis=1. 열방향 삽입\n",
    "print(np.insert(a, 1, 99999, axis=1))\n",
    "'''\n",
    "[[    6 99999     1     7]\n",
    " [    2 99999     1     9]\n",
    " [    2 99999     1     1]]\n",
    " '''"
   ]
  },
  {
   "cell_type": "code",
   "execution_count": 121,
   "id": "c33ffe54",
   "metadata": {
    "collapsed": true
   },
   "outputs": [
    {
     "name": "stdout",
     "output_type": "stream",
     "text": [
      "[[6 5 2]\n",
      " [6 7 4]\n",
      " [5 9 2]]\n",
      "[6 2 6 7 4 5 9 2]\n",
      "[6 2 6 7 4 5 9 2]\n",
      "[[6 5 2]\n",
      " [5 9 2]]\n",
      "[[6 2]\n",
      " [6 4]\n",
      " [5 2]]\n"
     ]
    },
    {
     "data": {
      "text/plain": [
       "'\\n[[1 7]\\n [5 5]\\n [6 9]]\\n'"
      ]
     },
     "execution_count": 121,
     "metadata": {},
     "output_type": "execute_result"
    }
   ],
   "source": [
    "# delete\n",
    "\n",
    "a = np.random.randint(1, 10, (3, 3))\n",
    "print(a)\n",
    "'''\n",
    "[[1 5 7]\n",
    " [5 8 5]\n",
    " [6 4 9]]\n",
    "'''\n",
    "# axis를 지정하지 않으면 None이 기본값이고 배열을 1차원으로 변환한 후 지정된 index에 데이터를 삭제한다.\n",
    "print(np.delete(a, 1))\n",
    "print(np.delete(a, 1, axis=None))\n",
    "'''\n",
    "[1 7 5 8 5 6 4 9]\n",
    "'''\n",
    "# axis=0 행방향 삭제.\n",
    "print(np.delete(a, 1, axis=0))\n",
    "'''\n",
    "[[1 5 7]\n",
    " [6 4 9]]\n",
    "'''\n",
    "# axis=1 열방향 삭제.\n",
    "print(np.delete(a, 1, axis=1))\n",
    "'''\n",
    "[[1 7]\n",
    " [5 5]\n",
    " [6 9]]\n",
    "'''\n"
   ]
  },
  {
   "cell_type": "code",
   "execution_count": 123,
   "id": "1df01db0",
   "metadata": {},
   "outputs": [
    {
     "name": "stdout",
     "output_type": "stream",
     "text": [
      "[[2 3 3]\n",
      " [6 4 2]]\n",
      "[[18 12 16]\n",
      " [13 17 12]]\n",
      "[[ 2  3  3]\n",
      " [ 6  4  2]\n",
      " [18 12 16]\n",
      " [13 17 12]]\n",
      "[[ 2  3  3 18 12 16]\n",
      " [ 6  4  2 13 17 12]]\n"
     ]
    }
   ],
   "source": [
    "# 배열 결합 - concatenate\n",
    "\n",
    "a = np.random.randint(1, 10, (2, 3))\n",
    "print(a)\n",
    "b = np.random.randint(10, 19, (2, 3))\n",
    "print(b)\n",
    "'''\n",
    "[[3 2 7]\n",
    " [8 9 3]]\n",
    "\n",
    "[[18 18 16]\n",
    " [16 10 15]]\n",
    "'''\n",
    "# axis= 0이 기본값. 아래쪽으로 배열을 결합한다. 결합할 배열들이 열의 개수가 다르면 에러가 발생된다.\n",
    "result = np.concatenate((a, b))\n",
    "print(result)\n",
    "result = np.concatenate((a, b), axis=0)\n",
    "'''\n",
    "[[ 3  2  7]\n",
    " [ 8  9  3]\n",
    " [18 18 16]\n",
    " [16 10 15]]\n",
    "'''\n",
    "# axis=1 열방향 오른쪽으로 배열을 결합한다. 행의 개수가 다르면 에러.\n",
    "result = np.concatenate((a, b), axis=1)\n",
    "print(result)\n"
   ]
  },
  {
   "cell_type": "code",
   "execution_count": 125,
   "id": "9498f5a7",
   "metadata": {
    "collapsed": true
   },
   "outputs": [
    {
     "name": "stdout",
     "output_type": "stream",
     "text": [
      "[[5 4 1]\n",
      " [8 3 5]]\n",
      "[[17 11 18]\n",
      " [17 10 12]]\n",
      "[[ 5  4  1]\n",
      " [ 8  3  5]\n",
      " [17 11 18]\n",
      " [17 10 12]]\n",
      "[[ 5  4  1 17 11 18]\n",
      " [ 8  3  5 17 10 12]]\n"
     ]
    },
    {
     "data": {
      "text/plain": [
       "'\\n[[ 3  7  1 16 15 13]\\n [ 9  6  6 13 10 18]]\\n\\n'"
      ]
     },
     "execution_count": 125,
     "metadata": {},
     "output_type": "execute_result"
    }
   ],
   "source": [
    "# np.vstack((배열1, 배열2, ...))\n",
    "# np.hstack((a, b)\n",
    "\n",
    "a = np.random.randint(1, 10, (2, 3))\n",
    "print(a)\n",
    "b = np.random.randint(10, 19, (2, 3))\n",
    "print(b)\n",
    "'''\n",
    "[[3 7 1]\n",
    " [9 6 6]]\n",
    "'''\n",
    "'''\n",
    "[[16 15 13]\n",
    " [13 10 18]]\n",
    "'''\n",
    "print(np.vstack((a, b))) # 열의 개수가 다르면 에러가 발생된다.\n",
    "'''\n",
    "[[ 3  7  1]\n",
    " [ 9  6  6]\n",
    " [16 15 13]\n",
    " [13 10 18]]\n",
    "\n",
    "'''\n",
    "print(np.hstack((a, b))) # 행의 개수가 다르면 에러가 발생된다.\n",
    "'''\n",
    "[[ 3  7  1 16 15 13]\n",
    " [ 9  6  6 13 10 18]]\n",
    "\n",
    "'''\n",
    "\n"
   ]
  },
  {
   "cell_type": "code",
   "execution_count": 131,
   "id": "cafb4e5f",
   "metadata": {},
   "outputs": [
    {
     "name": "stdout",
     "output_type": "stream",
     "text": [
      "<class 'list'>\n",
      "[array([[ 1,  2],\n",
      "       [ 7,  8],\n",
      "       [13, 14],\n",
      "       [19, 20]]), array([[ 3,  4],\n",
      "       [ 9, 10],\n",
      "       [15, 16],\n",
      "       [21, 22]]), array([[ 5,  6],\n",
      "       [11, 12],\n",
      "       [17, 18],\n",
      "       [23, 24]])]\n",
      "[array([[1, 2, 3, 4, 5, 6]]), array([[ 7,  8,  9, 10, 11, 12]]), array([[13, 14, 15, 16, 17, 18]]), array([[19, 20, 21, 22, 23, 24]])]\n"
     ]
    }
   ],
   "source": [
    "# np.hsplit() 함수로 배열을 수평 방향으로 분할한다. axis = 1 y축기준.\n",
    "\n",
    "a = np.arange(1, 25).reshape(4, 6)\n",
    "'''\n",
    "[[ 1  2  3  4  5  6]\n",
    " [ 7  8  9 10 11 12]\n",
    " [13 14 15 16 17 18]\n",
    " [19 20 21 22 23 24]]\n",
    "'''\n",
    "\n",
    "result = np.hsplit(a, 3) # numpy 배열을 저장된 파이썬 list 형태로 리턴된다.\n",
    "print(type(result)) # <class 'list'>\n",
    "print(result)\n",
    "\n",
    "# np.vsplit() 함수로 배열을 수직 방향으로 분할한다. axis = 0\n",
    "# np.vsplit(배열 이름, 분할 배열의 개수)\n",
    "\n",
    "result = np.vsplit(a, 4)\n",
    "print(result)"
   ]
  },
  {
   "cell_type": "code",
   "execution_count": 127,
   "id": "4fa1ec6f",
   "metadata": {},
   "outputs": [
    {
     "name": "stdout",
     "output_type": "stream",
     "text": [
      "[array([[ 1,  2,  3,  4,  5,  6],\n",
      "       [ 7,  8,  9, 10, 11, 12]]), array([[13, 14, 15, 16, 17, 18],\n",
      "       [19, 20, 21, 22, 23, 24]])]\n"
     ]
    }
   ],
   "source": []
  },
  {
   "cell_type": "code",
   "execution_count": null,
   "id": "f85eee2e",
   "metadata": {},
   "outputs": [],
   "source": []
  }
 ],
 "metadata": {
  "kernelspec": {
   "display_name": "Python 3",
   "language": "python",
   "name": "python3"
  },
  "language_info": {
   "codemirror_mode": {
    "name": "ipython",
    "version": 3
   },
   "file_extension": ".py",
   "mimetype": "text/x-python",
   "name": "python",
   "nbconvert_exporter": "python",
   "pygments_lexer": "ipython3",
   "version": "3.6.8"
  }
 },
 "nbformat": 4,
 "nbformat_minor": 5
}
