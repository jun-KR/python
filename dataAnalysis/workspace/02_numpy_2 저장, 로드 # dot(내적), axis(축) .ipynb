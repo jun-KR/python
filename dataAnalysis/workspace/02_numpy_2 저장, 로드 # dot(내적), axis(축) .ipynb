{
 "cells": [
  {
   "cell_type": "code",
   "execution_count": 55,
   "id": "cb1abe14",
   "metadata": {},
   "outputs": [],
   "source": [
    "import warnings\n",
    "warnings.filterwarnings('ignore')\n",
    "import numpy as np\n",
    "\n",
    "def pprint(arr):\n",
    "    print('type: {}'.format(type(arr)))\n",
    "    print('shape: {}, dimension: {}, dtype: {}'.format(arr.shape, arr.ndim, arr.dtype))\n",
    "    print('numpy 배열의 데이터\\n', arr, sep='')"
   ]
  },
  {
   "cell_type": "markdown",
   "id": "eab2db62",
   "metadata": {},
   "source": [
    "numpy의 sum() 메소드 :  전체 합계 혹은 축 합계를 구한다.\n",
    "\n",
    "axis=None은 기본값으로 모든 요소의 값을 합산하여 1개의 스칼라값을 반환합니다.  \n",
    "axis=0은 x축을 기준으로 여러 row를 한 개로 합치는 과정입니다.  \n",
    "axis=1은 y축을 기준으로 row 별로 존재하는 column들의 값을 합쳐 1개로 축소하는 과정입니다.  \n",
    "axis=2는 z축을 기준으로 column의 depth가 가진 값을 축소하는 과정입니다.\n",
    "\n",
    "행이 늘어나는 방향이 위에서 아래 = 행 방향\n",
    "\n",
    " \n",
    "\n",
    "열이 늘어나는 방향이 좌에서 우 = 열 방향\n",
    "\n",
    "내적을 계산 : 첫 번째 행렬의 각 행과 두 번째 행렬의 각 열을 순서대로 곱하고 더해야 합니다."
   ]
  },
  {
   "cell_type": "code",
   "execution_count": 57,
   "id": "5441e08f",
   "metadata": {},
   "outputs": [],
   "source": [
    "# numpy는 배열 객체를 바이너리(2진) 파일 또는 텍스트 파일에 저장하고 로딩하는 기능을 제공한다.\n",
    "# 메소드 이름     기능                                                 파일 포맷\n",
    "# np.save()       numpy 배열 객체 1개를 파일로 저장한다.               바이너리\n",
    "# np.savez()      numpy 배열 객체 여러 개를 파일로 저장한다.           바이너리\n",
    "# np.load()       numpy 배열 객체를 읽어온다.                          바이너리\n",
    "# ============================================================================================\n",
    "# np.savetxt()    numpy 배열 객체 텍스트 파일로 저장한다.              텍스트\n",
    "# np.loadtxt()    numpy 배열 객체를 읽어온다.                          텍스트"
   ]
  },
  {
   "cell_type": "code",
   "execution_count": 13,
   "id": "ac728a51",
   "metadata": {},
   "outputs": [
    {
     "name": "stdout",
     "output_type": "stream",
     "text": [
      "[[2 9 3]\n",
      " [0 0 0]]\n",
      "[[7 2 1]\n",
      " [5 4 1]]\n"
     ]
    }
   ],
   "source": [
    "a = np.random.randint(0, 10, (2, 3))\n",
    "print(a)\n",
    "b = np.random.randint(0, 10, (2, 3))\n",
    "print(b)"
   ]
  },
  {
   "cell_type": "code",
   "execution_count": 11,
   "id": "02da5256",
   "metadata": {},
   "outputs": [],
   "source": [
    "# numpy 배열 객체를 바이너리 파일로 저장\n",
    "# np.save(): 배열 1개를 저장. 확장자 => npy\n",
    "# np.savez(): 배열 여러 개를 저장. 확장자 => npz\n",
    "\n",
    "# a 배열을 바이너리 파일로 저장한다.\n",
    "# np.save('경로명', 배열명)\n",
    "np.save('./output/my_array1', a)\n",
    "# a, b 배열을 바이너리 파일로 저장한다.\n",
    "# np.savez('경로명', 배열명1, 배열명2, ...)\n",
    "np.savez('./output/my_array2', a, b)"
   ]
  },
  {
   "cell_type": "code",
   "execution_count": 12,
   "id": "bf663240",
   "metadata": {},
   "outputs": [
    {
     "name": "stdout",
     "output_type": "stream",
     "text": [
      "[[3 6 2]\n",
      " [4 6 1]]\n",
      "<numpy.lib.npyio.NpzFile object at 0x000002C9FCBA2EB8>\n",
      "[[3 6 2]\n",
      " [4 6 1]]\n",
      "[[8 6 3]\n",
      " [1 4 8]]\n"
     ]
    }
   ],
   "source": [
    "# np.load() 메소드로 npy, npz 파일로 부터 배열 데이터를 읽어올 수 있다.\n",
    "# npy 파일 읽기\n",
    "print(np.load('./output/my_array1.npy'))\n",
    "\n",
    "# npz 파일 읽기\n",
    "print(np.load('./output/my_array2.npz'))\n",
    "npzFiles = np.load('./output/my_array2.npz')\n",
    "print(npzFiles['arr_0'])\n",
    "print(npzFiles['arr_1'])"
   ]
  },
  {
   "cell_type": "code",
   "execution_count": 15,
   "id": "45fbfad8",
   "metadata": {},
   "outputs": [
    {
     "name": "stdout",
     "output_type": "stream",
     "text": [
      "type: <class 'numpy.ndarray'>\n",
      "shape: (3, 4), dimension: 2, dtype: float64\n",
      "numpy 배열의 데이터\n",
      "[[0.35422889 0.94842168 0.68732152 0.03960771]\n",
      " [0.18550614 0.86689136 0.96115908 0.75469707]\n",
      " [0.44906151 0.33030967 0.65748356 0.03090981]]\n"
     ]
    }
   ],
   "source": [
    "c = np.random.random((3, 4))\n",
    "pprint(c)"
   ]
  },
  {
   "cell_type": "code",
   "execution_count": 16,
   "id": "c539614c",
   "metadata": {},
   "outputs": [],
   "source": [
    "# numpy 배열 객체를 텍스트 파일로 저장\n",
    "# 텍스트 파일 : csv 또는 tsv 파일을 의미한다.\n",
    "# np.savetxt() 메소드로 배열 객체를 텍스트 파일 형태로 저장시킬 수 있다.\n",
    "# np.savetxt('경로명', 배열명, delimiter='구분자')\n",
    "np.savetxt('./output/saved.csv', c, delimiter=',') # csv 파일은 데이터를 ','로 구분한다.\n",
    "np.savetxt('./output/saved2.tsv', c, delimiter='\\t') # tsv 파일은 데이터를 tab(\\t)으로 구분한다."
   ]
  },
  {
   "cell_type": "code",
   "execution_count": 17,
   "id": "d10d56f9",
   "metadata": {
    "scrolled": true
   },
   "outputs": [
    {
     "name": "stdout",
     "output_type": "stream",
     "text": [
      "type: <class 'numpy.ndarray'>\n",
      "shape: (3, 4), dimension: 2, dtype: float64\n",
      "numpy 배열의 데이터\n",
      "[[0.35422889 0.94842168 0.68732152 0.03960771]\n",
      " [0.18550614 0.86689136 0.96115908 0.75469707]\n",
      " [0.44906151 0.33030967 0.65748356 0.03090981]]\n",
      "[[0.35422889 0.94842168 0.68732152 0.03960771]\n",
      " [0.18550614 0.86689136 0.96115908 0.75469707]\n",
      " [0.44906151 0.33030967 0.65748356 0.03090981]]\n"
     ]
    }
   ],
   "source": [
    "# np.loadtxt() 메소드로 배열 객체를 텍스트 파일 형태로 저장시킬 수 있다.\n",
    "# np.loadtxt('경로명', dtype, delimiter='구분자')\n",
    "saved = np.loadtxt('./output/saved.csv', dtype=np.float, delimiter=',')\n",
    "pprint(saved)\n",
    "print(np.loadtxt('./output/saved2.tsv', dtype=float, delimiter='\\t'))"
   ]
  },
  {
   "cell_type": "markdown",
   "id": "6c8b7fca",
   "metadata": {},
   "source": [
    "배열(행렬) 연산 - 산술 연산"
   ]
  },
  {
   "cell_type": "code",
   "execution_count": 19,
   "id": "e5cff6b9",
   "metadata": {},
   "outputs": [
    {
     "name": "stdout",
     "output_type": "stream",
     "text": [
      "type: <class 'numpy.ndarray'>\n",
      "shape: (3, 3), dimension: 2, dtype: int32\n",
      "numpy 배열의 데이터\n",
      "[[1 2 3]\n",
      " [4 5 6]\n",
      " [7 8 9]]\n",
      "type: <class 'numpy.ndarray'>\n",
      "shape: (3, 3), dimension: 2, dtype: int32\n",
      "numpy 배열의 데이터\n",
      "[[9 8 7]\n",
      " [6 5 4]\n",
      " [3 2 1]]\n"
     ]
    }
   ],
   "source": [
    "a = np.arange(1, 10).reshape(3, 3)\n",
    "pprint(a)\n",
    "b = np.arange(9, 0, -1).reshape(3, 3)\n",
    "pprint(b)"
   ]
  },
  {
   "cell_type": "code",
   "execution_count": 23,
   "id": "2beb1251",
   "metadata": {},
   "outputs": [
    {
     "name": "stdout",
     "output_type": "stream",
     "text": [
      "[[10 10 10]\n",
      " [10 10 10]\n",
      " [10 10 10]]\n",
      "[[10 10 10]\n",
      " [10 10 10]\n",
      " [10 10 10]]\n",
      "================================================================================\n",
      "[[-8 -6 -4]\n",
      " [-2  0  2]\n",
      " [ 4  6  8]]\n",
      "[[-8 -6 -4]\n",
      " [-2  0  2]\n",
      " [ 4  6  8]]\n",
      "================================================================================\n",
      "[[ 9 16 21]\n",
      " [24 25 24]\n",
      " [21 16  9]]\n",
      "[[ 9 16 21]\n",
      " [24 25 24]\n",
      " [21 16  9]]\n",
      "================================================================================\n",
      "[[0.11111111 0.25       0.42857143]\n",
      " [0.66666667 1.         1.5       ]\n",
      " [2.33333333 4.         9.        ]]\n",
      "[[0 0 0]\n",
      " [0 1 1]\n",
      " [2 4 9]]\n",
      "[[1 2 3]\n",
      " [4 0 2]\n",
      " [1 0 0]]\n",
      "[[0.11111111 0.25       0.42857143]\n",
      " [0.66666667 1.         1.5       ]\n",
      " [2.33333333 4.         9.        ]]\n"
     ]
    }
   ],
   "source": [
    "# 덧셈: +, np.add()\n",
    "print(a + b)\n",
    "print(np.add(a, b))\n",
    "print('='*80)\n",
    "# 뺄셈: -, np.subtract()\n",
    "print(a - b)\n",
    "print(np.subtract(a, b))\n",
    "print('='*80)\n",
    "\n",
    "# 곱셈: *, np.multiply()\n",
    "print(a * b)\n",
    "print(np.multiply(a, b))\n",
    "print('='*80)\n",
    "\n",
    "# 나눗셈\n",
    "print(a / b)\n",
    "print(a // b) # 정수 나누기\n",
    "print(a % b) # 나머지\n",
    "print(np.divide(a, b))"
   ]
  },
  {
   "cell_type": "code",
   "execution_count": 25,
   "id": "457503e1",
   "metadata": {},
   "outputs": [
    {
     "name": "stdout",
     "output_type": "stream",
     "text": [
      "[[2.71828183e+00 7.38905610e+00 2.00855369e+01]\n",
      " [5.45981500e+01 1.48413159e+02 4.03428793e+02]\n",
      " [1.09663316e+03 2.98095799e+03 8.10308393e+03]]\n",
      "================================================================================\n",
      "[[1.         1.41421356 1.73205081]\n",
      " [2.         2.23606798 2.44948974]\n",
      " [2.64575131 2.82842712 3.        ]]\n",
      "================================================================================\n",
      "[[ 0.84147098  0.90929743  0.14112001]\n",
      " [-0.7568025  -0.95892427 -0.2794155 ]\n",
      " [ 0.6569866   0.98935825  0.41211849]]\n",
      "[[ 0.54030231 -0.41614684 -0.9899925 ]\n",
      " [-0.65364362  0.28366219  0.96017029]\n",
      " [ 0.75390225 -0.14550003 -0.91113026]]\n",
      "[[ 1.55740772 -2.18503986 -0.14254654]\n",
      " [ 1.15782128 -3.38051501 -0.29100619]\n",
      " [ 0.87144798 -6.79971146 -0.45231566]]\n",
      "================================================================================\n",
      "[[0.         0.69314718 1.09861229]\n",
      " [1.38629436 1.60943791 1.79175947]\n",
      " [1.94591015 2.07944154 2.19722458]]\n"
     ]
    }
   ],
   "source": [
    "print(np.exp(a)) # 지수\n",
    "print('='*80)\n",
    "\n",
    "print(np.sqrt(a))\n",
    "print('='*80)\n",
    "\n",
    "# 삼각함수\n",
    "print(np.sin(a))\n",
    "print(np.cos(a))\n",
    "print(np.tan(a))\n",
    "print('='*80)\n",
    "\n",
    "print(np.log(a)) # 로그"
   ]
  },
  {
   "cell_type": "code",
   "execution_count": 59,
   "id": "b38bf71b",
   "metadata": {},
   "outputs": [
    {
     "name": "stdout",
     "output_type": "stream",
     "text": [
      "[[ 30  24  18]\n",
      " [ 84  69  54]\n",
      " [138 114  90]]\n"
     ]
    }
   ],
   "source": [
    "# 행렬의 내적\n",
    "print(np.dot(a,b))"
   ]
  },
  {
   "cell_type": "code",
   "execution_count": 29,
   "id": "75c51fb0",
   "metadata": {},
   "outputs": [
    {
     "name": "stdout",
     "output_type": "stream",
     "text": [
      "[[False False False]\n",
      " [False  True False]\n",
      " [False False False]]\n"
     ]
    }
   ],
   "source": [
    "# 배열 요소별 비교: >, >=, <, <=, ==, !=\n",
    "print(a == b)"
   ]
  },
  {
   "cell_type": "code",
   "execution_count": 30,
   "id": "a4e8e716",
   "metadata": {},
   "outputs": [
    {
     "name": "stdout",
     "output_type": "stream",
     "text": [
      "False\n"
     ]
    }
   ],
   "source": [
    "# np.array_equal() 메소드를 사용하면 배열 전체를 비교할 수 있다.\n",
    "print(np.array_equal(a, b))"
   ]
  },
  {
   "cell_type": "markdown",
   "id": "bedc8e03",
   "metadata": {},
   "source": [
    "집계 함수  \n",
    "numpy의 모든 집계 함수는 axis를 기준으로 계산하며 집계 함수에 axis를 지정하지 않으면 axis=None이 기본값으로 사용된다.\n"
   ]
  },
  {
   "cell_type": "code",
   "execution_count": 36,
   "id": "d469106a",
   "metadata": {},
   "outputs": [
    {
     "name": "stdout",
     "output_type": "stream",
     "text": [
      "type: <class 'numpy.ndarray'>\n",
      "shape: (3, 3), dimension: 2, dtype: int32\n",
      "numpy 배열의 데이터\n",
      "[[1 2 3]\n",
      " [4 5 6]\n",
      " [7 8 9]]\n"
     ]
    }
   ],
   "source": [
    "a = np.arange(1, 10).reshape(3, 3)\n",
    "pprint(a)"
   ]
  },
  {
   "cell_type": "code",
   "execution_count": 37,
   "id": "5531505b",
   "metadata": {},
   "outputs": [
    {
     "name": "stdout",
     "output_type": "stream",
     "text": [
      "45\n",
      "45\n",
      "45\n",
      "45\n"
     ]
    }
   ],
   "source": [
    "# axis=None\n",
    "# axis=None은 전체 배열 합계를 계산한다. 기본값으로 사용된다.\n",
    "print(a.sum())\n",
    "print(a.sum(axis=None))\n",
    "print(np.sum(a))\n",
    "print(np.sum(a, axis=None))"
   ]
  },
  {
   "cell_type": "code",
   "execution_count": 39,
   "id": "2ab2e4a9",
   "metadata": {},
   "outputs": [
    {
     "name": "stdout",
     "output_type": "stream",
     "text": [
      "[12 15 18]\n",
      "[12 15 18]\n",
      "================================================================================\n",
      "[ 6 15 24]\n",
      "[ 6 15 24]\n"
     ]
    }
   ],
   "source": [
    "# axis=0\n",
    "# axis=0은 x축을 기준으로 여러 row를 한 개로 합치는 과정입니다.\n",
    "print(a.sum(axis=0))\n",
    "print(np.sum(a, axis=0))\n",
    "print('='*80)\n",
    "\n",
    "\n",
    "# axis=1\n",
    "# axis=1은 y축을 기준으로 row 별로 존재하는 column들의 값을 합쳐 1개로 축소하는 과정\n",
    "print(a.sum(axis=1))\n",
    "print(np.sum(a, axis=1))"
   ]
  },
  {
   "cell_type": "markdown",
   "id": "69e9c3e5",
   "metadata": {},
   "source": [
    "최대값: 배열.max(), np.max(배열), 최소값: 배열.min(), np.min(배열)\n"
   ]
  },
  {
   "cell_type": "code",
   "execution_count": 41,
   "id": "a7559202",
   "metadata": {},
   "outputs": [
    {
     "name": "stdout",
     "output_type": "stream",
     "text": [
      "9\n",
      "9\n",
      "1\n",
      "1\n"
     ]
    }
   ],
   "source": [
    "print(a.max()) \n",
    "print(np.max(a)) \n",
    "print(a.min()) \n",
    "print(np.min(a)) "
   ]
  },
  {
   "cell_type": "code",
   "execution_count": 43,
   "id": "d4d9ee5a",
   "metadata": {},
   "outputs": [
    {
     "name": "stdout",
     "output_type": "stream",
     "text": [
      "[7 8 9]\n",
      "[7 8 9]\n",
      "[1 2 3]\n",
      "[1 2 3]\n"
     ]
    }
   ],
   "source": [
    "print(a.max(axis=0))\n",
    "print(np.max(a, axis=0))\n",
    "print(a.min(axis=0))\n",
    "print(np.min(a, axis=0))"
   ]
  },
  {
   "cell_type": "code",
   "execution_count": 45,
   "id": "70a02432",
   "metadata": {},
   "outputs": [
    {
     "name": "stdout",
     "output_type": "stream",
     "text": [
      "[3 6 9]\n",
      "[3 6 9]\n",
      "[1 4 7]\n",
      "[1 4 7]\n"
     ]
    }
   ],
   "source": [
    "print(a.max(axis=1))\n",
    "print(np.max(a, axis=1))\n",
    "print(a.min(axis=1))\n",
    "print(np.min(a, axis=1))"
   ]
  },
  {
   "cell_type": "code",
   "execution_count": 47,
   "id": "de2d9ed6",
   "metadata": {},
   "outputs": [
    {
     "name": "stdout",
     "output_type": "stream",
     "text": [
      "[ 1  3  6 10 15 21 28 36 45]\n",
      "[ 1  3  6 10 15 21 28 36 45]\n",
      "[[ 1  2  3]\n",
      " [ 5  7  9]\n",
      " [12 15 18]]\n",
      "[[ 1  2  3]\n",
      " [ 5  7  9]\n",
      " [12 15 18]]\n",
      "[[ 1  3  6]\n",
      " [ 4  9 15]\n",
      " [ 7 15 24]]\n",
      "[[ 1  3  6]\n",
      " [ 4  9 15]\n",
      " [ 7 15 24]]\n"
     ]
    }
   ],
   "source": [
    "# 누적 합계: 배열.cumsum(), np.cumsum(배열)\n",
    "print(a.cumsum())\n",
    "print(np.cumsum(a))\n",
    "\n",
    "print(a.cumsum(axis=0))\n",
    "print(np.cumsum(a, axis=0))\n",
    "\n",
    "print(a.cumsum(axis=1))\n",
    "print(np.cumsum(a, axis=1))\n"
   ]
  },
  {
   "cell_type": "code",
   "execution_count": 49,
   "id": "a02e22bc",
   "metadata": {},
   "outputs": [
    {
     "name": "stdout",
     "output_type": "stream",
     "text": [
      "5.0\n",
      "5.0\n",
      "[4. 5. 6.]\n",
      "[4. 5. 6.]\n",
      "[2. 5. 8.]\n",
      "[2. 5. 8.]\n"
     ]
    }
   ],
   "source": [
    "# 평균: 배열.mean(), np.mean(배열)\n",
    "\n",
    "print(a.mean())\n",
    "print(np.mean(a))\n",
    "\n",
    "print(a.mean(axis=0))\n",
    "print(np.mean(a, axis=0))\n",
    "\n",
    "print(a.mean(axis=1))\n",
    "print(np.mean(a, axis=1))"
   ]
  },
  {
   "cell_type": "code",
   "execution_count": 50,
   "id": "1e9094a0",
   "metadata": {},
   "outputs": [
    {
     "name": "stdout",
     "output_type": "stream",
     "text": [
      "5.0\n",
      "[4. 5. 6.]\n",
      "[2. 5. 8.]\n"
     ]
    }
   ],
   "source": [
    "# 중위수: np.median(배열)\n",
    "\n",
    "print(np.median(a))\n",
    "print(np.median(a, axis=0))\n",
    "print(np.median(a, axis=1))\n"
   ]
  },
  {
   "cell_type": "code",
   "execution_count": 52,
   "id": "68199cd7",
   "metadata": {},
   "outputs": [
    {
     "name": "stdout",
     "output_type": "stream",
     "text": [
      "[[ 1.  1.  1. -1. -1. -1.]\n",
      " [ 1.  1.  1. -1. -1. -1.]\n",
      " [ 1.  1.  1. -1. -1. -1.]\n",
      " [-1. -1. -1.  1.  1.  1.]\n",
      " [-1. -1. -1.  1.  1.  1.]\n",
      " [-1. -1. -1.  1.  1.  1.]]\n"
     ]
    }
   ],
   "source": [
    "# 상관계수: np.corrcoef(배열)\n",
    "\n",
    "print(np.corrcoef(a,)) # axis를 사용하지 않는다.\n"
   ]
  },
  {
   "cell_type": "code",
   "execution_count": 54,
   "id": "f7ffa2eb",
   "metadata": {},
   "outputs": [
    {
     "name": "stdout",
     "output_type": "stream",
     "text": [
      "2.581988897471611\n",
      "2.581988897471611\n",
      "[2.44948974 2.44948974 2.44948974]\n",
      "[2.44948974 2.44948974 2.44948974]\n",
      "[0.81649658 0.81649658 0.81649658]\n",
      "[0.81649658 0.81649658 0.81649658]\n"
     ]
    }
   ],
   "source": [
    "# 표준편차: 배열.std(), np.std(배열)\n",
    "\n",
    "print(a.std())\n",
    "print(np.std(a))\n",
    "\n",
    "print(a.std(axis=0))\n",
    "print(np.std(a, axis=0))\n",
    "\n",
    "print(a.std(axis=1))\n",
    "print(np.std(a, axis=1))"
   ]
  },
  {
   "cell_type": "code",
   "execution_count": null,
   "id": "32c0be8d",
   "metadata": {},
   "outputs": [],
   "source": []
  }
 ],
 "metadata": {
  "kernelspec": {
   "display_name": "Python 3",
   "language": "python",
   "name": "python3"
  },
  "language_info": {
   "codemirror_mode": {
    "name": "ipython",
    "version": 3
   },
   "file_extension": ".py",
   "mimetype": "text/x-python",
   "name": "python",
   "nbconvert_exporter": "python",
   "pygments_lexer": "ipython3",
   "version": "3.6.8"
  }
 },
 "nbformat": 4,
 "nbformat_minor": 5
}
