{
 "cells": [
  {
   "cell_type": "code",
   "execution_count": 1,
   "id": "0b004258",
   "metadata": {},
   "outputs": [],
   "source": [
    "import warnings\n",
    "warnings.filterwarnings('ignore')\n",
    "import numpy as np\n",
    "import pandas as pd\n",
    "import matplotlib.pyplot as plt\n",
    "import seaborn as sns"
   ]
  },
  {
   "cell_type": "code",
   "execution_count": 2,
   "id": "418642cd",
   "metadata": {},
   "outputs": [
    {
     "data": {
      "text/plain": [
       "'\\nmatplotlib 은 그래프를 그리기 위해서 Runtime Configuration Parameters, \\nrcParams라는 딕셔너리의 값을 이용해 backend 에서 그립니다. \\n\\n그래프의 폰트 사이즈, 크기, 바탕색 등 여러가지 성질들이 모두 matploblit.rcParams 딕셔너리에 담겨있습니다.\\n\\n\\nex) axes의 테두리와 배경색을 바꾸고 싶다면 rcParams 의 값을 바꿔주면 됩니다. 🙋\\u200d♂️🙋\\u200d♀️]\\n\\n \\n\\nruntime configuration은 번역하면, 동적 구성인데, 변수들에 대한 정보를 저장하는 용도로 쓰입니다.\\nmatplotlib에서 성질을 저장하는 rcParams 딕셔너리를 조작하면 \\nRuntime(생성시) 그리는 정보를 바꿔줄 수 있습니다.\\n\\n\\n\\n\\n컴퓨터 느려지면 RAM 추가하면 돼 ㅋㅋ \\nSSD도 추가가능\\n확장슬롯 하나씩 있음.\\n\\n\\n\\n'"
      ]
     },
     "execution_count": 2,
     "metadata": {},
     "output_type": "execute_result"
    }
   ],
   "source": [
    "'''\n",
    "matplotlib 은 그래프를 그리기 위해서 Runtime Configuration Parameters, \n",
    "rcParams라는 딕셔너리의 값을 이용해 backend 에서 그립니다. \n",
    "\n",
    "그래프의 폰트 사이즈, 크기, 바탕색 등 여러가지 성질들이 모두 matploblit.rcParams 딕셔너리에 담겨있습니다.\n",
    "\n",
    "\n",
    "ex) axes의 테두리와 배경색을 바꾸고 싶다면 rcParams 의 값을 바꿔주면 됩니다. 🙋‍♂️🙋‍♀️]\n",
    "\n",
    " \n",
    "\n",
    "runtime configuration은 번역하면, 동적 구성인데, 변수들에 대한 정보를 저장하는 용도로 쓰입니다.\n",
    "matplotlib에서 성질을 저장하는 rcParams 딕셔너리를 조작하면 \n",
    "Runtime(생성시) 그리는 정보를 바꿔줄 수 있습니다.\n",
    "\n",
    "\n",
    "\n",
    "\n",
    "컴퓨터 느려지면 RAM 추가하면 돼 ㅋㅋ \n",
    "SSD도 추가가능\n",
    "확장슬롯 하나씩 있음.\n",
    "\n",
    "\n",
    "\n",
    "'''"
   ]
  },
  {
   "cell_type": "code",
   "execution_count": 3,
   "id": "e7b72624",
   "metadata": {},
   "outputs": [],
   "source": [
    "import matplotlib as mpl\n",
    "import matplotlib.font_manager as fm\n",
    "\n",
    "# 한글 폰트 사용시 - 가 깨짐 방지\n",
    "mpl.rcParams['axes.unicode_minus']=False"
   ]
  },
  {
   "cell_type": "code",
   "execution_count": 4,
   "id": "4a17e533",
   "metadata": {},
   "outputs": [
    {
     "data": {
      "text/plain": [
       "array([-43, -15,  78,   0, -77, -18, -87,  10,  92,  64,  82, 160,  77,\n",
       "        48,  66,  91, 102, 189, 272, 211, 196, 123, 208, 198, 108, 120,\n",
       "       213, 178, 264, 242, 263, 352, 440, 463, 560, 644, 689, 622, 628,\n",
       "       712, 644, 569, 590, 498, 461, 409, 506, 478, 491, 400], dtype=int32)"
      ]
     },
     "execution_count": 4,
     "metadata": {},
     "output_type": "execute_result"
    }
   ],
   "source": [
    "data = np.random.randint(-100,100,50).cumsum() # 난수의 누적합\n",
    "data"
   ]
  },
  {
   "cell_type": "code",
   "execution_count": 5,
   "id": "625f6c30",
   "metadata": {},
   "outputs": [
    {
     "data": {
      "image/png": "[encoded data removed]",
      "text/plain": [
       "<Figure size 576x432 with 1 Axes>"
      ]
     },
     "metadata": {
      "needs_background": "light"
     },
     "output_type": "display_data"
    }
   ],
   "source": [
    "# plot : 그래프\n",
    "# plt.figure(figsize=(8,6)) # chart 크기 \n",
    "plt.rcParams['figure.figsize']=(8,6)# chart 크기 \n",
    "plt.plot(range(50,100), data, 'pink')\n",
    "plt.title('시간별 가격 추이') # 차트 제목\n",
    "plt.xlabel('시간(분)') # x축 제목\n",
    "plt.ylabel('주식 가격') # y축 제목\n",
    "plt.show()\n"
   ]
  },
  {
   "cell_type": "markdown",
   "id": "7be780f1",
   "metadata": {},
   "source": [
    "폰트를 설정해 주기에 앞서 설치된 matplotlib의 버전과 설치된 위치 정보를 확인한다.\n"
   ]
  },
  {
   "cell_type": "code",
   "execution_count": 6,
   "id": "c2737249",
   "metadata": {},
   "outputs": [
    {
     "name": "stdout",
     "output_type": "stream",
     "text": [
      "버전: 3.3.4\n",
      "설치 위치: c:\\python\\lib\\site-packages\\matplotlib\\__init__.py\n",
      "설정 정보 위치: C:\\Users\\TJ\\.matplotlib\n",
      "캐시 위치: C:\\Users\\TJ\\.matplotlib\n"
     ]
    }
   ],
   "source": [
    "\n",
    "print('버전:', mpl.__version__)\n",
    "print('설치 위치:', mpl.__file__)\n",
    "print('설정 정보 위치:', mpl.get_configdir())\n",
    "\n",
    "# 캐시 메모리 : cpu와 ram의 속도차이를 보상하는 ram\n",
    "# DRam : 일정시간 방치하면 내용 소멸됨\n",
    "print('캐시 위치:', mpl.get_cachedir())"
   ]
  },
  {
   "cell_type": "markdown",
   "id": "681048c6",
   "metadata": {},
   "source": [
    "matplotlib의 설정 위치 정보를 알았으니 설정 파일의 위치를 확인한다.\n",
    "\n"
   ]
  },
  {
   "cell_type": "code",
   "execution_count": 7,
   "id": "9bb00b02",
   "metadata": {},
   "outputs": [
    {
     "name": "stdout",
     "output_type": "stream",
     "text": [
      "설정 파일 위치: c:\\python\\lib\\site-packages\\matplotlib\\mpl-data\\matplotlibrc\n"
     ]
    }
   ],
   "source": [
    "print('설정 파일 위치:', mpl.matplotlib_fname())"
   ]
  },
  {
   "cell_type": "markdown",
   "id": "c110f2f1",
   "metadata": {},
   "source": [
    "컴퓨터에 설치된 폰트 목록을 얻어온다."
   ]
  },
  {
   "cell_type": "code",
   "execution_count": 8,
   "id": "4c0f9473",
   "metadata": {},
   "outputs": [
    {
     "name": "stdout",
     "output_type": "stream",
     "text": [
      "204\n"
     ]
    }
   ],
   "source": [
    "font_list = fm.findSystemFonts(fontpaths=None, fontext='ttf')\n",
    "print(len(font_list))"
   ]
  },
  {
   "cell_type": "code",
   "execution_count": 9,
   "id": "5018506d",
   "metadata": {},
   "outputs": [
    {
     "name": "stdout",
     "output_type": "stream",
     "text": [
      "STIXGeneral\n",
      "242\n",
      "['STIXGeneral', 'DejaVu Sans Mono', 'STIXNonUnicode', 'STIXGeneral', 'DejaVu Serif Display', 'STIXSizeThreeSym', 'cmex10', 'DejaVu Sans', 'DejaVu Sans Display', 'cmss10']\n"
     ]
    }
   ],
   "source": [
    "# 리스트 컴프리헨션을 사용하여 각 폰트 파일 객체의 name 속성을 추출하여 리스트를 생성. \n",
    "f = [f.name for f in fm.fontManager.ttflist]\n",
    "print(fm.fontManager.ttflist[0].name)\n",
    "\n",
    "\n",
    "print(len(f))\n",
    "print(f[:10])\n"
   ]
  },
  {
   "cell_type": "code",
   "execution_count": 10,
   "id": "e988304a",
   "metadata": {},
   "outputs": [
    {
     "data": {
      "text/plain": [
       "[('NanumGothicCoding', 'C:\\\\Windows\\\\Fonts\\\\NanumGothicCoding.ttf'),\n",
       " ('NanumGothicCoding', 'C:\\\\Windows\\\\Fonts\\\\NanumGothicCoding-Bold.ttf')]"
      ]
     },
     "execution_count": 10,
     "metadata": {},
     "output_type": "execute_result"
    }
   ],
   "source": [
    "# 리스트 컴프리헨션으로 2차원 리스트 생성[(),()]\n",
    "font_list = [(f.name, f.fname) for f in fm.fontManager.ttflist if 'Nanum' in f.name]\n",
    "\n",
    "font_list[:10]\n"
   ]
  },
  {
   "cell_type": "markdown",
   "id": "5f1b5178",
   "metadata": {},
   "source": [
    "설치한 폰트가 보이지 않는다면 캐시 폴더로 이동해 폴더의 모든 내용을 삭제한 후 다시 실행하면 설치된 폰트 목록이 정상적으로 보인다."
   ]
  },
  {
   "cell_type": "code",
   "execution_count": 11,
   "id": "77705042",
   "metadata": {},
   "outputs": [],
   "source": [
    "mpl.font_manager._rebuild()"
   ]
  },
  {
   "cell_type": "markdown",
   "id": "0ce82a33",
   "metadata": {},
   "source": [
    "한글 폰트를 사용하도록 설정하는 방법은 3가지가 있다.\n",
    "\n",
    "<1> FontProperties를 사용하는 방법 => 항목마다 지정해줘야 한다.\n",
    "\n",
    "<2> matplotlib 라이브러리의 rcParams[]로 전역 글꼴 설정 => 파일\n",
    "\n",
    "<3> 폰트 설정 정보를 matplotlib 설정 파일에 직접 넣어준다. => 컴퓨터."
   ]
  },
  {
   "cell_type": "code",
   "execution_count": 14,
   "id": "0696a552",
   "metadata": {},
   "outputs": [],
   "source": [
    "# 텍스트를 지정하는 항목에 지정해서 사용할 수 있고 지정해준 항목에만 해당 폰트가 적용된다.\n",
    "# matplotlib.pyplot => title(), xlabel(), ylabel(), legend(), text()\n",
    "# matplotlib.axes => set_title()\n",
    "font = 'C:\\\\Windows\\\\Fonts\\\\NanumGothicCoding.ttf'\n",
    "fontprop = fm.FontProperties(fname=font)"
   ]
  },
  {
   "cell_type": "code",
   "execution_count": 20,
   "id": "b731b427",
   "metadata": {},
   "outputs": [
    {
     "data": {
      "image/png": "[encoded data removed]",
      "text/plain": [
       "<Figure size 576x432 with 1 Axes>"
      ]
     },
     "metadata": {
      "needs_background": "light"
     },
     "output_type": "display_data"
    }
   ],
   "source": [
    "plt.rcParams['figure.figsize']=(8,6)# chart 크기 \n",
    "plt.plot(range(50,100), data, 'pink')\n",
    "plt.title('시간별 가격 추이', fontproperties=fontprop) # 차트 제목\n",
    "plt.xlabel('시간(분)', fontproperties=fontprop) # x축 제목\n",
    "plt.ylabel('주식 가격', fontproperties=fontprop) # y축 제목\n",
    "plt.show()"
   ]
  },
  {
   "cell_type": "code",
   "execution_count": 24,
   "id": "2d784011",
   "metadata": {},
   "outputs": [
    {
     "name": "stdout",
     "output_type": "stream",
     "text": [
      "기본으로 설정된 폰트 이름: ['NanumGothicCoding']\n",
      "기본으로 설정된 폰트 크기: 15.0\n"
     ]
    }
   ],
   "source": [
    "# <2> matplotlib 라이브러리의 rcParams[]로 전역 글꼴 설정 => 파일\n",
    "\n",
    "\n",
    "# 기본 설정 읽기\n",
    "print('기본으로 설정된 폰트 이름:', plt.rcParams['font.family'])\n",
    "print('기본으로 설정된 폰트 크기:', plt.rcParams['font.size'])"
   ]
  },
  {
   "cell_type": "code",
   "execution_count": 25,
   "id": "c274d2f0",
   "metadata": {},
   "outputs": [],
   "source": [
    "# 얘가 제일 편함!!\n",
    "plt.rcParams['font.family'] = 'NanumGothicCoding'\n",
    "plt.rcParams['font.size'] = 15"
   ]
  },
  {
   "cell_type": "code",
   "execution_count": 26,
   "id": "b661a941",
   "metadata": {},
   "outputs": [
    {
     "data": {
      "image/png": "[encoded data removed]",
      "text/plain": [
       "<Figure size 576x432 with 1 Axes>"
      ]
     },
     "metadata": {
      "needs_background": "light"
     },
     "output_type": "display_data"
    }
   ],
   "source": [
    "plt.rcParams['figure.figsize']=(8,6)\n",
    "plt.plot(range(50,100), data, 'pink')\n",
    "plt.title('시간별 가격 추이') \n",
    "plt.xlabel('시간(분)')\n",
    "plt.ylabel('주식 가격') \n",
    "plt.show()"
   ]
  },
  {
   "cell_type": "code",
   "execution_count": 5,
   "id": "52ef8e98",
   "metadata": {},
   "outputs": [
    {
     "name": "stdout",
     "output_type": "stream",
     "text": [
      "NanumGothicCoding\n"
     ]
    }
   ],
   "source": [
    "# 2-2\n",
    "# rcParams 대신 FontProperties의 plt.rc를 사용하는 방법이 있다.\n",
    "font = 'C:\\\\WINDOWS\\\\Fonts\\\\NanumGothicCoding.ttf'\n",
    "font_name = fm.FontProperties(fname=font, size=15).get_name()\n",
    "print(font_name)\n",
    "plt.rc('font', family=font_name)\n"
   ]
  },
  {
   "cell_type": "code",
   "execution_count": null,
   "id": "39e86287",
   "metadata": {},
   "outputs": [],
   "source": [
    "# <3> matplotlib 설정 파일에 직접 넣어준다. => 컴퓨터.\n",
    "\n",
    "# mpl.matplotlib_fname()를 실행하면 출력되는 경로의 파일을 수정한다.\n",
    "# 쥬피터 노트북을 실행할 때마다 글꼴이 로드되도록 설정할 수 있다.\n",
    "print(mpl.matplotlib_fname())\n",
    "# font.family: sans-serif => NanumGothicCoding\n",
    "# font.size: 10.0 => 15.0"
   ]
  },
  {
   "cell_type": "code",
   "execution_count": null,
   "id": "fbd2363d",
   "metadata": {},
   "outputs": [],
   "source": []
  },
  {
   "cell_type": "code",
   "execution_count": null,
   "id": "e41439f0",
   "metadata": {},
   "outputs": [],
   "source": []
  }
 ],
 "metadata": {
  "kernelspec": {
   "display_name": "Python 3",
   "language": "python",
   "name": "python3"
  },
  "language_info": {
   "codemirror_mode": {
    "name": "ipython",
    "version": 3
   },
   "file_extension": ".py",
   "mimetype": "text/x-python",
   "name": "python",
   "nbconvert_exporter": "python",
   "pygments_lexer": "ipython3",
   "version": "3.6.8"
  }
 },
 "nbformat": 4,
 "nbformat_minor": 5
}
