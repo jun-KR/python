{
 "cells": [
  {
   "cell_type": "code",
   "execution_count": 1,
   "id": "deb9a054",
   "metadata": {},
   "outputs": [
    {
     "name": "stdout",
     "output_type": "stream",
     "text": [
      "Requirement already satisfied: numpy in c:\\python\\lib\\site-packages (1.19.5)\n"
     ]
    }
   ],
   "source": [
    "import warnings\n",
    "warnings.filterwarnings(action='ignore')\n",
    "!pip install numpy"
   ]
  },
  {
   "cell_type": "markdown",
   "id": "debc1509",
   "metadata": {},
   "source": [
    "numpy : 행렬 연산 라이브러리  \n",
    "- 대규모 다차원 배열과 행렬 연산에 필요한 다양한 함수를 제공   \n",
    "  \n",
    "파이썬의 list 객체 -> numpy의 ndarray 객체 : 더 많은 데이터를 더 빠르게 처리.\n",
    "\n",
    "numpy의 특징\n",
    "  1. 강력한 n차원 배열 객체\n",
    "  2. 정교한 브로드캐스팅(다대일 연산) 기능\n",
    "  3. c/c++ 및 fortran 코드 통합 도구\n",
    "  4. 유연한 선형 대수학, 푸리에 변환 및 난수 기능 // 데이터 전처리 : 신호 처리 방법(푸리에 변환)\n",
    "\n",
    "numpy 데이터 타입\n",
    "\n",
    "정규화(Normalization)\n",
    "모든 데이터 포인트가 동일한 정도의 스케일(중요도)로 반영되도록 해주는 것.  \n",
    "최소 최대 정규화: 모든 feature들의 스케일이 동일하지만, 이상치(outlier)를 잘 처리하지 못한다.  \n",
    "Z-점수 정규화 : 이상치(outlier)를 잘 처리하지만, 정확히 동일한 척도로 정규화 된 데이터를 생성하지는 않는다.  \n"
   ]
  },
  {
   "cell_type": "code",
   "execution_count": 2,
   "id": "cf75bf98",
   "metadata": {},
   "outputs": [],
   "source": [
    "# dtype : 배열을 만들 때 데이터 타입을 지정할 수 있다.\n",
    "# np.int: 정수(고정 소숫점) 타입\n",
    "# np.float: 실수(부동 소숫점) 타입\n",
    "# np.complex: 복소수 타입\n",
    "# np.bool: 불린(논리값) 타입\n",
    "# np.object: 파이썬 객체 타입\n",
    "# np.string_: 스트링 타입\n",
    "# np.unicode_: 유니코드 타입"
   ]
  },
  {
   "cell_type": "code",
   "execution_count": 3,
   "id": "52db46cb",
   "metadata": {},
   "outputs": [
    {
     "name": "stdout",
     "output_type": "stream",
     "text": [
      "1.19.5\n"
     ]
    }
   ],
   "source": [
    "import numpy as np\n",
    "print(np.__version__)  # __version__: 라이브러리의 버전을 얻어온다."
   ]
  },
  {
   "cell_type": "code",
   "execution_count": 4,
   "id": "56bce275",
   "metadata": {},
   "outputs": [
    {
     "data": {
      "text/plain": [
       "'\\n머신러닝에서 행렬의 차원을 shape 개념으로 표현한다.\\n배열의 구조는 튜플 자료형을 사용해서 정의한다.\\n\\n예를 들어 28 * 28 컬러 사진은 폭이 28 픽셀, 높이 28 픽셀, 각 픽셀은 3개의 채널(RGB)로 구성된 구조를 가진다.\\n따라서 컬러 사진의 데이터 구조는 shape(28, 28, 3)인 3차원 배열이 된다.\\n\\n데이터의 차원은 여러 갈래의 데이터 방향(axis)을 가진다. 면은 axis=0, 행은 axis=1, 열은 axis=2로 지정한다.\\n'"
      ]
     },
     "execution_count": 4,
     "metadata": {},
     "output_type": "execute_result"
    }
   ],
   "source": [
    "'''\n",
    "머신러닝에서 행렬의 차원을 shape 개념으로 표현한다.\n",
    "배열의 구조는 튜플 자료형을 사용해서 정의한다.\n",
    "\n",
    "예를 들어 28 * 28 컬러 사진은 폭이 28 픽셀, 높이 28 픽셀, 각 픽셀은 3개의 채널(RGB)로 구성된 구조를 가진다.\n",
    "따라서 컬러 사진의 데이터 구조는 shape(28, 28, 3)인 3차원 배열이 된다.\n",
    "\n",
    "데이터의 차원은 여러 갈래의 데이터 방향(axis)을 가진다. 면은 axis=0, 행은 axis=1, 열은 axis=2로 지정한다.\n",
    "'''"
   ]
  },
  {
   "cell_type": "code",
   "execution_count": 5,
   "id": "a0bf9d51",
   "metadata": {},
   "outputs": [],
   "source": [
    "# numpy 배열 객체 정보 출력용 함수 선언\n",
    "def pprint(arr):\n",
    "    print('type: {}'.format(type(arr)))\n",
    "    \n",
    "    # shape, 차원, datatype 출력\n",
    "    print('shape: {}, dimension: {}, dtype: {}'.format(arr.shape, arr.ndim, arr.dtype))\n",
    "    print('numpy 배열의 데이터\\n', arr, sep='')\n",
    "    #numpy 배열의 데이터\n",
    "    # [[1. 2. 3.]\n",
    "    #  [4. 5. 6.]]"
   ]
  },
  {
   "cell_type": "code",
   "execution_count": 6,
   "id": "12684442",
   "metadata": {},
   "outputs": [
    {
     "name": "stdout",
     "output_type": "stream",
     "text": [
      "<class 'list'>\n",
      "[1, 2, 3]\n",
      "==================================================\n",
      "type: <class 'numpy.ndarray'>\n",
      "shape: (3,), dimension: 1, dtype: int32\n",
      "numpy 배열의 데이터\n",
      "[1 2 3]\n",
      "==================================================\n"
     ]
    }
   ],
   "source": [
    "# 파이썬 1차원 list로 numpy 배열 만들기\n",
    "arr = [1, 2, 3]\n",
    "print(type(arr)) \n",
    "print(arr)\n",
    "print('=' * 50)\n",
    "# array() 메소드는 인수로 list 객체를 넘겨받아 numpy 배열을 만든다.\n",
    "# 정수형 데이터의 dtype 기본값은 np.int이고 32비트 정수 데이터를 의미한다. => np.int32와 같다.\n",
    "# 정수형 데이터의 dtype는 np.int, np.int8, np.int16, np.int32, np.int64를 사용할 수 있다.\n",
    "\n",
    "a = np.array(arr) #  numpy 배열 생성. \n",
    "pprint(a)  # shape: (3,), dimension: 1, dtype: int32\n",
    "\n",
    "print('=' * 50)\n"
   ]
  },
  {
   "cell_type": "code",
   "execution_count": 7,
   "id": "c07185fe",
   "metadata": {
    "scrolled": true
   },
   "outputs": [
    {
     "name": "stdout",
     "output_type": "stream",
     "text": [
      "<class 'list'>\n",
      "[[1, 2, 3], [4, 5, 6]]\n",
      "==================================================\n",
      "type: <class 'numpy.ndarray'>\n",
      "shape: (2, 3), dimension: 2, dtype: float64\n",
      "numpy 배열의 데이터\n",
      "[[1. 2. 3.]\n",
      " [4. 5. 6.]]\n"
     ]
    }
   ],
   "source": [
    "# 파이썬 2차원 list로 numpy 배열 만들기\n",
    "arr = [[1, 2, 3], [4, 5, 6]]\n",
    "print(type(arr))\n",
    "print(arr)\n",
    "print('=' * 50)\n",
    "# 실수형 데이터의 dtype 기본값은 np.float이고 64비트 실수 데이터를 의미한다. => np.float64와 같다.\n",
    "# 정수형 데이터의 dtype는 np.float, np.float16, np.float32, np.float64를 사용할 수 있다.\n",
    "a = np.array(arr, dtype=np.float)\n",
    "# dtype : 생략가능. 인수로 넘어오는 list 객체의 데이터 타입으로 설정됨\n",
    "pprint(a)"
   ]
  },
  {
   "cell_type": "code",
   "execution_count": 8,
   "id": "8fba994c",
   "metadata": {},
   "outputs": [
    {
     "name": "stdout",
     "output_type": "stream",
     "text": [
      "<class 'list'>\n",
      "[[[1, 2, 3], [4, 5, 6]], [[11, 22, 33], [44, 55, 66]]]\n",
      "==================================================\n",
      "type: <class 'numpy.ndarray'>\n",
      "shape: (2, 2, 3), dimension: 3, dtype: int32\n",
      "numpy 배열의 데이터\n",
      "[[[ 1  2  3]\n",
      "  [ 4  5  6]]\n",
      "\n",
      " [[11 22 33]\n",
      "  [44 55 66]]]\n"
     ]
    }
   ],
   "source": [
    "# 파이썬 3차원 list로 numpy 배열 만들기\n",
    "arr = [[[1, 2, 3], [4, 5, 6]], [[11, 22, 33], [44, 55, 66]]]\n",
    "print(type(arr))\n",
    "print(arr)\n",
    "print('=' * 50)\n",
    "\n",
    "# dtype에 numpy 자료형이 아닌 파이썬 자료형을 사용할 수 있다. => int, float만 가능\n",
    "# int : np.int(np.int32) float :  np.float(np.float64).\n",
    "a = np.array(arr, dtype=int)\n",
    "pprint(a)"
   ]
  },
  {
   "cell_type": "markdown",
   "id": "f6d04c40",
   "metadata": {},
   "source": [
    "numpy는 원하는 shape으로 배열을 생성하고 각 요소들을 특정 값으로 초기화시키는 메소드를 제공한다."
   ]
  },
  {
   "cell_type": "code",
   "execution_count": 9,
   "id": "bc896d96",
   "metadata": {},
   "outputs": [
    {
     "name": "stdout",
     "output_type": "stream",
     "text": [
      "type: <class 'numpy.ndarray'>\n",
      "shape: (3, 4), dimension: 2, dtype: float64\n",
      "numpy 배열의 데이터\n",
      "[[0. 0. 0. 0.]\n",
      " [0. 0. 0. 0.]\n",
      " [0. 0. 0. 0.]]\n"
     ]
    }
   ],
   "source": [
    "# np.zeros() : 0으로 가득 찬 array 생성. 영행렬\n",
    "# np.zeros(shape[, dtype, order]) [] 생략 가능.\n",
    "# order => 데이터가 채워지는 방식을 지정한다.(c, c++, java, c#, python 대부분 행우선이라 의미 x)\n",
    "\n",
    "a = np.zeros(shape=(3, 4)) # dtype numpy 기본값 float64.\n",
    "# a = np.zeros(shape=(3, 4), dtype=np.int) \n",
    "pprint(a)"
   ]
  },
  {
   "cell_type": "code",
   "execution_count": 10,
   "id": "0f7962ef",
   "metadata": {
    "scrolled": true
   },
   "outputs": [
    {
     "name": "stdout",
     "output_type": "stream",
     "text": [
      "type: <class 'numpy.ndarray'>\n",
      "shape: (2, 3, 5), dimension: 3, dtype: int32\n",
      "numpy 배열의 데이터\n",
      "[[[1 1 1 1 1]\n",
      "  [1 1 1 1 1]\n",
      "  [1 1 1 1 1]]\n",
      "\n",
      " [[1 1 1 1 1]\n",
      "  [1 1 1 1 1]\n",
      "  [1 1 1 1 1]]]\n"
     ]
    }
   ],
   "source": [
    "# np.ones() : 1로 가득 찬 array 생성\n",
    "# np.ones(shape[, dtype, order])\n",
    "a = np.ones(shape=(2, 3, 5), dtype=np.int) # 2면 3행 5열\n",
    "pprint(a)"
   ]
  },
  {
   "cell_type": "code",
   "execution_count": 11,
   "id": "da849c53",
   "metadata": {},
   "outputs": [
    {
     "name": "stdout",
     "output_type": "stream",
     "text": [
      "type: <class 'numpy.ndarray'>\n",
      "shape: (3, 5), dimension: 2, dtype: int32\n",
      "numpy 배열의 데이터\n",
      "[[7 7 7 7 7]\n",
      " [7 7 7 7 7]\n",
      " [7 7 7 7 7]]\n"
     ]
    }
   ],
   "source": [
    "# np.full() 메소드 : full array with 특정 값\n",
    "# np.ones(shape, fill_value, [, dtype, order])\n",
    "a = np.full(shape=(3,5), fill_value=7, dtype=np.int)\n",
    "pprint(a)"
   ]
  },
  {
   "cell_type": "code",
   "execution_count": 12,
   "id": "e3678a4e",
   "metadata": {},
   "outputs": [
    {
     "name": "stdout",
     "output_type": "stream",
     "text": [
      "type: <class 'numpy.ndarray'>\n",
      "shape: (5, 5), dimension: 2, dtype: float64\n",
      "numpy 배열의 데이터\n",
      "[[1. 0. 0. 0. 0.]\n",
      " [0. 1. 0. 0. 0.]\n",
      " [0. 0. 1. 0. 0.]\n",
      " [0. 0. 0. 1. 0.]\n",
      " [0. 0. 0. 0. 1.]]\n"
     ]
    }
   ],
   "source": [
    "# np.eye() 메소드는 : 단위 행렬 생성. (대각선 요소가 1이고 나머지 요소가 0인 행렬.)\n",
    "# np.eye(n, dtype) # n행 n열 크기의 단위 행렬을 만든다.\n",
    "a = np.eye(5)\n",
    "pprint(a)"
   ]
  },
  {
   "cell_type": "code",
   "execution_count": 13,
   "id": "0ca395df",
   "metadata": {},
   "outputs": [
    {
     "name": "stdout",
     "output_type": "stream",
     "text": [
      "type: <class 'numpy.ndarray'>\n",
      "shape: (4, 2), dimension: 2, dtype: float64\n",
      "numpy 배열의 데이터\n",
      "[[0.000000e+000 0.000000e+000]\n",
      " [0.000000e+000 0.000000e+000]\n",
      " [0.000000e+000 6.857631e-321]\n",
      " [1.007948e-311 0.000000e+000]]\n"
     ]
    }
   ],
   "source": [
    "# np.empty() 메소드는 shape 크기의 배열을 만들고 초기화 하지 않는다. => 쓰레기가 저장된다.\n",
    "# np.empty(shape, dtype, order)\n",
    "a = np.empty(shape=(4, 2))\n",
    "pprint(a)"
   ]
  },
  {
   "cell_type": "markdown",
   "id": "e818214d",
   "metadata": {},
   "source": [
    "like 메소드  \n",
    "지정한 배열과 shape이 같은 배열을 만든다.  \n",
    "np.zeros_like(), np.ones_like(), np.full_like(), np.empty_like()  "
   ]
  },
  {
   "cell_type": "code",
   "execution_count": 14,
   "id": "454cb353",
   "metadata": {},
   "outputs": [
    {
     "name": "stdout",
     "output_type": "stream",
     "text": [
      "[[1 2 3]\n",
      " [4 5 6]]\n",
      "[[0 0 0]\n",
      " [0 0 0]]\n",
      "[[1 1 1]\n",
      " [1 1 1]]\n",
      "[[814 814 814]\n",
      " [814 814 814]]\n",
      "[[0 0 0]\n",
      " [0 0 0]]\n"
     ]
    }
   ],
   "source": [
    "a = np.array([[1,2,3],[4,5,6]])\n",
    "print(a)\n",
    "b= np.zeros_like(a)\n",
    "print(b)\n",
    "c= np.ones_like(a)\n",
    "print(c)\n",
    "d= np.full_like(a, fill_value=814)\n",
    "print(d)\n",
    "e= np.empty_like(a)\n",
    "print(e)"
   ]
  },
  {
   "cell_type": "markdown",
   "id": "8496d034",
   "metadata": {},
   "source": [
    "데이터 생성 메소드 :  데이터를 생성한 후 배열을 만든다.  \n",
    "np.linspace(), np.arange(), np.logspace()  \n"
   ]
  },
  {
   "cell_type": "code",
   "execution_count": 15,
   "id": "839dfacf",
   "metadata": {},
   "outputs": [],
   "source": [
    "# !pip install matplotlib\n",
    "import matplotlib.pyplot as plt # 시각화 라이브러리\n",
    "# 그래프 만들고, 몇 개의 선을 표현하고, 레이블로 꾸미기 가능\n",
    "\n",
    "# %matplotlib notebook"
   ]
  },
  {
   "cell_type": "code",
   "execution_count": 16,
   "id": "09e5d9eb",
   "metadata": {},
   "outputs": [
    {
     "name": "stdout",
     "output_type": "stream",
     "text": [
      "type: <class 'numpy.ndarray'>\n",
      "shape: (5,), dimension: 1, dtype: float64\n",
      "numpy 배열의 데이터\n",
      "[0.   0.25 0.5  0.75 1.  ]\n"
     ]
    }
   ],
   "source": [
    "# linspace() : 시작 값과 종료 값 사이에서 지정된 개수의 등간격 점들로 이루어진 배열을 생성\n",
    "# np.linspace(start, stop, num) # num: 생성할 점의 개수. 기본값 50.\n",
    "a = np.linspace(0, 1,5)\n",
    "pprint(a)"
   ]
  },
  {
   "cell_type": "code",
   "execution_count": 17,
   "id": "45548543",
   "metadata": {
    "scrolled": true
   },
   "outputs": [
    {
     "data": {
      "image/png": "[encoded data removed]",
      "text/plain": [
       "<Figure size 576x432 with 1 Axes>"
      ]
     },
     "metadata": {
      "needs_background": "light"
     },
     "output_type": "display_data"
    }
   ],
   "source": [
    "plt.figure(figsize=(8,6))\n",
    "plt.plot(a, 'ko') # plot : 변수 간의 관계를 보여주는 그래프\n",
    "plt.show() # show graph."
   ]
  },
  {
   "cell_type": "code",
   "execution_count": 18,
   "id": "97a90982",
   "metadata": {},
   "outputs": [
    {
     "data": {
      "image/png": "[encoded data removed]",
      "text/plain": [
       "<Figure size 432x288 with 1 Axes>"
      ]
     },
     "metadata": {
      "needs_background": "light"
     },
     "output_type": "display_data"
    }
   ],
   "source": [
    "# 넘파이의 np.arange()함수를 통해 특정 범위의 값을 가지는 N차원 배열을 만들 수 있습니다. \n",
    "# range()함수로 특정 범위의 값을 가지는 리스트를 만들 수 있는 것처럼, \n",
    "# 단, stop 값 전까지의 값들로 배열을 만든다.\n",
    "\n",
    "# 200ms 간격으로 균일하게 샘플된 시간\n",
    "t = np.arange(0., 5., 0.2) # : 0이상5미만, 0.2간격\n",
    "\n",
    "# 빨간 대쉬, 파란 사각형, 녹색 삼각형\n",
    "plt.plot(t, t, 'r--', t, t**2, 'bs', t, t**3, 'g^')\n",
    "plt.show()"
   ]
  },
  {
   "cell_type": "code",
   "execution_count": 19,
   "id": "1d587a0a",
   "metadata": {},
   "outputs": [
    {
     "name": "stdout",
     "output_type": "stream",
     "text": [
      "type: <class 'numpy.ndarray'>\n",
      "shape: (5,), dimension: 1, dtype: float32\n",
      "numpy 배열의 데이터\n",
      "[0. 2. 4. 6. 8.]\n"
     ]
    },
    {
     "data": {
      "image/png": "[encoded data removed]",
      "text/plain": [
       "<Figure size 576x432 with 1 Axes>"
      ]
     },
     "metadata": {
      "needs_background": "light"
     },
     "output_type": "display_data"
    }
   ],
   "source": [
    "# arange() : 가장 많이 사용됨\n",
    "# start 부터 stop 미만까지 step 간격으로 데이터를 생성하고 배열을 만든다.\n",
    "# np.arange([start, ]stop[, step, dtype])\n",
    "# linspace()는 요소의 개수를 지정해 배열을 만들지만 arange()는 요소의 개수가 아닌 데이터의 간격을 기준으로 균등한 간격의\n",
    "# 배열을 만든다.\n",
    "# start를 생략하면 0, step을 생략하면 1이 기본값으로 사용된다.\n",
    "# np.arange(10), np.arange(0, 10), np.arange(0, 10, 1)은 모두 같은 기능이 실행된다.\n",
    "a = np.arange(0, 10, 2, dtype=np.float32)\n",
    "pprint(a)\n",
    "# np.arange() 메소드 실행 결과 시각화\n",
    "plt.figure(figsize=(8, 6))\n",
    "plt.plot(a, 'bs')\n",
    "plt.show()"
   ]
  },
  {
   "cell_type": "code",
   "execution_count": 23,
   "id": "acc319a4",
   "metadata": {
    "scrolled": true
   },
   "outputs": [
    {
     "name": "stdout",
     "output_type": "stream",
     "text": [
      "type: <class 'numpy.ndarray'>\n",
      "shape: (5,), dimension: 1, dtype: float64\n",
      "numpy 배열의 데이터\n",
      "[   2.            9.51365692   45.254834    215.2694823  1024.        ]\n"
     ]
    },
    {
     "data": {
      "image/png": "[encoded data removed]",
      "text/plain": [
       "<Figure size 576x432 with 1 Axes>"
      ]
     },
     "metadata": {
      "needs_background": "light"
     },
     "output_type": "display_data"
    }
   ],
   "source": [
    "# logspace() 설정한 범위에서 로그로 n분할한 위치의 값을 출력\n",
    "# np.logspace(start, end, num[, base]) # base를 생략하면 10이 기본값(상용로그)\n",
    "a = np.logspace(1, 10, 5, base=2)\n",
    "pprint(a)\n",
    "# np.logspace() 메소드 실행 결과 시각화\n",
    "plt.figure(figsize=(8, 6))\n",
    "plt.plot(a, 'r')\n",
    "plt.show()"
   ]
  },
  {
   "cell_type": "markdown",
   "id": "23779208",
   "metadata": {},
   "source": [
    "난수 기반 배열 생성  \n",
    "\n",
    "rand: 0부터 1사이의 균일 분포  \n",
    "randn: 표준 정규 분포  \n",
    "randint: 균일 분포의 정수 난수  \n",
    "\n",
    "\n",
    "넘파이는 random 모듈을 제공하고 다음과 같은 함수를 사용할 수 있다.  \n",
    "np.random.normal(), np.random.randn(), np.random.rand(), np.random.randint(), np.random.random()  "
   ]
  },
  {
   "cell_type": "code",
   "execution_count": 177,
   "id": "4b589b69",
   "metadata": {},
   "outputs": [
    {
     "name": "stdout",
     "output_type": "stream",
     "text": [
      "type: <class 'numpy.ndarray'>\n",
      "shape: (50,), dimension: 1, dtype: float64\n",
      "numpy 배열의 데이터\n",
      "[-0.74848858  0.45798855 -0.83760123  0.10340937 -0.22126682 -0.49170397\n",
      "  0.28098069 -0.06951256 -1.64717992 -0.32381459  0.22916275 -1.00236663\n",
      " -1.76316389  1.96014484  0.67035264 -0.61418564  0.27231914  1.86651361\n",
      " -0.80336034 -0.6877526  -0.50944672  0.78400169 -0.27966303  0.83001247\n",
      " -0.16188319  1.07510799  1.06968924  1.53034418 -0.39697225 -0.14347848\n",
      " -1.24511345  0.81928356 -0.31589229 -1.20994457 -0.38646069 -0.16725366\n",
      "  0.5901335  -0.64330596  0.2316171  -0.10511495 -1.16923588  0.5454798\n",
      " -1.12121997  0.32148208 -0.13679407  2.33399056  0.08044879 -0.6396114\n",
      " -0.3788625  -0.64663791]\n"
     ]
    },
    {
     "data": {
      "image/png": "[encoded data removed]",
      "text/plain": [
       "<Figure size 576x432 with 1 Axes>"
      ]
     },
     "metadata": {
      "needs_background": "light"
     },
     "output_type": "display_data"
    }
   ],
   "source": [
    "# normal() : 정규 분포를 따르는 난수 데이터로 배열을 만든다.\n",
    "# np.random.normal(평균, 표준편차, 난수의 개수)\n",
    "a = np.random.normal(0, 1, 50)\n",
    "pprint(a)\n",
    "\n",
    "plt.figure(figsize=(8, 6))\n",
    "plt.hist(a) #히스토그램 구간 개수\n",
    "plt.show()"
   ]
  },
  {
   "cell_type": "code",
   "execution_count": 190,
   "id": "73c582fe",
   "metadata": {},
   "outputs": [
    {
     "name": "stdout",
     "output_type": "stream",
     "text": [
      "type: <class 'numpy.ndarray'>\n",
      "shape: (30,), dimension: 1, dtype: float64\n",
      "numpy 배열의 데이터\n",
      "[ 0.0976113   2.36767278  1.60974413  0.22619661  0.37310648 -0.62950333\n",
      "  1.3494443  -0.4870617   1.58929699 -0.50320299 -1.23272798 -0.21464289\n",
      "  0.42805568  1.18260949  1.12944562  1.77194784  0.24691372  0.14527839\n",
      "  2.54212171 -0.98462002  0.66334853  0.65280464  0.62709967 -0.9250209\n",
      "  1.59155817 -1.89103954  0.19412886 -0.5017476   0.65987666 -2.93038379]\n"
     ]
    },
    {
     "data": {
      "image/png": "[encoded data removed]",
      "text/plain": [
       "<Figure size 576x432 with 1 Axes>"
      ]
     },
     "metadata": {
      "needs_background": "light"
     },
     "output_type": "display_data"
    }
   ],
   "source": [
    "# randn() 표준 정규 분포에서 난수 matrix array생성\n",
    "# np.random.randn(난수의 개수)\n",
    "a = np.random.randn(30)\n",
    "pprint(a)\n",
    "plt.figure(figsize=(8, 6))\n",
    "plt.hist(a)\n",
    "plt.show()"
   ]
  },
  {
   "cell_type": "code",
   "execution_count": 191,
   "id": "77ed0ee2",
   "metadata": {},
   "outputs": [
    {
     "name": "stdout",
     "output_type": "stream",
     "text": [
      "type: <class 'numpy.ndarray'>\n",
      "shape: (10,), dimension: 1, dtype: float64\n",
      "numpy 배열의 데이터\n",
      "[0.66805307 0.58505154 0.18764098 0.37194436 0.42857342 0.44126197\n",
      " 0.53938412 0.89427559 0.0605445  0.98631356]\n"
     ]
    },
    {
     "data": {
      "image/png": "[encoded data removed]",
      "text/plain": [
       "<Figure size 576x432 with 1 Axes>"
      ]
     },
     "metadata": {
      "needs_background": "light"
     },
     "output_type": "display_data"
    },
    {
     "name": "stdout",
     "output_type": "stream",
     "text": [
      "type: <class 'numpy.ndarray'>\n",
      "shape: (10000,), dimension: 1, dtype: float64\n",
      "numpy 배열의 데이터\n",
      "[0.54133925 0.0226454  0.42165136 ... 0.31317653 0.41244026 0.50405185]\n"
     ]
    },
    {
     "data": {
      "image/png": "[encoded data removed]",
      "text/plain": [
       "<Figure size 576x432 with 1 Axes>"
      ]
     },
     "metadata": {
      "needs_background": "light"
     },
     "output_type": "display_data"
    },
    {
     "name": "stdout",
     "output_type": "stream",
     "text": [
      "type: <class 'numpy.ndarray'>\n",
      "shape: (3, 4), dimension: 2, dtype: float64\n",
      "numpy 배열의 데이터\n",
      "[[0.04192871 0.58437211 0.96793247 0.61273677]\n",
      " [0.73613514 0.07898871 0.40485541 0.23178168]\n",
      " [0.02475162 0.9661816  0.22412807 0.09243961]]\n"
     ]
    }
   ],
   "source": [
    "# rand() 0부터 1사이의 균일 분포에서 난수 matrix array생성\n",
    "# np.random.rand(난수의 개수)\n",
    "a = np.random.rand(10)\n",
    "pprint(a)\n",
    "plt.figure(figsize=(8, 6))\n",
    "plt.hist(a)\n",
    "plt.show()\n",
    "\n",
    "a = np.random.rand(10000)\n",
    "pprint(a)\n",
    "plt.figure(figsize=(8, 6))\n",
    "plt.hist(a, bins=100)\n",
    "plt.show()\n",
    "\n",
    "a = np.random.rand(3, 4)\n",
    "pprint(a)"
   ]
  },
  {
   "cell_type": "code",
   "execution_count": 196,
   "id": "5b12294f",
   "metadata": {},
   "outputs": [
    {
     "name": "stdout",
     "output_type": "stream",
     "text": [
      "type: <class 'numpy.ndarray'>\n",
      "shape: (3, 4), dimension: 2, dtype: int32\n",
      "numpy 배열의 데이터\n",
      "[[ 1 23 26 32]\n",
      " [24 20 30 45]\n",
      " [45 23 14 33]]\n"
     ]
    },
    {
     "data": {
      "image/png": "[encoded data removed]",
      "text/plain": [
       "<Figure size 576x432 with 1 Axes>"
      ]
     },
     "metadata": {
      "needs_background": "light"
     },
     "output_type": "display_data"
    }
   ],
   "source": [
    "# randint() 균일 분포의 정수 난수 생성\n",
    "# np.random.randint(low, high, size)\n",
    "a = np.random.randint(1, 46, (3,4))\n",
    "pprint(a)\n",
    "\n",
    "# -100에서 100 사이의 난수를 발생시킨다.\n",
    "a = np.random.randint(-100, 100, size=10000)\n",
    "plt.figure(figsize=(8, 6))\n",
    "plt.hist(a, bins=100)\n",
    "plt.show()"
   ]
  },
  {
   "cell_type": "code",
   "execution_count": 199,
   "id": "90c6f122",
   "metadata": {},
   "outputs": [
    {
     "name": "stdout",
     "output_type": "stream",
     "text": [
      "type: <class 'numpy.ndarray'>\n",
      "shape: (2, 4), dimension: 2, dtype: float64\n",
      "numpy 배열의 데이터\n",
      "[[0.55721993 0.90283168 0.56817883 0.61714671]\n",
      " [0.51151965 0.02634764 0.92458471 0.00802076]]\n"
     ]
    },
    {
     "data": {
      "image/png": "[encoded data removed]",
      "text/plain": [
       "<Figure size 576x432 with 1 Axes>"
      ]
     },
     "metadata": {
      "needs_background": "light"
     },
     "output_type": "display_data"
    }
   ],
   "source": [
    "# random() 함수는 0 부터 1 사이의 균등 분포에서 난수로 데이터를 생성하고 배열을 만든다.\n",
    "# np.random.random(size)\n",
    "a = np.random.random(size=(2, 4))\n",
    "pprint(a)\n",
    "\n",
    "a = np.random.random(size=10000)\n",
    "plt.figure(figsize=(8, 6))\n",
    "plt.hist(a, bins=100)\n",
    "plt.show()"
   ]
  },
  {
   "cell_type": "markdown",
   "id": "f3126154",
   "metadata": {},
   "source": [
    "약속된 난수  \n",
    "무작위 수를 발생시키는 난수 발생 함수는 특정 시작 숫자로부터 난수처럼 보이는 수열을 만드는 알고리즘의 결과물이다.  \n",
    "따라서 시작점을 설정하면 난수 발생을 재연할 수 있다. => 매번 같은 배열의 난수가 발생되게 할 수 있다.\n"
   ]
  },
  {
   "cell_type": "code",
   "execution_count": 201,
   "id": "212806cc",
   "metadata": {},
   "outputs": [
    {
     "name": "stdout",
     "output_type": "stream",
     "text": [
      "[[0.54340494 0.27836939 0.42451759]\n",
      " [0.84477613 0.00471886 0.12156912]]\n",
      "[[2 2 2]\n",
      " [1 0 8]]\n"
     ]
    }
   ],
   "source": [
    "# seed() 함수로 매번 같은 배열의 난수를 얻을 수 있다.\n",
    "np.random.seed(100)\n",
    "print(np.random.random((2, 3)))\n",
    "print(np.random.randint(0, 10, (2, 3)))"
   ]
  },
  {
   "cell_type": "markdown",
   "id": "609015ec",
   "metadata": {},
   "source": [
    "배열의 상태 검사"
   ]
  },
  {
   "cell_type": "code",
   "execution_count": 204,
   "id": "a66997e0",
   "metadata": {},
   "outputs": [],
   "source": [
    "# numpy는 배열의 상태를 검사하는 다음과 같은 방법을 제공한다.\n",
    "# 배열 속성 검사 항목   배열 속성 확인 방법        예시                 결과\n",
    "# 배열 shape            넘파이배열.shape           arr.shape            (5, 2, 3)\n",
    "# 배열 길이             len(넘파이배열)            len(arr)             5\n",
    "# 배열 차원             넘파이배열.ndim            arr.ndim             3\n",
    "# 배열 요소 수          넘파이배열.size            arr.size             30\n",
    "# 배열 타입             넘파이배열.dtype           arr.dtype            dtype('float64')\n",
    "# 배열 타입 이름        넘파이배열.dtype.name      arr.dtype.name       float64\n",
    "# 배열 타입 변환        넘파이배열.astype() 함수   arr.astype(np.int)"
   ]
  },
  {
   "cell_type": "code",
   "execution_count": 212,
   "id": "5f75c171",
   "metadata": {},
   "outputs": [
    {
     "name": "stdout",
     "output_type": "stream",
     "text": [
      "type: <class 'numpy.ndarray'>\n",
      "shape: (2, 3, 6), dimension: 3, dtype: float64\n",
      "numpy 배열의 데이터\n",
      "[[[0.82509486 0.83613181 0.07539491 0.01140079 0.04842057 0.35712271]\n",
      "  [0.66569338 0.01138961 0.10791777 0.9010131  0.79487876 0.81146098]\n",
      "  [0.64027806 0.62477951 0.14550751 0.5702159  0.0651125  0.31341257]]\n",
      "\n",
      " [[0.21706577 0.52695039 0.42710838 0.98263043 0.14045149 0.7484116 ]\n",
      "  [0.78884039 0.73039662 0.84561834 0.55619038 0.05686271 0.88672457]\n",
      "  [0.31441695 0.56039187 0.2540144  0.9349621  0.03424494 0.68654496]]]\n"
     ]
    }
   ],
   "source": [
    "arr = np.random.random((2, 3, 6))\n",
    "pprint(arr)"
   ]
  },
  {
   "cell_type": "markdown",
   "id": "599946fd",
   "metadata": {},
   "source": [
    "numpy 배열 객체 속성 확인 방법."
   ]
  },
  {
   "cell_type": "code",
   "execution_count": 213,
   "id": "4e4be2c7",
   "metadata": {},
   "outputs": [
    {
     "name": "stdout",
     "output_type": "stream",
     "text": [
      "배열의 타입: <class 'numpy.ndarray'>\n",
      "배열의 shape: (2, 3, 6)\n",
      "배열의 길이(면): 2\n",
      "배열의 길이(행): 3\n",
      "배열의 길이(열): 6\n",
      "배열의 차원: 3\n",
      "배열의 요소 개수: 36\n",
      "배열의 데이터 타입: float64\n",
      "배열의 데이터 타입 이름: float64\n"
     ]
    }
   ],
   "source": [
    "print('배열의 타입: {}'.format(type(arr)))\n",
    "print('배열의 shape: {}'.format(arr.shape))\n",
    "print('배열의 길이(면): {}'.format(len(arr))) \n",
    "print('배열의 길이(행): {}'.format(len(arr[0])))\n",
    "print('배열의 길이(열): {}'.format(len(arr[0][0])))\n",
    "print('배열의 차원: {}'.format(arr.ndim))\n",
    "print('배열의 요소 개수: {}'.format(arr.size))\n",
    "print('배열의 데이터 타입: {}'.format(arr.dtype))\n",
    "print('배열의 데이터 타입 이름: {}'.format(arr.dtype.name))\n",
    "\n"
   ]
  },
  {
   "cell_type": "code",
   "execution_count": 214,
   "id": "f4c11e91",
   "metadata": {},
   "outputs": [
    {
     "name": "stdout",
     "output_type": "stream",
     "text": [
      "[[[0 0 0 0 0 0]\n",
      "  [0 0 0 0 0 0]\n",
      "  [0 0 0 0 0 0]]\n",
      "\n",
      " [[0 0 0 0 0 0]\n",
      "  [0 0 0 0 0 0]\n",
      "  [0 0 0 0 0 0]]]\n",
      "type: <class 'numpy.ndarray'>\n",
      "shape: (2, 3, 6), dimension: 3, dtype: float64\n",
      "numpy 배열의 데이터\n",
      "[[[0.82509486 0.83613181 0.07539491 0.01140079 0.04842057 0.35712271]\n",
      "  [0.66569338 0.01138961 0.10791777 0.9010131  0.79487876 0.81146098]\n",
      "  [0.64027806 0.62477951 0.14550751 0.5702159  0.0651125  0.31341257]]\n",
      "\n",
      " [[0.21706577 0.52695039 0.42710838 0.98263043 0.14045149 0.7484116 ]\n",
      "  [0.78884039 0.73039662 0.84561834 0.55619038 0.05686271 0.88672457]\n",
      "  [0.31441695 0.56039187 0.2540144  0.9349621  0.03424494 0.68654496]]]\n",
      "type: <class 'numpy.ndarray'>\n",
      "shape: (2, 3, 6), dimension: 3, dtype: int32\n",
      "numpy 배열의 데이터\n",
      "[[[0 0 0 0 0 0]\n",
      "  [0 0 0 0 0 0]\n",
      "  [0 0 0 0 0 0]]\n",
      "\n",
      " [[0 0 0 0 0 0]\n",
      "  [0 0 0 0 0 0]\n",
      "  [0 0 0 0 0 0]]]\n"
     ]
    }
   ],
   "source": [
    "# 배열 요소를 정수(int)로 변환한다.\n",
    "print(arr.astype(np.int)) # 배열 요소의 실제 값이 변환되는 것이 아니고 화면에 보여주기만 한다.\n",
    "pprint(arr)\n",
    "arr = arr.astype(np.int)\n",
    "pprint(arr)"
   ]
  },
  {
   "cell_type": "code",
   "execution_count": null,
   "id": "4bd211a6",
   "metadata": {},
   "outputs": [],
   "source": []
  }
 ],
 "metadata": {
  "kernelspec": {
   "display_name": "Python 3",
   "language": "python",
   "name": "python3"
  },
  "language_info": {
   "codemirror_mode": {
    "name": "ipython",
    "version": 3
   },
   "file_extension": ".py",
   "mimetype": "text/x-python",
   "name": "python",
   "nbconvert_exporter": "python",
   "pygments_lexer": "ipython3",
   "version": "3.6.8"
  }
 },
 "nbformat": 4,
 "nbformat_minor": 5
}
