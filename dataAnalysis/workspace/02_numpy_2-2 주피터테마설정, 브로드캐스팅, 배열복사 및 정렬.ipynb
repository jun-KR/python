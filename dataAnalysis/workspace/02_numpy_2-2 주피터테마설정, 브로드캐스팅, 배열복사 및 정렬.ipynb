{
 "cells": [
  {
   "cell_type": "markdown",
   "id": "fdf72e95",
   "metadata": {},
   "source": [
    "Numpy\n",
    "\n",
    "\n",
    "대규모 다차원 배열을 쉽게 처리할 수 있도록 지원하는 파이썬의 라이브러리이다. \n",
    "\n",
    "데이터 구조 외에도 수치 계산을 위해 효율적으로 구현된 기능을 제공한다"
   ]
  },
  {
   "cell_type": "code",
   "execution_count": 27,
   "id": "c3d13a25",
   "metadata": {},
   "outputs": [],
   "source": [
    "import warnings\n",
    "warnings.filterwarnings('ignore')\n",
    "%config Computer.use_jedi = False\n",
    "import numpy as np\n",
    "\n",
    "def pprint(arr):\n",
    "    print('type: {}'.format(type(arr)))\n",
    "    print('shape: {}, dimension: {}, dtype: {}'.format(arr.shape, arr.ndim, arr.dtype))\n",
    "    print('numpy 배열의 데이터\\n', arr, sep='') "
   ]
  },
  {
   "cell_type": "code",
   "execution_count": 28,
   "id": "b048f1c3",
   "metadata": {},
   "outputs": [
    {
     "name": "stdout",
     "output_type": "stream",
     "text": [
      "type: <class 'numpy.ndarray'>\n",
      "shape: (4, 6), dimension: 2, dtype: int32\n",
      "numpy 배열의 데이터\n",
      "[[ 1  2  3  4  5  6]\n",
      " [ 7  8  9 10 11 12]\n",
      " [13 14 15 16 17 18]\n",
      " [19 20 21 22 23 24]]\n",
      "type: <class 'numpy.ndarray'>\n",
      "shape: (4, 6), dimension: 2, dtype: int32\n",
      "numpy 배열의 데이터\n",
      "[[25 26 27 28 29 30]\n",
      " [31 32 33 34 35 36]\n",
      " [37 38 39 40 41 42]\n",
      " [43 44 45 46 47 48]]\n"
     ]
    }
   ],
   "source": [
    "a = np.arange(1,25).reshape(4,6)\n",
    "pprint(a)\n",
    "b = np.arange(25,49).reshape(4,6)\n",
    "pprint(b)                  "
   ]
  },
  {
   "cell_type": "code",
   "execution_count": 29,
   "id": "1a382d91",
   "metadata": {},
   "outputs": [],
   "source": [
    "# !jt -t onedork -fs 125 -nfs 125 -tfs 125 -dfs 115 -ofs 115 -cursc r -cellw 80% -lineh 115 -altmd  -kl -T -N\n",
    "# color: #f55683; 주피터설정"
   ]
  },
  {
   "cell_type": "markdown",
   "id": "0bd5b11c",
   "metadata": {},
   "source": [
    "브로드캐스팅 서로 다른 shape의 배열을 일정 조건을 만족하면 연산하는 기능  "
   ]
  },
  {
   "cell_type": "code",
   "execution_count": 30,
   "id": "48c1cf77",
   "metadata": {},
   "outputs": [
    {
     "name": "stdout",
     "output_type": "stream",
     "text": [
      "[[26 28 30 32 34 36]\n",
      " [38 40 42 44 46 48]\n",
      " [50 52 54 56 58 60]\n",
      " [62 64 66 68 70 72]]\n"
     ]
    }
   ],
   "source": [
    "# shape이 같은 두 배열의 연산 : 요소별로 실행된다.\n",
    "print(a+b)"
   ]
  },
  {
   "cell_type": "code",
   "execution_count": 59,
   "id": "60d34ee8",
   "metadata": {},
   "outputs": [
    {
     "name": "stdout",
     "output_type": "stream",
     "text": [
      "[[ 1  2  3  4  5  6]\n",
      " [ 7  8  9 10 11 12]\n",
      " [13 14 15 16 17 18]\n",
      " [19 20 21 22 23 24]]\n",
      "[[101 102 103 104 105 106]\n",
      " [107 108 109 110 111 112]\n",
      " [113 114 115 116 117 118]\n",
      " [119 120 121 122 123 124]]\n",
      "[[100 100 100 100 100 100]\n",
      " [100 100 100 100 100 100]\n",
      " [100 100 100 100 100 100]\n",
      " [100 100 100 100 100 100]]\n",
      "[[101 102 103 104 105 106]\n",
      " [107 108 109 110 111 112]\n",
      " [113 114 115 116 117 118]\n",
      " [119 120 121 122 123 124]]\n",
      "[[0 1 2 3 4]]\n",
      "[[0]\n",
      " [1]\n",
      " [2]\n",
      " [3]\n",
      " [4]]\n",
      "[[0 1 2 3 4]\n",
      " [1 2 3 4 5]\n",
      " [2 3 4 5 6]\n",
      " [3 4 5 6 7]\n",
      " [4 5 6 7 8]]\n"
     ]
    }
   ],
   "source": [
    "# shape이 다른 두 배열의 연산 - 브로드캐스팅\n",
    "# 두 배열을 같은 shape으로 만든 후 연산을 실행한다.\n",
    "\n",
    "# 배열과 스칼라(단일 값)의 연산 : 스칼라를 배열과 같은 shape로 변환한다.\n",
    "# 가장 많이 사용됨\n",
    "a = np.arange(1, 25).reshape(4, 6)\n",
    "print(a)\n",
    "print(a + 100)\n",
    "\n",
    "# a + 100은 다음과 같은 과정을 거쳐서 처리된다.\n",
    "new_arr = np.full_like(a, 100) # 100이 a와 같은 shape의 100으로 가득찬 배열로 변환됨\n",
    "print(new_arr)\n",
    "print(a + new_arr) # 이후 연산\n",
    "\n",
    "a = np.arange(5).reshape(1, 5) \n",
    "print(a)\n",
    "b = np.arange(5).reshape(5, 1)\n",
    "print(b)\n",
    "print(a + b) # a와 b를 5행5열로 만들어 계산 \n",
    "\n"
   ]
  },
  {
   "cell_type": "markdown",
   "id": "b8f9be96",
   "metadata": {},
   "source": [
    "벡터 연산  \n",
    "numpy에는 벡터화 기능이 적용되어 있어 배열 연산 속도가 100배 이상 빠르다."
   ]
  },
  {
   "cell_type": "code",
   "execution_count": 34,
   "id": "6c373809",
   "metadata": {},
   "outputs": [],
   "source": [
    "a = np.arange(10000000, dtype=np.int64)"
   ]
  },
  {
   "cell_type": "code",
   "execution_count": 35,
   "id": "80b1ade9",
   "metadata": {},
   "outputs": [
    {
     "name": "stdout",
     "output_type": "stream",
     "text": [
      "49999995000000\n",
      "Wall time: 3.9 s\n"
     ]
    }
   ],
   "source": [
    "%%time\n",
    "\n",
    "result = 0\n",
    "for i in a:\n",
    "    result += i\n",
    "print(result)\n"
   ]
  },
  {
   "cell_type": "code",
   "execution_count": 36,
   "id": "a9fda8c5",
   "metadata": {},
   "outputs": [
    {
     "name": "stdout",
     "output_type": "stream",
     "text": [
      "49999995000000\n",
      "Wall time: 16 ms\n"
     ]
    }
   ],
   "source": [
    "%%time\n",
    "result=np.sum(a)\n",
    "print(result)"
   ]
  },
  {
   "cell_type": "markdown",
   "id": "8c48ed99",
   "metadata": {},
   "source": [
    "배열 복사  \n",
    "배열 객체에 대한 인덱싱, 슬라이싱으로 반환하는 배열은, 새로운 객체가 아니다.    \n",
    "(view : 기본 테이블에서 유도된 가상 테이블, read only-수정 불가)\n",
    "\n",
    "이를 수정하면 원본 배열에 반영된다. - 얕은 복사  \n",
    "\n",
    "copy() : 원본 배열로부터 별도의 배열을 생성 - 깊은 복사"
   ]
  },
  {
   "cell_type": "code",
   "execution_count": 48,
   "id": "3c4aa6d2",
   "metadata": {},
   "outputs": [
    {
     "name": "stdout",
     "output_type": "stream",
     "text": [
      "[[2 8 1]\n",
      " [4 7 8]\n",
      " [4 8 1]]\n",
      "[4 8 1]\n",
      "4\n",
      "[2 4 4]\n",
      "[999 999 999]\n",
      "[[999   8   1]\n",
      " [999   7   8]\n",
      " [999   8   1]]\n"
     ]
    }
   ],
   "source": [
    "a = np.random.randint(0, 9, (3, 3))\n",
    "print(a)\n",
    "print(a[2]) # 2행의 전체값\n",
    "print(a[2][0]) # 2행0열값 \n",
    "\n",
    "print(a[:, 0])# a배열의[처음부터 끝까지, 0번째 열] 0번째 열만 슬라이싱.\n",
    "\n",
    "a[:, 0]=999 # 수정시 원본에 반영됨\n",
    "print(a[:, 0])\n",
    "print(a)"
   ]
  },
  {
   "cell_type": "code",
   "execution_count": 47,
   "id": "2c291e48",
   "metadata": {},
   "outputs": [
    {
     "name": "stdout",
     "output_type": "stream",
     "text": [
      "[[3 1 7]\n",
      " [7 0 8]\n",
      " [7 8 4]]\n",
      "[[3 1 7]\n",
      " [7 0 8]\n",
      " [7 8 4]]\n",
      "[[  3 777   7]\n",
      " [  7 777   8]\n",
      " [  7 777   4]]\n",
      "[[3 1 7]\n",
      " [7 0 8]\n",
      " [7 8 4]]\n"
     ]
    }
   ],
   "source": [
    "a=np.random.randint(0,9,(3,3))\n",
    "print(a)\n",
    "copied_a = np.copy(a) # copy() \n",
    "print(copied_a)\n",
    "copied_a[:, 1] = 777\n",
    "print(copied_a)\n",
    "print(a)\n",
    "\n"
   ]
  },
  {
   "cell_type": "markdown",
   "id": "fa592db1",
   "metadata": {},
   "source": [
    "배열 정렬  \n",
    " sort() : axis를 기준으로 비교해 요소를 정렬.  \n",
    "\n",
    "\n",
    "\n",
    "배열.sort()  \n",
    "sort() 함수의 axis 기본값 : -1. (배열의 마지막 값 1) -> y축 기준 행별로 비교 후 정렬"
   ]
  },
  {
   "cell_type": "code",
   "execution_count": 56,
   "id": "3883a823",
   "metadata": {},
   "outputs": [
    {
     "name": "stdout",
     "output_type": "stream",
     "text": [
      "[[0.63107268 0.70748071 0.31936569]\n",
      " [0.8817734  0.67662621 0.35320234]\n",
      " [0.54669972 0.02149566 0.510918  ]]\n",
      "[[0.63107268 0.70748071 0.31936569]\n",
      " [0.8817734  0.67662621 0.35320234]\n",
      " [0.54669972 0.02149566 0.510918  ]]\n",
      "[[0.63107268 0.70748071 0.31936569]\n",
      " [0.8817734  0.67662621 0.35320234]\n",
      " [0.54669972 0.02149566 0.510918  ]]\n",
      "[[0.63107268 0.70748071 0.31936569]\n",
      " [0.8817734  0.67662621 0.35320234]\n",
      " [0.54669972 0.02149566 0.510918  ]]\n"
     ]
    }
   ],
   "source": [
    "unsorted_arr = np.random.random((3, 3))\n",
    "print(unsorted_arr)\n",
    "\n",
    "# sort 작업을 위해 copy.\n",
    "unsorted_arr1 = unsorted_arr.copy()\n",
    "print(unsorted_arr1)\n",
    "unsorted_arr2 = unsorted_arr.copy()\n",
    "print(unsorted_arr2)\n",
    "unsorted_arr3 = np.copy(unsorted_arr)\n",
    "print(unsorted_arr3)"
   ]
  },
  {
   "cell_type": "code",
   "execution_count": 58,
   "id": "89f7a8b0",
   "metadata": {},
   "outputs": [
    {
     "name": "stdout",
     "output_type": "stream",
     "text": [
      "[[0.31936569 0.63107268 0.70748071]\n",
      " [0.35320234 0.67662621 0.8817734 ]\n",
      " [0.02149566 0.510918   0.54669972]]\n",
      "[[0.54669972 0.02149566 0.31936569]\n",
      " [0.63107268 0.67662621 0.35320234]\n",
      " [0.8817734  0.70748071 0.510918  ]]\n",
      "[[0.8817734  0.70748071 0.510918  ]\n",
      " [0.63107268 0.67662621 0.35320234]\n",
      " [0.54669972 0.02149566 0.31936569]]\n"
     ]
    }
   ],
   "source": [
    "unsorted_arr1.sort() # axis=-1=1, y축으로 비교, 열방향 정렬(왼->오)\n",
    "print(unsorted_arr1)\n",
    "unsorted_arr2.sort(axis=0) # x축 비교, 행방향 정렬(위에서 아래)\n",
    "print(unsorted_arr2)\n",
    "\n",
    "a = np.sort(unsorted_arr3, axis=0)[::-1] # 내림차순, 행방향 정렬(위에서 아래)\n",
    "print(a)"
   ]
  },
  {
   "cell_type": "code",
   "execution_count": null,
   "id": "fe77cb85",
   "metadata": {},
   "outputs": [],
   "source": []
  }
 ],
 "metadata": {
  "kernelspec": {
   "display_name": "Python 3",
   "language": "python",
   "name": "python3"
  },
  "language_info": {
   "codemirror_mode": {
    "name": "ipython",
    "version": 3
   },
   "file_extension": ".py",
   "mimetype": "text/x-python",
   "name": "python",
   "nbconvert_exporter": "python",
   "pygments_lexer": "ipython3",
   "version": "3.6.8"
  }
 },
 "nbformat": 4,
 "nbformat_minor": 5
}
