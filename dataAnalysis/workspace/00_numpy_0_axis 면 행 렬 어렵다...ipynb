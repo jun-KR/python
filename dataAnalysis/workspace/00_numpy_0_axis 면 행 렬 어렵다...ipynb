{
 "cells": [
  {
   "cell_type": "code",
   "execution_count": 15,
   "id": "9d4a0148",
   "metadata": {},
   "outputs": [],
   "source": [
    "import warnings\n",
    "warnings.filterwarnings(action='ignore')\n",
    "import numpy as np"
   ]
  },
  {
   "cell_type": "code",
   "execution_count": 28,
   "id": "34e1abf5",
   "metadata": {},
   "outputs": [
    {
     "name": "stdout",
     "output_type": "stream",
     "text": [
      "[ 0  1  2  3  4  5  6  7  8  9 10 11 12 13 14 15 16 17 18 19 20 21 22 23\n",
      " 24 25 26 27 28 29 30 31]\n",
      "32\n",
      "<class 'numpy.ndarray'>\n",
      "(32,)\n"
     ]
    }
   ],
   "source": [
    "arr = np.arange(32)\n",
    "print(arr)\n",
    "print(len(arr))\n",
    "print(type(arr))\n",
    "print(arr.shape)"
   ]
  },
  {
   "cell_type": "code",
   "execution_count": 29,
   "id": "0c78628e",
   "metadata": {
    "scrolled": true
   },
   "outputs": [
    {
     "name": "stdout",
     "output_type": "stream",
     "text": [
      "[[[ 0  1  2  3]\n",
      "  [ 4  5  6  7]]\n",
      "\n",
      " [[ 8  9 10 11]\n",
      "  [12 13 14 15]]\n",
      "\n",
      " [[16 17 18 19]\n",
      "  [20 21 22 23]]\n",
      "\n",
      " [[24 25 26 27]\n",
      "  [28 29 30 31]]]\n",
      "(4, 2, 4)\n"
     ]
    }
   ],
   "source": [
    "# reshape() 메소드는 numpy 배열의 차원을 변경한다. => 전체 데이터 개수는 같아야 한다.\n",
    "v = arr.reshape(4,2,4) # depth 4, 2 rows, 2 cols.\n",
    "# 항상 행 기준!!\n",
    "print(v) \n",
    "print(v.shape)"
   ]
  },
  {
   "cell_type": "markdown",
   "id": "09b60139",
   "metadata": {},
   "source": [
    "numpy의 sum() 메소드 :  전체 합계 혹은 축 합계를 구한다.\n",
    "\n",
    "axis=None은 기본값으로 모든 요소의 값을 합산하여 1개의 스칼라값을 반환합니다.  \n",
    "axis=0은 x축을 기준으로 여러 row를 한 개로 합치는 과정입니다.  \n",
    "axis=1은 y축을 기준으로 row 별로 존재하는 column들의 값을 합쳐 1개로 축소하는 과정입니다.  \n",
    "axis=2는 z축을 기준으로 column의 depth가 가진 값을 축소하는 과정입니다.\n",
    "\n",
    "행이 늘어나는 방향이 위에서 아래 = 행 방향\n",
    "\n",
    " \n",
    "\n",
    "열이 늘어나는 방향이 좌에서 우 = 열 방향\n",
    "\n",
    "내적을 계산 : 첫 번째 행렬의 각 행과 두 번째 행렬의 각 열을 순서대로 곱하고 더해야 합니다."
   ]
  },
  {
   "cell_type": "code",
   "execution_count": 30,
   "id": "169ac89e",
   "metadata": {},
   "outputs": [
    {
     "name": "stdout",
     "output_type": "stream",
     "text": [
      "3\n"
     ]
    }
   ],
   "source": [
    "# sum() 메소드의 axis 속성의 기본값은 None이고 axis는 대상 차원보다 작은 값을 설정한다.\n",
    "# 위의 예제에서는 데이터의 차원이 3이기 때문에 axis 속성은 2까지 지정할 수 있다.\n",
    "print(v.ndim) # ndim: numpy 배열의 차원(Dimension)을 얻어온다.\n"
   ]
  },
  {
   "cell_type": "code",
   "execution_count": 23,
   "id": "9540d19e",
   "metadata": {},
   "outputs": [
    {
     "name": "stdout",
     "output_type": "stream",
     "text": [
      "(4, 2, 4)\n",
      "496\n",
      "496\n"
     ]
    }
   ],
   "source": [
    "# axis=None\n",
    "# 기본값. 면, 행, 열을 구분않고 전체 합계를 계산한다.\n",
    "# 데이터에 포함된 모든 요소를 합산.\n",
    "print(v.shape)\n",
    "print(v.sum()) # print(v.sum(axis=None))와 같은 표현이다.\n",
    "print(v.sum(axis=None))"
   ]
  },
  {
   "cell_type": "code",
   "execution_count": 24,
   "id": "673ce0ab",
   "metadata": {},
   "outputs": [
    {
     "name": "stdout",
     "output_type": "stream",
     "text": [
      "(2, 4)\n",
      "2\n",
      "[[48 52 56 60]\n",
      " [64 68 72 76]]\n"
     ]
    }
   ],
   "source": [
    "# axis=0 \n",
    "# !x축 행!을 합친다 ... 기준으로 계산한 합계를 리턴한다.\n",
    "# => 컬럼과 depth의 위치별 합이 계산됩니다.\n",
    "\n",
    "# shape이 (4, 2, 4)인 데이터를 x축을 기준으로 계산\n",
    "res = v.sum(axis=0)\n",
    "print(res.shape) # 면이 제거되고 (2, 4)이 리턴된다.\n",
    "print(res.ndim)\n",
    "print(res)\n",
    "# axis=0은 가장 외곽의 괄호를 제거하고 각 행의 데이터는 위치별로 합계를 계산한다.\n"
   ]
  },
  {
   "cell_type": "code",
   "execution_count": null,
   "id": "f55b1437",
   "metadata": {},
   "outputs": [],
   "source": [
    "# axis=1\n",
    "# y축 즉 컬럼을 합친다... sum\n",
    "# => row 별로 컬럼들의 depth 위치별 합이 계산됩니다.\n",
    "\n",
    "# shape이 (4, 2, 4)인 데이터를 y축을 기준을 계산한 결과 shape은 열이 제거되고 (4, 4)이 리턴된다.\n",
    "res = v.sum(axis=1)\n",
    "print(res.shape)\n",
    "print(res.ndim)\n",
    "print(res)"
   ]
  },
  {
   "cell_type": "code",
   "execution_count": 31,
   "id": "5a756beb",
   "metadata": {},
   "outputs": [
    {
     "name": "stdout",
     "output_type": "stream",
     "text": [
      "(4, 2)\n",
      "2\n",
      "[[  6  22]\n",
      " [ 38  54]\n",
      " [ 70  86]\n",
      " [102 118]]\n"
     ]
    }
   ],
   "source": [
    "# axis=2\n",
    "# axis=2는 z축을 기준으로 계산한 합계를 리턴한다.\n",
    "# shape이 (4, 2, 4)인 데이터를 y축을 기준을 계산한 결과 shape은 열이 제거되고 (4, 2)이 리턴된다.\n",
    "res = v.sum(axis=2)\n",
    "print(res.shape)\n",
    "print(res.ndim)\n",
    "print(res)"
   ]
  },
  {
   "cell_type": "code",
   "execution_count": null,
   "id": "7a86f2f7",
   "metadata": {},
   "outputs": [],
   "source": []
  },
  {
   "cell_type": "code",
   "execution_count": null,
   "id": "b0514a75",
   "metadata": {},
   "outputs": [],
   "source": []
  },
  {
   "cell_type": "code",
   "execution_count": null,
   "id": "b82bddeb",
   "metadata": {},
   "outputs": [],
   "source": []
  },
  {
   "cell_type": "code",
   "execution_count": null,
   "id": "25e5f7f5",
   "metadata": {},
   "outputs": [],
   "source": []
  }
 ],
 "metadata": {
  "kernelspec": {
   "display_name": "Python 3",
   "language": "python",
   "name": "python3"
  },
  "language_info": {
   "codemirror_mode": {
    "name": "ipython",
    "version": 3
   },
   "file_extension": ".py",
   "mimetype": "text/x-python",
   "name": "python",
   "nbconvert_exporter": "python",
   "pygments_lexer": "ipython3",
   "version": "3.6.8"
  }
 },
 "nbformat": 4,
 "nbformat_minor": 5
}
