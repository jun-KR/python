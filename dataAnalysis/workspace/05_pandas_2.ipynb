{
 "cells": [
  {
   "cell_type": "code",
   "execution_count": 1,
   "id": "838b8ed4",
   "metadata": {},
   "outputs": [],
   "source": [
    "import warnings\n",
    "warnings.filterwarnings('ignore')\n",
    "import numpy as np\n",
    "import pandas as pd"
   ]
  },
  {
   "cell_type": "markdown",
   "id": "ff07c6fa",
   "metadata": {},
   "source": [
    "판다스의 데이터프레임과 시리즈\n",
    "\n",
    "데이터프레임과 시리즈는 파이썬의 리스트나 딕셔너리와 비슷하지만 데이터를 다루는데 더 특화되어 있다.\n",
    "\n",
    "판다스는 데이터프레임과 시리즈는 많은 양의 데이터를 저장할 수 있을 뿐만아니라 스프레드시트 계열의 프로그램을 사용하는 것 처럼 \n",
    "행과 열 단위로 데이터를 조작할 수 있는 다양한 함수와 속성들을 제공한다.\n",
    "\n",
    "시리즈 만들기\n",
    "\n",
    "시리즈를 만들기 위해서는 리스트를 Series() 함수의 인수로 전달하면 된다."
   ]
  },
  {
   "cell_type": "code",
   "execution_count": null,
   "id": "9cc70b38",
   "metadata": {},
   "outputs": [],
   "source": [
    "s = pd.Series(['홍길동', '도적넘'])\n",
    "print(s)\n",
    "print(s.loc[0])\n",
    "print(s.loc[1])\n",
    "print(s.iloc[0])\n",
    "print(s.iloc[1])"
   ]
  },
  {
   "cell_type": "code",
   "execution_count": null,
   "id": "05bd17bb",
   "metadata": {},
   "outputs": [],
   "source": [
    "# 시리즈를 생성할 때 문자열을 인덱스로 지정할 수 있다.\n",
    "# 문자열을 인덱스로 지정하려면 index 속성으로 인덱스로 사용하려는 문자열을 리스트에 담아서 전달하면 된다.\n",
    "s = pd.Series(['홍길동', '도적넘'], index=['name', 'job'])\n",
    "print(s)\n",
    "print(s.loc['name'])\n",
    "print(s.loc['job'])\n",
    "print(s.iloc[0])\n",
    "print(s.iloc[1])"
   ]
  },
  {
   "cell_type": "markdown",
   "id": "239ab437",
   "metadata": {},
   "source": [
    "\n",
    "데이터프레임 만들기\n",
    "\n",
    "딕셔너리를 DataFrame() 인수로 전달하면 된다.\n"
   ]
  },
  {
   "cell_type": "code",
   "execution_count": 3,
   "id": "b29c9c43",
   "metadata": {},
   "outputs": [
    {
     "name": "stdout",
     "output_type": "stream",
     "text": [
      "<class 'pandas.core.frame.DataFrame'>\n"
     ]
    },
    {
     "data": {
      "text/html": [
       "<div>\n",
       "<style scoped>\n",
       "    .dataframe tbody tr th:only-of-type {\n",
       "        vertical-align: middle;\n",
       "    }\n",
       "\n",
       "    .dataframe tbody tr th {\n",
       "        vertical-align: top;\n",
       "    }\n",
       "\n",
       "    .dataframe thead th {\n",
       "        text-align: right;\n",
       "    }\n",
       "</style>\n",
       "<table border=\"1\" class=\"dataframe\">\n",
       "  <thead>\n",
       "    <tr style=\"text-align: right;\">\n",
       "      <th></th>\n",
       "      <th>name</th>\n",
       "      <th>job</th>\n",
       "      <th>born</th>\n",
       "      <th>died</th>\n",
       "      <th>age</th>\n",
       "    </tr>\n",
       "  </thead>\n",
       "  <tbody>\n",
       "    <tr>\n",
       "      <th>0</th>\n",
       "      <td>홍길동</td>\n",
       "      <td>도적놈</td>\n",
       "      <td>1569-04-20</td>\n",
       "      <td>1620-08-25</td>\n",
       "      <td>52</td>\n",
       "    </tr>\n",
       "    <tr>\n",
       "      <th>1</th>\n",
       "      <td>임꺽정</td>\n",
       "      <td>도둑놈</td>\n",
       "      <td>1875-06-10</td>\n",
       "      <td>1950-01-19</td>\n",
       "      <td>75</td>\n",
       "    </tr>\n",
       "  </tbody>\n",
       "</table>\n",
       "</div>"
      ],
      "text/plain": [
       "  name  job        born        died  age\n",
       "0  홍길동  도적놈  1569-04-20  1620-08-25   52\n",
       "1  임꺽정  도둑놈  1875-06-10  1950-01-19   75"
      ]
     },
     "execution_count": 3,
     "metadata": {},
     "output_type": "execute_result"
    }
   ],
   "source": [
    "df = pd.DataFrame({\n",
    "    # 'key': [value, value, ...] # key가 데이터프레임의 열 이름이 되고 value는 데이터가 된다.\n",
    "    'name': ['홍길동', '임꺽정'],\n",
    "    'job': ['도적놈', '도둑놈'],\n",
    "    'born': ['1569-04-20', '1875-06-10'],\n",
    "    'died': ['1620-08-25', '1950-01-19'],\n",
    "    'age': [52, 75]\n",
    "})\n",
    "print(type(df))\n",
    "df"
   ]
  },
  {
   "cell_type": "code",
   "execution_count": 2,
   "id": "354a1269",
   "metadata": {},
   "outputs": [
    {
     "name": "stdout",
     "output_type": "stream",
     "text": [
      "<class 'pandas.core.frame.DataFrame'>\n"
     ]
    },
    {
     "data": {
      "text/html": [
       "<div>\n",
       "<style scoped>\n",
       "    .dataframe tbody tr th:only-of-type {\n",
       "        vertical-align: middle;\n",
       "    }\n",
       "\n",
       "    .dataframe tbody tr th {\n",
       "        vertical-align: top;\n",
       "    }\n",
       "\n",
       "    .dataframe thead th {\n",
       "        text-align: right;\n",
       "    }\n",
       "</style>\n",
       "<table border=\"1\" class=\"dataframe\">\n",
       "  <thead>\n",
       "    <tr style=\"text-align: right;\">\n",
       "      <th></th>\n",
       "      <th>job</th>\n",
       "      <th>age</th>\n",
       "    </tr>\n",
       "  </thead>\n",
       "  <tbody>\n",
       "    <tr>\n",
       "      <th>홍길동</th>\n",
       "      <td>도적놈</td>\n",
       "      <td>52</td>\n",
       "    </tr>\n",
       "    <tr>\n",
       "      <th>임꺽정</th>\n",
       "      <td>도둑놈</td>\n",
       "      <td>75</td>\n",
       "    </tr>\n",
       "  </tbody>\n",
       "</table>\n",
       "</div>"
      ],
      "text/plain": [
       "     job  age\n",
       "홍길동  도적놈   52\n",
       "임꺽정  도둑놈   75"
      ]
     },
     "execution_count": 2,
     "metadata": {},
     "output_type": "execute_result"
    }
   ],
   "source": [
    "# DataFrame()하고 index 속성으로 인덱스를 지정할 수 있다.\n",
    "# columns 열 이름을 지정. data 속성에 지정한 key와 같은 열 이름만 데이터프레임으로 만들어진다.\n",
    "df = pd.DataFrame(\n",
    "    data={ #  data 속성 - 딕셔너리 형태로 데이터를 지정\n",
    "        'job': ['도적놈', '도둑놈'],\n",
    "        'born': ['1569-04-20', '1875-06-10'],\n",
    "        'died': ['1620-08-25', '1950-01-19'],\n",
    "        'age': [52, 75]\n",
    "    },\n",
    "    index=['홍길동', '임꺽정'],\n",
    "    columns=['job', 'age']\n",
    ")\n",
    "print(type(df))\n",
    "df"
   ]
  },
  {
   "cell_type": "code",
   "execution_count": 4,
   "id": "b68c5bcf",
   "metadata": {},
   "outputs": [
    {
     "name": "stdout",
     "output_type": "stream",
     "text": [
      "<class 'pandas.core.frame.DataFrame'>\n"
     ]
    },
    {
     "data": {
      "text/html": [
       "<div>\n",
       "<style scoped>\n",
       "    .dataframe tbody tr th:only-of-type {\n",
       "        vertical-align: middle;\n",
       "    }\n",
       "\n",
       "    .dataframe tbody tr th {\n",
       "        vertical-align: top;\n",
       "    }\n",
       "\n",
       "    .dataframe thead th {\n",
       "        text-align: right;\n",
       "    }\n",
       "</style>\n",
       "<table border=\"1\" class=\"dataframe\">\n",
       "  <thead>\n",
       "    <tr style=\"text-align: right;\">\n",
       "      <th></th>\n",
       "      <th>name</th>\n",
       "      <th>job</th>\n",
       "      <th>born</th>\n",
       "      <th>died</th>\n",
       "      <th>age</th>\n",
       "    </tr>\n",
       "  </thead>\n",
       "  <tbody>\n",
       "    <tr>\n",
       "      <th>0</th>\n",
       "      <td>홍길동</td>\n",
       "      <td>도적놈</td>\n",
       "      <td>1569-04-20</td>\n",
       "      <td>1620-08-25</td>\n",
       "      <td>52</td>\n",
       "    </tr>\n",
       "    <tr>\n",
       "      <th>1</th>\n",
       "      <td>임꺽정</td>\n",
       "      <td>도둑놈</td>\n",
       "      <td>1875-06-10</td>\n",
       "      <td>1950-01-19</td>\n",
       "      <td>75</td>\n",
       "    </tr>\n",
       "  </tbody>\n",
       "</table>\n",
       "</div>"
      ],
      "text/plain": [
       "  name  job        born        died  age\n",
       "0  홍길동  도적놈  1569-04-20  1620-08-25   52\n",
       "1  임꺽정  도둑놈  1875-06-10  1950-01-19   75"
      ]
     },
     "execution_count": 4,
     "metadata": {},
     "output_type": "execute_result"
    }
   ],
   "source": [
    "# 딕셔너리 : key와 value로 이루어진 한 쌍의 데이터. 입력 데이터들의 순서를 보장하지 않는다.\n",
    "# OrderedDict() : 순서가 보장되는 딕셔너리. 튜플 형태의 인수를 전달하면 데이터의 순서를 그대로 유지하면서 데이터프레임을 만들수 있다.\n",
    "from collections import OrderedDict # 튜플 형태의 인수를 리스트로 전달. 몰라도됨ㅅㅂ\n",
    "data=OrderedDict([\n",
    "        ('name', ['홍길동', '임꺽정']),\n",
    "        ('job', ['도적놈', '도둑놈']),\n",
    "        ('born', ['1569-04-20', '1875-06-10']),\n",
    "        ('died', ['1620-08-25', '1950-01-19']),\n",
    "        ('age', [52, 75])\n",
    "    ])\n",
    "df = pd.DataFrame(data)\n",
    "print(type(df))\n",
    "df"
   ]
  },
  {
   "cell_type": "markdown",
   "id": "e1825080",
   "metadata": {},
   "source": [
    "시리즈 다루기"
   ]
  },
  {
   "cell_type": "code",
   "execution_count": 5,
   "id": "80ad6222",
   "metadata": {},
   "outputs": [
    {
     "data": {
      "text/html": [
       "<div>\n",
       "<style scoped>\n",
       "    .dataframe tbody tr th:only-of-type {\n",
       "        vertical-align: middle;\n",
       "    }\n",
       "\n",
       "    .dataframe tbody tr th {\n",
       "        vertical-align: top;\n",
       "    }\n",
       "\n",
       "    .dataframe thead th {\n",
       "        text-align: right;\n",
       "    }\n",
       "</style>\n",
       "<table border=\"1\" class=\"dataframe\">\n",
       "  <thead>\n",
       "    <tr style=\"text-align: right;\">\n",
       "      <th></th>\n",
       "      <th>job</th>\n",
       "      <th>born</th>\n",
       "      <th>died</th>\n",
       "      <th>age</th>\n",
       "    </tr>\n",
       "  </thead>\n",
       "  <tbody>\n",
       "    <tr>\n",
       "      <th>홍길동</th>\n",
       "      <td>도적놈</td>\n",
       "      <td>1569-04-20</td>\n",
       "      <td>1620-08-25</td>\n",
       "      <td>52</td>\n",
       "    </tr>\n",
       "    <tr>\n",
       "      <th>임꺽정</th>\n",
       "      <td>도둑놈</td>\n",
       "      <td>1875-06-10</td>\n",
       "      <td>1950-01-19</td>\n",
       "      <td>75</td>\n",
       "    </tr>\n",
       "  </tbody>\n",
       "</table>\n",
       "</div>"
      ],
      "text/plain": [
       "     job        born        died  age\n",
       "홍길동  도적놈  1569-04-20  1620-08-25   52\n",
       "임꺽정  도둑놈  1875-06-10  1950-01-19   75"
      ]
     },
     "execution_count": 5,
     "metadata": {},
     "output_type": "execute_result"
    }
   ],
   "source": [
    "data={\n",
    "    'job': ['도적놈', '도둑놈'],\n",
    "    'born': ['1569-04-20', '1875-06-10'],\n",
    "    'died': ['1620-08-25', '1950-01-19'],\n",
    "    'age': [52, 75]\n",
    "}\n",
    "df = pd.DataFrame(data=data, index=['홍길동','임꺽정'])\n",
    "df"
   ]
  },
  {
   "cell_type": "code",
   "execution_count": 8,
   "id": "eb3a168d",
   "metadata": {},
   "outputs": [
    {
     "name": "stdout",
     "output_type": "stream",
     "text": [
      "job            도적놈\n",
      "born    1569-04-20\n",
      "died    1620-08-25\n",
      "age             52\n",
      "Name: 홍길동, dtype: object\n"
     ]
    }
   ],
   "source": [
    "# 데이터프레임에서 시리즈 선택 \n",
    "# loc 속성에 인덱스(행 또는 열 이름)을 전달하거나 iloc 속성에 행 또는 열의 일련번호를 전달한다.\n",
    "row=df.loc['홍길동']\n",
    "print(row)"
   ]
  },
  {
   "cell_type": "code",
   "execution_count": 9,
   "id": "b1c95fff",
   "metadata": {},
   "outputs": [
    {
     "name": "stdout",
     "output_type": "stream",
     "text": [
      "홍길동    도적놈\n",
      "임꺽정    도둑놈\n",
      "Name: job, dtype: object\n"
     ]
    }
   ],
   "source": [
    "col = df.loc[:,'job']\n",
    "print(col)"
   ]
  },
  {
   "cell_type": "code",
   "execution_count": 13,
   "id": "74335f67",
   "metadata": {},
   "outputs": [
    {
     "name": "stdout",
     "output_type": "stream",
     "text": [
      "Index(['job', 'born', 'died', 'age'], dtype='object')\n",
      "Index(['홍길동', '임꺽정'], dtype='object')\n",
      "job\n",
      "임꺽정\n",
      "<class 'numpy.ndarray'>\n",
      "['도적놈' '1569-04-20' '1620-08-25' 52]\n",
      "['도적놈' '도둑놈']\n"
     ]
    }
   ],
   "source": [
    "# index 속성은 시리즈의 인덱스를 얻어온다.\n",
    "print(row.index)\n",
    "print(col.index)\n",
    "# index 속성의 특정 값 추출하기\n",
    "print(row.index[0])\n",
    "print(col.keys()[1])\n",
    "# values 속성은 시리즈의 데이터를 numpy 배열 형태로 얻어온다.\n",
    "print(type(row.values))\n",
    "print(row.values)\n",
    "print(col.values)"
   ]
  },
  {
   "cell_type": "code",
   "execution_count": 14,
   "id": "70902437",
   "metadata": {},
   "outputs": [
    {
     "name": "stdout",
     "output_type": "stream",
     "text": [
      "Index(['job', 'born', 'died', 'age'], dtype='object')\n",
      "Index(['홍길동', '임꺽정'], dtype='object')\n"
     ]
    }
   ],
   "source": [
    "# keys() 함수는 index 속성과 똑같이 시리즈의 인덱스를 얻어온다.\n",
    "print(row.keys())\n",
    "print(col.keys())"
   ]
  },
  {
   "cell_type": "markdown",
   "id": "febc2592",
   "metadata": {},
   "source": [
    "시리즈 기초 통계 함수"
   ]
  },
  {
   "cell_type": "code",
   "execution_count": 15,
   "id": "209f58d2",
   "metadata": {},
   "outputs": [
    {
     "name": "stdout",
     "output_type": "stream",
     "text": [
      "<class 'pandas.core.series.Series'>\n",
      "홍길동    52\n",
      "임꺽정    75\n",
      "Name: age, dtype: int64\n",
      "================================================================================\n",
      "max = 75\n",
      "min = 52\n",
      "sum = 127\n",
      "mean = 63.5\n",
      "std = 16.263455967290593\n"
     ]
    }
   ],
   "source": [
    "# ages = df['age']\n",
    "# ages = df.get('age')\n",
    "ages = df.age\n",
    "print(type(ages))\n",
    "print(ages)\n",
    "print('=' * 80)\n",
    "\n",
    "print('max = {}'.format(ages.max()))\n",
    "print('min = {}'.format(ages.min()))\n",
    "print('sum = {}'.format(ages.sum()))\n",
    "print('mean = {}'.format(ages.mean()))\n",
    "print('std = {}'.format(ages.std()))"
   ]
  },
  {
   "cell_type": "code",
   "execution_count": 17,
   "id": "7af6bd3a",
   "metadata": {},
   "outputs": [
    {
     "data": {
      "text/html": [
       "<div>\n",
       "<style scoped>\n",
       "    .dataframe tbody tr th:only-of-type {\n",
       "        vertical-align: middle;\n",
       "    }\n",
       "\n",
       "    .dataframe tbody tr th {\n",
       "        vertical-align: top;\n",
       "    }\n",
       "\n",
       "    .dataframe thead th {\n",
       "        text-align: right;\n",
       "    }\n",
       "</style>\n",
       "<table border=\"1\" class=\"dataframe\">\n",
       "  <thead>\n",
       "    <tr style=\"text-align: right;\">\n",
       "      <th></th>\n",
       "      <th>Name</th>\n",
       "      <th>Born</th>\n",
       "      <th>Died</th>\n",
       "      <th>Age</th>\n",
       "      <th>Occupation</th>\n",
       "    </tr>\n",
       "  </thead>\n",
       "  <tbody>\n",
       "    <tr>\n",
       "      <th>0</th>\n",
       "      <td>Rosaline Franklin</td>\n",
       "      <td>1920-07-25</td>\n",
       "      <td>1958-04-16</td>\n",
       "      <td>37</td>\n",
       "      <td>Chemist</td>\n",
       "    </tr>\n",
       "    <tr>\n",
       "      <th>1</th>\n",
       "      <td>William Gosset</td>\n",
       "      <td>1876-06-13</td>\n",
       "      <td>1937-10-16</td>\n",
       "      <td>61</td>\n",
       "      <td>Statistician</td>\n",
       "    </tr>\n",
       "    <tr>\n",
       "      <th>2</th>\n",
       "      <td>Florence Nightingale</td>\n",
       "      <td>1820-05-12</td>\n",
       "      <td>1910-08-13</td>\n",
       "      <td>90</td>\n",
       "      <td>Nurse</td>\n",
       "    </tr>\n",
       "    <tr>\n",
       "      <th>3</th>\n",
       "      <td>Marie Curie</td>\n",
       "      <td>1867-11-07</td>\n",
       "      <td>1934-07-04</td>\n",
       "      <td>66</td>\n",
       "      <td>Chemist</td>\n",
       "    </tr>\n",
       "    <tr>\n",
       "      <th>4</th>\n",
       "      <td>Rachel Carson</td>\n",
       "      <td>1907-05-27</td>\n",
       "      <td>1964-04-14</td>\n",
       "      <td>56</td>\n",
       "      <td>Biologist</td>\n",
       "    </tr>\n",
       "    <tr>\n",
       "      <th>5</th>\n",
       "      <td>John Snow</td>\n",
       "      <td>1813-03-15</td>\n",
       "      <td>1858-06-16</td>\n",
       "      <td>45</td>\n",
       "      <td>Physician</td>\n",
       "    </tr>\n",
       "    <tr>\n",
       "      <th>6</th>\n",
       "      <td>Alan Turing</td>\n",
       "      <td>1912-06-23</td>\n",
       "      <td>1954-06-07</td>\n",
       "      <td>41</td>\n",
       "      <td>Computer Scientist</td>\n",
       "    </tr>\n",
       "    <tr>\n",
       "      <th>7</th>\n",
       "      <td>Johann Gauss</td>\n",
       "      <td>1777-04-30</td>\n",
       "      <td>1855-02-23</td>\n",
       "      <td>77</td>\n",
       "      <td>Mathematician</td>\n",
       "    </tr>\n",
       "  </tbody>\n",
       "</table>\n",
       "</div>"
      ],
      "text/plain": [
       "                   Name        Born        Died  Age          Occupation\n",
       "0     Rosaline Franklin  1920-07-25  1958-04-16   37             Chemist\n",
       "1        William Gosset  1876-06-13  1937-10-16   61        Statistician\n",
       "2  Florence Nightingale  1820-05-12  1910-08-13   90               Nurse\n",
       "3           Marie Curie  1867-11-07  1934-07-04   66             Chemist\n",
       "4         Rachel Carson  1907-05-27  1964-04-14   56           Biologist\n",
       "5             John Snow  1813-03-15  1858-06-16   45           Physician\n",
       "6           Alan Turing  1912-06-23  1954-06-07   41  Computer Scientist\n",
       "7          Johann Gauss  1777-04-30  1855-02-23   77       Mathematician"
      ]
     },
     "execution_count": 17,
     "metadata": {},
     "output_type": "execute_result"
    }
   ],
   "source": [
    "scientists = pd.read_csv('./data/scientists.csv')\n",
    "scientists"
   ]
  },
  {
   "cell_type": "code",
   "execution_count": 19,
   "id": "f64b573b",
   "metadata": {},
   "outputs": [
    {
     "name": "stdout",
     "output_type": "stream",
     "text": [
      "0    37\n",
      "1    61\n",
      "2    90\n",
      "3    66\n",
      "4    56\n",
      "5    45\n",
      "6    41\n",
      "7    77\n",
      "Name: Age, dtype: int64\n",
      "max = 90\n",
      "min = 37\n",
      "sum = 473\n",
      "mean = 59.125\n",
      "std = 18.325918413937288\n"
     ]
    }
   ],
   "source": [
    "ages = scientists.Age\n",
    "print(ages)\n",
    "\n",
    "#브로드캐스팅\n",
    "print('max = {}'.format(ages.max()))\n",
    "print('min = {}'.format(ages.min()))\n",
    "print('sum = {}'.format(ages.sum()))\n",
    "print('mean = {}'.format(ages.mean()))\n",
    "print('std = {}'.format(ages.std()))"
   ]
  },
  {
   "cell_type": "markdown",
   "id": "8f53e7d5",
   "metadata": {},
   "source": [
    "브로드캐스팅  \n",
    "시리즈나 데이터프레임의 모든 데이터에 대해 한 번에 연산하는것  \n",
    "ages > ages.mean()  \n",
    "\n",
    "\n",
    "벡터 : 여러개의 값을 가진 데이터\n",
    "\n",
    "스칼라 : 단순 크기를 나타내는 데이터"
   ]
  },
  {
   "cell_type": "code",
   "execution_count": 25,
   "id": "139f6bf8",
   "metadata": {},
   "outputs": [
    {
     "name": "stdout",
     "output_type": "stream",
     "text": [
      "                   Name        Born        Died  Age     Occupation\n",
      "1        William Gosset  1876-06-13  1937-10-16   61   Statistician\n",
      "2  Florence Nightingale  1820-05-12  1910-08-13   90          Nurse\n",
      "3           Marie Curie  1867-11-07  1934-07-04   66        Chemist\n",
      "7          Johann Gauss  1777-04-30  1855-02-23   77  Mathematician\n"
     ]
    }
   ],
   "source": [
    "# 평균 나이(59.125)보다 나이가 많은 사람의 데이터만 추출한다.\n",
    "print(scientists[ages>ages.mean()])"
   ]
  },
  {
   "cell_type": "code",
   "execution_count": 26,
   "id": "7a37c332",
   "metadata": {},
   "outputs": [
    {
     "name": "stdout",
     "output_type": "stream",
     "text": [
      "  37   61   90   66   56   45   41   77 "
     ]
    }
   ],
   "source": [
    "for age in ages:\n",
    "    print('{:4d}'.format(age), end=' ') # 4자리의 정수."
   ]
  },
  {
   "cell_type": "code",
   "execution_count": 27,
   "id": "d8ce00dc",
   "metadata": {},
   "outputs": [
    {
     "name": "stdout",
     "output_type": "stream",
     "text": [
      "  74  122  180  132  112   90   82  154 \n",
      "1369 3721 8100 4356 3136 2025 1681 5929 "
     ]
    }
   ],
   "source": [
    "# 같은 길이의 벡터로 연산을 하면 결괏값으로 같은 길이의 벡터가 출력된다. -> 당연 \n",
    "for age in ages + ages:\n",
    "    print('{:4d}'.format(age), end=' ')\n",
    "print()\n",
    "for age in ages * ages:\n",
    "    print('{:4d}'.format(age), end=' ')"
   ]
  },
  {
   "cell_type": "code",
   "execution_count": 29,
   "id": "48a8f855",
   "metadata": {},
   "outputs": [
    {
     "name": "stdout",
     "output_type": "stream",
     "text": [
      " 137  161  190  166  156  145  141  177 \n",
      "  74  122  180  132  112   90   82  154 "
     ]
    }
   ],
   "source": [
    "# 벡터에 스칼라 값을 연산하면 벡터 각각의 값에 스칼라 값이 연산된 결과가 출력된다.\n",
    "for age in ages + 100:\n",
    "    print('{:4d}'.format(age), end=' ')\n",
    "print()\n",
    "for age in ages * 2:\n",
    "    print('{:4d}'.format(age), end=' ')"
   ]
  },
  {
   "cell_type": "code",
   "execution_count": 30,
   "id": "6f41ce06",
   "metadata": {},
   "outputs": [
    {
     "name": "stdout",
     "output_type": "stream",
     "text": [
      "0      1\n",
      "1    100\n",
      "dtype: int64\n",
      "0     38.0\n",
      "1    161.0\n",
      "2      NaN\n",
      "3      NaN\n",
      "4      NaN\n",
      "5      NaN\n",
      "6      NaN\n",
      "7      NaN\n",
      "dtype: float64\n"
     ]
    }
   ],
   "source": [
    "# 길이가 서로 다른 벡터를 연산하면 같은 인덱스를 가지는 값만 계산된다.\n",
    "print(pd.Series([1, 100]))\n",
    "# pd.Series([1, 100])의 0, 1 인덱스만 계산되고 나머지는 계산할 수 없으므로 누락값(NaN, nan, NA, na, 결측치)으로 처리된다.\n",
    "print(ages + pd.Series([1, 100])) \n",
    "\n",
    "# 열심이군 준혁쿤 ㅋ"
   ]
  },
  {
   "cell_type": "markdown",
   "id": "cb7c821d",
   "metadata": {},
   "source": [
    "시리즈 정렬\n",
    "\n",
    "sort_index() 함수는 인덱스를 정렬하고 sort_values() 함수가 데이터를 정렬한다."
   ]
  },
  {
   "cell_type": "code",
   "execution_count": 38,
   "id": "77f260d2",
   "metadata": {},
   "outputs": [
    {
     "name": "stdout",
     "output_type": "stream",
     "text": [
      "0    37\n",
      "1    61\n",
      "2    90\n",
      "3    66\n",
      "4    56\n",
      "5    45\n",
      "6    41\n",
      "7    77\n",
      "Name: Age, dtype: int64\n",
      "2    90\n",
      "7    77\n",
      "3    66\n",
      "1    61\n",
      "4    56\n",
      "5    45\n",
      "6    41\n",
      "0    37\n",
      "Name: Age, dtype: int64\n",
      "7    77\n",
      "6    41\n",
      "5    45\n",
      "4    56\n",
      "3    66\n",
      "2    90\n",
      "1    61\n",
      "0    37\n",
      "Name: Age, dtype: int64\n"
     ]
    }
   ],
   "source": [
    "print(ages)\n",
    "print(ages.sort_values(ascending=False)) # 내림차순\n",
    "print(ages.sort_index(ascending=False))"
   ]
  },
  {
   "cell_type": "code",
   "execution_count": 43,
   "id": "6bc1f6e6",
   "metadata": {},
   "outputs": [
    {
     "name": "stdout",
     "output_type": "stream",
     "text": [
      "0    37\n",
      "1    61\n",
      "2    90\n",
      "3    66\n",
      "4    56\n",
      "5    45\n",
      "6    41\n",
      "7    77\n",
      "Name: Age, dtype: int64\n",
      "7    77\n",
      "6    41\n",
      "5    45\n",
      "4    56\n",
      "3    66\n",
      "2    90\n",
      "1    61\n",
      "0    37\n",
      "Name: Age, dtype: int64\n",
      "  74  122  180  132  112   90   82  154 \n",
      "  74  122  180  132  112   90   82  154 "
     ]
    }
   ],
   "source": [
    "print(ages)\n",
    "rev_ages= ages.sort_index(ascending=False)\n",
    "print(rev_ages)\n",
    "\n",
    "# 벡터의 연산은 같은 인덱스를 가지는 값끼리 수행.(중요 x)\n",
    "for age in ages + rev_ages:\n",
    "    print('{:4d}'.format(age), end=' ')\n",
    "print()\n",
    "for age in ages * 2:\n",
    "    print('{:4d}'.format(age), end=' ')\n",
    "    "
   ]
  },
  {
   "cell_type": "markdown",
   "id": "f02add68",
   "metadata": {},
   "source": [
    "데이터프레임도 불린 인덱싱과 브로드캐스팅을 할 수 있다."
   ]
  },
  {
   "cell_type": "code",
   "execution_count": 50,
   "id": "140fda2a",
   "metadata": {},
   "outputs": [
    {
     "name": "stdout",
     "output_type": "stream",
     "text": [
      "                   Name        Born        Died  Age     Occupation\n",
      "1        William Gosset  1876-06-13  1937-10-16   61   Statistician\n",
      "2  Florence Nightingale  1820-05-12  1910-08-13   90          Nurse\n",
      "3           Marie Curie  1867-11-07  1934-07-04   66        Chemist\n",
      "7          Johann Gauss  1777-04-30  1855-02-23   77  Mathematician\n"
     ]
    },
    {
     "data": {
      "text/plain": [
       "0    False\n",
       "1     True\n",
       "2     True\n",
       "3     True\n",
       "4    False\n",
       "5    False\n",
       "6    False\n",
       "7     True\n",
       "Name: Age, dtype: bool"
      ]
     },
     "execution_count": 50,
     "metadata": {},
     "output_type": "execute_result"
    }
   ],
   "source": [
    "print(scientists[scientists.Age>scientists.Age.mean()]) # 불린 인덱싱 많이 사용됨\n",
    "scientists.Age>scientists.Age.mean()"
   ]
  },
  {
   "cell_type": "code",
   "execution_count": 51,
   "id": "a0e61203",
   "metadata": {},
   "outputs": [
    {
     "data": {
      "text/html": [
       "<div>\n",
       "<style scoped>\n",
       "    .dataframe tbody tr th:only-of-type {\n",
       "        vertical-align: middle;\n",
       "    }\n",
       "\n",
       "    .dataframe tbody tr th {\n",
       "        vertical-align: top;\n",
       "    }\n",
       "\n",
       "    .dataframe thead th {\n",
       "        text-align: right;\n",
       "    }\n",
       "</style>\n",
       "<table border=\"1\" class=\"dataframe\">\n",
       "  <thead>\n",
       "    <tr style=\"text-align: right;\">\n",
       "      <th></th>\n",
       "      <th>Name</th>\n",
       "      <th>Born</th>\n",
       "      <th>Died</th>\n",
       "      <th>Age</th>\n",
       "      <th>Occupation</th>\n",
       "    </tr>\n",
       "  </thead>\n",
       "  <tbody>\n",
       "    <tr>\n",
       "      <th>0</th>\n",
       "      <td>Rosaline FranklinRosaline Franklin</td>\n",
       "      <td>1920-07-251920-07-25</td>\n",
       "      <td>1958-04-161958-04-16</td>\n",
       "      <td>74</td>\n",
       "      <td>ChemistChemist</td>\n",
       "    </tr>\n",
       "    <tr>\n",
       "      <th>1</th>\n",
       "      <td>William GossetWilliam Gosset</td>\n",
       "      <td>1876-06-131876-06-13</td>\n",
       "      <td>1937-10-161937-10-16</td>\n",
       "      <td>122</td>\n",
       "      <td>StatisticianStatistician</td>\n",
       "    </tr>\n",
       "    <tr>\n",
       "      <th>2</th>\n",
       "      <td>Florence NightingaleFlorence Nightingale</td>\n",
       "      <td>1820-05-121820-05-12</td>\n",
       "      <td>1910-08-131910-08-13</td>\n",
       "      <td>180</td>\n",
       "      <td>NurseNurse</td>\n",
       "    </tr>\n",
       "    <tr>\n",
       "      <th>3</th>\n",
       "      <td>Marie CurieMarie Curie</td>\n",
       "      <td>1867-11-071867-11-07</td>\n",
       "      <td>1934-07-041934-07-04</td>\n",
       "      <td>132</td>\n",
       "      <td>ChemistChemist</td>\n",
       "    </tr>\n",
       "    <tr>\n",
       "      <th>4</th>\n",
       "      <td>Rachel CarsonRachel Carson</td>\n",
       "      <td>1907-05-271907-05-27</td>\n",
       "      <td>1964-04-141964-04-14</td>\n",
       "      <td>112</td>\n",
       "      <td>BiologistBiologist</td>\n",
       "    </tr>\n",
       "    <tr>\n",
       "      <th>5</th>\n",
       "      <td>John SnowJohn Snow</td>\n",
       "      <td>1813-03-151813-03-15</td>\n",
       "      <td>1858-06-161858-06-16</td>\n",
       "      <td>90</td>\n",
       "      <td>PhysicianPhysician</td>\n",
       "    </tr>\n",
       "    <tr>\n",
       "      <th>6</th>\n",
       "      <td>Alan TuringAlan Turing</td>\n",
       "      <td>1912-06-231912-06-23</td>\n",
       "      <td>1954-06-071954-06-07</td>\n",
       "      <td>82</td>\n",
       "      <td>Computer ScientistComputer Scientist</td>\n",
       "    </tr>\n",
       "    <tr>\n",
       "      <th>7</th>\n",
       "      <td>Johann GaussJohann Gauss</td>\n",
       "      <td>1777-04-301777-04-30</td>\n",
       "      <td>1855-02-231855-02-23</td>\n",
       "      <td>154</td>\n",
       "      <td>MathematicianMathematician</td>\n",
       "    </tr>\n",
       "  </tbody>\n",
       "</table>\n",
       "</div>"
      ],
      "text/plain": [
       "                                       Name                  Born  \\\n",
       "0        Rosaline FranklinRosaline Franklin  1920-07-251920-07-25   \n",
       "1              William GossetWilliam Gosset  1876-06-131876-06-13   \n",
       "2  Florence NightingaleFlorence Nightingale  1820-05-121820-05-12   \n",
       "3                    Marie CurieMarie Curie  1867-11-071867-11-07   \n",
       "4                Rachel CarsonRachel Carson  1907-05-271907-05-27   \n",
       "5                        John SnowJohn Snow  1813-03-151813-03-15   \n",
       "6                    Alan TuringAlan Turing  1912-06-231912-06-23   \n",
       "7                  Johann GaussJohann Gauss  1777-04-301777-04-30   \n",
       "\n",
       "                   Died  Age                            Occupation  \n",
       "0  1958-04-161958-04-16   74                        ChemistChemist  \n",
       "1  1937-10-161937-10-16  122              StatisticianStatistician  \n",
       "2  1910-08-131910-08-13  180                            NurseNurse  \n",
       "3  1934-07-041934-07-04  132                        ChemistChemist  \n",
       "4  1964-04-141964-04-14  112                    BiologistBiologist  \n",
       "5  1858-06-161858-06-16   90                    PhysicianPhysician  \n",
       "6  1954-06-071954-06-07   82  Computer ScientistComputer Scientist  \n",
       "7  1855-02-231855-02-23  154            MathematicianMathematician  "
      ]
     },
     "execution_count": 51,
     "metadata": {},
     "output_type": "execute_result"
    }
   ],
   "source": [
    "# 데이터프레임에 2를 곱하면 문자열은 2회 반복되고 숫자는 2를 곱한다.\n",
    "scientists * 2"
   ]
  },
  {
   "cell_type": "markdown",
   "id": "4944e607",
   "metadata": {},
   "source": [
    "데이터프레임 열의 자료형 바꾸기"
   ]
  },
  {
   "cell_type": "code",
   "execution_count": 52,
   "id": "9a79d192",
   "metadata": {},
   "outputs": [
    {
     "name": "stdout",
     "output_type": "stream",
     "text": [
      "Name          object\n",
      "Born          object\n",
      "Died          object\n",
      "Age            int64\n",
      "Occupation    object\n",
      "dtype: object\n"
     ]
    }
   ],
   "source": [
    "print(scientists.dtypes)"
   ]
  },
  {
   "cell_type": "code",
   "execution_count": 57,
   "id": "016e869c",
   "metadata": {},
   "outputs": [
    {
     "name": "stdout",
     "output_type": "stream",
     "text": [
      "0    1920-07-25\n",
      "1    1876-06-13\n",
      "2    1820-05-12\n",
      "3    1867-11-07\n",
      "4    1907-05-27\n",
      "5    1813-03-15\n",
      "6    1912-06-23\n",
      "7    1777-04-30\n",
      "Name: Born, dtype: object\n",
      "0   1920-07-25\n",
      "1   1876-06-13\n",
      "2   1820-05-12\n",
      "3   1867-11-07\n",
      "4   1907-05-27\n",
      "5   1813-03-15\n",
      "6   1912-06-23\n",
      "7   1777-04-30\n",
      "Name: Born, dtype: datetime64[ns]\n",
      "0   1958-04-16\n",
      "1   1937-10-16\n",
      "2   1910-08-13\n",
      "3   1934-07-04\n",
      "4   1964-04-14\n",
      "5   1858-06-16\n",
      "6   1954-06-07\n",
      "7   1855-02-23\n",
      "Name: Died, dtype: datetime64[ns]\n"
     ]
    }
   ],
   "source": [
    "# to_datetime() : datetime 자료형으로 바꿔준다.\n",
    "# to_datetime(날짜 시리즈[, format='날짜 서식'])\n",
    "# %Y => 년도 4자리, %y => 년도 2자리, %m => 월(숫자), %B => 월(영어, 전체), %b(%h) => 월(영어, 3글자), %d => 일 일\n",
    "# %A => 요일(전체), %a => 요일(3글자), %H => 시간(24시각), %I => 시간(12시각), %M => 분, %S => 초, %p => AM/PM  %f => 마이크로 초\n",
    "\n",
    "born_datetime = pd.to_datetime(scientists.Born, format='%Y-%m-%d')\n",
    "print(scientists.Born)\n",
    "print(born_datetime)\n",
    "died_datetime = pd.to_datetime(scientists.Died, format='%Y-%m-%d')\n",
    "print(died_datetime)"
   ]
  },
  {
   "cell_type": "code",
   "execution_count": 62,
   "id": "e0b4f301",
   "metadata": {},
   "outputs": [
    {
     "name": "stdout",
     "output_type": "stream",
     "text": [
      "(8, 8)\n",
      "(8, 8)\n"
     ]
    },
    {
     "data": {
      "text/html": [
       "<div>\n",
       "<style scoped>\n",
       "    .dataframe tbody tr th:only-of-type {\n",
       "        vertical-align: middle;\n",
       "    }\n",
       "\n",
       "    .dataframe tbody tr th {\n",
       "        vertical-align: top;\n",
       "    }\n",
       "\n",
       "    .dataframe thead th {\n",
       "        text-align: right;\n",
       "    }\n",
       "</style>\n",
       "<table border=\"1\" class=\"dataframe\">\n",
       "  <thead>\n",
       "    <tr style=\"text-align: right;\">\n",
       "      <th></th>\n",
       "      <th>Name</th>\n",
       "      <th>Born</th>\n",
       "      <th>Died</th>\n",
       "      <th>Age</th>\n",
       "      <th>Occupation</th>\n",
       "      <th>born_dt</th>\n",
       "      <th>died_dt</th>\n",
       "      <th>age_days_dt</th>\n",
       "    </tr>\n",
       "  </thead>\n",
       "  <tbody>\n",
       "    <tr>\n",
       "      <th>0</th>\n",
       "      <td>Rosaline Franklin</td>\n",
       "      <td>1920-07-25</td>\n",
       "      <td>1958-04-16</td>\n",
       "      <td>37</td>\n",
       "      <td>Chemist</td>\n",
       "      <td>1920-07-25</td>\n",
       "      <td>1958-04-16</td>\n",
       "      <td>13779 days</td>\n",
       "    </tr>\n",
       "    <tr>\n",
       "      <th>1</th>\n",
       "      <td>William Gosset</td>\n",
       "      <td>1876-06-13</td>\n",
       "      <td>1937-10-16</td>\n",
       "      <td>61</td>\n",
       "      <td>Statistician</td>\n",
       "      <td>1876-06-13</td>\n",
       "      <td>1937-10-16</td>\n",
       "      <td>22404 days</td>\n",
       "    </tr>\n",
       "    <tr>\n",
       "      <th>2</th>\n",
       "      <td>Florence Nightingale</td>\n",
       "      <td>1820-05-12</td>\n",
       "      <td>1910-08-13</td>\n",
       "      <td>90</td>\n",
       "      <td>Nurse</td>\n",
       "      <td>1820-05-12</td>\n",
       "      <td>1910-08-13</td>\n",
       "      <td>32964 days</td>\n",
       "    </tr>\n",
       "    <tr>\n",
       "      <th>3</th>\n",
       "      <td>Marie Curie</td>\n",
       "      <td>1867-11-07</td>\n",
       "      <td>1934-07-04</td>\n",
       "      <td>66</td>\n",
       "      <td>Chemist</td>\n",
       "      <td>1867-11-07</td>\n",
       "      <td>1934-07-04</td>\n",
       "      <td>24345 days</td>\n",
       "    </tr>\n",
       "    <tr>\n",
       "      <th>4</th>\n",
       "      <td>Rachel Carson</td>\n",
       "      <td>1907-05-27</td>\n",
       "      <td>1964-04-14</td>\n",
       "      <td>56</td>\n",
       "      <td>Biologist</td>\n",
       "      <td>1907-05-27</td>\n",
       "      <td>1964-04-14</td>\n",
       "      <td>20777 days</td>\n",
       "    </tr>\n",
       "    <tr>\n",
       "      <th>5</th>\n",
       "      <td>John Snow</td>\n",
       "      <td>1813-03-15</td>\n",
       "      <td>1858-06-16</td>\n",
       "      <td>45</td>\n",
       "      <td>Physician</td>\n",
       "      <td>1813-03-15</td>\n",
       "      <td>1858-06-16</td>\n",
       "      <td>16529 days</td>\n",
       "    </tr>\n",
       "    <tr>\n",
       "      <th>6</th>\n",
       "      <td>Alan Turing</td>\n",
       "      <td>1912-06-23</td>\n",
       "      <td>1954-06-07</td>\n",
       "      <td>41</td>\n",
       "      <td>Computer Scientist</td>\n",
       "      <td>1912-06-23</td>\n",
       "      <td>1954-06-07</td>\n",
       "      <td>15324 days</td>\n",
       "    </tr>\n",
       "    <tr>\n",
       "      <th>7</th>\n",
       "      <td>Johann Gauss</td>\n",
       "      <td>1777-04-30</td>\n",
       "      <td>1855-02-23</td>\n",
       "      <td>77</td>\n",
       "      <td>Mathematician</td>\n",
       "      <td>1777-04-30</td>\n",
       "      <td>1855-02-23</td>\n",
       "      <td>28422 days</td>\n",
       "    </tr>\n",
       "  </tbody>\n",
       "</table>\n",
       "</div>"
      ],
      "text/plain": [
       "                   Name        Born        Died  Age          Occupation  \\\n",
       "0     Rosaline Franklin  1920-07-25  1958-04-16   37             Chemist   \n",
       "1        William Gosset  1876-06-13  1937-10-16   61        Statistician   \n",
       "2  Florence Nightingale  1820-05-12  1910-08-13   90               Nurse   \n",
       "3           Marie Curie  1867-11-07  1934-07-04   66             Chemist   \n",
       "4         Rachel Carson  1907-05-27  1964-04-14   56           Biologist   \n",
       "5             John Snow  1813-03-15  1858-06-16   45           Physician   \n",
       "6           Alan Turing  1912-06-23  1954-06-07   41  Computer Scientist   \n",
       "7          Johann Gauss  1777-04-30  1855-02-23   77       Mathematician   \n",
       "\n",
       "     born_dt    died_dt age_days_dt  \n",
       "0 1920-07-25 1958-04-16  13779 days  \n",
       "1 1876-06-13 1937-10-16  22404 days  \n",
       "2 1820-05-12 1910-08-13  32964 days  \n",
       "3 1867-11-07 1934-07-04  24345 days  \n",
       "4 1907-05-27 1964-04-14  20777 days  \n",
       "5 1813-03-15 1858-06-16  16529 days  \n",
       "6 1912-06-23 1954-06-07  15324 days  \n",
       "7 1777-04-30 1855-02-23  28422 days  "
      ]
     },
     "execution_count": 62,
     "metadata": {},
     "output_type": "execute_result"
    }
   ],
   "source": [
    "# 데이터프레임에 추가한다. datetime 형태로 변경한 born_datetime, died_datetime를 \n",
    "print(scientists.shape)\n",
    "\n",
    "# 데이터프레임에 존재하는 열 이름에 데이터를 넣으면 기존의 열이 수정되고 존재하지 않는 열 이름에 데이터를 넣으면 데이터가\n",
    "# 추가된다.\n",
    "# 데이터프레임['열 이름'] = 데이터\n",
    "scientists['born_dt'] = born_datetime\n",
    "scientists['died_dt'] = died_datetime\n",
    "scientists['born_dt'], scientists['died_dt'] = born_datetime, died_datetime\n",
    "print(scientists.shape)\n",
    "scientists"
   ]
  },
  {
   "cell_type": "code",
   "execution_count": 59,
   "id": "af7e604c",
   "metadata": {},
   "outputs": [
    {
     "data": {
      "text/plain": [
       "Name                  object\n",
       "Born                  object\n",
       "Died                  object\n",
       "Age                    int64\n",
       "Occupation            object\n",
       "born_dt       datetime64[ns]\n",
       "died_dt       datetime64[ns]\n",
       "dtype: object"
      ]
     },
     "execution_count": 59,
     "metadata": {},
     "output_type": "execute_result"
    }
   ],
   "source": [
    "scientists.dtypes\n"
   ]
  },
  {
   "cell_type": "code",
   "execution_count": 60,
   "id": "f85ba88a",
   "metadata": {},
   "outputs": [
    {
     "name": "stdout",
     "output_type": "stream",
     "text": [
      "(8, 8)\n"
     ]
    },
    {
     "data": {
      "text/html": [
       "<div>\n",
       "<style scoped>\n",
       "    .dataframe tbody tr th:only-of-type {\n",
       "        vertical-align: middle;\n",
       "    }\n",
       "\n",
       "    .dataframe tbody tr th {\n",
       "        vertical-align: top;\n",
       "    }\n",
       "\n",
       "    .dataframe thead th {\n",
       "        text-align: right;\n",
       "    }\n",
       "</style>\n",
       "<table border=\"1\" class=\"dataframe\">\n",
       "  <thead>\n",
       "    <tr style=\"text-align: right;\">\n",
       "      <th></th>\n",
       "      <th>Name</th>\n",
       "      <th>Born</th>\n",
       "      <th>Died</th>\n",
       "      <th>Age</th>\n",
       "      <th>Occupation</th>\n",
       "      <th>born_dt</th>\n",
       "      <th>died_dt</th>\n",
       "      <th>age_days_dt</th>\n",
       "    </tr>\n",
       "  </thead>\n",
       "  <tbody>\n",
       "    <tr>\n",
       "      <th>0</th>\n",
       "      <td>Rosaline Franklin</td>\n",
       "      <td>1920-07-25</td>\n",
       "      <td>1958-04-16</td>\n",
       "      <td>37</td>\n",
       "      <td>Chemist</td>\n",
       "      <td>1920-07-25</td>\n",
       "      <td>1958-04-16</td>\n",
       "      <td>13779 days</td>\n",
       "    </tr>\n",
       "    <tr>\n",
       "      <th>1</th>\n",
       "      <td>William Gosset</td>\n",
       "      <td>1876-06-13</td>\n",
       "      <td>1937-10-16</td>\n",
       "      <td>61</td>\n",
       "      <td>Statistician</td>\n",
       "      <td>1876-06-13</td>\n",
       "      <td>1937-10-16</td>\n",
       "      <td>22404 days</td>\n",
       "    </tr>\n",
       "    <tr>\n",
       "      <th>2</th>\n",
       "      <td>Florence Nightingale</td>\n",
       "      <td>1820-05-12</td>\n",
       "      <td>1910-08-13</td>\n",
       "      <td>90</td>\n",
       "      <td>Nurse</td>\n",
       "      <td>1820-05-12</td>\n",
       "      <td>1910-08-13</td>\n",
       "      <td>32964 days</td>\n",
       "    </tr>\n",
       "    <tr>\n",
       "      <th>3</th>\n",
       "      <td>Marie Curie</td>\n",
       "      <td>1867-11-07</td>\n",
       "      <td>1934-07-04</td>\n",
       "      <td>66</td>\n",
       "      <td>Chemist</td>\n",
       "      <td>1867-11-07</td>\n",
       "      <td>1934-07-04</td>\n",
       "      <td>24345 days</td>\n",
       "    </tr>\n",
       "    <tr>\n",
       "      <th>4</th>\n",
       "      <td>Rachel Carson</td>\n",
       "      <td>1907-05-27</td>\n",
       "      <td>1964-04-14</td>\n",
       "      <td>56</td>\n",
       "      <td>Biologist</td>\n",
       "      <td>1907-05-27</td>\n",
       "      <td>1964-04-14</td>\n",
       "      <td>20777 days</td>\n",
       "    </tr>\n",
       "    <tr>\n",
       "      <th>5</th>\n",
       "      <td>John Snow</td>\n",
       "      <td>1813-03-15</td>\n",
       "      <td>1858-06-16</td>\n",
       "      <td>45</td>\n",
       "      <td>Physician</td>\n",
       "      <td>1813-03-15</td>\n",
       "      <td>1858-06-16</td>\n",
       "      <td>16529 days</td>\n",
       "    </tr>\n",
       "    <tr>\n",
       "      <th>6</th>\n",
       "      <td>Alan Turing</td>\n",
       "      <td>1912-06-23</td>\n",
       "      <td>1954-06-07</td>\n",
       "      <td>41</td>\n",
       "      <td>Computer Scientist</td>\n",
       "      <td>1912-06-23</td>\n",
       "      <td>1954-06-07</td>\n",
       "      <td>15324 days</td>\n",
       "    </tr>\n",
       "    <tr>\n",
       "      <th>7</th>\n",
       "      <td>Johann Gauss</td>\n",
       "      <td>1777-04-30</td>\n",
       "      <td>1855-02-23</td>\n",
       "      <td>77</td>\n",
       "      <td>Mathematician</td>\n",
       "      <td>1777-04-30</td>\n",
       "      <td>1855-02-23</td>\n",
       "      <td>28422 days</td>\n",
       "    </tr>\n",
       "  </tbody>\n",
       "</table>\n",
       "</div>"
      ],
      "text/plain": [
       "                   Name        Born        Died  Age          Occupation  \\\n",
       "0     Rosaline Franklin  1920-07-25  1958-04-16   37             Chemist   \n",
       "1        William Gosset  1876-06-13  1937-10-16   61        Statistician   \n",
       "2  Florence Nightingale  1820-05-12  1910-08-13   90               Nurse   \n",
       "3           Marie Curie  1867-11-07  1934-07-04   66             Chemist   \n",
       "4         Rachel Carson  1907-05-27  1964-04-14   56           Biologist   \n",
       "5             John Snow  1813-03-15  1858-06-16   45           Physician   \n",
       "6           Alan Turing  1912-06-23  1954-06-07   41  Computer Scientist   \n",
       "7          Johann Gauss  1777-04-30  1855-02-23   77       Mathematician   \n",
       "\n",
       "     born_dt    died_dt age_days_dt  \n",
       "0 1920-07-25 1958-04-16  13779 days  \n",
       "1 1876-06-13 1937-10-16  22404 days  \n",
       "2 1820-05-12 1910-08-13  32964 days  \n",
       "3 1867-11-07 1934-07-04  24345 days  \n",
       "4 1907-05-27 1964-04-14  20777 days  \n",
       "5 1813-03-15 1858-06-16  16529 days  \n",
       "6 1912-06-23 1954-06-07  15324 days  \n",
       "7 1777-04-30 1855-02-23  28422 days  "
      ]
     },
     "execution_count": 60,
     "metadata": {},
     "output_type": "execute_result"
    }
   ],
   "source": [
    "# 얼마동안 세상을 살다 떠났는지\n",
    "scientists['age_days_dt'] = scientists.died_dt - scientists.born_dt\n",
    "print(scientists.shape)\n",
    "scientists"
   ]
  },
  {
   "cell_type": "markdown",
   "id": "e194f2ac",
   "metadata": {},
   "source": [
    "시리즈, 데이터프레임의 데이터 섞기"
   ]
  },
  {
   "cell_type": "code",
   "execution_count": 96,
   "id": "5cea8847",
   "metadata": {},
   "outputs": [
    {
     "data": {
      "text/plain": [
       "['Rosaline Franklin', 'William Gosset', 'Rachel Carson', 'Marie Curie']"
      ]
     },
     "execution_count": 96,
     "metadata": {},
     "output_type": "execute_result"
    }
   ],
   "source": [
    "import random as r\n",
    "# random 모듈의 shuffle() 함수는 데이터를 무작위 섞어준다.\n",
    "r.shuffle(scientists.Age) # scientists 데이터프레임의 Age 열만 섞인다.\n",
    "scientists\n",
    "\n"
   ]
  },
  {
   "cell_type": "code",
   "execution_count": 369,
   "id": "2037c3ec",
   "metadata": {},
   "outputs": [
    {
     "data": {
      "text/plain": [
       "['Marie Curie', 'Johann Gauss', 'Rosaline Franklin', 'Rachel Carson']"
      ]
     },
     "execution_count": 369,
     "metadata": {},
     "output_type": "execute_result"
    }
   ],
   "source": [
    "# random 모듈의 sample() 함수는 데이터를 무작위 섞고 지정한 개수만큼 추출한다.\n",
    "r.sample(list(scientists.Name), 4)"
   ]
  },
  {
   "cell_type": "markdown",
   "id": "c1b6320b",
   "metadata": {},
   "source": [
    "데이터프레임 열 삭제하기"
   ]
  },
  {
   "cell_type": "code",
   "execution_count": 670,
   "id": "756b2f26",
   "metadata": {},
   "outputs": [
    {
     "data": {
      "text/html": [
       "<div>\n",
       "<style scoped>\n",
       "    .dataframe tbody tr th:only-of-type {\n",
       "        vertical-align: middle;\n",
       "    }\n",
       "\n",
       "    .dataframe tbody tr th {\n",
       "        vertical-align: top;\n",
       "    }\n",
       "\n",
       "    .dataframe thead th {\n",
       "        text-align: right;\n",
       "    }\n",
       "</style>\n",
       "<table border=\"1\" class=\"dataframe\">\n",
       "  <thead>\n",
       "    <tr style=\"text-align: right;\">\n",
       "      <th></th>\n",
       "      <th>Name</th>\n",
       "      <th>Born</th>\n",
       "      <th>Died</th>\n",
       "      <th>Age</th>\n",
       "      <th>Occupation</th>\n",
       "      <th>born_dt</th>\n",
       "      <th>died_dt</th>\n",
       "      <th>age_days_dt</th>\n",
       "    </tr>\n",
       "  </thead>\n",
       "  <tbody>\n",
       "    <tr>\n",
       "      <th>1</th>\n",
       "      <td>William Gosset</td>\n",
       "      <td>1876-06-13</td>\n",
       "      <td>1937-10-16</td>\n",
       "      <td>41</td>\n",
       "      <td>Statistician</td>\n",
       "      <td>1876-06-13</td>\n",
       "      <td>1937-10-16</td>\n",
       "      <td>22404 days</td>\n",
       "    </tr>\n",
       "    <tr>\n",
       "      <th>2</th>\n",
       "      <td>Florence Nightingale</td>\n",
       "      <td>1820-05-12</td>\n",
       "      <td>1910-08-13</td>\n",
       "      <td>66</td>\n",
       "      <td>Nurse</td>\n",
       "      <td>1820-05-12</td>\n",
       "      <td>1910-08-13</td>\n",
       "      <td>32964 days</td>\n",
       "    </tr>\n",
       "    <tr>\n",
       "      <th>3</th>\n",
       "      <td>Marie Curie</td>\n",
       "      <td>1867-11-07</td>\n",
       "      <td>1934-07-04</td>\n",
       "      <td>90</td>\n",
       "      <td>Chemist</td>\n",
       "      <td>1867-11-07</td>\n",
       "      <td>1934-07-04</td>\n",
       "      <td>24345 days</td>\n",
       "    </tr>\n",
       "    <tr>\n",
       "      <th>4</th>\n",
       "      <td>Rachel Carson</td>\n",
       "      <td>1907-05-27</td>\n",
       "      <td>1964-04-14</td>\n",
       "      <td>77</td>\n",
       "      <td>Biologist</td>\n",
       "      <td>1907-05-27</td>\n",
       "      <td>1964-04-14</td>\n",
       "      <td>20777 days</td>\n",
       "    </tr>\n",
       "    <tr>\n",
       "      <th>5</th>\n",
       "      <td>John Snow</td>\n",
       "      <td>1813-03-15</td>\n",
       "      <td>1858-06-16</td>\n",
       "      <td>56</td>\n",
       "      <td>Physician</td>\n",
       "      <td>1813-03-15</td>\n",
       "      <td>1858-06-16</td>\n",
       "      <td>16529 days</td>\n",
       "    </tr>\n",
       "    <tr>\n",
       "      <th>6</th>\n",
       "      <td>Alan Turing</td>\n",
       "      <td>1912-06-23</td>\n",
       "      <td>1954-06-07</td>\n",
       "      <td>37</td>\n",
       "      <td>Computer Scientist</td>\n",
       "      <td>1912-06-23</td>\n",
       "      <td>1954-06-07</td>\n",
       "      <td>15324 days</td>\n",
       "    </tr>\n",
       "    <tr>\n",
       "      <th>7</th>\n",
       "      <td>Johann Gauss</td>\n",
       "      <td>1777-04-30</td>\n",
       "      <td>1855-02-23</td>\n",
       "      <td>45</td>\n",
       "      <td>Mathematician</td>\n",
       "      <td>1777-04-30</td>\n",
       "      <td>1855-02-23</td>\n",
       "      <td>28422 days</td>\n",
       "    </tr>\n",
       "  </tbody>\n",
       "</table>\n",
       "</div>"
      ],
      "text/plain": [
       "                   Name        Born        Died  Age          Occupation  \\\n",
       "1        William Gosset  1876-06-13  1937-10-16   41        Statistician   \n",
       "2  Florence Nightingale  1820-05-12  1910-08-13   66               Nurse   \n",
       "3           Marie Curie  1867-11-07  1934-07-04   90             Chemist   \n",
       "4         Rachel Carson  1907-05-27  1964-04-14   77           Biologist   \n",
       "5             John Snow  1813-03-15  1858-06-16   56           Physician   \n",
       "6           Alan Turing  1912-06-23  1954-06-07   37  Computer Scientist   \n",
       "7          Johann Gauss  1777-04-30  1855-02-23   45       Mathematician   \n",
       "\n",
       "     born_dt    died_dt age_days_dt  \n",
       "1 1876-06-13 1937-10-16  22404 days  \n",
       "2 1820-05-12 1910-08-13  32964 days  \n",
       "3 1867-11-07 1934-07-04  24345 days  \n",
       "4 1907-05-27 1964-04-14  20777 days  \n",
       "5 1813-03-15 1858-06-16  16529 days  \n",
       "6 1912-06-23 1954-06-07  15324 days  \n",
       "7 1777-04-30 1855-02-23  28422 days  "
      ]
     },
     "execution_count": 670,
     "metadata": {},
     "output_type": "execute_result"
    }
   ],
   "source": [
    "# drop() \n",
    "# drop() 함수는 axis=0이 기본값\n",
    "# scientists_dropped = scientists.drop('Age', axis=1) # 열 1개 삭제\n",
    "scientists_dropped = scientists.drop(['Name', 'Age'], axis=1) # 열 2개 이상 삭제... 리스트에 넣어줘야 한다.\n",
    "scientists_dropped\n",
    "scientists.drop(0) # 0항 삭제 "
   ]
  },
  {
   "cell_type": "markdown",
   "id": "d27a06c3",
   "metadata": {},
   "source": [
    "시리즈, 데이터프레임을 피클(pickle), csv, tsv 파일로 저장하고 불러오기"
   ]
  },
  {
   "cell_type": "code",
   "execution_count": 676,
   "id": "89953af8",
   "metadata": {},
   "outputs": [
    {
     "name": "stdout",
     "output_type": "stream",
     "text": [
      "<class 'pandas.core.series.Series'>\n",
      "0       Rosaline Franklin\n",
      "1          William Gosset\n",
      "2    Florence Nightingale\n",
      "3             Marie Curie\n",
      "4           Rachel Carson\n",
      "5               John Snow\n",
      "6             Alan Turing\n",
      "7            Johann Gauss\n",
      "Name: Name, dtype: object\n"
     ]
    }
   ],
   "source": [
    "# 피클로 저장하면 스프레드시트보다 더 작은 용량으로 데이터를 저장할 수 있다.데이터를 오래 보관한다는 뜻\n",
    "names = scientists.Name\n",
    "print(type(names))\n",
    "print(names)\n",
    "\n",
    "# 시리즈를 피클로 저장하려면 to_pickle() 함수를 사용한다.\n",
    "# 피클은 바이너리 형태의 오브젝트이기 때문에 저장된 피클 파일을 메모장같은 데이터 편집기 프로그램으로 열어보면 이상한 문자가\n",
    "# 표시된다.\n",
    "names.to_pickle('./output/scientists_name_series.pickle')\n",
    "\n",
    "scientists.to_pickle('./output/scientists_df.pickle')\n"
   ]
  },
  {
   "cell_type": "code",
   "execution_count": 679,
   "id": "4ed5a6b6",
   "metadata": {},
   "outputs": [
    {
     "data": {
      "text/html": [
       "<div>\n",
       "<style scoped>\n",
       "    .dataframe tbody tr th:only-of-type {\n",
       "        vertical-align: middle;\n",
       "    }\n",
       "\n",
       "    .dataframe tbody tr th {\n",
       "        vertical-align: top;\n",
       "    }\n",
       "\n",
       "    .dataframe thead th {\n",
       "        text-align: right;\n",
       "    }\n",
       "</style>\n",
       "<table border=\"1\" class=\"dataframe\">\n",
       "  <thead>\n",
       "    <tr style=\"text-align: right;\">\n",
       "      <th></th>\n",
       "      <th>Name</th>\n",
       "      <th>Born</th>\n",
       "      <th>Died</th>\n",
       "      <th>Age</th>\n",
       "      <th>Occupation</th>\n",
       "      <th>born_dt</th>\n",
       "      <th>died_dt</th>\n",
       "      <th>age_days_dt</th>\n",
       "    </tr>\n",
       "  </thead>\n",
       "  <tbody>\n",
       "    <tr>\n",
       "      <th>0</th>\n",
       "      <td>Rosaline Franklin</td>\n",
       "      <td>1920-07-25</td>\n",
       "      <td>1958-04-16</td>\n",
       "      <td>61</td>\n",
       "      <td>Chemist</td>\n",
       "      <td>1920-07-25</td>\n",
       "      <td>1958-04-16</td>\n",
       "      <td>13779 days</td>\n",
       "    </tr>\n",
       "    <tr>\n",
       "      <th>1</th>\n",
       "      <td>William Gosset</td>\n",
       "      <td>1876-06-13</td>\n",
       "      <td>1937-10-16</td>\n",
       "      <td>41</td>\n",
       "      <td>Statistician</td>\n",
       "      <td>1876-06-13</td>\n",
       "      <td>1937-10-16</td>\n",
       "      <td>22404 days</td>\n",
       "    </tr>\n",
       "    <tr>\n",
       "      <th>2</th>\n",
       "      <td>Florence Nightingale</td>\n",
       "      <td>1820-05-12</td>\n",
       "      <td>1910-08-13</td>\n",
       "      <td>66</td>\n",
       "      <td>Nurse</td>\n",
       "      <td>1820-05-12</td>\n",
       "      <td>1910-08-13</td>\n",
       "      <td>32964 days</td>\n",
       "    </tr>\n",
       "    <tr>\n",
       "      <th>3</th>\n",
       "      <td>Marie Curie</td>\n",
       "      <td>1867-11-07</td>\n",
       "      <td>1934-07-04</td>\n",
       "      <td>90</td>\n",
       "      <td>Chemist</td>\n",
       "      <td>1867-11-07</td>\n",
       "      <td>1934-07-04</td>\n",
       "      <td>24345 days</td>\n",
       "    </tr>\n",
       "    <tr>\n",
       "      <th>4</th>\n",
       "      <td>Rachel Carson</td>\n",
       "      <td>1907-05-27</td>\n",
       "      <td>1964-04-14</td>\n",
       "      <td>77</td>\n",
       "      <td>Biologist</td>\n",
       "      <td>1907-05-27</td>\n",
       "      <td>1964-04-14</td>\n",
       "      <td>20777 days</td>\n",
       "    </tr>\n",
       "    <tr>\n",
       "      <th>5</th>\n",
       "      <td>John Snow</td>\n",
       "      <td>1813-03-15</td>\n",
       "      <td>1858-06-16</td>\n",
       "      <td>56</td>\n",
       "      <td>Physician</td>\n",
       "      <td>1813-03-15</td>\n",
       "      <td>1858-06-16</td>\n",
       "      <td>16529 days</td>\n",
       "    </tr>\n",
       "    <tr>\n",
       "      <th>6</th>\n",
       "      <td>Alan Turing</td>\n",
       "      <td>1912-06-23</td>\n",
       "      <td>1954-06-07</td>\n",
       "      <td>37</td>\n",
       "      <td>Computer Scientist</td>\n",
       "      <td>1912-06-23</td>\n",
       "      <td>1954-06-07</td>\n",
       "      <td>15324 days</td>\n",
       "    </tr>\n",
       "    <tr>\n",
       "      <th>7</th>\n",
       "      <td>Johann Gauss</td>\n",
       "      <td>1777-04-30</td>\n",
       "      <td>1855-02-23</td>\n",
       "      <td>45</td>\n",
       "      <td>Mathematician</td>\n",
       "      <td>1777-04-30</td>\n",
       "      <td>1855-02-23</td>\n",
       "      <td>28422 days</td>\n",
       "    </tr>\n",
       "  </tbody>\n",
       "</table>\n",
       "</div>"
      ],
      "text/plain": [
       "                   Name        Born        Died  Age          Occupation  \\\n",
       "0     Rosaline Franklin  1920-07-25  1958-04-16   61             Chemist   \n",
       "1        William Gosset  1876-06-13  1937-10-16   41        Statistician   \n",
       "2  Florence Nightingale  1820-05-12  1910-08-13   66               Nurse   \n",
       "3           Marie Curie  1867-11-07  1934-07-04   90             Chemist   \n",
       "4         Rachel Carson  1907-05-27  1964-04-14   77           Biologist   \n",
       "5             John Snow  1813-03-15  1858-06-16   56           Physician   \n",
       "6           Alan Turing  1912-06-23  1954-06-07   37  Computer Scientist   \n",
       "7          Johann Gauss  1777-04-30  1855-02-23   45       Mathematician   \n",
       "\n",
       "     born_dt    died_dt age_days_dt  \n",
       "0 1920-07-25 1958-04-16  13779 days  \n",
       "1 1876-06-13 1937-10-16  22404 days  \n",
       "2 1820-05-12 1910-08-13  32964 days  \n",
       "3 1867-11-07 1934-07-04  24345 days  \n",
       "4 1907-05-27 1964-04-14  20777 days  \n",
       "5 1813-03-15 1858-06-16  16529 days  \n",
       "6 1912-06-23 1954-06-07  15324 days  \n",
       "7 1777-04-30 1855-02-23  28422 days  "
      ]
     },
     "execution_count": 679,
     "metadata": {},
     "output_type": "execute_result"
    }
   ],
   "source": [
    "# 읽기는 read pickle\n",
    "(pd.read_pickle('./output/scientists_df.pickle'))"
   ]
  },
  {
   "cell_type": "code",
   "execution_count": 681,
   "id": "db2f7add",
   "metadata": {},
   "outputs": [],
   "source": [
    "# to_csv() 함수로 시리즈나 데이터프레임을 csv 또는 tsv 파일로 저장할 수 있다.\n",
    "names.to_csv('./output/scientists_name_csv.csv')\n",
    "# sep='\\t'로 지정하면 데이터가 tab으로 구분되는 tsv 파일로 저장할 수 있다.\n",
    "scientists.to_csv('./output/scientists_df_tsv.tsv', sep='\\t')"
   ]
  }
 ],
 "metadata": {
  "kernelspec": {
   "display_name": "Python 3",
   "language": "python",
   "name": "python3"
  },
  "language_info": {
   "codemirror_mode": {
    "name": "ipython",
    "version": 3
   },
   "file_extension": ".py",
   "mimetype": "text/x-python",
   "name": "python",
   "nbconvert_exporter": "python",
   "pygments_lexer": "ipython3",
   "version": "3.6.8"
  }
 },
 "nbformat": 4,
 "nbformat_minor": 5
}
