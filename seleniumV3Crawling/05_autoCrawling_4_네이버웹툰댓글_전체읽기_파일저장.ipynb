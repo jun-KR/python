{
 "cells": [
  {
   "cell_type": "code",
   "execution_count": 1,
   "id": "aec9ea8f",
   "metadata": {},
   "outputs": [],
   "source": [
    "import warnings\n",
    "warnings.filterwarnings(action='ignore')\n",
    "from bs4 import BeautifulSoup\n",
    "from selenium import webdriver # selenium : 자동화된 크롤링.\n",
    "from selenium.webdriver.chrome.options import Options\n",
    "import time"
   ]
  },
  {
   "cell_type": "code",
   "execution_count": 4,
   "id": "c183e412",
   "metadata": {},
   "outputs": [
    {
     "name": "stdout",
     "output_type": "stream",
     "text": [
      "1518\n",
      "저장완료\n"
     ]
    }
   ],
   "source": [
    "option = Options()\n",
    "option.add_argument('--window-size=1890,1030')\n",
    "driver = webdriver.Chrome('./chromedriver.exe', options=option)\n",
    "driver.implicitly_wait(5)\n",
    "\n",
    "driver.get('https://comic.naver.com/webtoon/detail?titleId=812354&no=22') # 요청\n",
    "html = driver.page_source # 실행된 사이트의 html정보를 읽는다.: page_source\n",
    "soup = BeautifulSoup(html, 'html.parser') # 파싱 \n",
    "\n",
    "driver.find_element_by_css_selector('#cbox_module_wai_u_cbox_sort_option_tab2').click() # css selector 사용\n",
    "\n",
    "# 반복하며 더보기 anchor 버튼 클릭.  \n",
    "while True:\n",
    "    try:\n",
    "        driver.find_element_by_xpath(\n",
    "            '//*[@id=\"cbox_module\"]/div/div[7]/a'\n",
    "\n",
    "        ).click()\n",
    "        time.sleep(0.1) # 클릭 할 때마다 0.5초 멈춤\n",
    "    except:\n",
    "        break\n",
    "\n",
    "html = driver.page_source\n",
    "soup = BeautifulSoup(html, 'html.parser')\n",
    "\n",
    "# 전체댓글을 자손선택자(공백)로 불러와 읽는다. \n",
    "replys = soup.select('#cbox_module_wai_u_cbox_content_wrap_tabpanel div.u_cbox_comment_box span.u_cbox_contents')\n",
    "print(len(replys))\n",
    "\n",
    "file=open('review.txt','w',-1,'utf-8') # 파일을 쓰기용으로 open 한다\n",
    "for reply in replys:\n",
    "#     print(reply.text.split('\\n')) # 줄바꿈을 경계로 답글을 split해 출력 \n",
    "    file.write(reply.text + '\\n') # 댓글마다 줄 띄워서 저장\n",
    "file.close()\n",
    "print('저장완료')"
   ]
  },
  {
   "cell_type": "code",
   "execution_count": null,
   "id": "cdbf173e",
   "metadata": {},
   "outputs": [],
   "source": []
  }
 ],
 "metadata": {
  "kernelspec": {
   "display_name": "Python 3",
   "language": "python",
   "name": "python3"
  },
  "language_info": {
   "codemirror_mode": {
    "name": "ipython",
    "version": 3
   },
   "file_extension": ".py",
   "mimetype": "text/x-python",
   "name": "python",
   "nbconvert_exporter": "python",
   "pygments_lexer": "ipython3",
   "version": "3.6.8"
  }
 },
 "nbformat": 4,
 "nbformat_minor": 5
}
