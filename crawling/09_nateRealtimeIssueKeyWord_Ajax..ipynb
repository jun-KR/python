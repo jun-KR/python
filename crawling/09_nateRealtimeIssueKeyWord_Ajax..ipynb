{
 "cells": [
  {
   "cell_type": "code",
   "execution_count": 1,
   "id": "eeffa959",
   "metadata": {},
   "outputs": [],
   "source": [
    "import warnings\n",
    "warnings.filterwarnings(action='ignore')\n",
    "import requests\n",
    "# from bs4 import BeautifulSoup # html 문서를 파싱할 때 사용. json 데이터에는 사용하지 않는다.\n",
    "import json # json 형태의 문자열을 처리하기 위해 import 한다."
   ]
  },
  {
   "cell_type": "code",
   "execution_count": 2,
   "id": "ca3d7708",
   "metadata": {},
   "outputs": [
    {
     "name": "stdout",
     "output_type": "stream",
     "text": [
      "<Response [200]>\n"
     ]
    }
   ],
   "source": [
    "# 실시간 검색어가 웹 페이지에 일부가 포함되어있지 않다. ajax를 이용해서 받아오는 방식이 사용된다.\n",
    "targetSite = 'https://www.nate.com/js/data/jsonLiveKeywordDataV1.js?v=202308241150'\n",
    "request = requests.get(targetSite) # requests 모듈의 get() 메소드를 사용해서 실시간 검색어를 받아온다.\n",
    "\n",
    "print(request)\n",
    "# 파이썬은 한글 encoding이 유니코드(utf-8)이다.\n",
    "# 'euc-kr'로 encoding된 사이트면 'euc-kr'\n",
    "# request.encoding = 'euc-kr'"
   ]
  },
  {
   "cell_type": "code",
   "execution_count": 3,
   "id": "3b604387",
   "metadata": {},
   "outputs": [
    {
     "name": "stdout",
     "output_type": "stream",
     "text": [
      "[[\"1\",  \"기준금리 3.5%로 동결\",  \"+\",  \"3\",  \"기준금리 3.5%로 동결\"], [\"2\",  \"대학수학능력시험 응시원서\",  \"+\",  \"1\",  \"대학수학능력시험 응시원서 접수\"], [\"3\",  \"인도 달남극 우주\",  \"n\",  \"0\",  \"인도 달남극 우주\"], [\"4\",  \"후쿠시마 오염수 오늘\",  \"+\",  \"7\",  \"후쿠시마 오염수 오늘\"], [\"5\",  \"이름 공모\",  \"s\",  \"0\",  \"이름 공모\"], [\"6\",  \"사는 난자 200만원\",  \"n\",  \"0\",  \"사는 난자 200만원\"], [\"7\",  \"철도노조 준법투쟁\",  \"n\",  \"0\",  \"철도노조 준법투쟁\"], [\"8\",  \"홈플러스 송도점 지하주차장\",  \"+\",  \"1\",  \"홈플러스 송도점 지하주차장\"], [\"9\",  \"프리고진 두번째 비행기\",  \"n\",  \"0\",  \"프리고진 두번째 비행기\"], [\"10\",  \"트리튬 無 도쿄전력\",  \"n\",  \"0\",  \"트리튬 無 도쿄전력 오염수\"]]\n",
      "<class 'str'>\n"
     ]
    }
   ],
   "source": [
    "issues = request.text\n",
    "print(issues)\n",
    "print(type(issues)) # 2차원 리스트. str type : 인덱싱/슬라이싱 불가. 리스트만 가능."
   ]
  },
  {
   "cell_type": "code",
   "execution_count": 4,
   "id": "df6c0fc8",
   "metadata": {},
   "outputs": [
    {
     "name": "stdout",
     "output_type": "stream",
     "text": [
      "[['1', '기준금리 3.5%로 동결', '+', '3', '기준금리 3.5%로 동결'], ['2', '대학수학능력시험 응시원서', '+', '1', '대학수학능력시험 응시원서 접수'], ['3', '인도 달남극 우주', 'n', '0', '인도 달남극 우주'], ['4', '후쿠시마 오염수 오늘', '+', '7', '후쿠시마 오염수 오늘'], ['5', '이름 공모', 's', '0', '이름 공모'], ['6', '사는 난자 200만원', 'n', '0', '사는 난자 200만원'], ['7', '철도노조 준법투쟁', 'n', '0', '철도노조 준법투쟁'], ['8', '홈플러스 송도점 지하주차장', '+', '1', '홈플러스 송도점 지하주차장'], ['9', '프리고진 두번째 비행기', 'n', '0', '프리고진 두번째 비행기'], ['10', '트리튬 無 도쿄전력', 'n', '0', '트리튬 無 도쿄전력 오염수']]\n",
      "<class 'list'>\n"
     ]
    }
   ],
   "source": [
    "# json 데이터는 파이썬에서 처리할 수 있는 데이터 타입으로 변환해 처리한다.\n",
    "# loads() 메소드 : {}를 포함-> 딕셔너리, {}없이 []만 포함-> 리스트로 변환.\n",
    "ranks = json.loads(issues)\n",
    "\n",
    "# requests 모듈의 json() 메소드 : json.loads()와 같은 기능.\n",
    "ranks = request.json()\n",
    "print(ranks)\n",
    "print(type(ranks))"
   ]
  },
  {
   "cell_type": "code",
   "execution_count": 5,
   "id": "8eb8bbcd",
   "metadata": {},
   "outputs": [
    {
     "name": "stdout",
     "output_type": "stream",
     "text": [
      " 1위: 기준금리 3.5%로 동결[↑3]\n",
      " 2위: 대학수학능력시험 응시원서[↑1]\n",
      " 3위: 인도 달남극 우주[new]\n",
      " 4위: 후쿠시마 오염수 오늘[↑7]\n",
      " 5위: 이름 공모[-]\n",
      " 6위: 사는 난자 200만원[new]\n",
      " 7위: 철도노조 준법투쟁[new]\n",
      " 8위: 홈플러스 송도점 지하주차장[↑1]\n",
      " 9위: 프리고진 두번째 비행기[new]\n",
      "10위: 트리튬 無 도쿄전력[new]\n"
     ]
    }
   ],
   "source": [
    "for rank in ranks:\n",
    "    print('{:>2s}위: {}'.format(rank[0], rank[1]), end='') # 0 : 순위, 1 : 내용\n",
    "    if rank[2] == '+': # [2] : 업다운. or 뉴 \n",
    "        print('[{}{}]'.format('↑', rank[3])) # [3] : 몇계단 변동량\n",
    "    elif rank[2] == '-':\n",
    "        print('[{}{}]'.format('↓', rank[3]))\n",
    "    elif rank[2] == 's':\n",
    "        print('[-]')\n",
    "    else:\n",
    "        print('[new]')"
   ]
  },
  {
   "cell_type": "code",
   "execution_count": null,
   "id": "993ae363",
   "metadata": {},
   "outputs": [],
   "source": [
    "# 마라탕 속재료 머머 넣었어? 배고파. "
   ]
  },
  {
   "cell_type": "code",
   "execution_count": null,
   "id": "1ba227bb",
   "metadata": {},
   "outputs": [],
   "source": []
  }
 ],
 "metadata": {
  "kernelspec": {
   "display_name": "Python 3",
   "language": "python",
   "name": "python3"
  },
  "language_info": {
   "codemirror_mode": {
    "name": "ipython",
    "version": 3
   },
   "file_extension": ".py",
   "mimetype": "text/x-python",
   "name": "python",
   "nbconvert_exporter": "python",
   "pygments_lexer": "ipython3",
   "version": "3.6.8"
  }
 },
 "nbformat": 4,
 "nbformat_minor": 5
}
