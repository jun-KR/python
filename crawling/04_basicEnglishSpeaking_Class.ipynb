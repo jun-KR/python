{
 "cells": [
  {
   "cell_type": "code",
   "execution_count": 11,
   "id": "af346453",
   "metadata": {},
   "outputs": [],
   "source": [
    "import warnings\n",
    "warnings.filterwarnings(action='ignore')\n",
    "%config Computer.user_jedi = False\n",
    "\n",
    "import requests\n",
    "from bs4 import BeautifulSoup\n",
    "\n",
    "import time # sleep()"
   ]
  },
  {
   "cell_type": "code",
   "execution_count": 12,
   "id": "d45a4fa6",
   "metadata": {},
   "outputs": [],
   "source": [
    "# 1건의 대화 내용을 저장 => 질문과 답변이 한 쌍으로 저장되는 클래스\n",
    "class Conversation:\n",
    "    def __init__(self, question, answer): # 생성자 함수. 첫 인수는 self\n",
    "        self.question = question # \n",
    "        self.answer = answer\n",
    "        \n",
    "    def __str__(self):\n",
    "        return f'질문: {self.question}\\n답변: {self.answer}'"
   ]
  },
  {
   "cell_type": "code",
   "execution_count": 13,
   "id": "d7a104c7",
   "metadata": {},
   "outputs": [
    {
     "name": "stdout",
     "output_type": "stream",
     "text": [
      "질문: 누구냐\n",
      "답변: 내다\n"
     ]
    }
   ],
   "source": [
    "c =Conversation('누구냐', '내다')\n",
    "print(c)"
   ]
  },
  {
   "cell_type": "code",
   "execution_count": 14,
   "id": "373c41a4",
   "metadata": {},
   "outputs": [],
   "source": [
    "# (대화 주제 + 세부 대화 내용의 url)을 크롤링해 리턴하는 함수\n",
    "def getSubjects():\n",
    "    targetSite = 'https://basicenglishspeaking.com/daily-english-conversation-topics/'\n",
    "    request = requests.get(targetSite)\n",
    "    html = request.text\n",
    "    soup=BeautifulSoup(html, 'html.parser')\n",
    "    \n",
    "    subjects=[] # 대화 주제\n",
    "    contentLinks = [] # 세부 대화 내용의 url\n",
    "    \n",
    "    divs = soup.findAll('div', {'class':\"tcb-flex-col\"})\n",
    "    for div in divs:\n",
    "        chapter = div.findAll('a') # KEY\n",
    "        for a in chapter:\n",
    "            subjects.append(a.text) \n",
    "            # contentLinks에 세부 대화 내용의 url을 추가한다\n",
    "            contentLinks.append(a.get('href'))  # KEY! href속성을 얻어온다.\n",
    "            \n",
    "    return subjects, contentLinks # 튜플"
   ]
  },
  {
   "cell_type": "code",
   "execution_count": 34,
   "id": "32fe8b52",
   "metadata": {},
   "outputs": [
    {
     "name": "stdout",
     "output_type": "stream",
     "text": [
      "https://basicenglishspeaking.com/family/ 요청 완료\n",
      "20\n",
      "질문: How many people are there in your family?\n",
      "답변: There are 5 people in my family: my father, mother, brother, sister, and me.\n",
      "질문: Does your family live in a house or an apartment?\n",
      "답변: We live in a house in the countryside.\n",
      "질문: What does your father do?\n",
      "답변: My father is a doctor. He works at the local hospital.\n",
      "질문: How old is your mother?\n",
      "답변: She is 40 years old, 1 year younger than my father.\n",
      "질문: Do you have any siblings? What’s his/her name?\n",
      "답변: Yes, I do. I have 1 elder brother, David, and 1 younger sister, Mary.\n",
      "질문: Are you the oldest amongst your brothers and sisters?\n",
      "답변: No, I’m not. I’m the second child in my family.\n",
      "질문: What does your mother/father like?\n",
      "답변: My father likes playing football and my mother likes cooking.\n",
      "질문: Do your parents let you stay out late?\n",
      "답변: Of course not. They always ask me to get home before 10 pm each night.\n",
      "질문: Do you stay with your parents?\n",
      "답변: Right now, no, but I used to.\n",
      "질문: Does your family usually have dinner together?\n",
      "답변: Yes, we do. My mom always prepares delicious meals for us.\n"
     ]
    }
   ],
   "source": [
    "subjects, contentLinks = getSubjects()\n",
    "# for i in range(len(subjects)):\n",
    "#     print('{:2d}. {}: {}'.format(i + 1, subjects[i], contentLinks[i]))\n",
    "\n",
    "# 대화 주제에 따른 전체 대화 내용.\n",
    "conversation = [] # Conversation 클래스 객체를 저장한다.\n",
    "\n",
    "i = 0 # 대화 주제의 개수를 세는 변수\n",
    "# 반복하며 대화 주제에 따른 대화 내용을 읽고 저장한다.\n",
    "for subject in subjects[:1]:\n",
    "    conversation.append('{:2d}. {}: {}'.format(i + 1, subjects[i], contentLinks[i]))\n",
    "    \n",
    "    # 대화 주제별 대화 내용을 크롤링할 페이지를 요청한다.\n",
    "    request = requests.get(contentLinks[i])\n",
    "    print(contentLinks[i] + ' 요청 완료') # 로딩중..\n",
    "    \n",
    "    # sleep() 메소드는 인수로 지정한 시간만큼 프로그램을 멈춘다. =>초 단위\n",
    "    # 일정한 간격을 두고 정보를 요청한다.\n",
    "    time.sleep(1)\n",
    "    \n",
    "    html = request.text\n",
    "    soup = BeautifulSoup(html, 'html.parser')\n",
    "    \n",
    "    # 대화 주제 속 대화 내용 : class : sc_player_container1 인 div의 !다음 형제!\n",
    "    buttons = soup.findAll('div', {'class' : \"sc_player_container1\" }) # play 버튼 \n",
    "    print(len(buttons)) # 버튼 개수 : 크롤링할 문장 수\n",
    "    \n",
    "    # 각각의 대화 주제에 따른 문장수만큼 반복.\n",
    "    for button in buttons :\n",
    "#         print(buttons.index(button))\n",
    "        # index()가 짝수면 질문, 홀수면 답변\n",
    "    \n",
    "        # 크롤링할 문장은 플레이 버튼 내부에 작성된 것이 아니고 다음 형제로 작성되어 있다.\n",
    "        # next_sibling: 다음 형제, previous_sibling: 이전 형제\n",
    "        if buttons.index(button) % 2 == 0: # 질문인가?\n",
    "            print('질문: {}'.format(button.next_sibling))\n",
    "            question = button.next_sibling\n",
    "        else:\n",
    "            print('답변: {}'.format(button.next_sibling))\n",
    "            answer = button.next_sibling\n",
    "            # 대화 1건이 완성된다.\n",
    "        \n",
    "            # Conversation 클래스 객체를 만드는 작업은 질문과 답변이 한 쌍이 되는 순간 실행한다.\n",
    "            # 질문과 답변이 한 쌍이 되었으므로 Conversation 클래스 객체를 생성하고 질문과 답변을 저장한다.\n",
    "            c = Conversation(question, answer)\n",
    "            # 질문과 답변이 한 쌍으로 저장된 Conversation 클래스 객체를 대화 내용을 기억할 conversation\n",
    "            # 리스트에 추가한다.\n",
    "            conversation.append(c)\n",
    "        # ===== if    \n",
    "            \n",
    "    \n",
    "    # 대화 주제 1건 처리 완료되면 i를 1증가시킨다.\n",
    "    i+=1"
   ]
  },
  {
   "cell_type": "code",
   "execution_count": 33,
   "id": "2949af79",
   "metadata": {
    "scrolled": true
   },
   "outputs": [
    {
     "name": "stdout",
     "output_type": "stream",
     "text": [
      " 1. Family: https://basicenglishspeaking.com/family/\n",
      "질문: How many people are there in your family?\n",
      "답변: There are 5 people in my family: my father, mother, brother, sister, and me.\n",
      "질문: Does your family live in a house or an apartment?\n",
      "답변: We live in a house in the countryside.\n",
      "질문: What does your father do?\n",
      "답변: My father is a doctor. He works at the local hospital.\n",
      "질문: How old is your mother?\n",
      "답변: She is 40 years old, 1 year younger than my father.\n",
      "질문: Do you have any siblings? What’s his/her name?\n",
      "답변: Yes, I do. I have 1 elder brother, David, and 1 younger sister, Mary.\n",
      "질문: Are you the oldest amongst your brothers and sisters?\n",
      "답변: No, I’m not. I’m the second child in my family.\n",
      "질문: What does your mother/father like?\n",
      "답변: My father likes playing football and my mother likes cooking.\n",
      "질문: Do your parents let you stay out late?\n",
      "답변: Of course not. They always ask me to get home before 10 pm each night.\n",
      "질문: Do you stay with your parents?\n",
      "답변: Right now, no, but I used to.\n",
      "질문: Does your family usually have dinner together?\n",
      "답변: Yes, we do. My mom always prepares delicious meals for us.\n"
     ]
    }
   ],
   "source": [
    "for c in conversation:\n",
    "    print(c)"
   ]
  },
  {
   "cell_type": "code",
   "execution_count": null,
   "id": "ae3e400f",
   "metadata": {},
   "outputs": [],
   "source": []
  },
  {
   "cell_type": "code",
   "execution_count": null,
   "id": "36c76048",
   "metadata": {},
   "outputs": [],
   "source": []
  }
 ],
 "metadata": {
  "kernelspec": {
   "display_name": "Python 3",
   "language": "python",
   "name": "python3"
  },
  "language_info": {
   "codemirror_mode": {
    "name": "ipython",
    "version": 3
   },
   "file_extension": ".py",
   "mimetype": "text/x-python",
   "name": "python",
   "nbconvert_exporter": "python",
   "pygments_lexer": "ipython3",
   "version": "3.6.8"
  }
 },
 "nbformat": 4,
 "nbformat_minor": 5
}
