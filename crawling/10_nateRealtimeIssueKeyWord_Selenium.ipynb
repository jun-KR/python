{
 "cells": [
  {
   "cell_type": "code",
   "execution_count": 3,
   "id": "e238452f",
   "metadata": {},
   "outputs": [],
   "source": [
    "import warnings\n",
    "warnings.filterwarnings(action='ignore')\n",
    "# import requests # selenium을 사용. request는 ㄴㄴ.\n",
    "from bs4 import BeautifulSoup\n",
    "from selenium import webdriver"
   ]
  },
  {
   "cell_type": "code",
   "execution_count": 2,
   "id": "56426135",
   "metadata": {},
   "outputs": [
    {
     "name": "stdout",
     "output_type": "stream",
     "text": [
      "Collecting selenium\n",
      "  Downloading selenium-3.141.0-py2.py3-none-any.whl (904 kB)\n",
      "Requirement already satisfied: urllib3 in c:\\python\\lib\\site-packages (from selenium) (1.26.16)\n",
      "Installing collected packages: selenium\n",
      "Successfully installed selenium-3.141.0\n"
     ]
    }
   ],
   "source": [
    "# selenium을 사용하기 위해 selenium을 설치하고 import 한다.\n",
    "!pip install selenium"
   ]
  },
  {
   "cell_type": "code",
   "execution_count": 9,
   "id": "6fb82d97",
   "metadata": {},
   "outputs": [
    {
     "name": "stdout",
     "output_type": "stream",
     "text": [
      " 1위: 신림동 성폭행 최윤종[-]\n",
      " 2위: 기준금리 3.5%로 동결[-]\n",
      " 3위: 킬러규제 혁파[-]\n",
      " 4위: 후쿠시마 오염수 방류[new]\n",
      " 5위: 대학수학능력시험 응시원서[↓1]\n"
     ]
    }
   ],
   "source": [
    "# selenium을 사용해서 가상 크롬을 실행한다. => 사용중인 크롬 버전과 같은 버전의 드라이버를 os에 맞게 다운받는다.\n",
    "# 다운받은 크롬 드라이버를 workspace에 복사해 넣고 사용한다.\n",
    "driver = webdriver.Chrome('./chromedriver.exe') # 가상 크롬 실행\n",
    "\n",
    "# get() 메소드로 가상 크롬에 크롤링 타겟 사이트를 띄운다.\n",
    "driver.get('https://www.nate.com/')\n",
    "# 가상 크롬에 실행된 사이트의 html 정보를 긁어온다.\n",
    "html = driver.page_source \n",
    "# print(html)\n",
    "soup = BeautifulSoup(html, 'html.parser') # 파싱\n",
    "# print(soup)\n",
    "\n",
    "ranks = soup.select('.isKeywordList .num_rank')\n",
    "issues = soup.findAll('a', {'class': 'ik'})\n",
    "for i in range(5):\n",
    "    rank = ranks[i].text\n",
    "    issue = issues[i].text.strip().split('\\n')[0]\n",
    "    upDown = issues[i].text.strip().split('\\n')[1]\n",
    "    print('{:>2s}위: {}'.format(rank, issue), end='')\n",
    "    if upDown[:2] == '상승':\n",
    "        print('[{}{}]'.format('↑', upDown[-1]))\n",
    "    elif upDown[:2] == '하락':\n",
    "        print('[{}{}]'.format('↓', upDown[-1]))\n",
    "    elif upDown[:2] == '동일':\n",
    "        print('[-]')\n",
    "    else:\n",
    "        print('[new]')"
   ]
  }
 ],
 "metadata": {
  "kernelspec": {
   "display_name": "Python 3",
   "language": "python",
   "name": "python3"
  },
  "language_info": {
   "codemirror_mode": {
    "name": "ipython",
    "version": 3
   },
   "file_extension": ".py",
   "mimetype": "text/x-python",
   "name": "python",
   "nbconvert_exporter": "python",
   "pygments_lexer": "ipython3",
   "version": "3.6.8"
  }
 },
 "nbformat": 4,
 "nbformat_minor": 5
}
